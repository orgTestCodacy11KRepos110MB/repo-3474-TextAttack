{
 "cells": [
  {
   "cell_type": "code",
   "execution_count": 1,
   "id": "tracked-applicant",
   "metadata": {},
   "outputs": [
    {
     "name": "stdout",
     "output_type": "stream",
     "text": [
      "/Users/hanyu/Desktop/TextAttack\n"
     ]
    }
   ],
   "source": [
    "cd ../.."
   ]
  },
  {
   "cell_type": "code",
   "execution_count": 2,
   "id": "exposed-freeze",
   "metadata": {},
   "outputs": [],
   "source": [
    "from textattack.transformations import WordSwap\n",
    "import transformers\n",
    "import string"
   ]
  },
  {
   "cell_type": "code",
   "execution_count": 3,
   "id": "capable-magazine",
   "metadata": {},
   "outputs": [
    {
     "name": "stderr",
     "output_type": "stream",
     "text": [
      "textattack: Unknown if model of class <class 'transformers.models.bert.modeling_bert.BertForSequenceClassification'> compatible with goal function <class 'textattack.goal_functions.classification.untargeted_classification.UntargetedClassification'>.\n"
     ]
    }
   ],
   "source": [
    "#attack example\n",
    "import os\n",
    "import pandas as pd\n",
    "import datasets\n",
    "import transformers\n",
    "from textattack.models.wrappers import HuggingFaceModelWrapper\n",
    "tokenizer = transformers.AutoTokenizer.from_pretrained(\"Raychanan/bert-base-chinese-FineTuned-Binary-Best\")\n",
    "model = transformers.AutoModelForSequenceClassification.from_pretrained(\"Raychanan/bert-base-chinese-FineTuned-Binary-Best\")\n",
    "\n",
    "model_wrapper = HuggingFaceModelWrapper(model, tokenizer)\n",
    "\n",
    "from textattack.goal_functions import UntargetedClassification\n",
    "goal_function = UntargetedClassification(model_wrapper, query_budget=10000)\n",
    "\n",
    "from textattack.datasets import HuggingFaceDataset"
   ]
  },
  {
   "cell_type": "code",
   "execution_count": 4,
   "id": "finite-ending",
   "metadata": {},
   "outputs": [
    {
     "name": "stderr",
     "output_type": "stream",
     "text": [
      "Using custom data configuration default-400a3aa4ae3a79f8\n",
      "Reusing dataset csv (/Users/hanyu/.cache/huggingface/datasets/csv/default-400a3aa4ae3a79f8/0.0.0/433e0ccc46f9880962cc2b12065189766fbb2bee57a221866138fb9203c83519)\n"
     ]
    },
    {
     "data": {
      "application/vnd.jupyter.widget-view+json": {
       "model_id": "5756073df93045729a61088de34993dd",
       "version_major": 2,
       "version_minor": 0
      },
      "text/plain": [
       "  0%|          | 0/1 [00:00<?, ?it/s]"
      ]
     },
     "metadata": {},
     "output_type": "display_data"
    }
   ],
   "source": [
    "#get demo dataset path\n",
    "path = os.path.abspath('')\n",
    "\n",
    "path_list = path.split(os.sep)\n",
    "path_list.append('examples/dataset/experiment_dataset.tsv')\n",
    "data_path = os.path.join(\"/\", *path_list)\n",
    "\n",
    "dataset = datasets.load_dataset('csv', data_files=data_path, delimiter=\"\\t\")[\"train\"]\n",
    "\n",
    "dataset = HuggingFaceDataset(\n",
    "        dataset,\n",
    "#         lang=\"zh\",\n",
    "        dataset_columns=([\"text\"], \"label\"),\n",
    "        label_names=[\"Negative\", \"Positive\"]\n",
    "    )"
   ]
  },
  {
   "cell_type": "code",
   "execution_count": 5,
   "id": "adopted-insider",
   "metadata": {},
   "outputs": [],
   "source": [
    "from textattack.search_methods import GreedyWordSwapWIR\n",
    "from textattack.transformations import ChineseWordSwapHowNet\n",
    "from textattack.transformations import ChineseHomophoneCharacterSwap\n",
    "from textattack.transformations import ChineseMorphonymCharacterSwap\n",
    "from textattack.constraints.pre_transformation import RepeatModification, StopwordModification\n",
    "from textattack import Attack\n",
    "\n",
    "stopwords = set(\n",
    "        [\"、\", \"。\", \"〈\", \"〉\", \"《\", \"》\", \"一\", \"一个\", \"一些\", \"一何\", \"一切\", \"一则\", \"一方面\", \"一旦\", \"一来\", \"一样\", \"一种\", \"一般\", \"一转眼\", \"七\", \"万一\", \"三\", \"上\", \"上下\", \"下\", \"不\", \"不仅\", \"不但\", \"不光\", \"不单\", \"不只\", \"不外乎\", \"不如\", \"不妨\", \"不尽\", \"不尽然\", \"不得\", \"不怕\", \"不惟\", \"不成\", \"不拘\", \"不料\", \"不是\", \"不比\", \"不然\", \"不特\", \"不独\", \"不管\", \"不至于\", \"不若\", \"不论\", \"不过\", \"不问\", \"与\", \"与其\", \"与其说\", \"与否\", \"与此同时\", \"且\", \"且不说\", \"且说\", \"两者\", \"个\", \"个别\", \"中\", \"临\", \"为\", \"为了\", \"为什么\", \"为何\", \"为止\", \"为此\", \"为着\", \"乃\", \"乃至\", \"乃至于\", \"么\", \"之\", \"之一\", \"之所以\", \"之类\", \"乌乎\", \"乎\", \"乘\", \"九\", \"也\", \"也好\", \"也罢\", \"了\", \"二\", \"二来\", \"于\", \"于是\", \"于是乎\", \"云云\", \"云尔\", \"五\", \"些\", \"亦\", \"人\", \"人们\", \"人家\", \"什\", \"什么\", \"什么样\", \"今\", \"介于\", \"仍\", \"仍旧\", \"从\", \"从此\", \"从而\", \"他\", \"他人\", \"他们\", \"他们们\", \"以\", \"以上\", \"以为\", \"以便\", \"以免\", \"以及\", \"以故\", \"以期\", \"以来\", \"以至\", \"以至于\", \"以致\", \"们\", \"任\", \"任何\", \"任凭\", \"会\", \"似的\", \"但\", \"但凡\", \"但是\", \"何\", \"何以\", \"何况\", \"何处\", \"何时\", \"余外\", \"作为\", \"你\", \"你们\", \"使\", \"使得\", \"例如\", \"依\", \"依据\", \"依照\", \"便于\", \"俺\", \"俺们\", \"倘\", \"倘使\", \"倘或\", \"倘然\", \"倘若\", \"借\", \"借傥然\", \"假使\", \"假如\", \"假若\", \"做\", \"像\", \"儿\", \"先不先\", \"光\", \"光是\", \"全体\", \"全部\", \"八\", \"六\", \"兮\", \"共\", \"关于\", \"关于具体地说\", \"其\", \"其一\", \"其中\", \"其二\", \"其他\", \"其余\", \"其它\", \"其次\", \"具体地说\", \"具体说来\", \"兼之\", \"内\", \"再\", \"再其次\", \"再则\", \"再有\", \"再者\", \"再者说\", \"再说\", \"冒\", \"冲\", \"况且\", \"几\", \"几时\", \"凡\", \"凡是\", \"凭\", \"凭借\", \"出于\", \"出来\", \"分\", \"分别\", \"则\", \"则甚\", \"别\", \"别人\", \"别处\", \"别是\", \"别的\", \"别管\", \"别说\", \"到\", \"前后\", \"前此\", \"前者\", \"加之\", \"加以\", \"区\", \"即\", \"即令\", \"即使\", \"即便\", \"即如\", \"即或\", \"即若\", \"却\", \"去\", \"又\", \"又及\", \"及\", \"及其\", \"及至\", \"反之\", \"反而\", \"反过来\", \"反过来说\", \"受到\", \"另\", \"另一方面\", \"另外\", \"另悉\", \"只\", \"只当\", \"只怕\", \"只是\", \"只有\", \"只消\", \"只要\", \"只限\", \"叫\", \"叮咚\", \"可\", \"可以\", \"可是\", \"可见\", \"各\", \"各个\", \"各位\", \"各种\", \"各自\", \"同\", \"同时\", \"后\", \"后者\", \"向\", \"向使\", \"向着\", \"吓\", \"吗\", \"否则\", \"吧\", \"吧哒\", \"含\", \"吱\", \"呀\", \"呃\", \"呕\", \"呗\", \"呜\", \"呜呼\", \"呢\", \"呵\", \"呵呵\", \"呸\", \"呼哧\", \"咋\", \"和\", \"咚\", \"咦\", \"咧\", \"咱\", \"咱们\", \"咳\", \"哇\", \"哈\", \"哈哈\", \"哉\", \"哎\", \"哎呀\", \"哎哟\", \"哗\", \"哟\", \"哦\", \"哩\", \"哪\", \"哪个\", \"哪些\", \"哪儿\", \"哪天\", \"哪年\", \"哪怕\", \"哪样\", \"哪边\", \"哪里\", \"哼\", \"哼唷\", \"唉\", \"唯有\", \"啊\", \"啐\", \"啥\", \"啦\", \"啪达\", \"啷当\", \"喂\", \"喏\", \"喔唷\", \"喽\", \"嗡\", \"嗡嗡\", \"嗬\", \"嗯\", \"嗳\", \"嘎\", \"嘎登\", \"嘘\", \"嘛\", \"嘻\", \"嘿\", \"嘿嘿\", \"四\", \"因\", \"因为\", \"因了\", \"因此\", \"因着\", \"因而\", \"固然\", \"在\", \"在下\", \"在于\", \"地\", \"基于\", \"处在\", \"多\", \"多么\", \"多少\", \"大\", \"大家\", \"她\", \"她们\", \"好\", \"如\", \"如上\", \"如上所述\", \"如下\", \"如何\", \"如其\", \"如同\", \"如是\", \"如果\", \"如此\", \"如若\", \"始而\", \"孰料\", \"孰知\", \"宁\", \"宁可\", \"宁愿\", \"宁肯\", \"它\", \"它们\", \"对\", \"对于\", \"对待\", \"对方\", \"对比\", \"将\", \"小\", \"尔\", \"尔后\", \"尔尔\", \"尚且\", \"就\", \"就是\", \"就是了\", \"就是说\", \"就算\", \"就要\", \"尽\", \"尽管\", \"尽管如此\", \"岂但\", \"己\", \"已\", \"已矣\", \"巴\", \"巴巴\", \"年\", \"并\", \"并且\", \"庶乎\", \"庶几\", \"开外\", \"开始\", \"归\", \"归齐\", \"当\", \"当地\", \"当然\", \"当着\", \"彼\", \"彼时\", \"彼此\", \"往\", \"待\", \"很\", \"得\", \"得了\", \"怎\", \"怎么\", \"怎么办\", \"怎么样\", \"怎奈\", \"怎样\", \"总之\", \"总的来看\", \"总的来说\", \"总的说来\", \"总而言之\", \"恰恰相反\", \"您\", \"惟其\", \"慢说\", \"我\", \"我们\", \"或\", \"或则\", \"或是\", \"或曰\", \"或者\", \"截至\", \"所\", \"所以\", \"所在\", \"所幸\", \"所有\", \"才\", \"才能\", \"打\", \"打从\", \"把\", \"抑或\", \"拿\", \"按\", \"按照\", \"换句话说\", \"换言之\", \"据\", \"据此\", \"接着\", \"故\", \"故此\", \"故而\", \"旁人\", \"无\", \"无宁\", \"无论\", \"既\", \"既往\", \"既是\", \"既然\", \"日\", \"时\", \"时候\", \"是\", \"是以\", \"是的\", \"更\", \"曾\", \"替\", \"替代\", \"最\", \"月\", \"有\", \"有些\", \"有关\", \"有及\", \"有时\", \"有的\", \"望\", \"朝\", \"朝着\", \"本\", \"本人\", \"本地\", \"本着\", \"本身\", \"来\", \"来着\", \"来自\", \"来说\", \"极了\", \"果然\", \"果真\", \"某\", \"某个\", \"某些\", \"某某\", \"根据\", \"欤\", \"正值\", \"正如\", \"正巧\", \"正是\", \"此\", \"此地\", \"此处\", \"此外\", \"此时\", \"此次\", \"此间\", \"毋宁\", \"每\", \"每当\", \"比\", \"比及\", \"比如\", \"比方\", \"没奈何\", \"沿\", \"沿着\", \"漫说\", \"点\", \"焉\", \"然则\", \"然后\", \"然而\", \"照\", \"照着\", \"犹且\", \"犹自\", \"甚且\", \"甚么\", \"甚或\", \"甚而\", \"甚至\", \"甚至于\", \"用\", \"用来\", \"由\", \"由于\", \"由是\", \"由此\", \"由此可见\", \"的\", \"的确\", \"的话\", \"直到\", \"相对而言\", \"省得\", \"看\", \"眨眼\", \"着\", \"着呢\", \"矣\", \"矣乎\", \"矣哉\", \"离\", \"秒\", \"称\", \"竟而\", \"第\", \"等\", \"等到\", \"等等\", \"简言之\", \"管\", \"类如\", \"紧接着\", \"纵\", \"纵令\", \"纵使\", \"纵然\", \"经\", \"经过\", \"结果\", \"给\", \"继之\", \"继后\", \"继而\", \"综上所述\", \"罢了\", \"者\", \"而\", \"而且\", \"而况\", \"而后\", \"而外\", \"而已\", \"而是\", \"而言\", \"能\", \"能否\", \"腾\", \"自\", \"自个儿\", \"自从\", \"自各儿\", \"自后\", \"自家\", \"自己\", \"自打\", \"自身\", \"至\", \"至于\", \"至今\", \"至若\", \"致\", \"般的\", \"若\", \"若夫\", \"若是\", \"若果\", \"若非\", \"莫不然\", \"莫如\", \"莫若\", \"虽\", \"虽则\", \"虽然\", \"虽说\", \"被\", \"要\", \"要不\", \"要不是\", \"要不然\", \"要么\", \"要是\", \"譬喻\", \"譬如\", \"让\", \"许多\", \"论\", \"设使\", \"设或\", \"设若\", \"诚如\", \"诚然\", \"该\", \"说\", \"说来\", \"请\", \"诸\", \"诸位\", \"诸如\", \"谁\", \"谁人\", \"谁料\", \"谁知\", \"贼死\", \"赖以\", \"赶\", \"起\", \"起见\", \"趁\", \"趁着\", \"越是\", \"距\", \"跟\", \"较\", \"较之\", \"边\", \"过\", \"还\", \"还是\", \"还有\", \"还要\", \"这\", \"这一来\", \"这个\", \"这么\", \"这么些\", \"这么样\", \"这么点儿\", \"这些\", \"这会儿\", \"这儿\", \"这就是说\", \"这时\", \"这样\", \"这次\", \"这般\", \"这边\", \"这里\", \"进而\", \"连\", \"连同\", \"逐步\", \"通过\", \"遵循\", \"遵照\", \"那\", \"那个\", \"那么\", \"那么些\", \"那么样\", \"那些\", \"那会儿\", \"那儿\", \"那时\", \"那样\", \"那般\", \"那边\", \"那里\", \"都\", \"鄙人\", \"鉴于\", \"针对\", \"阿\", \"除\", \"除了\", \"除外\", \"除开\", \"除此之外\", \"除非\", \"随\", \"随后\", \"随时\", \"随着\", \"难道说\", \"零\", \"非\", \"非但\", \"非徒\", \"非特\", \"非独\", \"靠\", \"顺\", \"顺着\", \"首先\", \"︿\", \"！\", \"＃\", \"＄\", \"％\", \"＆\", \"（\", \"）\", \"＊\", \"＋\", \"，\", \"０\", \"１\", \"２\", \"３\", \"４\", \"５\", \"６\", \"７\", \"８\", \"９\", \"：\", \"；\", \"＜\", \"＞\", \"？\", \"＠\", \"［\", \"］\", \"｛\", \"｜\", \"｝\", \"～\", \"￥\"]\n",
    "    )\n",
    "stopwords = stopwords.union(set(string.punctuation))\n",
    "\n",
    "constraints = [RepeatModification(),\n",
    "               StopwordModification(stopwords = stopwords)]\n",
    "\n",
    "search_method = GreedyWordSwapWIR()"
   ]
  },
  {
   "cell_type": "code",
   "execution_count": null,
   "id": "checked-london",
   "metadata": {},
   "outputs": [],
   "source": []
  },
  {
   "cell_type": "code",
   "execution_count": 6,
   "id": "substantial-arbor",
   "metadata": {},
   "outputs": [],
   "source": [
    "from tqdm import tqdm\n",
    "from textattack.loggers import CSVLogger\n",
    "from textattack.attack_results import SuccessfulAttackResult\n",
    "from textattack import Attacker\n",
    "from textattack import AttackArgs\n",
    "from textattack.datasets import Dataset"
   ]
  },
  {
   "cell_type": "code",
   "execution_count": 8,
   "id": "subject-wallace",
   "metadata": {},
   "outputs": [
    {
     "name": "stdout",
     "output_type": "stream",
     "text": [
      "Attack(\n",
      "  (search_method): GreedyWordSwapWIR(\n",
      "    (wir_method):  unk\n",
      "  )\n",
      "  (goal_function):  UntargetedClassification\n",
      "  (transformation):  ChineseHomophoneCharacterSwap\n",
      "  (constraints): \n",
      "    (0): RepeatModification\n",
      "    (1): StopwordModification\n",
      "  (is_black_box):  True\n",
      ") \n",
      "\n"
     ]
    },
    {
     "name": "stderr",
     "output_type": "stream",
     "text": [
      "\n",
      "  0%|          | 0/500 [00:00<?, ?it/s]\u001b[A\n",
      "  0%|          | 1/500 [00:48<6:41:36, 48.29s/it]\u001b[A\n",
      "[Succeeded / Failed / Skipped / Total] 0 / 1 / 0 / 1:   0%|          | 1/500 [00:48<6:41:37, 48.29s/it]\u001b[A"
     ]
    },
    {
     "name": "stdout",
     "output_type": "stream",
     "text": [
      "--------------------------------------------- Result 1 ---------------------------------------------\n",
      "[[Positive (97%)]] --> [[[FAILED]]]\n",
      "\n",
      "哈哈，宝贝很不错的，无色差，质量特别好，价格便宜，发货快，满意\n",
      "\n",
      "\n"
     ]
    },
    {
     "name": "stderr",
     "output_type": "stream",
     "text": [
      "\n",
      "[Succeeded / Failed / Skipped / Total] 0 / 1 / 0 / 1:   0%|          | 2/500 [01:24<5:48:48, 42.02s/it]\u001b[A\n",
      "[Succeeded / Failed / Skipped / Total] 0 / 2 / 0 / 2:   0%|          | 2/500 [01:24<5:48:48, 42.03s/it]\u001b[A"
     ]
    },
    {
     "name": "stdout",
     "output_type": "stream",
     "text": [
      "--------------------------------------------- Result 2 ---------------------------------------------\n",
      "[[Positive (98%)]] --> [[[FAILED]]]\n",
      "\n",
      "不错，售后服务非常给力，一直相信京东\n",
      "\n",
      "\n"
     ]
    },
    {
     "name": "stderr",
     "output_type": "stream",
     "text": [
      "\n",
      "[Succeeded / Failed / Skipped / Total] 0 / 2 / 0 / 2:   1%|          | 3/500 [02:15<6:13:43, 45.12s/it]\u001b[A\n",
      "[Succeeded / Failed / Skipped / Total] 1 / 2 / 0 / 3:   1%|          | 3/500 [02:15<6:13:44, 45.12s/it]\u001b[A"
     ]
    },
    {
     "name": "stdout",
     "output_type": "stream",
     "text": [
      "--------------------------------------------- Result 3 ---------------------------------------------\n",
      "[[Negative (98%)]] --> [[Positive (86%)]]\n",
      "\n",
      "刚买一星期就降价200元，价格保护还不支持，太无语了。\n",
      "\n",
      "刚买一星起就降加200元，价咯保护还不只持，太物语了。\n",
      "\n",
      "\n"
     ]
    },
    {
     "name": "stderr",
     "output_type": "stream",
     "text": [
      "\n",
      "[Succeeded / Failed / Skipped / Total] 1 / 2 / 0 / 3:   1%|          | 4/500 [04:16<8:49:58, 64.11s/it]\u001b[A\n",
      "[Succeeded / Failed / Skipped / Total] 1 / 3 / 0 / 4:   1%|          | 4/500 [04:16<8:49:58, 64.11s/it]\u001b[A"
     ]
    },
    {
     "name": "stdout",
     "output_type": "stream",
     "text": [
      "--------------------------------------------- Result 4 ---------------------------------------------\n",
      "[[Negative (99%)]] --> [[[FAILED]]]\n",
      "\n",
      "房间墙壁裂开了，洗澡水流特别小，充电的口特别少，床铺不干净，前台接电话的态度不好，万不得已，不建议住这种酒店。\n",
      "\n",
      "\n"
     ]
    },
    {
     "name": "stderr",
     "output_type": "stream",
     "text": [
      "\n",
      "[Succeeded / Failed / Skipped / Total] 1 / 3 / 0 / 4:   1%|          | 5/500 [04:36<7:36:02, 55.28s/it]\u001b[A\n",
      "[Succeeded / Failed / Skipped / Total] 1 / 4 / 0 / 5:   1%|          | 5/500 [04:36<7:36:03, 55.28s/it]\u001b[A"
     ]
    },
    {
     "name": "stdout",
     "output_type": "stream",
     "text": [
      "--------------------------------------------- Result 5 ---------------------------------------------\n",
      "[[Positive (96%)]] --> [[[FAILED]]]\n",
      "\n",
      "有蒙牛无幸福\n",
      "\n",
      "\n"
     ]
    },
    {
     "name": "stderr",
     "output_type": "stream",
     "text": [
      "\n",
      "[Succeeded / Failed / Skipped / Total] 1 / 4 / 0 / 5:   1%|          | 6/500 [05:37<7:43:45, 56.33s/it]\u001b[A\n",
      "[Succeeded / Failed / Skipped / Total] 2 / 4 / 0 / 6:   1%|          | 6/500 [05:37<7:43:45, 56.33s/it]\u001b[A"
     ]
    },
    {
     "name": "stdout",
     "output_type": "stream",
     "text": [
      "--------------------------------------------- Result 6 ---------------------------------------------\n",
      "[[Negative (98%)]] --> [[Positive (94%)]]\n",
      "\n",
      "才买了一个月就开始卡机了，按个返回键，半天没反应，这手机太垃圾了，以后都不买这种牌子的手机了\n",
      "\n",
      "才买了一个约就开始卡机了，安个返回间，半甜美反应，这手机太啦既了，以后都不卖这种牌子的手机了\n",
      "\n",
      "\n"
     ]
    },
    {
     "name": "stderr",
     "output_type": "stream",
     "text": [
      "\n",
      "[Succeeded / Failed / Skipped / Total] 2 / 4 / 0 / 6:   1%|▏         | 7/500 [06:29<7:36:51, 55.60s/it]\u001b[A\n",
      "[Succeeded / Failed / Skipped / Total] 2 / 5 / 0 / 7:   1%|▏         | 7/500 [06:29<7:36:51, 55.60s/it]\u001b[A"
     ]
    },
    {
     "name": "stdout",
     "output_type": "stream",
     "text": [
      "--------------------------------------------- Result 7 ---------------------------------------------\n",
      "[[Negative (96%)]] --> [[[FAILED]]]\n",
      "\n",
      "买了不到一个月，降价100元。。。百分之12.5的降价。。。差评\n",
      "\n",
      "\n"
     ]
    },
    {
     "name": "stderr",
     "output_type": "stream",
     "text": [
      "\n",
      "[Succeeded / Failed / Skipped / Total] 2 / 5 / 0 / 7:   2%|▏         | 8/500 [06:53<7:03:35, 51.66s/it]\u001b[A\n",
      "[Succeeded / Failed / Skipped / Total] 3 / 5 / 0 / 8:   2%|▏         | 8/500 [06:53<7:03:35, 51.66s/it]\u001b[A"
     ]
    },
    {
     "name": "stdout",
     "output_type": "stream",
     "text": [
      "--------------------------------------------- Result 8 ---------------------------------------------\n",
      "[[Negative (99%)]] --> [[Positive (67%)]]\n",
      "\n",
      "穿起来别扭！一看才知道根本就不对其！看边线！斜的！有图有真相！\n",
      "\n",
      "穿起来别牛！一看才知道跟本就不对其！看边线！谢的！有图有真相！\n",
      "\n",
      "\n"
     ]
    },
    {
     "name": "stderr",
     "output_type": "stream",
     "text": [
      "\n",
      "[Succeeded / Failed / Skipped / Total] 3 / 5 / 0 / 8:   2%|▏         | 9/500 [07:20<6:40:44, 48.97s/it]\u001b[A\n",
      "[Succeeded / Failed / Skipped / Total] 3 / 6 / 0 / 9:   2%|▏         | 9/500 [07:20<6:40:44, 48.97s/it]\u001b[A"
     ]
    },
    {
     "name": "stdout",
     "output_type": "stream",
     "text": [
      "--------------------------------------------- Result 9 ---------------------------------------------\n",
      "[[Negative (98%)]] --> [[[FAILED]]]\n",
      "\n",
      "完全不是我想要的书！！！内容一点都不实用。\n",
      "\n",
      "\n"
     ]
    },
    {
     "name": "stderr",
     "output_type": "stream",
     "text": [
      "\n",
      "[Succeeded / Failed / Skipped / Total] 3 / 6 / 0 / 9:   2%|▏         | 10/500 [07:51<6:25:27, 47.20s/it]\u001b[A\n",
      "[Succeeded / Failed / Skipped / Total] 4 / 6 / 0 / 10:   2%|▏         | 10/500 [07:51<6:25:27, 47.20s/it]\u001b[A"
     ]
    },
    {
     "name": "stdout",
     "output_type": "stream",
     "text": [
      "--------------------------------------------- Result 10 ---------------------------------------------\n",
      "[[Positive (80%)]] --> [[Negative (78%)]]\n",
      "\n",
      "裤子收到了，就是物流有点慢可能受雾霾的影响，样子跟图片个相符，尺码正常，就是不太适合腿粗的人穿\n",
      "\n",
      "裤子受到了，就是物流有点慢可能受雾霾的影响，样子跟图片个相符，尺码蒸常，就是不太适合腿粗的人穿\n",
      "\n",
      "\n"
     ]
    },
    {
     "name": "stderr",
     "output_type": "stream",
     "text": [
      "\n",
      "[Succeeded / Failed / Skipped / Total] 4 / 6 / 0 / 10:   2%|▏         | 11/500 [09:06<6:44:51, 49.68s/it]\u001b[A\n",
      "[Succeeded / Failed / Skipped / Total] 4 / 7 / 0 / 11:   2%|▏         | 11/500 [09:06<6:44:51, 49.68s/it]\u001b[A"
     ]
    },
    {
     "name": "stdout",
     "output_type": "stream",
     "text": [
      "--------------------------------------------- Result 11 ---------------------------------------------\n",
      "[[Positive (98%)]] --> [[[FAILED]]]\n",
      "\n",
      "裤子很好，男盆友穿起来很好看，有型，也舒服，卖家态度也很好，下次还买，想买的盆友快入手把～    评价图片\n",
      "\n",
      "\n"
     ]
    },
    {
     "name": "stderr",
     "output_type": "stream",
     "text": [
      "\n",
      "[Succeeded / Failed / Skipped / Total] 4 / 7 / 0 / 11:   2%|▏         | 12/500 [09:30<6:26:30, 47.52s/it]\u001b[A\n",
      "[Succeeded / Failed / Skipped / Total] 4 / 8 / 0 / 12:   2%|▏         | 12/500 [09:30<6:26:30, 47.52s/it]\u001b[A"
     ]
    },
    {
     "name": "stdout",
     "output_type": "stream",
     "text": [
      "--------------------------------------------- Result 12 ---------------------------------------------\n",
      "[[Positive (96%)]] --> [[[FAILED]]]\n",
      "\n",
      "服务不错，性价比还可以。 娱乐项目较多！房间不大。\n",
      "\n",
      "\n"
     ]
    },
    {
     "name": "stderr",
     "output_type": "stream",
     "text": [
      "\n",
      "[Succeeded / Failed / Skipped / Total] 4 / 8 / 0 / 12:   3%|▎         | 13/500 [09:38<6:01:08, 44.49s/it]\u001b[A\n",
      "[Succeeded / Failed / Skipped / Total] 5 / 8 / 0 / 13:   3%|▎         | 13/500 [09:38<6:01:08, 44.49s/it]\u001b[A"
     ]
    },
    {
     "name": "stdout",
     "output_type": "stream",
     "text": [
      "--------------------------------------------- Result 13 ---------------------------------------------\n",
      "[[Negative (99%)]] --> [[Positive (81%)]]\n",
      "\n",
      "太紧了，线缝不行\n",
      "\n",
      "太紧了，线缝部行\n",
      "\n",
      "\n"
     ]
    },
    {
     "name": "stderr",
     "output_type": "stream",
     "text": [
      "\n",
      "[Succeeded / Failed / Skipped / Total] 5 / 8 / 0 / 13:   3%|▎         | 14/500 [09:39<5:35:14, 41.39s/it]\u001b[A\n",
      "[Succeeded / Failed / Skipped / Total] 5 / 8 / 1 / 14:   3%|▎         | 14/500 [09:39<5:35:14, 41.39s/it]\u001b[A"
     ]
    },
    {
     "name": "stdout",
     "output_type": "stream",
     "text": [
      "--------------------------------------------- Result 14 ---------------------------------------------\n",
      "[[Positive (88%)]] --> [[[SKIPPED]]]\n",
      "\n",
      "第二天续住，感觉没有第一天的服务好，希望服务跟上吧。\n",
      "\n",
      "\n"
     ]
    },
    {
     "name": "stderr",
     "output_type": "stream",
     "text": [
      "\n",
      "[Succeeded / Failed / Skipped / Total] 5 / 8 / 1 / 14:   3%|▎         | 15/500 [10:15<5:31:40, 41.03s/it]\u001b[A\n",
      "[Succeeded / Failed / Skipped / Total] 5 / 9 / 1 / 15:   3%|▎         | 15/500 [10:15<5:31:40, 41.03s/it]\u001b[A"
     ]
    },
    {
     "name": "stdout",
     "output_type": "stream",
     "text": [
      "--------------------------------------------- Result 15 ---------------------------------------------\n",
      "[[Negative (99%)]] --> [[[FAILED]]]\n",
      "\n",
      "事物比照片丑多了，家里有台灰色的，本来以为一样，结果收到是黑色的\n",
      "\n",
      "\n"
     ]
    },
    {
     "name": "stderr",
     "output_type": "stream",
     "text": [
      "\n",
      "[Succeeded / Failed / Skipped / Total] 5 / 9 / 1 / 15:   3%|▎         | 16/500 [10:33<5:19:17, 39.58s/it]\u001b[A\n",
      "[Succeeded / Failed / Skipped / Total] 5 / 10 / 1 / 16:   3%|▎         | 16/500 [10:33<5:19:17, 39.58s/it]\u001b[A"
     ]
    },
    {
     "name": "stdout",
     "output_type": "stream",
     "text": [
      "--------------------------------------------- Result 16 ---------------------------------------------\n",
      "[[Negative (98%)]] --> [[[FAILED]]]\n",
      "\n",
      "包装太垃圾了\n",
      "\n",
      "\n"
     ]
    },
    {
     "name": "stderr",
     "output_type": "stream",
     "text": [
      "\n",
      "[Succeeded / Failed / Skipped / Total] 5 / 10 / 1 / 16:   3%|▎         | 17/500 [11:14<5:19:31, 39.69s/it]\u001b[A\n",
      "[Succeeded / Failed / Skipped / Total] 6 / 10 / 1 / 17:   3%|▎         | 17/500 [11:14<5:19:31, 39.69s/it]\u001b[A"
     ]
    },
    {
     "name": "stdout",
     "output_type": "stream",
     "text": [
      "--------------------------------------------- Result 17 ---------------------------------------------\n",
      "[[Negative (96%)]] --> [[Positive (63%)]]\n",
      "\n",
      "这活动搞得也太多了吧，前两天下单说是618活动，今天618还没到又再次降价，什么意思，难道我上次看到的是假的618活动。1分给平板，用着不错。\n",
      "\n",
      "这活动搞得也太多了吧，前两天下单说是618活动，今天618还没到又再次降加，什么意思，难道我上次看到的是家的618活动。1分给平版，用着不错。\n",
      "\n",
      "\n"
     ]
    },
    {
     "name": "stderr",
     "output_type": "stream",
     "text": [
      "\n",
      "[Succeeded / Failed / Skipped / Total] 6 / 10 / 1 / 17:   4%|▎         | 18/500 [11:52<5:17:54, 39.57s/it]\u001b[A\n",
      "[Succeeded / Failed / Skipped / Total] 6 / 11 / 1 / 18:   4%|▎         | 18/500 [11:52<5:17:54, 39.57s/it]\u001b[A"
     ]
    },
    {
     "name": "stdout",
     "output_type": "stream",
     "text": [
      "--------------------------------------------- Result 18 ---------------------------------------------\n",
      "[[Positive (97%)]] --> [[[FAILED]]]\n",
      "\n",
      "苹果很漂亮，包装很结实，京东生鲜靠谱。\n",
      "\n",
      "\n"
     ]
    },
    {
     "name": "stderr",
     "output_type": "stream",
     "text": [
      "\n",
      "[Succeeded / Failed / Skipped / Total] 6 / 11 / 1 / 18:   4%|▍         | 19/500 [12:11<5:08:28, 38.48s/it]\u001b[A\n",
      "[Succeeded / Failed / Skipped / Total] 6 / 12 / 1 / 19:   4%|▍         | 19/500 [12:11<5:08:28, 38.48s/it]\u001b[A"
     ]
    },
    {
     "name": "stdout",
     "output_type": "stream",
     "text": [
      "--------------------------------------------- Result 19 ---------------------------------------------\n",
      "[[Positive (96%)]] --> [[[FAILED]]]\n",
      "\n",
      "质量很好，面料很好，穿上很舒服，大小合适\n",
      "\n",
      "\n"
     ]
    },
    {
     "name": "stderr",
     "output_type": "stream",
     "text": [
      "\n",
      "[Succeeded / Failed / Skipped / Total] 6 / 12 / 1 / 19:   4%|▍         | 20/500 [12:39<5:03:56, 37.99s/it]\u001b[A\n",
      "[Succeeded / Failed / Skipped / Total] 6 / 13 / 1 / 20:   4%|▍         | 20/500 [12:39<5:03:56, 37.99s/it]\u001b[A"
     ]
    },
    {
     "name": "stdout",
     "output_type": "stream",
     "text": [
      "--------------------------------------------- Result 20 ---------------------------------------------\n",
      "[[Negative (98%)]] --> [[[FAILED]]]\n",
      "\n",
      "买的时候说秒杀，没收到就降价，还说秒杀不保价，真是醉了\n",
      "\n",
      "\n"
     ]
    },
    {
     "name": "stderr",
     "output_type": "stream",
     "text": [
      "\n",
      "[Succeeded / Failed / Skipped / Total] 6 / 13 / 1 / 20:   4%|▍         | 21/500 [12:40<4:49:16, 36.24s/it]\u001b[A\n",
      "[Succeeded / Failed / Skipped / Total] 6 / 13 / 2 / 21:   4%|▍         | 21/500 [12:40<4:49:16, 36.24s/it]\u001b[A"
     ]
    },
    {
     "name": "stdout",
     "output_type": "stream",
     "text": [
      "--------------------------------------------- Result 21 ---------------------------------------------\n",
      "[[Positive (88%)]] --> [[[SKIPPED]]]\n",
      "\n",
      "买的第二个了，涨价就不说了，声音超小，连接无线网络信号差，第一个很好用。\n",
      "\n",
      "\n"
     ]
    },
    {
     "name": "stderr",
     "output_type": "stream",
     "text": [
      "\n",
      "[Succeeded / Failed / Skipped / Total] 6 / 13 / 2 / 21:   4%|▍         | 22/500 [13:50<5:00:40, 37.74s/it]\u001b[A\n",
      "[Succeeded / Failed / Skipped / Total] 7 / 13 / 2 / 22:   4%|▍         | 22/500 [13:50<5:00:40, 37.74s/it]\u001b[A"
     ]
    },
    {
     "name": "stdout",
     "output_type": "stream",
     "text": [
      "--------------------------------------------- Result 22 ---------------------------------------------\n",
      "[[Negative (89%)]] --> [[Positive (51%)]]\n",
      "\n",
      "1.机身厚度稍大，屏幕稍小； 2. 屏幕在亮度和鲜艳程度上表现稍逊色 3 拍摄的照片显示效果差强人意，有明显的颗粒感； 4. 不支持Java、红外和蓝牙；\n",
      "\n",
      "1.机身厚度稍大，屏幕稍小； 2. 平幕在两度和鲜艳程度上表现稍逊色 3 拍摄的照篇显示效锅茶强人意，有明先的颗粒感； 4. 不支持Java、红外和蓝牙；\n",
      "\n",
      "\n"
     ]
    },
    {
     "name": "stderr",
     "output_type": "stream",
     "text": [
      "\n",
      "[Succeeded / Failed / Skipped / Total] 7 / 13 / 2 / 22:   5%|▍         | 23/500 [14:20<4:57:22, 37.40s/it]\u001b[A\n",
      "[Succeeded / Failed / Skipped / Total] 8 / 13 / 2 / 23:   5%|▍         | 23/500 [14:20<4:57:22, 37.41s/it]\u001b[A"
     ]
    },
    {
     "name": "stdout",
     "output_type": "stream",
     "text": [
      "--------------------------------------------- Result 23 ---------------------------------------------\n",
      "[[Positive (88%)]] --> [[Negative (59%)]]\n",
      "\n",
      "包装几好，每只都无烂，仲要好甜，呢个价有12只，超值\n",
      "\n",
      "包撞几好，每只都无烂，仲要好天，呢个价由12只，超只\n",
      "\n",
      "\n"
     ]
    },
    {
     "name": "stderr",
     "output_type": "stream",
     "text": [
      "\n",
      "[Succeeded / Failed / Skipped / Total] 8 / 13 / 2 / 23:   5%|▍         | 24/500 [15:24<5:05:35, 38.52s/it]\u001b[A\n",
      "[Succeeded / Failed / Skipped / Total] 8 / 14 / 2 / 24:   5%|▍         | 24/500 [15:24<5:05:35, 38.52s/it]\u001b[A"
     ]
    },
    {
     "name": "stdout",
     "output_type": "stream",
     "text": [
      "--------------------------------------------- Result 24 ---------------------------------------------\n",
      "[[Negative (98%)]] --> [[[FAILED]]]\n",
      "\n",
      "之前买过一次挺好的，但这次这个特别不好，用完之后头发的手感不是柔顺的而是感觉硬的，不知道是怎么回事呢？特别不好，特别不好。\n",
      "\n",
      "\n"
     ]
    },
    {
     "name": "stderr",
     "output_type": "stream",
     "text": [
      "\n",
      "[Succeeded / Failed / Skipped / Total] 8 / 14 / 2 / 24:   5%|▌         | 25/500 [16:04<5:05:17, 38.56s/it]\u001b[A\n",
      "[Succeeded / Failed / Skipped / Total] 9 / 14 / 2 / 25:   5%|▌         | 25/500 [16:04<5:05:17, 38.56s/it]\u001b[A"
     ]
    },
    {
     "name": "stdout",
     "output_type": "stream",
     "text": [
      "--------------------------------------------- Result 25 ---------------------------------------------\n",
      "[[Positive (93%)]] --> [[Negative (52%)]]\n",
      "\n",
      "包装比较简单，不过产品还是挺好用，以前用的x1，用了两年，现在换x2\n",
      "\n",
      "包撞比较间单，不过产品还是挺号用，一前用的x1，用了两念，现在换x2\n",
      "\n",
      "\n"
     ]
    },
    {
     "name": "stderr",
     "output_type": "stream",
     "text": [
      "\n",
      "[Succeeded / Failed / Skipped / Total] 9 / 14 / 2 / 25:   5%|▌         | 26/500 [16:19<4:57:44, 37.69s/it]\u001b[A\n",
      "[Succeeded / Failed / Skipped / Total] 10 / 14 / 2 / 26:   5%|▌         | 26/500 [16:19<4:57:44, 37.69s/it]\u001b[A"
     ]
    },
    {
     "name": "stdout",
     "output_type": "stream",
     "text": [
      "--------------------------------------------- Result 26 ---------------------------------------------\n",
      "[[Negative (80%)]] --> [[Positive (62%)]]\n",
      "\n",
      "买了，不好，太差劲啦哈哈哈哈哈哈哈哈哈哈，谁买谁后悔\n",
      "\n",
      "买了，不好，太茶劲啦哈哈哈哈哈哈哈哈哈哈，谁买谁后悔\n",
      "\n",
      "\n"
     ]
    },
    {
     "name": "stderr",
     "output_type": "stream",
     "text": [
      "\n",
      "[Succeeded / Failed / Skipped / Total] 10 / 14 / 2 / 26:   5%|▌         | 27/500 [16:49<4:54:47, 37.39s/it]\u001b[A\n",
      "[Succeeded / Failed / Skipped / Total] 10 / 15 / 2 / 27:   5%|▌         | 27/500 [16:49<4:54:47, 37.39s/it]\u001b[A"
     ]
    },
    {
     "name": "stdout",
     "output_type": "stream",
     "text": [
      "--------------------------------------------- Result 27 ---------------------------------------------\n",
      "[[Positive (95%)]] --> [[[FAILED]]]\n",
      "\n",
      "好甜哦，大小都差不多，买给宝宝吃的\n",
      "\n",
      "\n"
     ]
    },
    {
     "name": "stderr",
     "output_type": "stream",
     "text": [
      "\n",
      "[Succeeded / Failed / Skipped / Total] 10 / 15 / 2 / 27:   6%|▌         | 28/500 [17:53<5:01:32, 38.33s/it]\u001b[A\n",
      "[Succeeded / Failed / Skipped / Total] 10 / 16 / 2 / 28:   6%|▌         | 28/500 [17:53<5:01:32, 38.33s/it]\u001b[A"
     ]
    },
    {
     "name": "stdout",
     "output_type": "stream",
     "text": [
      "--------------------------------------------- Result 28 ---------------------------------------------\n",
      "[[Positive (94%)]] --> [[[FAILED]]]\n",
      "\n",
      "住的标间，比较干净，餐厅的菜价格和味道都还可以，也比较新鲜。总的来说，性价比高。\n",
      "\n",
      "\n"
     ]
    },
    {
     "name": "stderr",
     "output_type": "stream",
     "text": [
      "\n",
      "[Succeeded / Failed / Skipped / Total] 10 / 16 / 2 / 28:   6%|▌         | 29/500 [18:29<5:00:22, 38.27s/it]\u001b[A\n",
      "[Succeeded / Failed / Skipped / Total] 11 / 16 / 2 / 29:   6%|▌         | 29/500 [18:29<5:00:23, 38.27s/it]\u001b[A"
     ]
    },
    {
     "name": "stdout",
     "output_type": "stream",
     "text": [
      "--------------------------------------------- Result 29 ---------------------------------------------\n",
      "[[Negative (92%)]] --> [[Positive (52%)]]\n",
      "\n",
      "一直以来都不会头痒 洗了这个洗发水会痒 而且会有头屑 我怀疑是不是假的\n",
      "\n",
      "一直以来都不会头痒 洗了这个洗发睡会养 而且会有头谢 我怀疑时不是加的\n",
      "\n",
      "\n"
     ]
    },
    {
     "name": "stderr",
     "output_type": "stream",
     "text": [
      "\n",
      "[Succeeded / Failed / Skipped / Total] 11 / 16 / 2 / 29:   6%|▌         | 30/500 [19:11<5:00:32, 38.37s/it]\u001b[A\n",
      "[Succeeded / Failed / Skipped / Total] 12 / 16 / 2 / 30:   6%|▌         | 30/500 [19:11<5:00:32, 38.37s/it]\u001b[A"
     ]
    },
    {
     "name": "stdout",
     "output_type": "stream",
     "text": [
      "--------------------------------------------- Result 30 ---------------------------------------------\n",
      "[[Positive (92%)]] --> [[Negative (52%)]]\n",
      "\n",
      "苹果个头一般，味道还不错。配送员态度很好，收到后发现有两个坏了，申请售后京东处理的非常快。\n",
      "\n",
      "苹果个头一般，味到还不搓。配送员态度很好，收到后发现有两个坏了，申请售后京东处理的非场快。\n",
      "\n",
      "\n"
     ]
    },
    {
     "name": "stderr",
     "output_type": "stream",
     "text": [
      "\n",
      "[Succeeded / Failed / Skipped / Total] 12 / 16 / 2 / 30:   6%|▌         | 31/500 [19:12<4:50:31, 37.17s/it]\u001b[A\n",
      "[Succeeded / Failed / Skipped / Total] 12 / 16 / 3 / 31:   6%|▌         | 31/500 [19:12<4:50:31, 37.17s/it]\u001b[A"
     ]
    },
    {
     "name": "stdout",
     "output_type": "stream",
     "text": [
      "--------------------------------------------- Result 31 ---------------------------------------------\n",
      "[[Positive (70%)]] --> [[[SKIPPED]]]\n",
      "\n",
      "适合年龄20岁以下的女人阅读，大了就不用看了\n",
      "\n",
      "\n"
     ]
    },
    {
     "name": "stderr",
     "output_type": "stream",
     "text": [
      "\n",
      "[Succeeded / Failed / Skipped / Total] 12 / 16 / 3 / 31:   6%|▋         | 32/500 [19:22<4:43:20, 36.33s/it]\u001b[A\n",
      "[Succeeded / Failed / Skipped / Total] 13 / 16 / 3 / 32:   6%|▋         | 32/500 [19:22<4:43:20, 36.33s/it]\u001b[A"
     ]
    },
    {
     "name": "stdout",
     "output_type": "stream",
     "text": [
      "--------------------------------------------- Result 32 ---------------------------------------------\n",
      "[[Negative (95%)]] --> [[Positive (93%)]]\n",
      "\n",
      "差评(*｀Ω*)v\n",
      "\n",
      "茶评(*｀Ω*)v\n",
      "\n",
      "\n"
     ]
    },
    {
     "name": "stderr",
     "output_type": "stream",
     "text": [
      "\n",
      "[Succeeded / Failed / Skipped / Total] 13 / 16 / 3 / 32:   7%|▋         | 33/500 [19:23<4:34:26, 35.26s/it]\u001b[A\n",
      "[Succeeded / Failed / Skipped / Total] 13 / 16 / 4 / 33:   7%|▋         | 33/500 [19:23<4:34:26, 35.26s/it]\u001b[A"
     ]
    },
    {
     "name": "stdout",
     "output_type": "stream",
     "text": [
      "--------------------------------------------- Result 33 ---------------------------------------------\n",
      "[[Positive (99%)]] --> [[[SKIPPED]]]\n",
      "\n",
      "送给客户的礼品，还是多喜欢的，呵呵呵！\n",
      "\n",
      "\n"
     ]
    },
    {
     "name": "stderr",
     "output_type": "stream",
     "text": [
      "\n",
      "[Succeeded / Failed / Skipped / Total] 13 / 16 / 4 / 33:   7%|▋         | 34/500 [20:43<4:44:04, 36.58s/it]\u001b[A\n",
      "[Succeeded / Failed / Skipped / Total] 14 / 16 / 4 / 34:   7%|▋         | 34/500 [20:43<4:44:04, 36.58s/it]\u001b[A"
     ]
    },
    {
     "name": "stdout",
     "output_type": "stream",
     "text": [
      "--------------------------------------------- Result 34 ---------------------------------------------\n",
      "[[Negative (98%)]] --> [[Positive (55%)]]\n",
      "\n",
      "塑料壳子易坏(本人的已坏:)电池待机时间从没有超过1天在购买半年后待机时间别想超过半天没有红外就算了数据传输到现在实验过3太电脑就没有一次成功的总说\"确认连接\"哎放弃ING~\n",
      "\n",
      "塑料壳自易淮(本人的已坏:)点池待机时间从没有超过1天在购买半年后待机时间别想超过半天美有红外就算了数据传输到现再实验过3太电脑就美有一此成功的宗说\"确认连接\"哎放弃ING~\n",
      "\n",
      "\n"
     ]
    },
    {
     "name": "stderr",
     "output_type": "stream",
     "text": [
      "\n",
      "[Succeeded / Failed / Skipped / Total] 14 / 16 / 4 / 34:   7%|▋         | 35/500 [21:50<4:50:06, 37.43s/it]\u001b[A\n",
      "[Succeeded / Failed / Skipped / Total] 14 / 17 / 4 / 35:   7%|▋         | 35/500 [21:50<4:50:06, 37.43s/it]\u001b[A"
     ]
    },
    {
     "name": "stdout",
     "output_type": "stream",
     "text": [
      "--------------------------------------------- Result 35 ---------------------------------------------\n",
      "[[Positive (98%)]] --> [[[FAILED]]]\n",
      "\n",
      "非常不错的裤子，颜色我很喜欢，没有色差，大小也很合适！下次还会光顾！\n",
      "\n",
      "\n"
     ]
    },
    {
     "name": "stderr",
     "output_type": "stream",
     "text": [
      "\n",
      "[Succeeded / Failed / Skipped / Total] 14 / 17 / 4 / 35:   7%|▋         | 36/500 [22:00<4:43:36, 36.67s/it]\u001b[A\n",
      "[Succeeded / Failed / Skipped / Total] 15 / 17 / 4 / 36:   7%|▋         | 36/500 [22:00<4:43:36, 36.67s/it]\u001b[A"
     ]
    },
    {
     "name": "stdout",
     "output_type": "stream",
     "text": [
      "--------------------------------------------- Result 36 ---------------------------------------------\n",
      "[[Negative (55%)]] --> [[Positive (67%)]]\n",
      "\n",
      "用了一直起头皮，真的醉了\n",
      "\n",
      "用了一直起投皮，真的醉了\n",
      "\n",
      "\n"
     ]
    },
    {
     "name": "stderr",
     "output_type": "stream",
     "text": [
      "\n",
      "[Succeeded / Failed / Skipped / Total] 15 / 17 / 4 / 36:   7%|▋         | 37/500 [22:48<4:45:23, 36.98s/it]\u001b[A\n",
      "[Succeeded / Failed / Skipped / Total] 16 / 17 / 4 / 37:   7%|▋         | 37/500 [22:48<4:45:23, 36.98s/it]\u001b[A"
     ]
    },
    {
     "name": "stdout",
     "output_type": "stream",
     "text": [
      "--------------------------------------------- Result 37 ---------------------------------------------\n",
      "[[Negative (96%)]] --> [[Positive (54%)]]\n",
      "\n",
      "酒店价格是4星标准，酒店装修，设备1星标准！甚至还比不上便捷酒店。性价比低，不建议选择！\n",
      "\n",
      "就店价格是4星标準，酒店装修，设备1星标准！甚至还比部上便捷就店。性价比低，不建议选择！\n",
      "\n",
      "\n"
     ]
    },
    {
     "name": "stderr",
     "output_type": "stream",
     "text": [
      "\n",
      "[Succeeded / Failed / Skipped / Total] 16 / 17 / 4 / 37:   8%|▊         | 38/500 [23:27<4:45:06, 37.03s/it]\u001b[A\n",
      "[Succeeded / Failed / Skipped / Total] 17 / 17 / 4 / 38:   8%|▊         | 38/500 [23:27<4:45:06, 37.03s/it]\u001b[A"
     ]
    },
    {
     "name": "stdout",
     "output_type": "stream",
     "text": [
      "--------------------------------------------- Result 38 ---------------------------------------------\n",
      "[[Negative (97%)]] --> [[Positive (50%)]]\n",
      "\n",
      "1）商品还没收到，价格就已经降了70元。2）似乎打开windows媒体播放器的时间有点长\n",
      "\n",
      "1）伤品还美收到，价格就已经降了70元。2）似乎打开windows媒体播放器的时间有店长\n",
      "\n",
      "\n"
     ]
    },
    {
     "name": "stderr",
     "output_type": "stream",
     "text": [
      "\n",
      "[Succeeded / Failed / Skipped / Total] 17 / 17 / 4 / 38:   8%|▊         | 39/500 [23:58<4:43:25, 36.89s/it]\u001b[A\n",
      "[Succeeded / Failed / Skipped / Total] 18 / 17 / 4 / 39:   8%|▊         | 39/500 [23:58<4:43:25, 36.89s/it]\u001b[A"
     ]
    },
    {
     "name": "stdout",
     "output_type": "stream",
     "text": [
      "--------------------------------------------- Result 39 ---------------------------------------------\n",
      "[[Positive (95%)]] --> [[Negative (51%)]]\n",
      "\n",
      "1.手写输入还行,用着还行.基本上还是一部不错的手机.其它不说了\n",
      "\n",
      "1.手写输入还性,用着还行.基本伤还是以部部错的手机.其它不说了\n",
      "\n",
      "\n"
     ]
    },
    {
     "name": "stderr",
     "output_type": "stream",
     "text": [
      "\n",
      "[Succeeded / Failed / Skipped / Total] 18 / 17 / 4 / 39:   8%|▊         | 40/500 [25:30<4:53:22, 38.27s/it]\u001b[A\n",
      "[Succeeded / Failed / Skipped / Total] 18 / 18 / 4 / 40:   8%|▊         | 40/500 [25:30<4:53:22, 38.27s/it]\u001b[A"
     ]
    },
    {
     "name": "stdout",
     "output_type": "stream",
     "text": [
      "--------------------------------------------- Result 40 ---------------------------------------------\n",
      "[[Positive (96%)]] --> [[[FAILED]]]\n",
      "\n",
      "不错不错，挺好的苹果，酸酸甜甜的，价廉物美，值得推荐，不错不错，有活动还来得哦！\n",
      "\n",
      "\n"
     ]
    },
    {
     "name": "stderr",
     "output_type": "stream",
     "text": [
      "\n",
      "[Succeeded / Failed / Skipped / Total] 18 / 18 / 4 / 40:   8%|▊         | 41/500 [26:13<4:53:30, 38.37s/it]\u001b[A\n",
      "[Succeeded / Failed / Skipped / Total] 18 / 19 / 4 / 41:   8%|▊         | 41/500 [26:13<4:53:30, 38.37s/it]\u001b[A"
     ]
    },
    {
     "name": "stdout",
     "output_type": "stream",
     "text": [
      "--------------------------------------------- Result 41 ---------------------------------------------\n",
      "[[Positive (94%)]] --> [[[FAILED]]]\n",
      "\n",
      "挺新鲜的，包装也很好，防震，果子就比较小个一点\n",
      "\n",
      "\n"
     ]
    },
    {
     "name": "stderr",
     "output_type": "stream",
     "text": [
      "\n",
      "[Succeeded / Failed / Skipped / Total] 18 / 19 / 4 / 41:   8%|▊         | 42/500 [27:39<5:01:33, 39.50s/it]\u001b[A\n",
      "[Succeeded / Failed / Skipped / Total] 18 / 20 / 4 / 42:   8%|▊         | 42/500 [27:39<5:01:33, 39.50s/it]\u001b[A"
     ]
    },
    {
     "name": "stdout",
     "output_type": "stream",
     "text": [
      "--------------------------------------------- Result 42 ---------------------------------------------\n",
      "[[Negative (99%)]] --> [[[FAILED]]]\n",
      "\n",
      "最不开心的一次购物，还华为京东旗舰店，去店铺里都看到了什么？食杂店，什么破玩意，都没给我发票，退货讹我*，气人，什么鬼。\n",
      "\n",
      "\n"
     ]
    },
    {
     "name": "stderr",
     "output_type": "stream",
     "text": [
      "\n",
      "[Succeeded / Failed / Skipped / Total] 18 / 20 / 4 / 42:   9%|▊         | 43/500 [27:40<4:54:07, 38.62s/it]\u001b[A\n",
      "[Succeeded / Failed / Skipped / Total] 18 / 20 / 5 / 43:   9%|▊         | 43/500 [27:40<4:54:07, 38.62s/it]\u001b[A"
     ]
    },
    {
     "name": "stdout",
     "output_type": "stream",
     "text": [
      "--------------------------------------------- Result 43 ---------------------------------------------\n",
      "[[Positive (90%)]] --> [[[SKIPPED]]]\n",
      "\n",
      "塑料的感觉明显。 但是从性价比来考虑，已经算是不错的选择了。\n",
      "\n",
      "\n"
     ]
    },
    {
     "name": "stderr",
     "output_type": "stream",
     "text": [
      "\n",
      "[Succeeded / Failed / Skipped / Total] 18 / 20 / 5 / 43:   9%|▉         | 44/500 [28:25<4:54:35, 38.76s/it]\u001b[A\n",
      "[Succeeded / Failed / Skipped / Total] 18 / 21 / 5 / 44:   9%|▉         | 44/500 [28:25<4:54:35, 38.76s/it]\u001b[A"
     ]
    },
    {
     "name": "stdout",
     "output_type": "stream",
     "text": [
      "--------------------------------------------- Result 44 ---------------------------------------------\n",
      "[[Negative (92%)]] --> [[[FAILED]]]\n",
      "\n",
      "购买不满意，苹果较酸，不理想，有些吹牛。\n",
      "\n",
      "\n"
     ]
    },
    {
     "name": "stderr",
     "output_type": "stream",
     "text": [
      "\n",
      "[Succeeded / Failed / Skipped / Total] 18 / 21 / 5 / 44:   9%|▉         | 45/500 [28:45<4:50:46, 38.34s/it]\u001b[A\n",
      "[Succeeded / Failed / Skipped / Total] 19 / 21 / 5 / 45:   9%|▉         | 45/500 [28:45<4:50:46, 38.34s/it]\u001b[A"
     ]
    },
    {
     "name": "stdout",
     "output_type": "stream",
     "text": [
      "--------------------------------------------- Result 45 ---------------------------------------------\n",
      "[[Negative (99%)]] --> [[Positive (79%)]]\n",
      "\n",
      "没用两天就坏了，换了一部没几天又是坏。很糟心的一样购买！！！\n",
      "\n",
      "没用两天就坏了，换了一部没几天又是坏。很造心的一样购买！！！\n",
      "\n",
      "\n"
     ]
    },
    {
     "name": "stderr",
     "output_type": "stream",
     "text": [
      "\n",
      "[Succeeded / Failed / Skipped / Total] 19 / 21 / 5 / 45:   9%|▉         | 46/500 [28:46<4:44:04, 37.54s/it]\u001b[A\n",
      "[Succeeded / Failed / Skipped / Total] 19 / 21 / 6 / 46:   9%|▉         | 46/500 [28:46<4:44:04, 37.54s/it]\u001b[A"
     ]
    },
    {
     "name": "stdout",
     "output_type": "stream",
     "text": [
      "--------------------------------------------- Result 46 ---------------------------------------------\n",
      "[[Positive (72%)]] --> [[[SKIPPED]]]\n",
      "\n",
      "跟以前买的完全不一样，跟图片也不一样，这么薄奶头都看得很明显\n",
      "\n",
      "\n"
     ]
    },
    {
     "name": "stderr",
     "output_type": "stream",
     "text": [
      "\n",
      "[Succeeded / Failed / Skipped / Total] 19 / 21 / 6 / 46:   9%|▉         | 47/500 [29:59<4:49:07, 38.29s/it]\u001b[A\n",
      "[Succeeded / Failed / Skipped / Total] 19 / 22 / 6 / 47:   9%|▉         | 47/500 [29:59<4:49:07, 38.29s/it]\u001b[A"
     ]
    },
    {
     "name": "stdout",
     "output_type": "stream",
     "text": [
      "--------------------------------------------- Result 47 ---------------------------------------------\n",
      "[[Positive (98%)]] --> [[[FAILED]]]\n",
      "\n",
      "这裤子比想象中的好的不能再好了。，比实体店的，都还要，完美，价格也非常的实惠。非常值得购买，赞赞赞。\n",
      "\n",
      "\n"
     ]
    },
    {
     "name": "stderr",
     "output_type": "stream",
     "text": [
      "\n",
      "[Succeeded / Failed / Skipped / Total] 19 / 22 / 6 / 47:  10%|▉         | 48/500 [31:36<4:57:42, 39.52s/it]\u001b[A\n",
      "[Succeeded / Failed / Skipped / Total] 19 / 23 / 6 / 48:  10%|▉         | 48/500 [31:36<4:57:42, 39.52s/it]\u001b[A"
     ]
    },
    {
     "name": "stdout",
     "output_type": "stream",
     "text": [
      "--------------------------------------------- Result 48 ---------------------------------------------\n",
      "[[Positive (96%)]] --> [[[FAILED]]]\n",
      "\n",
      "平板电脑很满意，清晰大方，音质好，总体来说挺好的，唯一不足的地方就是没有赠送贴膜，还得我们这业余的来，不过价钱已经可以了！\n",
      "\n",
      "\n"
     ]
    },
    {
     "name": "stderr",
     "output_type": "stream",
     "text": [
      "\n",
      "[Succeeded / Failed / Skipped / Total] 19 / 23 / 6 / 48:  10%|▉         | 49/500 [32:06<4:55:31, 39.32s/it]\u001b[A\n",
      "[Succeeded / Failed / Skipped / Total] 19 / 24 / 6 / 49:  10%|▉         | 49/500 [32:06<4:55:31, 39.32s/it]\u001b[A"
     ]
    },
    {
     "name": "stdout",
     "output_type": "stream",
     "text": [
      "--------------------------------------------- Result 49 ---------------------------------------------\n",
      "[[Negative (99%)]] --> [[[FAILED]]]\n",
      "\n",
      "三个，其中有一个是烂的，直接都不想吃了\n",
      "\n",
      "\n"
     ]
    },
    {
     "name": "stderr",
     "output_type": "stream",
     "text": [
      "\n",
      "[Succeeded / Failed / Skipped / Total] 19 / 24 / 6 / 49:  10%|█         | 50/500 [32:41<4:54:17, 39.24s/it]\u001b[A\n",
      "[Succeeded / Failed / Skipped / Total] 20 / 24 / 6 / 50:  10%|█         | 50/500 [32:41<4:54:17, 39.24s/it]\u001b[A"
     ]
    },
    {
     "name": "stdout",
     "output_type": "stream",
     "text": [
      "--------------------------------------------- Result 50 ---------------------------------------------\n",
      "[[Negative (75%)]] --> [[Positive (51%)]]\n",
      "\n",
      "年份应该长了，面积较小，早餐一般，服务没啥。一般般，性价比不高。只是为了到贵阳北站高铁五公里多点，否则不会选择。\n",
      "\n",
      "黏份应该长了，面积较小，早餐一般，服务没啥。一般般，性价比步高。只是为了到贵阳北站高铁五公里多点，否则不会选择。\n",
      "\n",
      "\n"
     ]
    },
    {
     "name": "stderr",
     "output_type": "stream",
     "text": [
      "\n",
      "[Succeeded / Failed / Skipped / Total] 20 / 24 / 6 / 50:  10%|█         | 51/500 [33:18<4:53:12, 39.18s/it]\u001b[A\n",
      "[Succeeded / Failed / Skipped / Total] 20 / 25 / 6 / 51:  10%|█         | 51/500 [33:18<4:53:12, 39.18s/it]\u001b[A"
     ]
    },
    {
     "name": "stdout",
     "output_type": "stream",
     "text": [
      "--------------------------------------------- Result 51 ---------------------------------------------\n",
      "[[Positive (93%)]] --> [[[FAILED]]]\n",
      "\n",
      "看着不错，个头不大，有果香，还没吃，京东挺好\n",
      "\n",
      "\n"
     ]
    },
    {
     "name": "stderr",
     "output_type": "stream",
     "text": [
      "\n",
      "[Succeeded / Failed / Skipped / Total] 20 / 25 / 6 / 51:  10%|█         | 52/500 [33:46<4:50:54, 38.96s/it]\u001b[A\n",
      "[Succeeded / Failed / Skipped / Total] 21 / 25 / 6 / 52:  10%|█         | 52/500 [33:46<4:50:54, 38.96s/it]\u001b[A"
     ]
    },
    {
     "name": "stdout",
     "output_type": "stream",
     "text": [
      "--------------------------------------------- Result 52 ---------------------------------------------\n",
      "[[Negative (97%)]] --> [[Positive (56%)]]\n",
      "\n",
      "分辨率太低，有些卡\n",
      "\n",
      "分辨率台低，有谢卡\n",
      "\n",
      "\n"
     ]
    },
    {
     "name": "stderr",
     "output_type": "stream",
     "text": [
      "\n",
      "[Succeeded / Failed / Skipped / Total] 21 / 25 / 6 / 52:  11%|█         | 53/500 [34:29<4:50:57, 39.05s/it]\u001b[A\n",
      "[Succeeded / Failed / Skipped / Total] 22 / 25 / 6 / 53:  11%|█         | 53/500 [34:29<4:50:57, 39.05s/it]\u001b[A"
     ]
    },
    {
     "name": "stdout",
     "output_type": "stream",
     "text": [
      "--------------------------------------------- Result 53 ---------------------------------------------\n",
      "[[Negative (99%)]] --> [[Positive (61%)]]\n",
      "\n",
      "明显有色差，感觉亏死。这面料也能上百?\n",
      "\n",
      "明线有色茶，感绝亏丝。这棉料也能商百?\n",
      "\n",
      "\n"
     ]
    },
    {
     "name": "stderr",
     "output_type": "stream",
     "text": [
      "\n",
      "[Succeeded / Failed / Skipped / Total] 22 / 25 / 6 / 53:  11%|█         | 54/500 [34:54<4:48:20, 38.79s/it]\u001b[A\n",
      "[Succeeded / Failed / Skipped / Total] 23 / 25 / 6 / 54:  11%|█         | 54/500 [34:54<4:48:20, 38.79s/it]\u001b[A"
     ]
    },
    {
     "name": "stdout",
     "output_type": "stream",
     "text": [
      "--------------------------------------------- Result 54 ---------------------------------------------\n",
      "[[Negative (97%)]] --> [[Positive (89%)]]\n",
      "\n",
      "手感很差，不亲肤。\n",
      "\n",
      "手感很查，步亲肤。\n",
      "\n",
      "\n"
     ]
    },
    {
     "name": "stderr",
     "output_type": "stream",
     "text": [
      "\n",
      "[Succeeded / Failed / Skipped / Total] 23 / 25 / 6 / 54:  11%|█         | 55/500 [35:55<4:50:37, 39.19s/it]\u001b[A\n",
      "[Succeeded / Failed / Skipped / Total] 23 / 26 / 6 / 55:  11%|█         | 55/500 [35:55<4:50:37, 39.19s/it]\u001b[A"
     ]
    },
    {
     "name": "stdout",
     "output_type": "stream",
     "text": [
      "--------------------------------------------- Result 55 ---------------------------------------------\n",
      "[[Positive (94%)]] --> [[[FAILED]]]\n",
      "\n",
      "裤子很合身，弹性不错，刚洗了也不怎么会掉色，挺不错的\n",
      "\n",
      "\n"
     ]
    },
    {
     "name": "stderr",
     "output_type": "stream",
     "text": [
      "\n",
      "[Succeeded / Failed / Skipped / Total] 23 / 26 / 6 / 55:  11%|█         | 56/500 [36:20<4:48:08, 38.94s/it]\u001b[A\n",
      "[Succeeded / Failed / Skipped / Total] 24 / 26 / 6 / 56:  11%|█         | 56/500 [36:20<4:48:08, 38.94s/it]\u001b[A"
     ]
    },
    {
     "name": "stdout",
     "output_type": "stream",
     "text": [
      "--------------------------------------------- Result 56 ---------------------------------------------\n",
      "[[Negative (98%)]] --> [[Positive (76%)]]\n",
      "\n",
      "分辨率不高，同一张照片。完全看不清楚。\n",
      "\n",
      "分辨率不高，同一张照片。完全看部清楚。\n",
      "\n",
      "\n"
     ]
    },
    {
     "name": "stderr",
     "output_type": "stream",
     "text": [
      "\n",
      "[Succeeded / Failed / Skipped / Total] 24 / 26 / 6 / 56:  11%|█▏        | 57/500 [37:41<4:52:52, 39.67s/it]\u001b[A\n",
      "[Succeeded / Failed / Skipped / Total] 24 / 27 / 6 / 57:  11%|█▏        | 57/500 [37:41<4:52:52, 39.67s/it]\u001b[A"
     ]
    },
    {
     "name": "stdout",
     "output_type": "stream",
     "text": [
      "--------------------------------------------- Result 57 ---------------------------------------------\n",
      "[[Positive (97%)]] --> [[[FAILED]]]\n",
      "\n",
      "京东送货确实挺快的，订了的第二天就送到了。电脑配置和价钱都不错，订的时候感觉很好。运行也很快。\n",
      "\n",
      "\n"
     ]
    },
    {
     "name": "stderr",
     "output_type": "stream",
     "text": [
      "\n",
      "[Succeeded / Failed / Skipped / Total] 24 / 27 / 6 / 57:  12%|█▏        | 58/500 [38:15<4:51:30, 39.57s/it]\u001b[A\n",
      "[Succeeded / Failed / Skipped / Total] 25 / 27 / 6 / 58:  12%|█▏        | 58/500 [38:15<4:51:30, 39.57s/it]\u001b[A"
     ]
    },
    {
     "name": "stdout",
     "output_type": "stream",
     "text": [
      "--------------------------------------------- Result 58 ---------------------------------------------\n",
      "[[Positive (96%)]] --> [[Negative (71%)]]\n",
      "\n",
      "够用一年了，小瓶更精致，，，，，\n",
      "\n",
      "够涌一年了，小瓶更竟致，，，，，\n",
      "\n",
      "\n"
     ]
    },
    {
     "name": "stderr",
     "output_type": "stream",
     "text": [
      "\n",
      "[Succeeded / Failed / Skipped / Total] 25 / 27 / 6 / 58:  12%|█▏        | 59/500 [39:38<4:56:21, 40.32s/it]\u001b[A\n",
      "[Succeeded / Failed / Skipped / Total] 26 / 27 / 6 / 59:  12%|█▏        | 59/500 [39:38<4:56:21, 40.32s/it]\u001b[A"
     ]
    },
    {
     "name": "stdout",
     "output_type": "stream",
     "text": [
      "--------------------------------------------- Result 59 ---------------------------------------------\n",
      "[[Negative (99%)]] --> [[Positive (63%)]]\n",
      "\n",
      "钱汇过去半个月，至今不见该书到，不见任何回复，在当当网购书有上当受骗的感觉。\n",
      "\n",
      "前汇过去半咯月，至今步见该书到，不间任何回负，在当当网够书有上当受篇的感觉。\n",
      "\n",
      "\n"
     ]
    },
    {
     "name": "stderr",
     "output_type": "stream",
     "text": [
      "\n",
      "[Succeeded / Failed / Skipped / Total] 26 / 27 / 6 / 59:  12%|█▏        | 60/500 [40:10<4:54:34, 40.17s/it]\u001b[A\n",
      "[Succeeded / Failed / Skipped / Total] 27 / 27 / 6 / 60:  12%|█▏        | 60/500 [40:10<4:54:34, 40.17s/it]\u001b[A"
     ]
    },
    {
     "name": "stdout",
     "output_type": "stream",
     "text": [
      "--------------------------------------------- Result 60 ---------------------------------------------\n",
      "[[Negative (99%)]] --> [[Positive (85%)]]\n",
      "\n",
      "假货，味道太难闻了，有个止咳糖浆的味道！！！\n",
      "\n",
      "加货，未道太南闻了，有个止咳糖浆的味道！！！\n",
      "\n",
      "\n"
     ]
    },
    {
     "name": "stderr",
     "output_type": "stream",
     "text": [
      "\n",
      "[Succeeded / Failed / Skipped / Total] 27 / 27 / 6 / 60:  12%|█▏        | 61/500 [40:53<4:54:15, 40.22s/it]\u001b[A\n",
      "[Succeeded / Failed / Skipped / Total] 27 / 28 / 6 / 61:  12%|█▏        | 61/500 [40:53<4:54:15, 40.22s/it]\u001b[A"
     ]
    },
    {
     "name": "stdout",
     "output_type": "stream",
     "text": [
      "--------------------------------------------- Result 61 ---------------------------------------------\n",
      "[[Negative (99%)]] --> [[[FAILED]]]\n",
      "\n",
      "差太多。尺码也缩水，差，差。\n",
      "\n",
      "\n"
     ]
    },
    {
     "name": "stderr",
     "output_type": "stream",
     "text": [
      "\n",
      "[Succeeded / Failed / Skipped / Total] 27 / 28 / 6 / 61:  12%|█▏        | 62/500 [41:58<4:56:34, 40.63s/it]\u001b[A\n",
      "[Succeeded / Failed / Skipped / Total] 27 / 29 / 6 / 62:  12%|█▏        | 62/500 [41:58<4:56:34, 40.63s/it]\u001b[A"
     ]
    },
    {
     "name": "stdout",
     "output_type": "stream",
     "text": [
      "--------------------------------------------- Result 62 ---------------------------------------------\n",
      "[[Negative (96%)]] --> [[[FAILED]]]\n",
      "\n",
      "同志们，当心当当网的送货人，一群骗子,当当网的客服也是一群骗子\n",
      "\n",
      "\n"
     ]
    },
    {
     "name": "stderr",
     "output_type": "stream",
     "text": [
      "\n",
      "[Succeeded / Failed / Skipped / Total] 27 / 29 / 6 / 62:  13%|█▎        | 63/500 [42:19<4:53:36, 40.31s/it]\u001b[A\n",
      "[Succeeded / Failed / Skipped / Total] 28 / 29 / 6 / 63:  13%|█▎        | 63/500 [42:19<4:53:36, 40.31s/it]\u001b[A"
     ]
    },
    {
     "name": "stdout",
     "output_type": "stream",
     "text": [
      "--------------------------------------------- Result 63 ---------------------------------------------\n",
      "[[Negative (98%)]] --> [[Positive (64%)]]\n",
      "\n",
      "退房时，总台有个女的态度很生硬，就像你欠她八百吊钱似的，国企做派。\n",
      "\n",
      "退房时，总台有个女的态度很省硬，就像你欠她八百吊钱似的，国企做派。\n",
      "\n",
      "\n"
     ]
    },
    {
     "name": "stderr",
     "output_type": "stream",
     "text": [
      "\n",
      "[Succeeded / Failed / Skipped / Total] 28 / 29 / 6 / 63:  13%|█▎        | 64/500 [42:56<4:52:34, 40.26s/it]\u001b[A\n",
      "[Succeeded / Failed / Skipped / Total] 29 / 29 / 6 / 64:  13%|█▎        | 64/500 [42:56<4:52:34, 40.26s/it]\u001b[A"
     ]
    },
    {
     "name": "stdout",
     "output_type": "stream",
     "text": [
      "--------------------------------------------- Result 64 ---------------------------------------------\n",
      "[[Negative (96%)]] --> [[Positive (52%)]]\n",
      "\n",
      "和沐浴露一起买的，沐浴露漏了，找客服好几天没回应，我只好给个差评\n",
      "\n",
      "和沐浴露一起买的，沐浴露喽了，赵客服好几甜没回应，我只好给个茶评\n",
      "\n",
      "\n"
     ]
    },
    {
     "name": "stderr",
     "output_type": "stream",
     "text": [
      "\n",
      "[Succeeded / Failed / Skipped / Total] 29 / 29 / 6 / 64:  13%|█▎        | 65/500 [44:02<4:54:45, 40.66s/it]\u001b[A\n",
      "[Succeeded / Failed / Skipped / Total] 29 / 30 / 6 / 65:  13%|█▎        | 65/500 [44:02<4:54:45, 40.66s/it]\u001b[A"
     ]
    },
    {
     "name": "stdout",
     "output_type": "stream",
     "text": [
      "--------------------------------------------- Result 65 ---------------------------------------------\n",
      "[[Negative (99%)]] --> [[[FAILED]]]\n",
      "\n",
      "真的就算后悔了。两天才拿到货。还不如水果店买！还都发霉不新鲜了！以后不买了\n",
      "\n",
      "\n"
     ]
    },
    {
     "name": "stderr",
     "output_type": "stream",
     "text": [
      "\n",
      "[Succeeded / Failed / Skipped / Total] 29 / 30 / 6 / 65:  13%|█▎        | 66/500 [44:03<4:49:45, 40.06s/it]\u001b[A\n",
      "[Succeeded / Failed / Skipped / Total] 29 / 30 / 7 / 66:  13%|█▎        | 66/500 [44:03<4:49:45, 40.06s/it]\u001b[A"
     ]
    },
    {
     "name": "stdout",
     "output_type": "stream",
     "text": [
      "--------------------------------------------- Result 66 ---------------------------------------------\n",
      "[[Positive (92%)]] --> [[[SKIPPED]]]\n",
      "\n",
      "还行吧行吧行吧行吧。下面的五星是给快递大哥的\n",
      "\n",
      "\n"
     ]
    },
    {
     "name": "stderr",
     "output_type": "stream",
     "text": [
      "\n",
      "[Succeeded / Failed / Skipped / Total] 29 / 30 / 7 / 66:  13%|█▎        | 67/500 [44:53<4:50:05, 40.20s/it]\u001b[A\n",
      "[Succeeded / Failed / Skipped / Total] 30 / 30 / 7 / 67:  13%|█▎        | 67/500 [44:53<4:50:05, 40.20s/it]\u001b[A"
     ]
    },
    {
     "name": "stdout",
     "output_type": "stream",
     "text": [
      "--------------------------------------------- Result 67 ---------------------------------------------\n",
      "[[Positive (91%)]] --> [[Negative (58%)]]\n",
      "\n",
      "东西收到了，试穿了一下，虽然拍大了一个码，但穿起来也不是很大，摸了一下质量还不错\n",
      "\n",
      "东西收倒了，时穿了一下，虽然排大了一个码，但穿其来也不是很达，摸了一下质量还不搓\n",
      "\n",
      "\n"
     ]
    },
    {
     "name": "stderr",
     "output_type": "stream",
     "text": [
      "\n",
      "[Succeeded / Failed / Skipped / Total] 30 / 30 / 7 / 67:  14%|█▎        | 68/500 [45:22<4:48:14, 40.03s/it]\u001b[A\n",
      "[Succeeded / Failed / Skipped / Total] 30 / 31 / 7 / 68:  14%|█▎        | 68/500 [45:22<4:48:14, 40.03s/it]\u001b[A"
     ]
    },
    {
     "name": "stdout",
     "output_type": "stream",
     "text": [
      "--------------------------------------------- Result 68 ---------------------------------------------\n",
      "[[Negative (86%)]] --> [[[FAILED]]]\n",
      "\n",
      "不喜欢 不甜 比外面的要贵 非常不满意\n",
      "\n",
      "\n"
     ]
    },
    {
     "name": "stderr",
     "output_type": "stream",
     "text": [
      "\n",
      "[Succeeded / Failed / Skipped / Total] 30 / 31 / 7 / 68:  14%|█▍        | 69/500 [45:23<4:43:32, 39.47s/it]\u001b[A\n",
      "[Succeeded / Failed / Skipped / Total] 30 / 31 / 8 / 69:  14%|█▍        | 69/500 [45:23<4:43:32, 39.47s/it]\u001b[A"
     ]
    },
    {
     "name": "stdout",
     "output_type": "stream",
     "text": [
      "--------------------------------------------- Result 69 ---------------------------------------------\n",
      "[[Positive (83%)]] --> [[[SKIPPED]]]\n",
      "\n",
      "物流依然满分，但这东西好像是别人用过的，电源线都是敞口放的，而且屏幕上有痕迹，擦了好半天才清理干净。\n",
      "\n",
      "\n"
     ]
    },
    {
     "name": "stderr",
     "output_type": "stream",
     "text": [
      "\n",
      "[Succeeded / Failed / Skipped / Total] 30 / 31 / 8 / 69:  14%|█▍        | 70/500 [46:39<4:46:35, 39.99s/it]\u001b[A\n",
      "[Succeeded / Failed / Skipped / Total] 30 / 32 / 8 / 70:  14%|█▍        | 70/500 [46:39<4:46:35, 39.99s/it]\u001b[A"
     ]
    },
    {
     "name": "stdout",
     "output_type": "stream",
     "text": [
      "--------------------------------------------- Result 70 ---------------------------------------------\n",
      "[[Positive (99%)]] --> [[[FAILED]]]\n",
      "\n",
      "花花公子品牌，就是不一样。穿着得体舒适，希望京东和花花公子多做一些这样的好产品。\n",
      "\n",
      "\n"
     ]
    },
    {
     "name": "stderr",
     "output_type": "stream",
     "text": [
      "\n",
      "[Succeeded / Failed / Skipped / Total] 30 / 32 / 8 / 70:  14%|█▍        | 71/500 [47:40<4:48:01, 40.28s/it]\u001b[A\n",
      "[Succeeded / Failed / Skipped / Total] 30 / 33 / 8 / 71:  14%|█▍        | 71/500 [47:40<4:48:01, 40.28s/it]\u001b[A"
     ]
    },
    {
     "name": "stdout",
     "output_type": "stream",
     "text": [
      "--------------------------------------------- Result 71 ---------------------------------------------\n",
      "[[Negative (95%)]] --> [[[FAILED]]]\n",
      "\n",
      "在当当上买了这么多次，这本书拿到手以后却质量很差,像是盗版书,很不满意\n",
      "\n",
      "\n"
     ]
    },
    {
     "name": "stderr",
     "output_type": "stream",
     "text": [
      "\n",
      "[Succeeded / Failed / Skipped / Total] 30 / 33 / 8 / 71:  14%|█▍        | 72/500 [49:26<4:53:55, 41.20s/it]\u001b[A\n",
      "[Succeeded / Failed / Skipped / Total] 30 / 34 / 8 / 72:  14%|█▍        | 72/500 [49:26<4:53:55, 41.20s/it]\u001b[A"
     ]
    },
    {
     "name": "stdout",
     "output_type": "stream",
     "text": [
      "--------------------------------------------- Result 72 ---------------------------------------------\n",
      "[[Positive (91%)]] --> [[[FAILED]]]\n",
      "\n",
      "做工精细 界面干净雅致 性能不亚于一些大品牌  包装周到 打开第一眼就非常喜欢 用了两天 丝毫没有陌生感\n",
      "\n",
      "\n"
     ]
    },
    {
     "name": "stderr",
     "output_type": "stream",
     "text": [
      "\n",
      "[Succeeded / Failed / Skipped / Total] 30 / 34 / 8 / 72:  15%|█▍        | 73/500 [50:34<4:55:51, 41.57s/it]\u001b[A\n",
      "[Succeeded / Failed / Skipped / Total] 30 / 35 / 8 / 73:  15%|█▍        | 73/500 [50:34<4:55:51, 41.57s/it]\u001b[A"
     ]
    },
    {
     "name": "stdout",
     "output_type": "stream",
     "text": [
      "--------------------------------------------- Result 73 ---------------------------------------------\n",
      "[[Negative (98%)]] --> [[[FAILED]]]\n",
      "\n",
      "平板买回来用到第三天就出现花屏现象，往后再用每天都会有有花屏现象？\n",
      "\n",
      "\n"
     ]
    },
    {
     "name": "stderr",
     "output_type": "stream",
     "text": [
      "\n",
      "[Succeeded / Failed / Skipped / Total] 30 / 35 / 8 / 73:  15%|█▍        | 74/500 [53:10<5:06:08, 43.12s/it]\u001b[A\n",
      "[Succeeded / Failed / Skipped / Total] 30 / 36 / 8 / 74:  15%|█▍        | 74/500 [53:10<5:06:08, 43.12s/it]\u001b[A"
     ]
    },
    {
     "name": "stdout",
     "output_type": "stream",
     "text": [
      "--------------------------------------------- Result 74 ---------------------------------------------\n",
      "[[Positive (99%)]] --> [[[FAILED]]]\n",
      "\n",
      "送货很快，活动力度很好，都是买200-100的，京东的活动非常满意，快递小哥态度也很好，每次都直接送货上门，节省很多时间，比超市里面便宜了太多，嗯，每次都喜欢在京东上购买东西，好\n",
      "\n",
      "\n"
     ]
    },
    {
     "name": "stderr",
     "output_type": "stream",
     "text": [
      "\n",
      "[Succeeded / Failed / Skipped / Total] 30 / 36 / 8 / 74:  15%|█▌        | 75/500 [54:09<5:06:53, 43.33s/it]\u001b[A\n",
      "[Succeeded / Failed / Skipped / Total] 30 / 37 / 8 / 75:  15%|█▌        | 75/500 [54:09<5:06:53, 43.33s/it]\u001b[A"
     ]
    },
    {
     "name": "stdout",
     "output_type": "stream",
     "text": [
      "--------------------------------------------- Result 75 ---------------------------------------------\n",
      "[[Negative (99%)]] --> [[[FAILED]]]\n",
      "\n",
      "这是外面坏的，里面碰坏的拍了看不出来，发货的时候能走点心波？\n",
      "\n",
      "\n"
     ]
    },
    {
     "name": "stderr",
     "output_type": "stream",
     "text": [
      "\n",
      "[Succeeded / Failed / Skipped / Total] 30 / 37 / 8 / 75:  15%|█▌        | 76/500 [54:23<5:03:27, 42.94s/it]\u001b[A\n",
      "[Succeeded / Failed / Skipped / Total] 31 / 37 / 8 / 76:  15%|█▌        | 76/500 [54:23<5:03:27, 42.94s/it]\u001b[A"
     ]
    },
    {
     "name": "stdout",
     "output_type": "stream",
     "text": [
      "--------------------------------------------- Result 76 ---------------------------------------------\n",
      "[[Negative (97%)]] --> [[Positive (89%)]]\n",
      "\n",
      "差评 ！！ 刷单 刷单刷单 ！呵呵\n",
      "\n",
      "茶评 ！！ 刷单 刷单刷单 ！呵呵\n",
      "\n",
      "\n"
     ]
    },
    {
     "name": "stderr",
     "output_type": "stream",
     "text": [
      "\n",
      "[Succeeded / Failed / Skipped / Total] 31 / 37 / 8 / 76:  15%|█▌        | 77/500 [56:34<5:10:47, 44.08s/it]\u001b[A\n",
      "[Succeeded / Failed / Skipped / Total] 31 / 38 / 8 / 77:  15%|█▌        | 77/500 [56:34<5:10:47, 44.08s/it]\u001b[A"
     ]
    },
    {
     "name": "stdout",
     "output_type": "stream",
     "text": [
      "--------------------------------------------- Result 77 ---------------------------------------------\n",
      "[[Positive (96%)]] --> [[[FAILED]]]\n",
      "\n",
      "当时由于原先预定的标准间没有房间，酒店人员免费将2个房间全部升级到行政间，前台服务人员态度非常好，对了我强烈推荐大家去顶楼的旋转自助餐厅，那里的环境很灵的。\n",
      "\n",
      "\n"
     ]
    },
    {
     "name": "stderr",
     "output_type": "stream",
     "text": [
      "\n",
      "[Succeeded / Failed / Skipped / Total] 31 / 38 / 8 / 77:  16%|█▌        | 78/500 [56:45<5:07:06, 43.66s/it]\u001b[A\n",
      "[Succeeded / Failed / Skipped / Total] 32 / 38 / 8 / 78:  16%|█▌        | 78/500 [56:45<5:07:06, 43.66s/it]\u001b[A"
     ]
    },
    {
     "name": "stdout",
     "output_type": "stream",
     "text": [
      "--------------------------------------------- Result 78 ---------------------------------------------\n",
      "[[Negative (93%)]] --> [[Positive (90%)]]\n",
      "\n",
      "一次不愉快的网购，\n",
      "\n",
      "一次不鱼快的网购，\n",
      "\n",
      "\n"
     ]
    },
    {
     "name": "stderr",
     "output_type": "stream",
     "text": [
      "\n",
      "[Succeeded / Failed / Skipped / Total] 32 / 38 / 8 / 78:  16%|█▌        | 79/500 [57:43<5:07:35, 43.84s/it]\u001b[A\n",
      "[Succeeded / Failed / Skipped / Total] 33 / 38 / 8 / 79:  16%|█▌        | 79/500 [57:43<5:07:35, 43.84s/it]\u001b[A"
     ]
    },
    {
     "name": "stdout",
     "output_type": "stream",
     "text": [
      "--------------------------------------------- Result 79 ---------------------------------------------\n",
      "[[Negative (99%)]] --> [[Positive (63%)]]\n",
      "\n",
      "非常差的古老的所谓星级酒店，物非所值－－洗手间还是古老的不大清洁的浴缸，又没有手提花砂，洗澡时总是水浸脚的－－浴缸不溜水的。\n",
      "\n",
      "非常茶的古老的所位星级久店，物非所值－－洗手间还是古老的步大清洁的浴缸，又没有手提花砂，洗澡时总是水浸脚的－－浴缸不溜水的。\n",
      "\n",
      "\n"
     ]
    },
    {
     "name": "stderr",
     "output_type": "stream",
     "text": [
      "\n",
      "[Succeeded / Failed / Skipped / Total] 33 / 38 / 8 / 79:  16%|█▌        | 80/500 [57:54<5:03:58, 43.43s/it]\u001b[A\n",
      "[Succeeded / Failed / Skipped / Total] 34 / 38 / 8 / 80:  16%|█▌        | 80/500 [57:54<5:03:58, 43.43s/it]\u001b[A"
     ]
    },
    {
     "name": "stdout",
     "output_type": "stream",
     "text": [
      "--------------------------------------------- Result 80 ---------------------------------------------\n",
      "[[Positive (80%)]] --> [[Negative (97%)]]\n",
      "\n",
      "目前挺好的，不知道用用如何，用了几天在评论。\n",
      "\n",
      "目前停好的，不知道用用如何，用了几天在评论。\n",
      "\n",
      "\n"
     ]
    },
    {
     "name": "stderr",
     "output_type": "stream",
     "text": [
      "\n",
      "[Succeeded / Failed / Skipped / Total] 34 / 38 / 8 / 80:  16%|█▌        | 81/500 [59:08<5:05:57, 43.81s/it]\u001b[A\n",
      "[Succeeded / Failed / Skipped / Total] 34 / 39 / 8 / 81:  16%|█▌        | 81/500 [59:08<5:05:57, 43.81s/it]\u001b[A"
     ]
    },
    {
     "name": "stdout",
     "output_type": "stream",
     "text": [
      "--------------------------------------------- Result 81 ---------------------------------------------\n",
      "[[Negative (91%)]] --> [[[FAILED]]]\n",
      "\n",
      "如果要从京东买鲜果，请慎重考虑，就跟赌博一样，50%的几率让你很失望、很失望、很失望，重要的事情说3遍！\n",
      "\n",
      "\n"
     ]
    },
    {
     "name": "stderr",
     "output_type": "stream",
     "text": [
      "\n",
      "[Succeeded / Failed / Skipped / Total] 34 / 39 / 8 / 81:  16%|█▋        | 82/500 [59:17<5:02:16, 43.39s/it]\u001b[A\n",
      "[Succeeded / Failed / Skipped / Total] 35 / 39 / 8 / 82:  16%|█▋        | 82/500 [59:17<5:02:16, 43.39s/it]\u001b[A"
     ]
    },
    {
     "name": "stdout",
     "output_type": "stream",
     "text": [
      "--------------------------------------------- Result 82 ---------------------------------------------\n",
      "[[Positive (94%)]] --> [[Negative (77%)]]\n",
      "\n",
      "好评\n",
      "\n",
      "号评\n",
      "\n",
      "\n"
     ]
    },
    {
     "name": "stderr",
     "output_type": "stream",
     "text": [
      "\n",
      "[Succeeded / Failed / Skipped / Total] 35 / 39 / 8 / 82:  17%|█▋        | 83/500 [1:00:22<5:03:17, 43.64s/it]\u001b[A\n",
      "[Succeeded / Failed / Skipped / Total] 35 / 40 / 8 / 83:  17%|█▋        | 83/500 [1:00:22<5:03:17, 43.64s/it]\u001b[A"
     ]
    },
    {
     "name": "stdout",
     "output_type": "stream",
     "text": [
      "--------------------------------------------- Result 83 ---------------------------------------------\n",
      "[[Positive (97%)]] --> [[[FAILED]]]\n",
      "\n",
      "宝贝真的很好，京东商城保真还快，包装完好，很满意\n",
      "\n",
      "\n"
     ]
    },
    {
     "name": "stderr",
     "output_type": "stream",
     "text": [
      "\n",
      "[Succeeded / Failed / Skipped / Total] 35 / 40 / 8 / 83:  17%|█▋        | 84/500 [1:00:53<5:01:33, 43.49s/it]\u001b[A\n",
      "[Succeeded / Failed / Skipped / Total] 35 / 41 / 8 / 84:  17%|█▋        | 84/500 [1:00:53<5:01:33, 43.49s/it]\u001b[A"
     ]
    },
    {
     "name": "stdout",
     "output_type": "stream",
     "text": [
      "--------------------------------------------- Result 84 ---------------------------------------------\n",
      "[[Negative (92%)]] --> [[[FAILED]]]\n",
      "\n",
      "不甜不甜不甜，不满意不满意，太差了\n",
      "\n",
      "\n"
     ]
    },
    {
     "name": "stderr",
     "output_type": "stream",
     "text": [
      "\n",
      "[Succeeded / Failed / Skipped / Total] 35 / 41 / 8 / 84:  17%|█▋        | 85/500 [1:02:54<5:07:07, 44.40s/it]\u001b[A\n",
      "[Succeeded / Failed / Skipped / Total] 36 / 41 / 8 / 85:  17%|█▋        | 85/500 [1:02:54<5:07:07, 44.40s/it]\u001b[A"
     ]
    },
    {
     "name": "stdout",
     "output_type": "stream",
     "text": [
      "--------------------------------------------- Result 85 ---------------------------------------------\n",
      "[[Negative (99%)]] --> [[Positive (50%)]]\n",
      "\n",
      "今天把手机套摘下来突然发现左下角都没有接紧用手按有明显的松动，无语了已经，第一个小米nite顶配版退货，这个拿到用起来不错就没仔细看，没想到也是有问题的，京东你叫我说你什么好\n",
      "\n",
      "今甜把手机套摘下来土然发现做下角都没有接近用手按有明显的松动，无鱼了已经，第一咯小蜜nite顶陪办退货，这个拿道用起来不错就每仔细看，美想到也是有问题的，京东你叫我说你什么好\n",
      "\n",
      "\n"
     ]
    },
    {
     "name": "stderr",
     "output_type": "stream",
     "text": [
      "\n",
      "[Succeeded / Failed / Skipped / Total] 36 / 41 / 8 / 85:  17%|█▋        | 86/500 [1:03:15<5:04:29, 44.13s/it]\u001b[A\n",
      "[Succeeded / Failed / Skipped / Total] 37 / 41 / 8 / 86:  17%|█▋        | 86/500 [1:03:15<5:04:29, 44.13s/it]\u001b[A"
     ]
    },
    {
     "name": "stdout",
     "output_type": "stream",
     "text": [
      "--------------------------------------------- Result 86 ---------------------------------------------\n",
      "[[Negative (98%)]] --> [[Positive (85%)]]\n",
      "\n",
      "苹果是好看，但是一点都不甜，而且里面是空的那种，不是水果，让我很失望?\n",
      "\n",
      "苹果是好看，但是一点都不甜，而且里面是空的那种，不是水果，让我很使望?\n",
      "\n",
      "\n"
     ]
    },
    {
     "name": "stderr",
     "output_type": "stream",
     "text": [
      "\n",
      "[Succeeded / Failed / Skipped / Total] 37 / 41 / 8 / 86:  17%|█▋        | 87/500 [1:03:16<5:00:22, 43.64s/it]\u001b[A\n",
      "[Succeeded / Failed / Skipped / Total] 37 / 41 / 9 / 87:  17%|█▋        | 87/500 [1:03:16<5:00:22, 43.64s/it]\u001b[A"
     ]
    },
    {
     "name": "stdout",
     "output_type": "stream",
     "text": [
      "--------------------------------------------- Result 87 ---------------------------------------------\n",
      "[[Positive (65%)]] --> [[[SKIPPED]]]\n",
      "\n",
      "裤子很舒服，很修身，但是开线很严重，明天就出长差也没有时间换了\n",
      "\n",
      "\n"
     ]
    },
    {
     "name": "stderr",
     "output_type": "stream",
     "text": [
      "\n",
      "[Succeeded / Failed / Skipped / Total] 37 / 41 / 9 / 87:  18%|█▊        | 88/500 [1:04:16<5:00:54, 43.82s/it]\u001b[A\n",
      "[Succeeded / Failed / Skipped / Total] 38 / 41 / 9 / 88:  18%|█▊        | 88/500 [1:04:16<5:00:54, 43.82s/it]\u001b[A"
     ]
    },
    {
     "name": "stdout",
     "output_type": "stream",
     "text": [
      "--------------------------------------------- Result 88 ---------------------------------------------\n",
      "[[Positive (96%)]] --> [[Negative (56%)]]\n",
      "\n",
      "物流很快，裤子 颜色很正，穿着也很舒服，朋友都说太值了，好的没得说。\n",
      "\n",
      "物留很块，裤字 颜涩恨蒸，穿着也很数服，朋友都说抬值了，好的没得说。\n",
      "\n",
      "\n"
     ]
    },
    {
     "name": "stderr",
     "output_type": "stream",
     "text": [
      "\n",
      "[Succeeded / Failed / Skipped / Total] 38 / 41 / 9 / 88:  18%|█▊        | 89/500 [1:04:17<4:56:54, 43.34s/it]\u001b[A\n",
      "[Succeeded / Failed / Skipped / Total] 38 / 41 / 10 / 89:  18%|█▊        | 89/500 [1:04:17<4:56:54, 43.34s/it]\u001b[A"
     ]
    },
    {
     "name": "stdout",
     "output_type": "stream",
     "text": [
      "--------------------------------------------- Result 89 ---------------------------------------------\n",
      "[[Positive (81%)]] --> [[[SKIPPED]]]\n",
      "\n",
      "收到裤子了。。。顺丰的速递的速度还是可以的。。。不满意的是的裤子脱色\n",
      "\n",
      "\n"
     ]
    },
    {
     "name": "stderr",
     "output_type": "stream",
     "text": [
      "\n",
      "[Succeeded / Failed / Skipped / Total] 38 / 41 / 10 / 89:  18%|█▊        | 90/500 [1:04:34<4:54:12, 43.06s/it]\u001b[A\n",
      "[Succeeded / Failed / Skipped / Total] 38 / 42 / 10 / 90:  18%|█▊        | 90/500 [1:04:34<4:54:12, 43.06s/it]\u001b[A"
     ]
    },
    {
     "name": "stdout",
     "output_type": "stream",
     "text": [
      "--------------------------------------------- Result 90 ---------------------------------------------\n",
      "[[Negative (89%)]] --> [[[FAILED]]]\n",
      "\n",
      "不想说太多，唉\n",
      "\n",
      "\n"
     ]
    },
    {
     "name": "stderr",
     "output_type": "stream",
     "text": [
      "\n",
      "[Succeeded / Failed / Skipped / Total] 38 / 42 / 10 / 90:  18%|█▊        | 91/500 [1:05:11<4:52:59, 42.98s/it]\u001b[A\n",
      "[Succeeded / Failed / Skipped / Total] 39 / 42 / 10 / 91:  18%|█▊        | 91/500 [1:05:11<4:52:59, 42.98s/it]\u001b[A"
     ]
    },
    {
     "name": "stdout",
     "output_type": "stream",
     "text": [
      "--------------------------------------------- Result 91 ---------------------------------------------\n",
      "[[Negative (97%)]] --> [[Positive (60%)]]\n",
      "\n",
      "简直差评，拍的时候有货，结果拍了之后隔了好几天才发货\n",
      "\n",
      "简至茶评，拍的时候有货，结果拍了之后隔了好即天才发货\n",
      "\n",
      "\n"
     ]
    },
    {
     "name": "stderr",
     "output_type": "stream",
     "text": [
      "\n",
      "[Succeeded / Failed / Skipped / Total] 39 / 42 / 10 / 91:  18%|█▊        | 92/500 [1:05:12<4:49:12, 42.53s/it]\u001b[A\n",
      "[Succeeded / Failed / Skipped / Total] 39 / 42 / 11 / 92:  18%|█▊        | 92/500 [1:05:12<4:49:12, 42.53s/it]\u001b[A"
     ]
    },
    {
     "name": "stdout",
     "output_type": "stream",
     "text": [
      "--------------------------------------------- Result 92 ---------------------------------------------\n",
      "[[Positive (72%)]] --> [[[SKIPPED]]]\n",
      "\n",
      "电池在使用初期待机时间还不错，但在使用两三个月之后待机时间就大大缩短，手机自身的反映速度也减慢！\n",
      "\n",
      "\n"
     ]
    },
    {
     "name": "stderr",
     "output_type": "stream",
     "text": [
      "\n",
      "[Succeeded / Failed / Skipped / Total] 39 / 42 / 11 / 92:  19%|█▊        | 93/500 [1:06:30<4:51:02, 42.90s/it]\u001b[A\n",
      "[Succeeded / Failed / Skipped / Total] 39 / 43 / 11 / 93:  19%|█▊        | 93/500 [1:06:30<4:51:02, 42.90s/it]\u001b[A"
     ]
    },
    {
     "name": "stdout",
     "output_type": "stream",
     "text": [
      "--------------------------------------------- Result 93 ---------------------------------------------\n",
      "[[Positive (87%)]] --> [[[FAILED]]]\n",
      "\n",
      "酒店还算干净，送早餐，就是酒店名字容易让人误解，周围没有湖，感觉还可以。\n",
      "\n",
      "\n"
     ]
    },
    {
     "name": "stderr",
     "output_type": "stream",
     "text": [
      "\n",
      "[Succeeded / Failed / Skipped / Total] 39 / 43 / 11 / 93:  19%|█▉        | 94/500 [1:07:34<4:51:51, 43.13s/it]\u001b[A\n",
      "[Succeeded / Failed / Skipped / Total] 40 / 43 / 11 / 94:  19%|█▉        | 94/500 [1:07:34<4:51:51, 43.13s/it]\u001b[A"
     ]
    },
    {
     "name": "stdout",
     "output_type": "stream",
     "text": [
      "--------------------------------------------- Result 94 ---------------------------------------------\n",
      "[[Negative (96%)]] --> [[Positive (89%)]]\n",
      "\n",
      "不太好，感觉不值，个头小，口感一般，比不上在菜市场买的5.5元的。我不会再买了。\n",
      "\n",
      "部太好，感觉部值，个头小，口感一般，比不伤在踩市场买的5.5元的。我不会再买了。\n",
      "\n",
      "\n"
     ]
    },
    {
     "name": "stderr",
     "output_type": "stream",
     "text": [
      "\n",
      "[Succeeded / Failed / Skipped / Total] 40 / 43 / 11 / 94:  19%|█▉        | 95/500 [1:08:28<4:51:55, 43.25s/it]\u001b[A\n",
      "[Succeeded / Failed / Skipped / Total] 40 / 44 / 11 / 95:  19%|█▉        | 95/500 [1:08:28<4:51:56, 43.25s/it]\u001b[A"
     ]
    },
    {
     "name": "stdout",
     "output_type": "stream",
     "text": [
      "--------------------------------------------- Result 95 ---------------------------------------------\n",
      "[[Positive (98%)]] --> [[[FAILED]]]\n",
      "\n",
      "非常漂亮，超值之选，intel的固态硬盘果然不是盖的，实测非常满意！\n",
      "\n",
      "\n"
     ]
    },
    {
     "name": "stderr",
     "output_type": "stream",
     "text": [
      "\n",
      "[Succeeded / Failed / Skipped / Total] 40 / 44 / 11 / 95:  19%|█▉        | 96/500 [1:08:42<4:49:09, 42.94s/it]\u001b[A\n",
      "[Succeeded / Failed / Skipped / Total] 41 / 44 / 11 / 96:  19%|█▉        | 96/500 [1:08:42<4:49:09, 42.94s/it]\u001b[A"
     ]
    },
    {
     "name": "stdout",
     "output_type": "stream",
     "text": [
      "--------------------------------------------- Result 96 ---------------------------------------------\n",
      "[[Negative (99%)]] --> [[Positive (71%)]]\n",
      "\n",
      "不好吃，不新鲜，不脆，跟狗一样\n",
      "\n",
      "部好吃，不新鲜，不脆，跟狗一样\n",
      "\n",
      "\n"
     ]
    },
    {
     "name": "stderr",
     "output_type": "stream",
     "text": [
      "\n",
      "[Succeeded / Failed / Skipped / Total] 41 / 44 / 11 / 96:  19%|█▉        | 97/500 [1:09:24<4:48:23, 42.94s/it]\u001b[A\n",
      "[Succeeded / Failed / Skipped / Total] 42 / 44 / 11 / 97:  19%|█▉        | 97/500 [1:09:24<4:48:23, 42.94s/it]\u001b[A"
     ]
    },
    {
     "name": "stdout",
     "output_type": "stream",
     "text": [
      "--------------------------------------------- Result 97 ---------------------------------------------\n",
      "[[Negative (97%)]] --> [[Positive (73%)]]\n",
      "\n",
      "翻盖折叠不灵活不能插耳塞\n",
      "\n",
      "翻盖折叠不令活不能差耳塞\n",
      "\n",
      "\n"
     ]
    },
    {
     "name": "stderr",
     "output_type": "stream",
     "text": [
      "\n",
      "[Succeeded / Failed / Skipped / Total] 42 / 44 / 11 / 97:  20%|█▉        | 98/500 [1:09:56<4:46:55, 42.82s/it]\u001b[A\n",
      "[Succeeded / Failed / Skipped / Total] 43 / 44 / 11 / 98:  20%|█▉        | 98/500 [1:09:56<4:46:55, 42.82s/it]\u001b[A"
     ]
    },
    {
     "name": "stdout",
     "output_type": "stream",
     "text": [
      "--------------------------------------------- Result 98 ---------------------------------------------\n",
      "[[Negative (96%)]] --> [[Positive (55%)]]\n",
      "\n",
      "不好玩感觉买它是种浪费如果没有认真看它,把它当小说一样看的热情还是不要买了不值得\n",
      "\n",
      "步好玩感绝买它是种浪费如果每有认真看它,把它当小说一样看的热情还是不要买了不值得\n",
      "\n",
      "\n"
     ]
    },
    {
     "name": "stderr",
     "output_type": "stream",
     "text": [
      "\n",
      "[Succeeded / Failed / Skipped / Total] 43 / 44 / 11 / 98:  20%|█▉        | 99/500 [1:10:45<4:46:37, 42.89s/it]\u001b[A\n",
      "[Succeeded / Failed / Skipped / Total] 43 / 45 / 11 / 99:  20%|█▉        | 99/500 [1:10:45<4:46:37, 42.89s/it]\u001b[A"
     ]
    },
    {
     "name": "stdout",
     "output_type": "stream",
     "text": [
      "--------------------------------------------- Result 99 ---------------------------------------------\n",
      "[[Positive (97%)]] --> [[[FAILED]]]\n",
      "\n",
      "整体感觉还不错，客服态度很好，这款很满意，价格也实在，满分\n",
      "\n",
      "\n"
     ]
    },
    {
     "name": "stderr",
     "output_type": "stream",
     "text": [
      "\n",
      "[Succeeded / Failed / Skipped / Total] 43 / 45 / 11 / 99:  20%|██        | 100/500 [1:11:46<4:47:05, 43.06s/it]\u001b[A\n",
      "[Succeeded / Failed / Skipped / Total] 43 / 46 / 11 / 100:  20%|██        | 100/500 [1:11:46<4:47:05, 43.06s/it]\u001b[A"
     ]
    },
    {
     "name": "stdout",
     "output_type": "stream",
     "text": [
      "--------------------------------------------- Result 100 ---------------------------------------------\n",
      "[[Negative (99%)]] --> [[[FAILED]]]\n",
      "\n",
      "买了三个华为手机，这次最差，以前的电池能用两三天，这次的居然一天都用不到，怀疑是别人退货的。差评\n",
      "\n",
      "\n"
     ]
    },
    {
     "name": "stderr",
     "output_type": "stream",
     "text": [
      "\n",
      "[Succeeded / Failed / Skipped / Total] 43 / 46 / 11 / 100:  20%|██        | 101/500 [1:12:16<4:45:32, 42.94s/it]\u001b[A\n",
      "[Succeeded / Failed / Skipped / Total] 44 / 46 / 11 / 101:  20%|██        | 101/500 [1:12:16<4:45:32, 42.94s/it]\u001b[A"
     ]
    },
    {
     "name": "stdout",
     "output_type": "stream",
     "text": [
      "--------------------------------------------- Result 101 ---------------------------------------------\n",
      "[[Positive (88%)]] --> [[Negative (90%)]]\n",
      "\n",
      "给个五星吧，很多游戏手机都带不起比如说球球大作战卡的要死，其他方面都还好，用电也很慢，可以的。\n",
      "\n",
      "给个无星吧，很多游戏手机都带不起比如说球球大作战卡的要死，其他方面都还号，用电也很慢，可以的。\n",
      "\n",
      "\n"
     ]
    },
    {
     "name": "stderr",
     "output_type": "stream",
     "text": [
      "\n",
      "[Succeeded / Failed / Skipped / Total] 44 / 46 / 11 / 101:  20%|██        | 102/500 [1:13:01<4:44:55, 42.95s/it]\u001b[A\n",
      "[Succeeded / Failed / Skipped / Total] 45 / 46 / 11 / 102:  20%|██        | 102/500 [1:13:01<4:44:55, 42.95s/it]\u001b[A"
     ]
    },
    {
     "name": "stdout",
     "output_type": "stream",
     "text": [
      "--------------------------------------------- Result 102 ---------------------------------------------\n",
      "[[Negative (99%)]] --> [[Positive (53%)]]\n",
      "\n",
      "很差，非常差，果子非常小，很生，总重也没4斤，味道酸\n",
      "\n",
      "很茶，非常差，果子非常笑，很省，总重也没4近，味道酸\n",
      "\n",
      "\n"
     ]
    },
    {
     "name": "stderr",
     "output_type": "stream",
     "text": [
      "\n",
      "[Succeeded / Failed / Skipped / Total] 45 / 46 / 11 / 102:  21%|██        | 103/500 [1:13:09<4:42:00, 42.62s/it]\u001b[A\n",
      "[Succeeded / Failed / Skipped / Total] 45 / 47 / 11 / 103:  21%|██        | 103/500 [1:13:09<4:42:00, 42.62s/it]\u001b[A"
     ]
    },
    {
     "name": "stdout",
     "output_type": "stream",
     "text": [
      "--------------------------------------------- Result 103 ---------------------------------------------\n",
      "[[Positive (97%)]] --> [[[FAILED]]]\n",
      "\n",
      "这是买的第二本，都是送给好朋友的~~~~\n",
      "\n",
      "\n"
     ]
    },
    {
     "name": "stderr",
     "output_type": "stream",
     "text": [
      "\n",
      "[Succeeded / Failed / Skipped / Total] 45 / 47 / 11 / 103:  21%|██        | 104/500 [1:14:18<4:42:58, 42.87s/it]\u001b[A\n",
      "[Succeeded / Failed / Skipped / Total] 46 / 47 / 11 / 104:  21%|██        | 104/500 [1:14:18<4:42:58, 42.87s/it]\u001b[A"
     ]
    },
    {
     "name": "stdout",
     "output_type": "stream",
     "text": [
      "--------------------------------------------- Result 104 ---------------------------------------------\n",
      "[[Negative (99%)]] --> [[Positive (73%)]]\n",
      "\n",
      "我拍的是宝蓝色的薄款。而你发的是黑色厚款。这叫我大热天的且不要热死的节奏。而且办事效率太低下的很。我本想退货的，想一想还是算了。给你个差评，你们不会怪我吧。\n",
      "\n",
      "我拍的是宝蓝色的薄宽。而你发的是黑瑟厚款。这叫我大热甜的且不要热死的节奏。而且办事笑率太第下的很。我奔想退货的，想一想还是算乐。给你个差评，你们不会怪我吧。\n",
      "\n",
      "\n"
     ]
    },
    {
     "name": "stderr",
     "output_type": "stream",
     "text": [
      "\n",
      "[Succeeded / Failed / Skipped / Total] 46 / 47 / 11 / 104:  21%|██        | 105/500 [1:15:08<4:42:38, 42.93s/it]\u001b[A\n",
      "[Succeeded / Failed / Skipped / Total] 47 / 47 / 11 / 105:  21%|██        | 105/500 [1:15:08<4:42:38, 42.93s/it]\u001b[A"
     ]
    },
    {
     "name": "stdout",
     "output_type": "stream",
     "text": [
      "--------------------------------------------- Result 105 ---------------------------------------------\n",
      "[[Negative (96%)]] --> [[Positive (59%)]]\n",
      "\n",
      "规格达不到直经只有6.5公分，一半达不到。\n",
      "\n",
      "规格达步到直精只有6.5公分，一版达不倒。\n",
      "\n",
      "\n"
     ]
    },
    {
     "name": "stderr",
     "output_type": "stream",
     "text": [
      "\n",
      "[Succeeded / Failed / Skipped / Total] 47 / 47 / 11 / 105:  21%|██        | 106/500 [1:15:39<4:41:12, 42.82s/it]\u001b[A\n",
      "[Succeeded / Failed / Skipped / Total] 48 / 47 / 11 / 106:  21%|██        | 106/500 [1:15:39<4:41:12, 42.82s/it]\u001b[A"
     ]
    },
    {
     "name": "stdout",
     "output_type": "stream",
     "text": [
      "--------------------------------------------- Result 106 ---------------------------------------------\n",
      "[[Positive (89%)]] --> [[Negative (63%)]]\n",
      "\n",
      "个头均匀，包装很结实，比外面小点买的档次高\n",
      "\n",
      "个头均晕，包装很结时，比外面小点卖的挡次高\n",
      "\n",
      "\n"
     ]
    },
    {
     "name": "stderr",
     "output_type": "stream",
     "text": [
      "\n",
      "[Succeeded / Failed / Skipped / Total] 48 / 47 / 11 / 106:  21%|██▏       | 107/500 [1:16:02<4:39:16, 42.64s/it]\u001b[A\n",
      "[Succeeded / Failed / Skipped / Total] 49 / 47 / 11 / 107:  21%|██▏       | 107/500 [1:16:02<4:39:16, 42.64s/it]\u001b[A"
     ]
    },
    {
     "name": "stdout",
     "output_type": "stream",
     "text": [
      "--------------------------------------------- Result 107 ---------------------------------------------\n",
      "[[Positive (93%)]] --> [[Negative (89%)]]\n",
      "\n",
      "下午四点多下的单，隔壁省第二天中午就收件了！还不到24小时。赞一个！\n",
      "\n",
      "下午四点多下的单，隔壁省第二天中午就收件了！还不到24小时。咱一个！\n",
      "\n",
      "\n"
     ]
    },
    {
     "name": "stderr",
     "output_type": "stream",
     "text": [
      "\n",
      "[Succeeded / Failed / Skipped / Total] 49 / 47 / 11 / 107:  22%|██▏       | 108/500 [1:16:34<4:37:55, 42.54s/it]\u001b[A\n",
      "[Succeeded / Failed / Skipped / Total] 50 / 47 / 11 / 108:  22%|██▏       | 108/500 [1:16:34<4:37:55, 42.54s/it]\u001b[A"
     ]
    },
    {
     "name": "stdout",
     "output_type": "stream",
     "text": [
      "--------------------------------------------- Result 108 ---------------------------------------------\n",
      "[[Positive (78%)]] --> [[Negative (57%)]]\n",
      "\n",
      "总体来说还是不错的，就是酒店大堂设在商场里面给人感觉并不是很好，其他条件都尚可\n",
      "\n",
      "总题来说还是不搓的，就是酒店大堂设在商唱里面给人感觉并不是很好，其他条件都尚可\n",
      "\n",
      "\n"
     ]
    },
    {
     "name": "stderr",
     "output_type": "stream",
     "text": [
      "\n",
      "[Succeeded / Failed / Skipped / Total] 50 / 47 / 11 / 108:  22%|██▏       | 109/500 [1:17:17<4:37:17, 42.55s/it]\u001b[A\n",
      "[Succeeded / Failed / Skipped / Total] 50 / 48 / 11 / 109:  22%|██▏       | 109/500 [1:17:17<4:37:17, 42.55s/it]\u001b[A"
     ]
    },
    {
     "name": "stdout",
     "output_type": "stream",
     "text": [
      "--------------------------------------------- Result 109 ---------------------------------------------\n",
      "[[Negative (99%)]] --> [[[FAILED]]]\n",
      "\n",
      "垃圾垃圾，小的可怕，和小女人拳头大小，别上当了\n",
      "\n",
      "\n"
     ]
    },
    {
     "name": "stderr",
     "output_type": "stream",
     "text": [
      "\n",
      "[Succeeded / Failed / Skipped / Total] 50 / 48 / 11 / 109:  22%|██▏       | 110/500 [1:18:26<4:38:05, 42.78s/it]\u001b[A\n",
      "[Succeeded / Failed / Skipped / Total] 51 / 48 / 11 / 110:  22%|██▏       | 110/500 [1:18:26<4:38:05, 42.78s/it]\u001b[A"
     ]
    },
    {
     "name": "stdout",
     "output_type": "stream",
     "text": [
      "--------------------------------------------- Result 110 ---------------------------------------------\n",
      "[[Negative (99%)]] --> [[Positive (91%)]]\n",
      "\n",
      "没有中文字幕，而且也没有中英双语。更气愤的是，有3张是米老鼠！！\n",
      "\n",
      "美有中文字幕，而且也美有中硬双语。更气份的是，有3张是米老鼠！！\n",
      "\n",
      "\n"
     ]
    },
    {
     "name": "stderr",
     "output_type": "stream",
     "text": [
      "\n",
      "[Succeeded / Failed / Skipped / Total] 51 / 48 / 11 / 110:  22%|██▏       | 111/500 [1:21:16<4:44:50, 43.94s/it]\u001b[A\n",
      "[Succeeded / Failed / Skipped / Total] 52 / 48 / 11 / 111:  22%|██▏       | 111/500 [1:21:16<4:44:50, 43.94s/it]\u001b[A"
     ]
    },
    {
     "name": "stdout",
     "output_type": "stream",
     "text": [
      "--------------------------------------------- Result 111 ---------------------------------------------\n",
      "[[Positive (98%)]] --> [[Negative (53%)]]\n",
      "\n",
      "这次去泉州有三个国外客人一起同行,还是入住了泉酒. 大堂有水仙花装饰,有一股清香.环境很好.以390元的价格入住,超值. 客人称赞酒店很不错,我想这是每个入住客人的同感.\n",
      "\n",
      "这次去泉周有三个国歪可人一气痛性,还是如住了泉就. 大糖有水线花装饰,有已股清香.环境很好.以390原的价格入主,超值. 课人称赞酒点很步错,我想这是没个入煮可人的痛感.\n",
      "\n",
      "\n"
     ]
    },
    {
     "name": "stderr",
     "output_type": "stream",
     "text": [
      "\n",
      "[Succeeded / Failed / Skipped / Total] 52 / 48 / 11 / 111:  22%|██▏       | 112/500 [1:21:31<4:42:25, 43.67s/it]\u001b[A\n",
      "[Succeeded / Failed / Skipped / Total] 53 / 48 / 11 / 112:  22%|██▏       | 112/500 [1:21:31<4:42:25, 43.67s/it]\u001b[A"
     ]
    },
    {
     "name": "stdout",
     "output_type": "stream",
     "text": [
      "--------------------------------------------- Result 112 ---------------------------------------------\n",
      "[[Positive (77%)]] --> [[Negative (57%)]]\n",
      "\n",
      "能打电话 能盖半个脸 音质超乎想象\n",
      "\n",
      "能打电话 能盖半个脸 音质超胡想象\n",
      "\n",
      "\n"
     ]
    },
    {
     "name": "stderr",
     "output_type": "stream",
     "text": [
      "\n",
      "[Succeeded / Failed / Skipped / Total] 53 / 48 / 11 / 112:  23%|██▎       | 113/500 [1:21:55<4:40:32, 43.50s/it]\u001b[A\n",
      "[Succeeded / Failed / Skipped / Total] 54 / 48 / 11 / 113:  23%|██▎       | 113/500 [1:21:55<4:40:32, 43.50s/it]\u001b[A"
     ]
    },
    {
     "name": "stdout",
     "output_type": "stream",
     "text": [
      "--------------------------------------------- Result 113 ---------------------------------------------\n",
      "[[Positive (57%)]] --> [[Negative (88%)]]\n",
      "\n",
      "酒店外部环境很不错，感觉很静谧，房间内部装修尚可，但房间隔音不好，屋内面积有些拥挤。\n",
      "\n",
      "酒店外部环境很不搓，感觉很静谧，房间内部装修尚可，但房间隔音不好，屋内面积有些拥挤。\n",
      "\n",
      "\n"
     ]
    },
    {
     "name": "stderr",
     "output_type": "stream",
     "text": [
      "\n",
      "[Succeeded / Failed / Skipped / Total] 54 / 48 / 11 / 113:  23%|██▎       | 114/500 [1:22:27<4:39:11, 43.40s/it]\u001b[A\n",
      "[Succeeded / Failed / Skipped / Total] 55 / 48 / 11 / 114:  23%|██▎       | 114/500 [1:22:27<4:39:11, 43.40s/it]\u001b[A"
     ]
    },
    {
     "name": "stdout",
     "output_type": "stream",
     "text": [
      "--------------------------------------------- Result 114 ---------------------------------------------\n",
      "[[Negative (90%)]] --> [[Positive (59%)]]\n",
      "\n",
      "这个机器拖影比较严重 不值得够买 还是帮朋友买的 他不怎么介意 就不退了。\n",
      "\n",
      "这个机器拖影比较演重 不只得够买 还是棒朋友买的 他不怎么介意 就不退了。\n",
      "\n",
      "\n"
     ]
    },
    {
     "name": "stderr",
     "output_type": "stream",
     "text": [
      "\n",
      "[Succeeded / Failed / Skipped / Total] 55 / 48 / 11 / 114:  23%|██▎       | 115/500 [1:24:06<4:41:36, 43.89s/it]\u001b[A\n",
      "[Succeeded / Failed / Skipped / Total] 56 / 48 / 11 / 115:  23%|██▎       | 115/500 [1:24:07<4:41:36, 43.89s/it]\u001b[A"
     ]
    },
    {
     "name": "stdout",
     "output_type": "stream",
     "text": [
      "--------------------------------------------- Result 115 ---------------------------------------------\n",
      "[[Negative (98%)]] --> [[Positive (58%)]]\n",
      "\n",
      "电池后该处有一处卡扣没有卡进去，被我使劲按进去了。 本本扣盖后，扣得不是非常齐，从侧面看右边悬空，不知是上板不平，还是下板。\n",
      "\n",
      "电持后盖处有以处卡抠美有卡进取，被我使精按进去了。 本奔扣盖后，扣得不是非常齐，从侧棉砍右边悬控，不至是上板不平，还是下板。\n",
      "\n",
      "\n"
     ]
    },
    {
     "name": "stderr",
     "output_type": "stream",
     "text": [
      "\n",
      "[Succeeded / Failed / Skipped / Total] 56 / 48 / 11 / 115:  23%|██▎       | 116/500 [1:25:10<4:41:58, 44.06s/it]\u001b[A\n",
      "[Succeeded / Failed / Skipped / Total] 56 / 49 / 11 / 116:  23%|██▎       | 116/500 [1:25:10<4:41:58, 44.06s/it]\u001b[A"
     ]
    },
    {
     "name": "stdout",
     "output_type": "stream",
     "text": [
      "--------------------------------------------- Result 116 ---------------------------------------------\n",
      "[[Positive (98%)]] --> [[[FAILED]]]\n",
      "\n",
      "第一次在网上买水果，感觉好！送货快！包装好！品质不错！\n",
      "\n",
      "\n"
     ]
    },
    {
     "name": "stderr",
     "output_type": "stream",
     "text": [
      "\n",
      "[Succeeded / Failed / Skipped / Total] 56 / 49 / 11 / 116:  23%|██▎       | 117/500 [1:25:39<4:40:23, 43.93s/it]\u001b[A\n",
      "[Succeeded / Failed / Skipped / Total] 57 / 49 / 11 / 117:  23%|██▎       | 117/500 [1:25:39<4:40:23, 43.93s/it]\u001b[A"
     ]
    },
    {
     "name": "stdout",
     "output_type": "stream",
     "text": [
      "--------------------------------------------- Result 117 ---------------------------------------------\n",
      "[[Negative (98%)]] --> [[Positive (54%)]]\n",
      "\n",
      "包装不好，和买的沐浴露一起外漏了，不知道是不是使用过的发给我来\n",
      "\n",
      "包装部好，和买的沐浴露一起外漏了，不知道是部是使用过的发给我来\n",
      "\n",
      "\n"
     ]
    },
    {
     "name": "stderr",
     "output_type": "stream",
     "text": [
      "\n",
      "[Succeeded / Failed / Skipped / Total] 57 / 49 / 11 / 117:  24%|██▎       | 118/500 [1:26:42<4:40:42, 44.09s/it]\u001b[A\n",
      "[Succeeded / Failed / Skipped / Total] 58 / 49 / 11 / 118:  24%|██▎       | 118/500 [1:26:42<4:40:42, 44.09s/it]\u001b[A"
     ]
    },
    {
     "name": "stdout",
     "output_type": "stream",
     "text": [
      "--------------------------------------------- Result 118 ---------------------------------------------\n",
      "[[Positive (98%)]] --> [[Negative (62%)]]\n",
      "\n",
      "已经习惯在京东买买买了，东西有保证，快递放心！\n",
      "\n",
      "已竟习关在竟东埋买埋了，东洗有报蒸，快低放心！\n",
      "\n",
      "\n"
     ]
    },
    {
     "name": "stderr",
     "output_type": "stream",
     "text": [
      "\n",
      "[Succeeded / Failed / Skipped / Total] 58 / 49 / 11 / 118:  24%|██▍       | 119/500 [1:27:30<4:40:10, 44.12s/it]\u001b[A\n",
      "[Succeeded / Failed / Skipped / Total] 58 / 50 / 11 / 119:  24%|██▍       | 119/500 [1:27:30<4:40:10, 44.12s/it]\u001b[A"
     ]
    },
    {
     "name": "stdout",
     "output_type": "stream",
     "text": [
      "--------------------------------------------- Result 119 ---------------------------------------------\n",
      "[[Negative (99%)]] --> [[[FAILED]]]\n",
      "\n",
      "回国不喝奶 我就不明白为啥还有人买蒙牛=_= 还在卖蒙牛的人 只能说是自己找死了\n",
      "\n",
      "\n"
     ]
    },
    {
     "name": "stderr",
     "output_type": "stream",
     "text": [
      "\n",
      "[Succeeded / Failed / Skipped / Total] 58 / 50 / 11 / 119:  24%|██▍       | 120/500 [1:27:59<4:38:37, 43.99s/it]\u001b[A\n",
      "[Succeeded / Failed / Skipped / Total] 59 / 50 / 11 / 120:  24%|██▍       | 120/500 [1:27:59<4:38:37, 43.99s/it]\u001b[A"
     ]
    },
    {
     "name": "stdout",
     "output_type": "stream",
     "text": [
      "--------------------------------------------- Result 120 ---------------------------------------------\n",
      "[[Positive (94%)]] --> [[Negative (68%)]]\n",
      "\n",
      "我其实挺佩服蒙牛的，至少他们说了实话，就是那句“供给香港的商品是没有问题的”\n",
      "\n",
      "我其实挺赔服蒙牛的，至少他们说了实话，就是那句“供给香港的商品是美有问题的”\n",
      "\n",
      "\n"
     ]
    },
    {
     "name": "stderr",
     "output_type": "stream",
     "text": [
      "\n",
      "[Succeeded / Failed / Skipped / Total] 59 / 50 / 11 / 120:  24%|██▍       | 121/500 [1:28:48<4:38:09, 44.04s/it]\u001b[A\n",
      "[Succeeded / Failed / Skipped / Total] 60 / 50 / 11 / 121:  24%|██▍       | 121/500 [1:28:48<4:38:09, 44.04s/it]\u001b[A"
     ]
    },
    {
     "name": "stdout",
     "output_type": "stream",
     "text": [
      "--------------------------------------------- Result 121 ---------------------------------------------\n",
      "[[Negative (98%)]] --> [[Positive (50%)]]\n",
      "\n",
      "比较差的购物体验。上一次买的6X用的很流畅。这一次买的畅享6界面略模糊，上下滑动会重影。看一会眼睛很不舒服。也不知是运气比较差还是这一款都这样？后台有没有的给解释一下\n",
      "\n",
      "比较茶的购物体验。上一次买的6X用的很流畅。这一次买的畅享6界面略模糊，上下滑动会重影。看一会眼经很不舒服。也不知是运气比较差还是这一款都这样？后台有没有的给解释一下\n",
      "\n",
      "\n"
     ]
    },
    {
     "name": "stderr",
     "output_type": "stream",
     "text": [
      "\n",
      "[Succeeded / Failed / Skipped / Total] 60 / 50 / 11 / 121:  24%|██▍       | 122/500 [1:29:26<4:37:07, 43.99s/it]\u001b[A\n",
      "[Succeeded / Failed / Skipped / Total] 61 / 50 / 11 / 122:  24%|██▍       | 122/500 [1:29:26<4:37:07, 43.99s/it]\u001b[A"
     ]
    },
    {
     "name": "stdout",
     "output_type": "stream",
     "text": [
      "--------------------------------------------- Result 122 ---------------------------------------------\n",
      "[[Negative (97%)]] --> [[Positive (56%)]]\n",
      "\n",
      "快递刚过来试了下 合身，今天洗了下，M码变L码了，什么质量？黑心棉吗这是\n",
      "\n",
      "快递刚过來试了下 合身，今甜洗了下，M码变L码了，什么质量？嘿心棉吗这是\n",
      "\n",
      "\n"
     ]
    },
    {
     "name": "stderr",
     "output_type": "stream",
     "text": [
      "\n",
      "[Succeeded / Failed / Skipped / Total] 61 / 50 / 11 / 122:  25%|██▍       | 123/500 [1:30:11<4:36:26, 44.00s/it]\u001b[A\n",
      "[Succeeded / Failed / Skipped / Total] 61 / 51 / 11 / 123:  25%|██▍       | 123/500 [1:30:11<4:36:26, 44.00s/it]\u001b[A"
     ]
    },
    {
     "name": "stdout",
     "output_type": "stream",
     "text": [
      "--------------------------------------------- Result 123 ---------------------------------------------\n",
      "[[Negative (96%)]] --> [[[FAILED]]]\n",
      "\n",
      "快递刚刚送到家，商品就降价了，我是被骗了吗？\n",
      "\n",
      "\n"
     ]
    },
    {
     "name": "stderr",
     "output_type": "stream",
     "text": [
      "\n",
      "[Succeeded / Failed / Skipped / Total] 61 / 51 / 11 / 123:  25%|██▍       | 124/500 [1:30:27<4:34:18, 43.77s/it]\u001b[A\n",
      "[Succeeded / Failed / Skipped / Total] 62 / 51 / 11 / 124:  25%|██▍       | 124/500 [1:30:27<4:34:18, 43.77s/it]\u001b[A"
     ]
    },
    {
     "name": "stdout",
     "output_type": "stream",
     "text": [
      "--------------------------------------------- Result 124 ---------------------------------------------\n",
      "[[Negative (99%)]] --> [[Positive (71%)]]\n",
      "\n",
      "有的房间在地下是，酒店位置不好找。在小弄唐里。\n",
      "\n",
      "有的房间在地下是，酒店位置部好找。在小弄唐里。\n",
      "\n",
      "\n"
     ]
    },
    {
     "name": "stderr",
     "output_type": "stream",
     "text": [
      "\n",
      "[Succeeded / Failed / Skipped / Total] 62 / 51 / 11 / 124:  25%|██▌       | 125/500 [1:32:57<4:38:53, 44.62s/it]\u001b[A\n",
      "[Succeeded / Failed / Skipped / Total] 62 / 52 / 11 / 125:  25%|██▌       | 125/500 [1:32:57<4:38:53, 44.62s/it]\u001b[A"
     ]
    },
    {
     "name": "stdout",
     "output_type": "stream",
     "text": [
      "--------------------------------------------- Result 125 ---------------------------------------------\n",
      "[[Positive (95%)]] --> [[[FAILED]]]\n",
      "\n",
      "布料舒适，收到货之后就迫不及待打开看看，裤子不会有刺刺的感觉，很顺滑，哈哈，喜欢这种布料～斜纹的，也挺潮的～大方得体，适合工作时穿～不错不错???\n",
      "\n",
      "\n"
     ]
    },
    {
     "name": "stderr",
     "output_type": "stream",
     "text": [
      "\n",
      "[Succeeded / Failed / Skipped / Total] 62 / 52 / 11 / 125:  25%|██▌       | 126/500 [1:33:28<4:37:26, 44.51s/it]\u001b[A\n",
      "[Succeeded / Failed / Skipped / Total] 63 / 52 / 11 / 126:  25%|██▌       | 126/500 [1:33:28<4:37:26, 44.51s/it]\u001b[A"
     ]
    },
    {
     "name": "stdout",
     "output_type": "stream",
     "text": [
      "--------------------------------------------- Result 126 ---------------------------------------------\n",
      "[[Negative (98%)]] --> [[Positive (91%)]]\n",
      "\n",
      "不想说什么了，想买的自己看图片吧！一颗星我都闲给多了，没一个好看的，比超市特价苹果还丑！还是烂的多！还红富士！估计是没人要的次品，\n",
      "\n",
      "不想说什么了，想买的自己看图片吧！一颗星我都闲给多了，美一个好看的，比超市特价苹果还丑！还是蓝的多！还红富士！估计是没人要的次品，\n",
      "\n",
      "\n"
     ]
    },
    {
     "name": "stderr",
     "output_type": "stream",
     "text": [
      "\n",
      "[Succeeded / Failed / Skipped / Total] 63 / 52 / 11 / 126:  25%|██▌       | 127/500 [1:33:55<4:35:52, 44.38s/it]\u001b[A\n",
      "[Succeeded / Failed / Skipped / Total] 64 / 52 / 11 / 127:  25%|██▌       | 127/500 [1:33:55<4:35:52, 44.38s/it]\u001b[A"
     ]
    },
    {
     "name": "stdout",
     "output_type": "stream",
     "text": [
      "--------------------------------------------- Result 127 ---------------------------------------------\n",
      "[[Negative (60%)]] --> [[Positive (64%)]]\n",
      "\n",
      "1.指纹收集器。2.触摸板反应速度略低于单点触摸的机型。3.键盘手感需要时间适应。\n",
      "\n",
      "1.指纹收集器。2.触摸板反应速度略低于单点触摸的机型。3.键盘手感许要时间适应。\n",
      "\n",
      "\n"
     ]
    },
    {
     "name": "stderr",
     "output_type": "stream",
     "text": [
      "\n",
      "[Succeeded / Failed / Skipped / Total] 64 / 52 / 11 / 127:  26%|██▌       | 128/500 [1:33:57<4:33:02, 44.04s/it]\u001b[A\n",
      "[Succeeded / Failed / Skipped / Total] 64 / 52 / 12 / 128:  26%|██▌       | 128/500 [1:33:57<4:33:02, 44.04s/it]\u001b[A"
     ]
    },
    {
     "name": "stdout",
     "output_type": "stream",
     "text": [
      "--------------------------------------------- Result 128 ---------------------------------------------\n",
      "[[Positive (91%)]] --> [[[SKIPPED]]]\n",
      "\n",
      "好用 ，自己准备角阀和淋浴龙头，师傅来安装就收了40元，两根波纹管\n",
      "\n",
      "\n"
     ]
    },
    {
     "name": "stderr",
     "output_type": "stream",
     "text": [
      "\n",
      "[Succeeded / Failed / Skipped / Total] 64 / 52 / 12 / 128:  26%|██▌       | 129/500 [1:35:21<4:34:15, 44.36s/it]\u001b[A\n",
      "[Succeeded / Failed / Skipped / Total] 64 / 53 / 12 / 129:  26%|██▌       | 129/500 [1:35:21<4:34:16, 44.36s/it]\u001b[A"
     ]
    },
    {
     "name": "stdout",
     "output_type": "stream",
     "text": [
      "--------------------------------------------- Result 129 ---------------------------------------------\n",
      "[[Negative (99%)]] --> [[[FAILED]]]\n",
      "\n",
      "没有MP3播放器，也没有来电防火墙，连普通的功能也不具备，特别是待机时间短，短的令人害怕！\n",
      "\n",
      "\n"
     ]
    },
    {
     "name": "stderr",
     "output_type": "stream",
     "text": [
      "\n",
      "[Succeeded / Failed / Skipped / Total] 64 / 53 / 12 / 129:  26%|██▌       | 130/500 [1:36:02<4:33:22, 44.33s/it]\u001b[A\n",
      "[Succeeded / Failed / Skipped / Total] 64 / 54 / 12 / 130:  26%|██▌       | 130/500 [1:36:02<4:33:22, 44.33s/it]\u001b[A"
     ]
    },
    {
     "name": "stdout",
     "output_type": "stream",
     "text": [
      "--------------------------------------------- Result 130 ---------------------------------------------\n",
      "[[Positive (93%)]] --> [[[FAILED]]]\n",
      "\n",
      ".穿上很舒服..样式好看..颜色不错做工精致\n",
      "\n",
      "\n"
     ]
    },
    {
     "name": "stderr",
     "output_type": "stream",
     "text": [
      "\n",
      "[Succeeded / Failed / Skipped / Total] 64 / 54 / 12 / 130:  26%|██▌       | 131/500 [1:36:24<4:31:32, 44.15s/it]\u001b[A\n",
      "[Succeeded / Failed / Skipped / Total] 65 / 54 / 12 / 131:  26%|██▌       | 131/500 [1:36:24<4:31:32, 44.15s/it]\u001b[A"
     ]
    },
    {
     "name": "stdout",
     "output_type": "stream",
     "text": [
      "--------------------------------------------- Result 131 ---------------------------------------------\n",
      "[[Negative (96%)]] --> [[Positive (97%)]]\n",
      "\n",
      "不太如意！差别太大了！\n",
      "\n",
      "部太如意！差别太大乐！\n",
      "\n",
      "\n"
     ]
    },
    {
     "name": "stderr",
     "output_type": "stream",
     "text": [
      "\n",
      "[Succeeded / Failed / Skipped / Total] 65 / 54 / 12 / 131:  26%|██▋       | 132/500 [1:37:06<4:30:43, 44.14s/it]\u001b[A\n",
      "[Succeeded / Failed / Skipped / Total] 66 / 54 / 12 / 132:  26%|██▋       | 132/500 [1:37:06<4:30:43, 44.14s/it]\u001b[A"
     ]
    },
    {
     "name": "stdout",
     "output_type": "stream",
     "text": [
      "--------------------------------------------- Result 132 ---------------------------------------------\n",
      "[[Positive (97%)]] --> [[Negative (53%)]]\n",
      "\n",
      "6.18活动购买，活动大大的！现在家居用品基本京东啦\n",
      "\n",
      "6.18或动购买，或动大打的！现在假居用品基本京东啦\n",
      "\n",
      "\n"
     ]
    },
    {
     "name": "stderr",
     "output_type": "stream",
     "text": [
      "\n",
      "[Succeeded / Failed / Skipped / Total] 66 / 54 / 12 / 132:  27%|██▋       | 133/500 [1:37:18<4:28:31, 43.90s/it]\u001b[A\n",
      "[Succeeded / Failed / Skipped / Total] 66 / 55 / 12 / 133:  27%|██▋       | 133/500 [1:37:18<4:28:31, 43.90s/it]\u001b[A"
     ]
    },
    {
     "name": "stdout",
     "output_type": "stream",
     "text": [
      "--------------------------------------------- Result 133 ---------------------------------------------\n",
      "[[Negative (95%)]] --> [[[FAILED]]]\n",
      "\n",
      "很不给力....真的。。。\n",
      "\n",
      "\n"
     ]
    },
    {
     "name": "stderr",
     "output_type": "stream",
     "text": [
      "\n",
      "[Succeeded / Failed / Skipped / Total] 66 / 55 / 12 / 133:  27%|██▋       | 134/500 [1:37:48<4:27:09, 43.80s/it]\u001b[A\n",
      "[Succeeded / Failed / Skipped / Total] 67 / 55 / 12 / 134:  27%|██▋       | 134/500 [1:37:48<4:27:09, 43.80s/it]\u001b[A"
     ]
    },
    {
     "name": "stdout",
     "output_type": "stream",
     "text": [
      "--------------------------------------------- Result 134 ---------------------------------------------\n",
      "[[Negative (99%)]] --> [[Positive (90%)]]\n",
      "\n",
      "每个都有局部烂掉的，,真的是每个烂一片。\n",
      "\n",
      "每咯都有局部懒掉的，,阵的是美个烂一片。\n",
      "\n",
      "\n"
     ]
    },
    {
     "name": "stderr",
     "output_type": "stream",
     "text": [
      "\n",
      "[Succeeded / Failed / Skipped / Total] 67 / 55 / 12 / 134:  27%|██▋       | 135/500 [1:38:22<4:25:58, 43.72s/it]\u001b[A\n",
      "[Succeeded / Failed / Skipped / Total] 67 / 56 / 12 / 135:  27%|██▋       | 135/500 [1:38:22<4:25:58, 43.72s/it]\u001b[A"
     ]
    },
    {
     "name": "stdout",
     "output_type": "stream",
     "text": [
      "--------------------------------------------- Result 135 ---------------------------------------------\n",
      "[[Positive (98%)]] --> [[[FAILED]]]\n",
      "\n",
      "特别好，质量不错，画质清晰，高大上。\n",
      "\n",
      "\n"
     ]
    },
    {
     "name": "stderr",
     "output_type": "stream",
     "text": [
      "\n",
      "[Succeeded / Failed / Skipped / Total] 67 / 56 / 12 / 135:  27%|██▋       | 136/500 [1:39:40<4:26:47, 43.98s/it]\u001b[A\n",
      "[Succeeded / Failed / Skipped / Total] 67 / 57 / 12 / 136:  27%|██▋       | 136/500 [1:39:40<4:26:47, 43.98s/it]\u001b[A"
     ]
    },
    {
     "name": "stdout",
     "output_type": "stream",
     "text": [
      "--------------------------------------------- Result 136 ---------------------------------------------\n",
      "[[Negative (99%)]] --> [[[FAILED]]]\n",
      "\n",
      "买来后2个月就坏了拿去修，修好后待机时间超短，现在又添了毛病，自动关机，质量太差了，给中国手机丢人\n",
      "\n",
      "\n"
     ]
    },
    {
     "name": "stderr",
     "output_type": "stream",
     "text": [
      "\n",
      "[Succeeded / Failed / Skipped / Total] 67 / 57 / 12 / 136:  27%|██▋       | 137/500 [1:39:57<4:24:50, 43.78s/it]\u001b[A\n",
      "[Succeeded / Failed / Skipped / Total] 68 / 57 / 12 / 137:  27%|██▋       | 137/500 [1:39:57<4:24:50, 43.78s/it]\u001b[A"
     ]
    },
    {
     "name": "stdout",
     "output_type": "stream",
     "text": [
      "--------------------------------------------- Result 137 ---------------------------------------------\n",
      "[[Negative (99%)]] --> [[Positive (62%)]]\n",
      "\n",
      "买了无数次京东自营，回回次日到，这次三天后到货烂了七个！\n",
      "\n",
      "买了无数次京东自营，回回次日到，这次三天后到货蓝了七个！\n",
      "\n",
      "\n"
     ]
    },
    {
     "name": "stderr",
     "output_type": "stream",
     "text": [
      "\n",
      "[Succeeded / Failed / Skipped / Total] 68 / 57 / 12 / 137:  28%|██▊       | 138/500 [1:42:13<4:28:09, 44.45s/it]\u001b[A\n",
      "[Succeeded / Failed / Skipped / Total] 69 / 57 / 12 / 138:  28%|██▊       | 138/500 [1:42:13<4:28:09, 44.45s/it]\u001b[A"
     ]
    },
    {
     "name": "stdout",
     "output_type": "stream",
     "text": [
      "--------------------------------------------- Result 138 ---------------------------------------------\n",
      "[[Negative (94%)]] --> [[Positive (55%)]]\n",
      "\n",
      "驱动程序不完备，尤其是硬盘的AHCI无法打开，后来用IBM的驱动解决的问题。 声卡需要装两次驱动在能完成安装，第二次需要对应显卡（HDMI）再装一次驱动程序。\n",
      "\n",
      "驱动程序不玩备，由其是赢盘的AHCI五法大开，后來用IBM的取动解决的问题。 声卡需要装辆此驱动在能玩成按装，第二次许要对赢线卡（HDMI）在装一此驱懂程序。\n",
      "\n",
      "\n"
     ]
    },
    {
     "name": "stderr",
     "output_type": "stream",
     "text": [
      "\n",
      "[Succeeded / Failed / Skipped / Total] 69 / 57 / 12 / 138:  28%|██▊       | 139/500 [1:42:24<4:25:57, 44.20s/it]\u001b[A\n",
      "[Succeeded / Failed / Skipped / Total] 70 / 57 / 12 / 139:  28%|██▊       | 139/500 [1:42:24<4:25:57, 44.20s/it]\u001b[A"
     ]
    },
    {
     "name": "stdout",
     "output_type": "stream",
     "text": [
      "--------------------------------------------- Result 139 ---------------------------------------------\n",
      "[[Negative (92%)]] --> [[Positive (97%)]]\n",
      "\n",
      "很差 尤其服务\n",
      "\n",
      "很茶 尤其服务\n",
      "\n",
      "\n"
     ]
    },
    {
     "name": "stderr",
     "output_type": "stream",
     "text": [
      "\n",
      "[Succeeded / Failed / Skipped / Total] 70 / 57 / 12 / 139:  28%|██▊       | 140/500 [1:43:12<4:25:22, 44.23s/it]\u001b[A\n",
      "[Succeeded / Failed / Skipped / Total] 70 / 58 / 12 / 140:  28%|██▊       | 140/500 [1:43:12<4:25:22, 44.23s/it]\u001b[A"
     ]
    },
    {
     "name": "stdout",
     "output_type": "stream",
     "text": [
      "--------------------------------------------- Result 140 ---------------------------------------------\n",
      "[[Negative (99%)]] --> [[[FAILED]]]\n",
      "\n",
      "前面买，后面跌价，不快活，想骂人……贴膜都不送个！\n",
      "\n",
      "\n"
     ]
    },
    {
     "name": "stderr",
     "output_type": "stream",
     "text": [
      "\n",
      "[Succeeded / Failed / Skipped / Total] 70 / 58 / 12 / 140:  28%|██▊       | 141/500 [1:43:31<4:23:35, 44.05s/it]\u001b[A\n",
      "[Succeeded / Failed / Skipped / Total] 71 / 58 / 12 / 141:  28%|██▊       | 141/500 [1:43:31<4:23:35, 44.05s/it]\u001b[A"
     ]
    },
    {
     "name": "stdout",
     "output_type": "stream",
     "text": [
      "--------------------------------------------- Result 141 ---------------------------------------------\n",
      "[[Negative (95%)]] --> [[Positive (63%)]]\n",
      "\n",
      "不好，苹果太小了，快递速度慢四天才到货\n",
      "\n",
      "部好，苹过太小了，快递速度慢四天才到货\n",
      "\n",
      "\n"
     ]
    },
    {
     "name": "stderr",
     "output_type": "stream",
     "text": [
      "\n",
      "[Succeeded / Failed / Skipped / Total] 71 / 58 / 12 / 141:  28%|██▊       | 142/500 [1:43:59<4:22:11, 43.94s/it]\u001b[A\n",
      "[Succeeded / Failed / Skipped / Total] 72 / 58 / 12 / 142:  28%|██▊       | 142/500 [1:43:59<4:22:11, 43.94s/it]\u001b[A"
     ]
    },
    {
     "name": "stdout",
     "output_type": "stream",
     "text": [
      "--------------------------------------------- Result 142 ---------------------------------------------\n",
      "[[Positive (92%)]] --> [[Negative (61%)]]\n",
      "\n",
      "除了那宽得不要不要的黑边，基本挺完美，618花988买的，性价比比现在的M3高，还有就是华为的原装保护套只有半边！\n",
      "\n",
      "除了那宽得不要不要的黑边，基本挺完没，618花988买的，性价比比现在的M3高，还有就是华为的原装保护套只有半边！\n",
      "\n",
      "\n"
     ]
    },
    {
     "name": "stderr",
     "output_type": "stream",
     "text": [
      "\n",
      "[Succeeded / Failed / Skipped / Total] 72 / 58 / 12 / 142:  29%|██▊       | 143/500 [1:44:30<4:20:53, 43.85s/it]\u001b[A\n",
      "[Succeeded / Failed / Skipped / Total] 73 / 58 / 12 / 143:  29%|██▊       | 143/500 [1:44:30<4:20:53, 43.85s/it]\u001b[A"
     ]
    },
    {
     "name": "stdout",
     "output_type": "stream",
     "text": [
      "--------------------------------------------- Result 143 ---------------------------------------------\n",
      "[[Positive (90%)]] --> [[Negative (52%)]]\n",
      "\n",
      "苹果中等大小可以选择的。我买的是中等大小的‘吃过那么顿苹果，就数这个最好吃了\n",
      "\n",
      "苹果中等大小可以选则的。我埋的是中等大萧的‘池过那么顿苹果，就数这个最好吃了\n",
      "\n",
      "\n"
     ]
    },
    {
     "name": "stderr",
     "output_type": "stream",
     "text": [
      "\n",
      "[Succeeded / Failed / Skipped / Total] 73 / 58 / 12 / 143:  29%|██▉       | 144/500 [1:45:40<4:21:15, 44.03s/it]\u001b[A\n",
      "[Succeeded / Failed / Skipped / Total] 74 / 58 / 12 / 144:  29%|██▉       | 144/500 [1:45:40<4:21:15, 44.03s/it]\u001b[A"
     ]
    },
    {
     "name": "stdout",
     "output_type": "stream",
     "text": [
      "--------------------------------------------- Result 144 ---------------------------------------------\n",
      "[[Positive (98%)]] --> [[Negative (50%)]]\n",
      "\n",
      "又甜又脆！80多岁老太太最爱吃的苹果，买过多少箱都记不清了。每天一苹果医生远离我！老太太每天都吃确实身体不错，天天外出散步精神状态很棒！80多岁都懂得买生鲜上京东买的好吃?！\n",
      "\n",
      "又填又催！80多岁老太太最爱吃的苹果，买过多少箱都记不清了。每天一苹果医生远离我！佬太太每天都吃确实身题不错，天天外出散步精神状态很榜！80躲岁都懂得买生鲜上京东买的好吃?！\n",
      "\n",
      "\n"
     ]
    },
    {
     "name": "stderr",
     "output_type": "stream",
     "text": [
      "\n",
      "[Succeeded / Failed / Skipped / Total] 74 / 58 / 12 / 144:  29%|██▉       | 145/500 [1:47:15<4:22:34, 44.38s/it]\u001b[A\n",
      "[Succeeded / Failed / Skipped / Total] 74 / 59 / 12 / 145:  29%|██▉       | 145/500 [1:47:15<4:22:34, 44.38s/it]\u001b[A"
     ]
    },
    {
     "name": "stdout",
     "output_type": "stream",
     "text": [
      "--------------------------------------------- Result 145 ---------------------------------------------\n",
      "[[Negative (99%)]] --> [[[FAILED]]]\n",
      "\n",
      "房间破旧，电视无法正常观看，卫生间连厕纸都不给准备，还要自备。空调没有遥控器，就是个摆设，晚上要穿衣服睡觉。服务质量很差！\n",
      "\n",
      "\n"
     ]
    },
    {
     "name": "stderr",
     "output_type": "stream",
     "text": [
      "\n",
      "[Succeeded / Failed / Skipped / Total] 74 / 59 / 12 / 145:  29%|██▉       | 146/500 [1:48:35<4:23:17, 44.63s/it]\u001b[A\n",
      "[Succeeded / Failed / Skipped / Total] 75 / 59 / 12 / 146:  29%|██▉       | 146/500 [1:48:35<4:23:17, 44.63s/it]\u001b[A"
     ]
    },
    {
     "name": "stdout",
     "output_type": "stream",
     "text": [
      "--------------------------------------------- Result 146 ---------------------------------------------\n",
      "[[Positive (90%)]] --> [[Negative (73%)]]\n",
      "\n",
      "房间总体环境不错，而且还有提供免费上网，现在入住价格还可以，不过现在可是大连的旅游淡季了．但是有一点：就是早餐不但没含房费里，而且３２元的价格也不低，但是内容实在是很简单．\n",
      "\n",
      "房见总题环境不搓，而且还有替供免费上网，线在入住价格还可以，不过现在可是大连的旅又淡季了．但是有一点：就是早惨不但没含房费里，而且３２元的价格也不低，但是内容实在是很简单．\n",
      "\n",
      "\n"
     ]
    },
    {
     "name": "stderr",
     "output_type": "stream",
     "text": [
      "\n",
      "[Succeeded / Failed / Skipped / Total] 75 / 59 / 12 / 146:  29%|██▉       | 147/500 [1:49:55<4:23:57, 44.86s/it]\u001b[A\n",
      "[Succeeded / Failed / Skipped / Total] 75 / 60 / 12 / 147:  29%|██▉       | 147/500 [1:49:55<4:23:57, 44.86s/it]\u001b[A"
     ]
    },
    {
     "name": "stdout",
     "output_type": "stream",
     "text": [
      "--------------------------------------------- Result 147 ---------------------------------------------\n",
      "[[Positive (97%)]] --> [[[FAILED]]]\n",
      "\n",
      "宝贝收到了，尺码很正啊，我很喜欢，穿上很舒服，也很漂亮，性价比也很高，整体的感觉不错，很喜欢，赞一个\n",
      "\n",
      "\n"
     ]
    },
    {
     "name": "stderr",
     "output_type": "stream",
     "text": [
      "\n",
      "[Succeeded / Failed / Skipped / Total] 75 / 60 / 12 / 147:  30%|██▉       | 148/500 [1:50:18<4:22:22, 44.72s/it]\u001b[A\n",
      "[Succeeded / Failed / Skipped / Total] 76 / 60 / 12 / 148:  30%|██▉       | 148/500 [1:50:18<4:22:22, 44.72s/it]\u001b[A"
     ]
    },
    {
     "name": "stdout",
     "output_type": "stream",
     "text": [
      "--------------------------------------------- Result 148 ---------------------------------------------\n",
      "[[Positive (94%)]] --> [[Negative (55%)]]\n",
      "\n",
      "刚收到快递的那天晚上就用它洗了头，感觉不错\n",
      "\n",
      "刚受到快递的那天晚上就用它洗了头，感觉不搓\n",
      "\n",
      "\n"
     ]
    },
    {
     "name": "stderr",
     "output_type": "stream",
     "text": [
      "\n",
      "[Succeeded / Failed / Skipped / Total] 76 / 60 / 12 / 148:  30%|██▉       | 149/500 [1:51:08<4:21:48, 44.75s/it]\u001b[A\n",
      "[Succeeded / Failed / Skipped / Total] 77 / 60 / 12 / 149:  30%|██▉       | 149/500 [1:51:08<4:21:48, 44.75s/it]\u001b[A"
     ]
    },
    {
     "name": "stdout",
     "output_type": "stream",
     "text": [
      "--------------------------------------------- Result 149 ---------------------------------------------\n",
      "[[Positive (98%)]] --> [[Negative (94%)]]\n",
      "\n",
      "真好吃，个儿也大，很划算，送货速度快，第二次买了。\n",
      "\n",
      "镇号吃，个儿也大，很花算，送货速毒块，第二词埋了。\n",
      "\n",
      "\n"
     ]
    },
    {
     "name": "stderr",
     "output_type": "stream",
     "text": [
      "\n",
      "[Succeeded / Failed / Skipped / Total] 77 / 60 / 12 / 149:  30%|███       | 150/500 [1:52:23<4:22:14, 44.96s/it]\u001b[A\n",
      "[Succeeded / Failed / Skipped / Total] 78 / 60 / 12 / 150:  30%|███       | 150/500 [1:52:23<4:22:14, 44.96s/it]\u001b[A"
     ]
    },
    {
     "name": "stdout",
     "output_type": "stream",
     "text": [
      "--------------------------------------------- Result 150 ---------------------------------------------\n",
      "[[Positive (96%)]] --> [[Negative (89%)]]\n",
      "\n",
      "裤子穿的挺合身 穿出去很有档次 下次再来买\n",
      "\n",
      "裤子穿的停喝身 穿出去恨有挡次 下次再来埋\n",
      "\n",
      "\n"
     ]
    },
    {
     "name": "stderr",
     "output_type": "stream",
     "text": [
      "\n",
      "[Succeeded / Failed / Skipped / Total] 78 / 60 / 12 / 150:  30%|███       | 151/500 [1:53:22<4:22:02, 45.05s/it]\u001b[A\n",
      "[Succeeded / Failed / Skipped / Total] 78 / 61 / 12 / 151:  30%|███       | 151/500 [1:53:22<4:22:02, 45.05s/it]\u001b[A"
     ]
    },
    {
     "name": "stdout",
     "output_type": "stream",
     "text": [
      "--------------------------------------------- Result 151 ---------------------------------------------\n",
      "[[Positive (98%)]] --> [[[FAILED]]]\n",
      "\n",
      "价格大众化，YY质量很好呀，款式、面料我都挺满意的．如果有需要我还会继续光顾你的店铺！\n",
      "\n",
      "\n"
     ]
    },
    {
     "name": "stderr",
     "output_type": "stream",
     "text": [
      "\n",
      "[Succeeded / Failed / Skipped / Total] 78 / 61 / 12 / 151:  30%|███       | 152/500 [1:54:57<4:23:10, 45.38s/it]\u001b[A\n",
      "[Succeeded / Failed / Skipped / Total] 79 / 61 / 12 / 152:  30%|███       | 152/500 [1:54:57<4:23:10, 45.38s/it]\u001b[A"
     ]
    },
    {
     "name": "stdout",
     "output_type": "stream",
     "text": [
      "--------------------------------------------- Result 152 ---------------------------------------------\n",
      "[[Negative (99%)]] --> [[Positive (51%)]]\n",
      "\n",
      "就是update补丁后不能设置密码，害我差点重做系统 声音有点差 有点贵 有点沉\n",
      "\n",
      "就是update补顶后部能设至迷码，海我查点中做系通 声因有店差 有店归 由点沉\n",
      "\n",
      "\n"
     ]
    },
    {
     "name": "stderr",
     "output_type": "stream",
     "text": [
      "\n",
      "[Succeeded / Failed / Skipped / Total] 79 / 61 / 12 / 152:  31%|███       | 153/500 [1:55:27<4:21:51, 45.28s/it]\u001b[A\n",
      "[Succeeded / Failed / Skipped / Total] 80 / 61 / 12 / 153:  31%|███       | 153/500 [1:55:27<4:21:51, 45.28s/it]\u001b[A"
     ]
    },
    {
     "name": "stdout",
     "output_type": "stream",
     "text": [
      "--------------------------------------------- Result 153 ---------------------------------------------\n",
      "[[Negative (66%)]] --> [[Positive (83%)]]\n",
      "\n",
      "平板收到，但只是正常包装，一点没加保护包装，心真够大的，这小东西这大冷天就这么运？！发票也没放里！！！\n",
      "\n",
      "平板收到，但只是正常包装，一点没加保护包装，心真够大的，这小东西这大冷天就这么运？！发票也美放里！！！\n",
      "\n",
      "\n"
     ]
    },
    {
     "name": "stderr",
     "output_type": "stream",
     "text": [
      "\n",
      "[Succeeded / Failed / Skipped / Total] 80 / 61 / 12 / 153:  31%|███       | 154/500 [1:55:59<4:20:35, 45.19s/it]\u001b[A\n",
      "[Succeeded / Failed / Skipped / Total] 81 / 61 / 12 / 154:  31%|███       | 154/500 [1:55:59<4:20:35, 45.19s/it]\u001b[A"
     ]
    },
    {
     "name": "stdout",
     "output_type": "stream",
     "text": [
      "--------------------------------------------- Result 154 ---------------------------------------------\n",
      "[[Negative (97%)]] --> [[Positive (76%)]]\n",
      "\n",
      "这个平板真不值，有失华为水准。\n",
      "\n",
      "这个平板真步值，有失花为水准。\n",
      "\n",
      "\n"
     ]
    },
    {
     "name": "stderr",
     "output_type": "stream",
     "text": [
      "\n",
      "[Succeeded / Failed / Skipped / Total] 81 / 61 / 12 / 154:  31%|███       | 155/500 [1:56:00<4:18:12, 44.91s/it]\u001b[A\n",
      "[Succeeded / Failed / Skipped / Total] 81 / 61 / 13 / 155:  31%|███       | 155/500 [1:56:00<4:18:12, 44.91s/it]\u001b[A"
     ]
    },
    {
     "name": "stdout",
     "output_type": "stream",
     "text": [
      "--------------------------------------------- Result 155 ---------------------------------------------\n",
      "[[Positive (63%)]] --> [[[SKIPPED]]]\n",
      "\n",
      "很一般很一般很一般\n",
      "\n",
      "\n"
     ]
    },
    {
     "name": "stderr",
     "output_type": "stream",
     "text": [
      "\n",
      "[Succeeded / Failed / Skipped / Total] 81 / 61 / 13 / 155:  31%|███       | 156/500 [1:56:11<4:16:13, 44.69s/it]\u001b[A\n",
      "[Succeeded / Failed / Skipped / Total] 82 / 61 / 13 / 156:  31%|███       | 156/500 [1:56:11<4:16:13, 44.69s/it]\u001b[A"
     ]
    },
    {
     "name": "stdout",
     "output_type": "stream",
     "text": [
      "--------------------------------------------- Result 156 ---------------------------------------------\n",
      "[[Negative (93%)]] --> [[Positive (73%)]]\n",
      "\n",
      "一般般，隔音效果不好\n",
      "\n",
      "一般般，隔音效果部好\n",
      "\n",
      "\n"
     ]
    },
    {
     "name": "stderr",
     "output_type": "stream",
     "text": [
      "\n",
      "[Succeeded / Failed / Skipped / Total] 82 / 61 / 13 / 156:  31%|███▏      | 157/500 [1:56:54<4:15:24, 44.68s/it]\u001b[A\n",
      "[Succeeded / Failed / Skipped / Total] 82 / 62 / 13 / 157:  31%|███▏      | 157/500 [1:56:54<4:15:24, 44.68s/it]\u001b[A"
     ]
    },
    {
     "name": "stdout",
     "output_type": "stream",
     "text": [
      "--------------------------------------------- Result 157 ---------------------------------------------\n",
      "[[Positive (94%)]] --> [[[FAILED]]]\n",
      "\n",
      "很不错，赠品多，划算，还没用，用了再追评，还是很满意。\n",
      "\n",
      "\n"
     ]
    },
    {
     "name": "stderr",
     "output_type": "stream",
     "text": [
      "\n",
      "[Succeeded / Failed / Skipped / Total] 82 / 62 / 13 / 157:  32%|███▏      | 158/500 [1:56:55<4:13:06, 44.40s/it]\u001b[A\n",
      "[Succeeded / Failed / Skipped / Total] 82 / 62 / 14 / 158:  32%|███▏      | 158/500 [1:56:55<4:13:06, 44.40s/it]\u001b[A"
     ]
    },
    {
     "name": "stdout",
     "output_type": "stream",
     "text": [
      "--------------------------------------------- Result 158 ---------------------------------------------\n",
      "[[Positive (82%)]] --> [[[SKIPPED]]]\n",
      "\n",
      "酒店服务态度还不错，就是感觉地点比较偏，周围没有什么吃饭的地方。早餐感觉也没有以前好了。\n",
      "\n",
      "\n"
     ]
    },
    {
     "name": "stderr",
     "output_type": "stream",
     "text": [
      "\n",
      "[Succeeded / Failed / Skipped / Total] 82 / 62 / 14 / 158:  32%|███▏      | 159/500 [1:56:57<4:10:49, 44.13s/it]\u001b[A\n",
      "[Succeeded / Failed / Skipped / Total] 82 / 62 / 15 / 159:  32%|███▏      | 159/500 [1:56:57<4:10:49, 44.13s/it]\u001b[A"
     ]
    },
    {
     "name": "stdout",
     "output_type": "stream",
     "text": [
      "--------------------------------------------- Result 159 ---------------------------------------------\n",
      "[[Negative (90%)]] --> [[[SKIPPED]]]\n",
      "\n",
      "实物有点夸大，不如以前买的750亳升的大，明显缩小了，不过赠送个小的，感觉不如上次买的好，有种上当的感觉，哎还是相信京东吧。\n",
      "\n",
      "\n"
     ]
    },
    {
     "name": "stderr",
     "output_type": "stream",
     "text": [
      "\n",
      "[Succeeded / Failed / Skipped / Total] 82 / 62 / 15 / 159:  32%|███▏      | 160/500 [1:58:02<4:10:50, 44.26s/it]\u001b[A\n",
      "[Succeeded / Failed / Skipped / Total] 82 / 63 / 15 / 160:  32%|███▏      | 160/500 [1:58:02<4:10:50, 44.26s/it]\u001b[A"
     ]
    },
    {
     "name": "stdout",
     "output_type": "stream",
     "text": [
      "--------------------------------------------- Result 160 ---------------------------------------------\n",
      "[[Negative (98%)]] --> [[[FAILED]]]\n",
      "\n",
      "酒店太旧,不象4星,房间隔音太差,隔壁打了一晚麻将,太吵了\n",
      "\n",
      "\n"
     ]
    },
    {
     "name": "stderr",
     "output_type": "stream",
     "text": [
      "\n",
      "[Succeeded / Failed / Skipped / Total] 82 / 63 / 15 / 160:  32%|███▏      | 161/500 [1:59:59<4:12:39, 44.72s/it]\u001b[A\n",
      "[Succeeded / Failed / Skipped / Total] 82 / 64 / 15 / 161:  32%|███▏      | 161/500 [1:59:59<4:12:39, 44.72s/it]\u001b[A"
     ]
    },
    {
     "name": "stdout",
     "output_type": "stream",
     "text": [
      "--------------------------------------------- Result 161 ---------------------------------------------\n",
      "[[Negative (99%)]] --> [[[FAILED]]]\n",
      "\n",
      "酒店的怪味根本无法忍受，设施也不方便，全然不是如家的风格，住了一晚就迫不及待地逃跑了，若不是酒店不肯退当天的钱，我连这一晚也决不会呆。\n",
      "\n",
      "\n"
     ]
    },
    {
     "name": "stderr",
     "output_type": "stream",
     "text": [
      "\n",
      "[Succeeded / Failed / Skipped / Total] 82 / 64 / 15 / 161:  32%|███▏      | 162/500 [2:01:13<4:12:56, 44.90s/it]\u001b[A\n",
      "[Succeeded / Failed / Skipped / Total] 83 / 64 / 15 / 162:  32%|███▏      | 162/500 [2:01:13<4:12:56, 44.90s/it]\u001b[A"
     ]
    },
    {
     "name": "stdout",
     "output_type": "stream",
     "text": [
      "--------------------------------------------- Result 162 ---------------------------------------------\n",
      "[[Positive (95%)]] --> [[Negative (75%)]]\n",
      "\n",
      "一直没时间评，不错，运行快，分辨率高，电池耐用，挺满意，好评。\n",
      "\n",
      "一直没时件评，步错，晕性筷，分辨率告，电吃奶永，停慢意，好评。\n",
      "\n",
      "\n"
     ]
    },
    {
     "name": "stderr",
     "output_type": "stream",
     "text": [
      "\n",
      "[Succeeded / Failed / Skipped / Total] 83 / 64 / 15 / 162:  33%|███▎      | 163/500 [2:01:58<4:12:10, 44.90s/it]\u001b[A\n",
      "[Succeeded / Failed / Skipped / Total] 84 / 64 / 15 / 163:  33%|███▎      | 163/500 [2:01:58<4:12:10, 44.90s/it]\u001b[A"
     ]
    },
    {
     "name": "stdout",
     "output_type": "stream",
     "text": [
      "--------------------------------------------- Result 163 ---------------------------------------------\n",
      "[[Positive (91%)]] --> [[Negative (53%)]]\n",
      "\n",
      "速度快 还不错 包装也还可以 就是不知道 里面为什么漏了 不过售后还不错\n",
      "\n",
      "素度快 还不搓 包装也还可以 就是不之道 里面为什么楼了 不过售后还不搓\n",
      "\n",
      "\n"
     ]
    },
    {
     "name": "stderr",
     "output_type": "stream",
     "text": [
      "\n",
      "[Succeeded / Failed / Skipped / Total] 84 / 64 / 15 / 163:  33%|███▎      | 164/500 [2:03:22<4:12:46, 45.14s/it]\u001b[A\n",
      "[Succeeded / Failed / Skipped / Total] 85 / 64 / 15 / 164:  33%|███▎      | 164/500 [2:03:22<4:12:46, 45.14s/it]\u001b[A"
     ]
    },
    {
     "name": "stdout",
     "output_type": "stream",
     "text": [
      "--------------------------------------------- Result 164 ---------------------------------------------\n",
      "[[Negative (98%)]] --> [[Positive (57%)]]\n",
      "\n",
      "送货方有一点 小问题，送货前只给我打过一次电话我没接到！竟然当天就不给我送货了~！！要不就能前5个做评价了。后来也不着急评价了\n",
      "\n",
      "送活方由一点 小问题，宋货前只给我打过一此电话我美接到！精然当甜就不给我松货了~！！要不就能钱5个做平价了。厚来也不着急评价了\n",
      "\n",
      "\n"
     ]
    },
    {
     "name": "stderr",
     "output_type": "stream",
     "text": [
      "\n",
      "[Succeeded / Failed / Skipped / Total] 85 / 64 / 15 / 164:  33%|███▎      | 165/500 [2:03:51<4:11:27, 45.04s/it]\u001b[A\n",
      "[Succeeded / Failed / Skipped / Total] 86 / 64 / 15 / 165:  33%|███▎      | 165/500 [2:03:51<4:11:27, 45.04s/it]\u001b[A"
     ]
    },
    {
     "name": "stdout",
     "output_type": "stream",
     "text": [
      "--------------------------------------------- Result 165 ---------------------------------------------\n",
      "[[Positive (99%)]] --> [[Negative (73%)]]\n",
      "\n",
      "水份多，味道甜，没有坏果，物流速度快；活动太给力了。\n",
      "\n",
      "水份多，味道天，没有坏果，物流速度快；或动太给离了。\n",
      "\n",
      "\n"
     ]
    },
    {
     "name": "stderr",
     "output_type": "stream",
     "text": [
      "\n",
      "[Succeeded / Failed / Skipped / Total] 86 / 64 / 15 / 165:  33%|███▎      | 166/500 [2:04:08<4:09:46, 44.87s/it]\u001b[A\n",
      "[Succeeded / Failed / Skipped / Total] 87 / 64 / 15 / 166:  33%|███▎      | 166/500 [2:04:08<4:09:46, 44.87s/it]\u001b[A"
     ]
    },
    {
     "name": "stdout",
     "output_type": "stream",
     "text": [
      "--------------------------------------------- Result 166 ---------------------------------------------\n",
      "[[Negative (98%)]] --> [[Positive (83%)]]\n",
      "\n",
      "就是本本上许多预留的接口让人看了太心酸了。 低配的本本，也不至于留下那么多伤口吧。\n",
      "\n",
      "就是本本上许多预留的接口让人看了太信酸了。 低配的本本，也不至于留下那么多伤口吧。\n",
      "\n",
      "\n"
     ]
    },
    {
     "name": "stderr",
     "output_type": "stream",
     "text": [
      "\n",
      "[Succeeded / Failed / Skipped / Total] 87 / 64 / 15 / 166:  33%|███▎      | 167/500 [2:04:43<4:08:41, 44.81s/it]\u001b[A\n",
      "[Succeeded / Failed / Skipped / Total] 88 / 64 / 15 / 167:  33%|███▎      | 167/500 [2:04:43<4:08:41, 44.81s/it]\u001b[A"
     ]
    },
    {
     "name": "stdout",
     "output_type": "stream",
     "text": [
      "--------------------------------------------- Result 167 ---------------------------------------------\n",
      "[[Negative (97%)]] --> [[Positive (58%)]]\n",
      "\n",
      "差评！说16个G!结果才8个G!我去问客服讲是正常的!请给我一个合理的解释\n",
      "\n",
      "茶评！说16个G!结果才8个G!我去吻客服将是正常的!请给我一个合理的接释\n",
      "\n",
      "\n"
     ]
    },
    {
     "name": "stderr",
     "output_type": "stream",
     "text": [
      "\n",
      "[Succeeded / Failed / Skipped / Total] 88 / 64 / 15 / 167:  34%|███▎      | 168/500 [2:06:05<4:09:10, 45.03s/it]\u001b[A\n",
      "[Succeeded / Failed / Skipped / Total] 89 / 64 / 15 / 168:  34%|███▎      | 168/500 [2:06:05<4:09:10, 45.03s/it]\u001b[A"
     ]
    },
    {
     "name": "stdout",
     "output_type": "stream",
     "text": [
      "--------------------------------------------- Result 168 ---------------------------------------------\n",
      "[[Positive (99%)]] --> [[Negative (55%)]]\n",
      "\n",
      "不错，昨天拍的，今天到了，价格实惠，孩子们又喜欢，不用常常跑超市了，点赞有京豆，必须的。\n",
      "\n",
      "不搓，昨天派的，今天到了，价格实会，嗨子们又戏患，不用唱常泡超市了，点攒有京豆，逼须的。\n",
      "\n",
      "\n"
     ]
    },
    {
     "name": "stderr",
     "output_type": "stream",
     "text": [
      "\n",
      "[Succeeded / Failed / Skipped / Total] 89 / 64 / 15 / 168:  34%|███▍      | 169/500 [2:06:41<4:08:08, 44.98s/it]\u001b[A\n",
      "[Succeeded / Failed / Skipped / Total] 89 / 65 / 15 / 169:  34%|███▍      | 169/500 [2:06:41<4:08:08, 44.98s/it]\u001b[A"
     ]
    },
    {
     "name": "stdout",
     "output_type": "stream",
     "text": [
      "--------------------------------------------- Result 169 ---------------------------------------------\n",
      "[[Negative (99%)]] --> [[[FAILED]]]\n",
      "\n",
      "房价不稳定，订价不合理。\n",
      "\n",
      "\n"
     ]
    },
    {
     "name": "stderr",
     "output_type": "stream",
     "text": [
      "\n",
      "[Succeeded / Failed / Skipped / Total] 89 / 65 / 15 / 169:  34%|███▍      | 170/500 [2:07:37<4:07:43, 45.04s/it]\u001b[A\n",
      "[Succeeded / Failed / Skipped / Total] 90 / 65 / 15 / 170:  34%|███▍      | 170/500 [2:07:37<4:07:43, 45.04s/it]\u001b[A"
     ]
    },
    {
     "name": "stdout",
     "output_type": "stream",
     "text": [
      "--------------------------------------------- Result 170 ---------------------------------------------\n",
      "[[Negative (97%)]] --> [[Positive (86%)]]\n",
      "\n",
      "配套的驱动光盘，质量太差，我的移动光驱认不出，到台机的光驱上读的也很吃力。盘片的质量不让人满意，还好，有网络可以去下载。不过华硕的支持网站，老是显示错误，真晕。\n",
      "\n",
      "配套的驱动光盘，质量太查，我的移动光驱认不出，到台机的光驱上读的也很吃力。盘片的质量部让人满意，还好，有网络可以去下载。不过华硕的支持网站，老是显示错误，镇晕。\n",
      "\n",
      "\n"
     ]
    },
    {
     "name": "stderr",
     "output_type": "stream",
     "text": [
      "\n",
      "[Succeeded / Failed / Skipped / Total] 90 / 65 / 15 / 170:  34%|███▍      | 171/500 [2:07:54<4:06:04, 44.88s/it]\u001b[A\n",
      "[Succeeded / Failed / Skipped / Total] 91 / 65 / 15 / 171:  34%|███▍      | 171/500 [2:07:54<4:06:04, 44.88s/it]\u001b[A"
     ]
    },
    {
     "name": "stdout",
     "output_type": "stream",
     "text": [
      "--------------------------------------------- Result 171 ---------------------------------------------\n",
      "[[Positive (97%)]] --> [[Negative (85%)]]\n",
      "\n",
      "好甜好碎呢，这是一次愉快的购物\n",
      "\n",
      "好天好碎呢，这是一次于快的购物\n",
      "\n",
      "\n"
     ]
    },
    {
     "name": "stderr",
     "output_type": "stream",
     "text": [
      "\n",
      "[Succeeded / Failed / Skipped / Total] 91 / 65 / 15 / 171:  34%|███▍      | 172/500 [2:09:16<4:06:32, 45.10s/it]\u001b[A\n",
      "[Succeeded / Failed / Skipped / Total] 92 / 65 / 15 / 172:  34%|███▍      | 172/500 [2:09:16<4:06:32, 45.10s/it]\u001b[A"
     ]
    },
    {
     "name": "stdout",
     "output_type": "stream",
     "text": [
      "--------------------------------------------- Result 172 ---------------------------------------------\n",
      "[[Negative (99%)]] --> [[Positive (68%)]]\n",
      "\n",
      "大床房的面积实在太小了！除了床和写字台就没有空间了，没有衣柜，床头柜也只有一个！和如家一样，但价格要贵100元，实在不值得！以后不会再住了！\n",
      "\n",
      "达床房的棉积使在太小了！除了床和写字台就美有空间了，美有衣贵，床头柜也只有一个！和如家一样，但价格要贵100原，实在不只得！以后不会再住了！\n",
      "\n",
      "\n"
     ]
    },
    {
     "name": "stderr",
     "output_type": "stream",
     "text": [
      "\n",
      "[Succeeded / Failed / Skipped / Total] 92 / 65 / 15 / 172:  35%|███▍      | 173/500 [2:10:10<4:06:03, 45.15s/it]\u001b[A\n",
      "[Succeeded / Failed / Skipped / Total] 93 / 65 / 15 / 173:  35%|███▍      | 173/500 [2:10:10<4:06:03, 45.15s/it]\u001b[A"
     ]
    },
    {
     "name": "stdout",
     "output_type": "stream",
     "text": [
      "--------------------------------------------- Result 173 ---------------------------------------------\n",
      "[[Negative (99%)]] --> [[Positive (94%)]]\n",
      "\n",
      "声音太小了，老是听不见啊。还有就是待机时间相当的短，大呼上当\n",
      "\n",
      "省音太笑了，捞是听不见啊。还有就是待机时间相当的端，大呼商当\n",
      "\n",
      "\n"
     ]
    },
    {
     "name": "stderr",
     "output_type": "stream",
     "text": [
      "\n",
      "[Succeeded / Failed / Skipped / Total] 93 / 65 / 15 / 173:  35%|███▍      | 174/500 [2:10:58<4:05:24, 45.17s/it]\u001b[A\n",
      "[Succeeded / Failed / Skipped / Total] 94 / 65 / 15 / 174:  35%|███▍      | 174/500 [2:10:58<4:05:24, 45.17s/it]\u001b[A"
     ]
    },
    {
     "name": "stdout",
     "output_type": "stream",
     "text": [
      "--------------------------------------------- Result 174 ---------------------------------------------\n",
      "[[Negative (90%)]] --> [[Positive (62%)]]\n",
      "\n",
      "很偏远，外面修路，很脏乱，房间还行，服务一般\n",
      "\n",
      "很偏元，外免修路，很臧乱，房件还行，服无一般\n",
      "\n",
      "\n"
     ]
    },
    {
     "name": "stderr",
     "output_type": "stream",
     "text": [
      "\n",
      "[Succeeded / Failed / Skipped / Total] 94 / 65 / 15 / 174:  35%|███▌      | 175/500 [2:11:21<4:03:57, 45.04s/it]\u001b[A\n",
      "[Succeeded / Failed / Skipped / Total] 95 / 65 / 15 / 175:  35%|███▌      | 175/500 [2:11:21<4:03:57, 45.04s/it]\u001b[A"
     ]
    },
    {
     "name": "stdout",
     "output_type": "stream",
     "text": [
      "--------------------------------------------- Result 175 ---------------------------------------------\n",
      "[[Negative (90%)]] --> [[Positive (88%)]]\n",
      "\n",
      "房间很大，早餐齐全，但房间卫生欠佳\n",
      "\n",
      "房间很大，早餐齐全，但房间卫生钱佳\n",
      "\n",
      "\n"
     ]
    },
    {
     "name": "stderr",
     "output_type": "stream",
     "text": [
      "\n",
      "[Succeeded / Failed / Skipped / Total] 95 / 65 / 15 / 175:  35%|███▌      | 176/500 [2:11:41<4:02:25, 44.89s/it]\u001b[A\n",
      "[Succeeded / Failed / Skipped / Total] 96 / 65 / 15 / 176:  35%|███▌      | 176/500 [2:11:41<4:02:25, 44.89s/it]\u001b[A"
     ]
    },
    {
     "name": "stdout",
     "output_type": "stream",
     "text": [
      "--------------------------------------------- Result 176 ---------------------------------------------\n",
      "[[Positive (96%)]] --> [[Negative (63%)]]\n",
      "\n",
      "都不错，就是不错，有十个字了吧！！看图\n",
      "\n",
      "都不错，就是部错，有十个子了吧！！看吐\n",
      "\n",
      "\n"
     ]
    },
    {
     "name": "stderr",
     "output_type": "stream",
     "text": [
      "\n",
      "[Succeeded / Failed / Skipped / Total] 96 / 65 / 15 / 176:  35%|███▌      | 177/500 [2:12:24<4:01:36, 44.88s/it]\u001b[A\n",
      "[Succeeded / Failed / Skipped / Total] 97 / 65 / 15 / 177:  35%|███▌      | 177/500 [2:12:24<4:01:36, 44.88s/it]\u001b[A"
     ]
    },
    {
     "name": "stdout",
     "output_type": "stream",
     "text": [
      "--------------------------------------------- Result 177 ---------------------------------------------\n",
      "[[Negative (98%)]] --> [[Positive (62%)]]\n",
      "\n",
      "看电影真的很不清晰，无语。一颗星给快递哥。\n",
      "\n",
      "看点影真得很不请晰，无鱼。一颗星给快递哥。\n",
      "\n",
      "\n"
     ]
    },
    {
     "name": "stderr",
     "output_type": "stream",
     "text": [
      "\n",
      "[Succeeded / Failed / Skipped / Total] 97 / 65 / 15 / 177:  36%|███▌      | 178/500 [2:12:48<4:00:14, 44.77s/it]\u001b[A\n",
      "[Succeeded / Failed / Skipped / Total] 98 / 65 / 15 / 178:  36%|███▌      | 178/500 [2:12:48<4:00:14, 44.77s/it]\u001b[A"
     ]
    },
    {
     "name": "stdout",
     "output_type": "stream",
     "text": [
      "--------------------------------------------- Result 178 ---------------------------------------------\n",
      "[[Negative (58%)]] --> [[Positive (85%)]]\n",
      "\n",
      "大黄屏客服还说啥最合理屏幕显示 第一次买华为 真是够了\n",
      "\n",
      "大皇屏客服还说啥最合理屏幕显示 第一次买华为 真是够了\n",
      "\n",
      "\n"
     ]
    },
    {
     "name": "stderr",
     "output_type": "stream",
     "text": [
      "\n",
      "[Succeeded / Failed / Skipped / Total] 98 / 65 / 15 / 178:  36%|███▌      | 179/500 [2:13:33<3:59:31, 44.77s/it]\u001b[A\n",
      "[Succeeded / Failed / Skipped / Total] 98 / 66 / 15 / 179:  36%|███▌      | 179/500 [2:13:33<3:59:31, 44.77s/it]\u001b[A"
     ]
    },
    {
     "name": "stdout",
     "output_type": "stream",
     "text": [
      "--------------------------------------------- Result 179 ---------------------------------------------\n",
      "[[Positive (93%)]] --> [[[FAILED]]]\n",
      "\n",
      "１．待机时间没的调２．拍照还可以３．外行设计非常酷\n",
      "\n",
      "\n"
     ]
    },
    {
     "name": "stderr",
     "output_type": "stream",
     "text": [
      "\n",
      "[Succeeded / Failed / Skipped / Total] 98 / 66 / 15 / 179:  36%|███▌      | 180/500 [2:14:40<3:59:24, 44.89s/it]\u001b[A\n",
      "[Succeeded / Failed / Skipped / Total] 99 / 66 / 15 / 180:  36%|███▌      | 180/500 [2:14:40<3:59:24, 44.89s/it]\u001b[A"
     ]
    },
    {
     "name": "stdout",
     "output_type": "stream",
     "text": [
      "--------------------------------------------- Result 180 ---------------------------------------------\n",
      "[[Positive (98%)]] --> [[Negative (54%)]]\n",
      "\n",
      "包装很结实！苹果很新鲜！味道也不错！好吃\n",
      "\n",
      "包状很结是！凭果很信鲜！未道也不搓！号吃\n",
      "\n",
      "\n"
     ]
    },
    {
     "name": "stderr",
     "output_type": "stream",
     "text": [
      "\n",
      "[Succeeded / Failed / Skipped / Total] 99 / 66 / 15 / 180:  36%|███▌      | 181/500 [2:14:41<3:57:23, 44.65s/it]\u001b[A\n",
      "[Succeeded / Failed / Skipped / Total] 99 / 66 / 16 / 181:  36%|███▌      | 181/500 [2:14:41<3:57:23, 44.65s/it]\u001b[A"
     ]
    },
    {
     "name": "stdout",
     "output_type": "stream",
     "text": [
      "--------------------------------------------- Result 181 ---------------------------------------------\n",
      "[[Negative (98%)]] --> [[[SKIPPED]]]\n",
      "\n",
      "入住酒店办理手续时让我们等了很久,因为没有房卡;而且我们的预定信息在酒店前台的电脑中查不到.客房内应有水果,酒店服务员半夜11点才送到,而且不敲门就进入客房,感觉不太好.\n",
      "\n",
      "\n"
     ]
    },
    {
     "name": "stderr",
     "output_type": "stream",
     "text": [
      "\n",
      "[Succeeded / Failed / Skipped / Total] 99 / 66 / 16 / 181:  36%|███▋      | 182/500 [2:15:33<3:56:51, 44.69s/it]\u001b[A\n",
      "[Succeeded / Failed / Skipped / Total] 100 / 66 / 16 / 182:  36%|███▋      | 182/500 [2:15:33<3:56:51, 44.69s/it]\u001b[A"
     ]
    },
    {
     "name": "stdout",
     "output_type": "stream",
     "text": [
      "--------------------------------------------- Result 182 ---------------------------------------------\n",
      "[[Negative (98%)]] --> [[Positive (63%)]]\n",
      "\n",
      "买了之后我就后悔了！垃圾\n",
      "\n",
      "买了之吼我就后悔乐！啦圾\n",
      "\n",
      "\n"
     ]
    },
    {
     "name": "stderr",
     "output_type": "stream",
     "text": [
      "\n",
      "[Succeeded / Failed / Skipped / Total] 100 / 66 / 16 / 182:  37%|███▋      | 183/500 [2:15:56<3:55:28, 44.57s/it]\u001b[A\n",
      "[Succeeded / Failed / Skipped / Total] 101 / 66 / 16 / 183:  37%|███▋      | 183/500 [2:15:56<3:55:28, 44.57s/it]\u001b[A"
     ]
    },
    {
     "name": "stdout",
     "output_type": "stream",
     "text": [
      "--------------------------------------------- Result 183 ---------------------------------------------\n",
      "[[Positive (92%)]] --> [[Negative (95%)]]\n",
      "\n",
      "三个九买的，性价比超高！\n",
      "\n",
      "三个九买的，性假比炒高！\n",
      "\n",
      "\n"
     ]
    },
    {
     "name": "stderr",
     "output_type": "stream",
     "text": [
      "\n",
      "[Succeeded / Failed / Skipped / Total] 101 / 66 / 16 / 183:  37%|███▋      | 184/500 [2:18:36<3:58:02, 45.20s/it]\u001b[A\n",
      "[Succeeded / Failed / Skipped / Total] 101 / 67 / 16 / 184:  37%|███▋      | 184/500 [2:18:36<3:58:02, 45.20s/it]\u001b[A"
     ]
    },
    {
     "name": "stdout",
     "output_type": "stream",
     "text": [
      "--------------------------------------------- Result 184 ---------------------------------------------\n",
      "[[Positive (96%)]] --> [[[FAILED]]]\n",
      "\n",
      "不像其他商店的裤子那样质量差，这条裤子质量很好。着起来显得瘦点。十分舒服，我女朋友十分喜欢。下次再来这家店买。物流也十分快\n",
      "\n",
      "\n"
     ]
    },
    {
     "name": "stderr",
     "output_type": "stream",
     "text": [
      "\n",
      "[Succeeded / Failed / Skipped / Total] 101 / 67 / 16 / 184:  37%|███▋      | 185/500 [2:18:50<3:56:24, 45.03s/it]\u001b[A\n",
      "[Succeeded / Failed / Skipped / Total] 102 / 67 / 16 / 185:  37%|███▋      | 185/500 [2:18:50<3:56:24, 45.03s/it]\u001b[A"
     ]
    },
    {
     "name": "stdout",
     "output_type": "stream",
     "text": [
      "--------------------------------------------- Result 185 ---------------------------------------------\n",
      "[[Negative (94%)]] --> [[Positive (98%)]]\n",
      "\n",
      "霸王的京东！！！无耻的京东！！！\n",
      "\n",
      "霸王的京东！！！无池的京东！！！\n",
      "\n",
      "\n"
     ]
    },
    {
     "name": "stderr",
     "output_type": "stream",
     "text": [
      "\n",
      "[Succeeded / Failed / Skipped / Total] 102 / 67 / 16 / 185:  37%|███▋      | 186/500 [2:19:53<3:56:09, 45.12s/it]\u001b[A\n",
      "[Succeeded / Failed / Skipped / Total] 102 / 68 / 16 / 186:  37%|███▋      | 186/500 [2:19:53<3:56:09, 45.12s/it]\u001b[A"
     ]
    },
    {
     "name": "stdout",
     "output_type": "stream",
     "text": [
      "--------------------------------------------- Result 186 ---------------------------------------------\n",
      "[[Positive (97%)]] --> [[[FAILED]]]\n",
      "\n",
      "七七八八送了不少小品装，价格实惠，用了头发的确顺了许多，比海飞丝好\n",
      "\n",
      "\n"
     ]
    },
    {
     "name": "stderr",
     "output_type": "stream",
     "text": [
      "\n",
      "[Succeeded / Failed / Skipped / Total] 102 / 68 / 16 / 186:  37%|███▋      | 187/500 [2:21:07<3:56:12, 45.28s/it]\u001b[A\n",
      "[Succeeded / Failed / Skipped / Total] 102 / 69 / 16 / 187:  37%|███▋      | 187/500 [2:21:07<3:56:12, 45.28s/it]\u001b[A"
     ]
    },
    {
     "name": "stdout",
     "output_type": "stream",
     "text": [
      "--------------------------------------------- Result 187 ---------------------------------------------\n",
      "[[Negative (99%)]] --> [[[FAILED]]]\n",
      "\n",
      "什么玩意。刚用一天，就充不上电，开不开机，返厂老麻烦，\n",
      "\n",
      "\n"
     ]
    },
    {
     "name": "stderr",
     "output_type": "stream",
     "text": [
      "\n",
      "[Succeeded / Failed / Skipped / Total] 102 / 69 / 16 / 187:  38%|███▊      | 188/500 [2:22:10<3:55:56, 45.37s/it]\u001b[A\n",
      "[Succeeded / Failed / Skipped / Total] 103 / 69 / 16 / 188:  38%|███▊      | 188/500 [2:22:10<3:55:56, 45.37s/it]\u001b[A"
     ]
    },
    {
     "name": "stdout",
     "output_type": "stream",
     "text": [
      "--------------------------------------------- Result 188 ---------------------------------------------\n",
      "[[Positive (98%)]] --> [[Negative (58%)]]\n",
      "\n",
      "裤子收到了。穿起来很舒适。物流也很给力、期待下次购物。\n",
      "\n",
      "苦子收倒了。穿其来很书适。物流也很给李、气待下次狗无。\n",
      "\n",
      "\n"
     ]
    },
    {
     "name": "stderr",
     "output_type": "stream",
     "text": [
      "\n",
      "[Succeeded / Failed / Skipped / Total] 103 / 69 / 16 / 188:  38%|███▊      | 189/500 [2:22:32<3:54:32, 45.25s/it]\u001b[A\n",
      "[Succeeded / Failed / Skipped / Total] 104 / 69 / 16 / 189:  38%|███▊      | 189/500 [2:22:32<3:54:32, 45.25s/it]\u001b[A"
     ]
    },
    {
     "name": "stdout",
     "output_type": "stream",
     "text": [
      "--------------------------------------------- Result 189 ---------------------------------------------\n",
      "[[Positive (98%)]] --> [[Negative (58%)]]\n",
      "\n",
      "给大叔买的，不是我用，不过觉得他挺开心的\n",
      "\n",
      "给大叔买的，不是我用，不过觉地他停开新的\n",
      "\n",
      "\n"
     ]
    },
    {
     "name": "stderr",
     "output_type": "stream",
     "text": [
      "\n",
      "[Succeeded / Failed / Skipped / Total] 104 / 69 / 16 / 189:  38%|███▊      | 190/500 [2:23:15<3:53:43, 45.24s/it]\u001b[A\n",
      "[Succeeded / Failed / Skipped / Total] 105 / 69 / 16 / 190:  38%|███▊      | 190/500 [2:23:15<3:53:43, 45.24s/it]\u001b[A"
     ]
    },
    {
     "name": "stdout",
     "output_type": "stream",
     "text": [
      "--------------------------------------------- Result 190 ---------------------------------------------\n",
      "[[Positive (94%)]] --> [[Negative (65%)]]\n",
      "\n",
      "指纹解锁很灵敏，不玩游戏，办公用，非常流畅。\n",
      "\n",
      "指纹解缩很另敏，不完游戏，办公用，非唱流场。\n",
      "\n",
      "\n"
     ]
    },
    {
     "name": "stderr",
     "output_type": "stream",
     "text": [
      "\n",
      "[Succeeded / Failed / Skipped / Total] 105 / 69 / 16 / 190:  38%|███▊      | 191/500 [2:23:25<3:52:01, 45.05s/it]\u001b[A\n",
      "[Succeeded / Failed / Skipped / Total] 106 / 69 / 16 / 191:  38%|███▊      | 191/500 [2:23:25<3:52:01, 45.05s/it]\u001b[A"
     ]
    },
    {
     "name": "stdout",
     "output_type": "stream",
     "text": [
      "--------------------------------------------- Result 191 ---------------------------------------------\n",
      "[[Negative (96%)]] --> [[Positive (58%)]]\n",
      "\n",
      "纸质差，总体只比盗版书好一点儿。\n",
      "\n",
      "纸质茶，总体只比盗版书好一点儿。\n",
      "\n",
      "\n"
     ]
    },
    {
     "name": "stderr",
     "output_type": "stream",
     "text": [
      "\n",
      "[Succeeded / Failed / Skipped / Total] 106 / 69 / 16 / 191:  38%|███▊      | 192/500 [2:24:30<3:51:49, 45.16s/it]\u001b[A\n",
      "[Succeeded / Failed / Skipped / Total] 107 / 69 / 16 / 192:  38%|███▊      | 192/500 [2:24:30<3:51:49, 45.16s/it]\u001b[A"
     ]
    },
    {
     "name": "stdout",
     "output_type": "stream",
     "text": [
      "--------------------------------------------- Result 192 ---------------------------------------------\n",
      "[[Positive (95%)]] --> [[Negative (55%)]]\n",
      "\n",
      "第二次买了，苹果很好吃，脆甜，个头正好适合一人吃\n",
      "\n",
      "第二词埋了，苹过很号池，脆天，个头蒸好适喝以人吃\n",
      "\n",
      "\n"
     ]
    },
    {
     "name": "stderr",
     "output_type": "stream",
     "text": [
      "\n",
      "[Succeeded / Failed / Skipped / Total] 107 / 69 / 16 / 192:  39%|███▊      | 193/500 [2:25:03<3:50:44, 45.10s/it]\u001b[A\n",
      "[Succeeded / Failed / Skipped / Total] 108 / 69 / 16 / 193:  39%|███▊      | 193/500 [2:25:03<3:50:44, 45.10s/it]\u001b[A"
     ]
    },
    {
     "name": "stdout",
     "output_type": "stream",
     "text": [
      "--------------------------------------------- Result 193 ---------------------------------------------\n",
      "[[Negative (98%)]] --> [[Positive (79%)]]\n",
      "\n",
      "刚买的99 还不到2天就降价到88了，什么玩意，还是特价秒杀的，真够坑的，以后再也不在京东上买了，真尼 玛的坑。\n",
      "\n",
      "刚买的99 还不到2天就降价到88了，什么玩意，还是特价秒杀的，真够铿的，以后再也不在京东上买了，真尼 玛的铿。\n",
      "\n",
      "\n"
     ]
    },
    {
     "name": "stderr",
     "output_type": "stream",
     "text": [
      "\n",
      "[Succeeded / Failed / Skipped / Total] 108 / 69 / 16 / 193:  39%|███▉      | 194/500 [2:26:10<3:50:34, 45.21s/it]\u001b[A\n",
      "[Succeeded / Failed / Skipped / Total] 108 / 70 / 16 / 194:  39%|███▉      | 194/500 [2:26:10<3:50:34, 45.21s/it]\u001b[A"
     ]
    },
    {
     "name": "stdout",
     "output_type": "stream",
     "text": [
      "--------------------------------------------- Result 194 ---------------------------------------------\n",
      "[[Positive (97%)]] --> [[[FAILED]]]\n",
      "\n",
      "牛仔裤颜色挺好看的 喜欢 版型也不错啦 码正好 这次购物很满意 以后有需要再来你家\n",
      "\n",
      "\n"
     ]
    },
    {
     "name": "stderr",
     "output_type": "stream",
     "text": [
      "\n",
      "[Succeeded / Failed / Skipped / Total] 108 / 70 / 16 / 194:  39%|███▉      | 195/500 [2:27:50<3:51:15, 45.49s/it]\u001b[A\n",
      "[Succeeded / Failed / Skipped / Total] 108 / 71 / 16 / 195:  39%|███▉      | 195/500 [2:27:50<3:51:15, 45.49s/it]\u001b[A"
     ]
    },
    {
     "name": "stdout",
     "output_type": "stream",
     "text": [
      "--------------------------------------------- Result 195 ---------------------------------------------\n",
      "[[Positive (95%)]] --> [[[FAILED]]]\n",
      "\n",
      "宝贝己经收到，质量杠杠的，去年己经买过，这次复购2条，是绝对正品，下次购买还会选择这家！\n",
      "\n",
      "\n"
     ]
    },
    {
     "name": "stderr",
     "output_type": "stream",
     "text": [
      "\n",
      "[Succeeded / Failed / Skipped / Total] 108 / 71 / 16 / 195:  39%|███▉      | 196/500 [2:28:19<3:50:02, 45.40s/it]\u001b[A\n",
      "[Succeeded / Failed / Skipped / Total] 108 / 72 / 16 / 196:  39%|███▉      | 196/500 [2:28:19<3:50:02, 45.40s/it]\u001b[A"
     ]
    },
    {
     "name": "stdout",
     "output_type": "stream",
     "text": [
      "--------------------------------------------- Result 196 ---------------------------------------------\n",
      "[[Negative (96%)]] --> [[[FAILED]]]\n",
      "\n",
      "有味道质量不怎么样吧\n",
      "\n",
      "\n"
     ]
    },
    {
     "name": "stderr",
     "output_type": "stream",
     "text": [
      "\n",
      "[Succeeded / Failed / Skipped / Total] 108 / 72 / 16 / 196:  39%|███▉      | 197/500 [2:29:04<3:49:16, 45.40s/it]\u001b[A\n",
      "[Succeeded / Failed / Skipped / Total] 109 / 72 / 16 / 197:  39%|███▉      | 197/500 [2:29:04<3:49:16, 45.40s/it]\u001b[A"
     ]
    },
    {
     "name": "stdout",
     "output_type": "stream",
     "text": [
      "--------------------------------------------- Result 197 ---------------------------------------------\n",
      "[[Positive (96%)]] --> [[Negative (98%)]]\n",
      "\n",
      "衣服收到了，质量不错，穿起来非常合适\n",
      "\n",
      "衣负收倒了，质量步错，穿其来非场合时\n",
      "\n",
      "\n"
     ]
    },
    {
     "name": "stderr",
     "output_type": "stream",
     "text": [
      "\n",
      "[Succeeded / Failed / Skipped / Total] 109 / 72 / 16 / 197:  40%|███▉      | 198/500 [2:29:43<3:48:21, 45.37s/it]\u001b[A\n",
      "[Succeeded / Failed / Skipped / Total] 110 / 72 / 16 / 198:  40%|███▉      | 198/500 [2:29:43<3:48:21, 45.37s/it]\u001b[A"
     ]
    },
    {
     "name": "stdout",
     "output_type": "stream",
     "text": [
      "--------------------------------------------- Result 198 ---------------------------------------------\n",
      "[[Positive (98%)]] --> [[Negative (90%)]]\n",
      "\n",
      "小巧，轻便。。。感谢京东这2次发货时间很快，当天就发了。。难得啊，以前都要弄个好长时间~\n",
      "\n",
      "小瞧，轻便。。。感些京东这2次发货时间很块，当天就罚了。。难得啊，以前都要弄个好长时间~\n",
      "\n",
      "\n"
     ]
    },
    {
     "name": "stderr",
     "output_type": "stream",
     "text": [
      "\n",
      "[Succeeded / Failed / Skipped / Total] 110 / 72 / 16 / 198:  40%|███▉      | 199/500 [2:30:46<3:48:03, 45.46s/it]\u001b[A\n",
      "[Succeeded / Failed / Skipped / Total] 111 / 72 / 16 / 199:  40%|███▉      | 199/500 [2:30:46<3:48:03, 45.46s/it]\u001b[A"
     ]
    },
    {
     "name": "stdout",
     "output_type": "stream",
     "text": [
      "--------------------------------------------- Result 199 ---------------------------------------------\n",
      "[[Positive (98%)]] --> [[Negative (97%)]]\n",
      "\n",
      "面料不错，大小合适，颜色不错，质量不错，穿的暖和\n",
      "\n",
      "免料部错，达小喝时，颜色不搓，只量步错，穿的煖和\n",
      "\n",
      "\n"
     ]
    },
    {
     "name": "stderr",
     "output_type": "stream",
     "text": [
      "\n",
      "[Succeeded / Failed / Skipped / Total] 111 / 72 / 16 / 199:  40%|████      | 200/500 [2:31:26<3:47:09, 45.43s/it]\u001b[A\n",
      "[Succeeded / Failed / Skipped / Total] 112 / 72 / 16 / 200:  40%|████      | 200/500 [2:31:26<3:47:09, 45.43s/it]\u001b[A"
     ]
    },
    {
     "name": "stdout",
     "output_type": "stream",
     "text": [
      "--------------------------------------------- Result 200 ---------------------------------------------\n",
      "[[Positive (53%)]] --> [[Negative (86%)]]\n",
      "\n",
      "ＬＥＤ屏还真是不错，还没去自提就降了１００真是不错又省了一点呵呵，提货回家一看又降了３３有点郁闷，太不保值了．可能是为了打压对手呵呵无货了嘛！\n",
      "\n",
      "ＬＥＤ屏还真是不搓，还没去自提就降了１００真是不错又省了一点呵呵，提货回家一看又降了３３有点郁闷，太不保值了．可能是为了打压对手呵呵无货了嘛！\n",
      "\n",
      "\n"
     ]
    },
    {
     "name": "stderr",
     "output_type": "stream",
     "text": [
      "\n",
      "[Succeeded / Failed / Skipped / Total] 112 / 72 / 16 / 200:  40%|████      | 201/500 [2:32:21<3:46:38, 45.48s/it]\u001b[A\n",
      "[Succeeded / Failed / Skipped / Total] 112 / 73 / 16 / 201:  40%|████      | 201/500 [2:32:21<3:46:38, 45.48s/it]\u001b[A"
     ]
    },
    {
     "name": "stdout",
     "output_type": "stream",
     "text": [
      "--------------------------------------------- Result 201 ---------------------------------------------\n",
      "[[Positive (96%)]] --> [[[FAILED]]]\n",
      "\n",
      "第二天就送货到家了，一共有9个苹果，口感很好，下次还会购买。\n",
      "\n",
      "\n"
     ]
    },
    {
     "name": "stderr",
     "output_type": "stream",
     "text": [
      "\n",
      "[Succeeded / Failed / Skipped / Total] 112 / 73 / 16 / 201:  40%|████      | 202/500 [2:32:45<3:45:20, 45.37s/it]\u001b[A\n",
      "[Succeeded / Failed / Skipped / Total] 113 / 73 / 16 / 202:  40%|████      | 202/500 [2:32:45<3:45:20, 45.37s/it]\u001b[A"
     ]
    },
    {
     "name": "stdout",
     "output_type": "stream",
     "text": [
      "--------------------------------------------- Result 202 ---------------------------------------------\n",
      "[[Negative (72%)]] --> [[Positive (55%)]]\n",
      "\n",
      "她是不可多得的成功的传媒人士为什么一定要写15字？对这本书来讲，没什么可写的哇？？\n",
      "\n",
      "她是不可多得的成功的传媒人使为什么一定要写15字？对这本书来讲，没什么可写的哇？？\n",
      "\n",
      "\n"
     ]
    },
    {
     "name": "stderr",
     "output_type": "stream",
     "text": [
      "\n",
      "[Succeeded / Failed / Skipped / Total] 113 / 73 / 16 / 202:  41%|████      | 203/500 [2:35:23<3:47:21, 45.93s/it]\u001b[A\n",
      "[Succeeded / Failed / Skipped / Total] 114 / 73 / 16 / 203:  41%|████      | 203/500 [2:35:23<3:47:21, 45.93s/it]\u001b[A"
     ]
    },
    {
     "name": "stdout",
     "output_type": "stream",
     "text": [
      "--------------------------------------------- Result 203 ---------------------------------------------\n",
      "[[Positive (96%)]] --> [[Negative (58%)]]\n",
      "\n",
      "到货体验洗头了，洗后头发柔顺，味道不错淡淡的很好闻，洗发水还是老牌子好，质量很好有保证，京东商城正品保证，价格合适，物流超快!购物我只认京东\n",
      "\n",
      "到火题验洗偷了，戏后头罚柔瞬，味倒步错单淡的很号闻，洗罚税还是老牌子好，只量很好有保蒸，经懂商城正品爆证，假格和使，物留超块!购物我只认京东\n",
      "\n",
      "\n"
     ]
    },
    {
     "name": "stderr",
     "output_type": "stream",
     "text": [
      "\n",
      "[Succeeded / Failed / Skipped / Total] 114 / 73 / 16 / 203:  41%|████      | 204/500 [2:35:52<3:46:09, 45.84s/it]\u001b[A\n",
      "[Succeeded / Failed / Skipped / Total] 115 / 73 / 16 / 204:  41%|████      | 204/500 [2:35:52<3:46:09, 45.84s/it]\u001b[A"
     ]
    },
    {
     "name": "stdout",
     "output_type": "stream",
     "text": [
      "--------------------------------------------- Result 204 ---------------------------------------------\n",
      "[[Negative (98%)]] --> [[Positive (72%)]]\n",
      "\n",
      "好像尺码有点问题，而且基本确定是假货\n",
      "\n",
      "好像池码有点问替，而且基本确定是家货\n",
      "\n",
      "\n"
     ]
    },
    {
     "name": "stderr",
     "output_type": "stream",
     "text": [
      "\n",
      "[Succeeded / Failed / Skipped / Total] 115 / 73 / 16 / 204:  41%|████      | 205/500 [2:36:34<3:45:18, 45.83s/it]\u001b[A\n",
      "[Succeeded / Failed / Skipped / Total] 116 / 73 / 16 / 205:  41%|████      | 205/500 [2:36:34<3:45:18, 45.83s/it]\u001b[A"
     ]
    },
    {
     "name": "stdout",
     "output_type": "stream",
     "text": [
      "--------------------------------------------- Result 205 ---------------------------------------------\n",
      "[[Positive (62%)]] --> [[Negative (71%)]]\n",
      "\n",
      "说是70-75，全是70左右，有的可能不到70，个头儿都不大，一共12个，感觉真的不怎么好看，不过很脆，有两个有挤压的痕迹，估计路上撞到了，总体还行，可以吃\n",
      "\n",
      "说是70-75，全是70左右，有的可能不到70，个头儿都不大，一共12个，感觉真的不怎么好看，不过很脆，有两个有挤压的痕迹，估计路上撞到了，总体还性，可以吃\n",
      "\n",
      "\n"
     ]
    },
    {
     "name": "stderr",
     "output_type": "stream",
     "text": [
      "\n",
      "[Succeeded / Failed / Skipped / Total] 116 / 73 / 16 / 205:  41%|████      | 206/500 [2:37:17<3:44:29, 45.81s/it]\u001b[A\n",
      "[Succeeded / Failed / Skipped / Total] 117 / 73 / 16 / 206:  41%|████      | 206/500 [2:37:17<3:44:29, 45.81s/it]\u001b[A"
     ]
    },
    {
     "name": "stdout",
     "output_type": "stream",
     "text": [
      "--------------------------------------------- Result 206 ---------------------------------------------\n",
      "[[Negative (98%)]] --> [[Positive (72%)]]\n",
      "\n",
      "送的速度实在有点慢，而且来拆开裤子的扣子就掉了，失望懒得换就这样吧\n",
      "\n",
      "送的速度实在有点蛮，而且来拆开裤子的扣子就掉了，时望懒得换就这样吧\n",
      "\n",
      "\n"
     ]
    },
    {
     "name": "stderr",
     "output_type": "stream",
     "text": [
      "\n",
      "[Succeeded / Failed / Skipped / Total] 117 / 73 / 16 / 206:  41%|████▏     | 207/500 [2:37:39<3:43:09, 45.70s/it]\u001b[A\n",
      "[Succeeded / Failed / Skipped / Total] 118 / 73 / 16 / 207:  41%|████▏     | 207/500 [2:37:39<3:43:09, 45.70s/it]\u001b[A"
     ]
    },
    {
     "name": "stdout",
     "output_type": "stream",
     "text": [
      "--------------------------------------------- Result 207 ---------------------------------------------\n",
      "[[Positive (62%)]] --> [[Negative (77%)]]\n",
      "\n",
      "马马乎乎!能住.标准不要太高.在小街上,出门没法打车.还行! 住吧!\n",
      "\n",
      "马马乎乎!能住.标准不要太高.在小街上,出门没法打车.患行! 住吧!\n",
      "\n",
      "\n"
     ]
    },
    {
     "name": "stderr",
     "output_type": "stream",
     "text": [
      "\n",
      "[Succeeded / Failed / Skipped / Total] 118 / 73 / 16 / 207:  42%|████▏     | 208/500 [2:37:41<3:41:21, 45.49s/it]\u001b[A\n",
      "[Succeeded / Failed / Skipped / Total] 118 / 73 / 17 / 208:  42%|████▏     | 208/500 [2:37:41<3:41:21, 45.49s/it]\u001b[A"
     ]
    },
    {
     "name": "stdout",
     "output_type": "stream",
     "text": [
      "--------------------------------------------- Result 208 ---------------------------------------------\n",
      "[[Positive (97%)]] --> [[[SKIPPED]]]\n",
      "\n",
      "在故事中穿插着知识，而且很有趣味性，让孩子在听故事的同时，能学到不少知识，很好的一套书。\n",
      "\n",
      "\n"
     ]
    },
    {
     "name": "stderr",
     "output_type": "stream",
     "text": [
      "\n",
      "[Succeeded / Failed / Skipped / Total] 118 / 73 / 17 / 208:  42%|████▏     | 209/500 [2:37:52<3:39:49, 45.32s/it]\u001b[A\n",
      "[Succeeded / Failed / Skipped / Total] 118 / 74 / 17 / 209:  42%|████▏     | 209/500 [2:37:52<3:39:49, 45.32s/it]\u001b[A"
     ]
    },
    {
     "name": "stdout",
     "output_type": "stream",
     "text": [
      "--------------------------------------------- Result 209 ---------------------------------------------\n",
      "[[Negative (98%)]] --> [[[FAILED]]]\n",
      "\n",
      "硬跟我说两个裤脚是一样的\n",
      "\n",
      "\n"
     ]
    },
    {
     "name": "stderr",
     "output_type": "stream",
     "text": [
      "\n",
      "[Succeeded / Failed / Skipped / Total] 118 / 74 / 17 / 209:  42%|████▏     | 210/500 [2:40:05<3:41:04, 45.74s/it]\u001b[A\n",
      "[Succeeded / Failed / Skipped / Total] 119 / 74 / 17 / 210:  42%|████▏     | 210/500 [2:40:05<3:41:04, 45.74s/it]\u001b[A"
     ]
    },
    {
     "name": "stdout",
     "output_type": "stream",
     "text": [
      "--------------------------------------------- Result 210 ---------------------------------------------\n",
      "[[Negative (98%)]] --> [[Positive (59%)]]\n",
      "\n",
      "我去年也住过北京昆仑大饭店，对比去年前台服务不好了。虽然我们一共有六个人，但是入住手续需要半个小时的话还算很慢，简直不像话的。目前上述服务来看，我认为不值得住。\n",
      "\n",
      "我取年也住过被京昆伦大饭店，对比去年钱太服务步好了。虽然我们一共有六个人，但是乳主手续需要半个小时的话换算很慢，间直不像话的。木前上述服务来看，我认为不值得煮。\n",
      "\n",
      "\n"
     ]
    },
    {
     "name": "stderr",
     "output_type": "stream",
     "text": [
      "\n",
      "[Succeeded / Failed / Skipped / Total] 119 / 74 / 17 / 210:  42%|████▏     | 211/500 [2:40:28<3:39:47, 45.63s/it]\u001b[A\n",
      "[Succeeded / Failed / Skipped / Total] 119 / 75 / 17 / 211:  42%|████▏     | 211/500 [2:40:28<3:39:47, 45.63s/it]\u001b[A"
     ]
    },
    {
     "name": "stdout",
     "output_type": "stream",
     "text": [
      "--------------------------------------------- Result 211 ---------------------------------------------\n",
      "[[Negative (98%)]] --> [[[FAILED]]]\n",
      "\n",
      "触摸键太敏感.不好用.\n",
      "\n",
      "\n"
     ]
    },
    {
     "name": "stderr",
     "output_type": "stream",
     "text": [
      "\n",
      "[Succeeded / Failed / Skipped / Total] 119 / 75 / 17 / 211:  42%|████▏     | 212/500 [2:41:01<3:38:45, 45.57s/it]\u001b[A\n",
      "[Succeeded / Failed / Skipped / Total] 119 / 76 / 17 / 212:  42%|████▏     | 212/500 [2:41:01<3:38:45, 45.57s/it]\u001b[A"
     ]
    },
    {
     "name": "stdout",
     "output_type": "stream",
     "text": [
      "--------------------------------------------- Result 212 ---------------------------------------------\n",
      "[[Negative (96%)]] --> [[[FAILED]]]\n",
      "\n",
      "买了两天，出现卡顿现象\n",
      "\n",
      "\n"
     ]
    },
    {
     "name": "stderr",
     "output_type": "stream",
     "text": [
      "\n",
      "[Succeeded / Failed / Skipped / Total] 119 / 76 / 17 / 212:  43%|████▎     | 213/500 [2:41:50<3:38:04, 45.59s/it]\u001b[A\n",
      "[Succeeded / Failed / Skipped / Total] 119 / 77 / 17 / 213:  43%|████▎     | 213/500 [2:41:50<3:38:04, 45.59s/it]\u001b[A"
     ]
    },
    {
     "name": "stdout",
     "output_type": "stream",
     "text": [
      "--------------------------------------------- Result 213 ---------------------------------------------\n",
      "[[Positive (97%)]] --> [[[FAILED]]]\n",
      "\n",
      "刚刚收到，很开心，价格便宜，没用过，等用完再来评价\n",
      "\n",
      "\n"
     ]
    },
    {
     "name": "stderr",
     "output_type": "stream",
     "text": [
      "\n",
      "[Succeeded / Failed / Skipped / Total] 119 / 77 / 17 / 213:  43%|████▎     | 214/500 [2:42:20<3:36:57, 45.52s/it]\u001b[A\n",
      "[Succeeded / Failed / Skipped / Total] 120 / 77 / 17 / 214:  43%|████▎     | 214/500 [2:42:20<3:36:57, 45.52s/it]\u001b[A"
     ]
    },
    {
     "name": "stdout",
     "output_type": "stream",
     "text": [
      "--------------------------------------------- Result 214 ---------------------------------------------\n",
      "[[Negative (98%)]] --> [[Positive (77%)]]\n",
      "\n",
      "因为是用完才回来评价的，结果就用了一回，从来没有头皮屑用了后就满头发的头皮屑，立刻停止！太差劲了！\n",
      "\n",
      "因为是用完才回来评价的，结果就用了一回，从来没有头皮屑用了后就满头发的头皮屑，立刻停止！太茶劲了！\n",
      "\n",
      "\n"
     ]
    },
    {
     "name": "stderr",
     "output_type": "stream",
     "text": [
      "\n",
      "[Succeeded / Failed / Skipped / Total] 120 / 77 / 17 / 214:  43%|████▎     | 215/500 [2:43:39<3:36:56, 45.67s/it]\u001b[A\n",
      "[Succeeded / Failed / Skipped / Total] 120 / 78 / 17 / 215:  43%|████▎     | 215/500 [2:43:39<3:36:56, 45.67s/it]\u001b[A"
     ]
    },
    {
     "name": "stdout",
     "output_type": "stream",
     "text": [
      "--------------------------------------------- Result 215 ---------------------------------------------\n",
      "[[Positive (92%)]] --> [[[FAILED]]]\n",
      "\n",
      "价格便宜，套装更划算，直接送货上门，方便快捷。\n",
      "\n",
      "\n"
     ]
    },
    {
     "name": "stderr",
     "output_type": "stream",
     "text": [
      "\n",
      "[Succeeded / Failed / Skipped / Total] 120 / 78 / 17 / 215:  43%|████▎     | 216/500 [2:43:58<3:35:36, 45.55s/it]\u001b[A\n",
      "[Succeeded / Failed / Skipped / Total] 121 / 78 / 17 / 216:  43%|████▎     | 216/500 [2:43:58<3:35:36, 45.55s/it]\u001b[A"
     ]
    },
    {
     "name": "stdout",
     "output_type": "stream",
     "text": [
      "--------------------------------------------- Result 216 ---------------------------------------------\n",
      "[[Negative (67%)]] --> [[Positive (59%)]]\n",
      "\n",
      "这次买的瓶子都脏兮兮的，不如可悠然好用\n",
      "\n",
      "这次买的瓶子都臧兮兮的，不如可悠然好用\n",
      "\n",
      "\n"
     ]
    },
    {
     "name": "stderr",
     "output_type": "stream",
     "text": [
      "\n",
      "[Succeeded / Failed / Skipped / Total] 121 / 78 / 17 / 216:  43%|████▎     | 217/500 [2:44:38<3:34:42, 45.52s/it]\u001b[A\n",
      "[Succeeded / Failed / Skipped / Total] 122 / 78 / 17 / 217:  43%|████▎     | 217/500 [2:44:38<3:34:42, 45.52s/it]\u001b[A"
     ]
    },
    {
     "name": "stdout",
     "output_type": "stream",
     "text": [
      "--------------------------------------------- Result 217 ---------------------------------------------\n",
      "[[Negative (94%)]] --> [[Positive (60%)]]\n",
      "\n",
      "比在实体超市里买的差太多，香味很淡，这个不重要，重要的是用了以后根本就和没用过一样。京东最失败的一次购物，果然是一分钱 一分货\n",
      "\n",
      "比在实体超市里买的差太多，香味很淡，这个不重要，重要的是用了以后艮本就和没用过一样。京东最时败的一次购物，果然是一分钱 一分货\n",
      "\n",
      "\n"
     ]
    },
    {
     "name": "stderr",
     "output_type": "stream",
     "text": [
      "\n",
      "[Succeeded / Failed / Skipped / Total] 122 / 78 / 17 / 217:  44%|████▎     | 218/500 [2:45:32<3:34:08, 45.56s/it]\u001b[A\n",
      "[Succeeded / Failed / Skipped / Total] 123 / 78 / 17 / 218:  44%|████▎     | 218/500 [2:45:32<3:34:08, 45.56s/it]\u001b[A"
     ]
    },
    {
     "name": "stdout",
     "output_type": "stream",
     "text": [
      "--------------------------------------------- Result 218 ---------------------------------------------\n",
      "[[Negative (90%)]] --> [[Positive (68%)]]\n",
      "\n",
      "很明显没有在线下买的的质量好，洗过一次后就像穿过很久的衣服，这次的购物对质量很不满意。衣服的尺码还偏大比我买的XL还要大，L码最少是180的尺码。\n",
      "\n",
      "很明线没有在线下埋的的质量好，洗过一次后就像穿过很久的衣服，这次的购物对质量很不蛮意。衣服的尺码还偏大比我买的XL还要大，L码最少是180的尺码。\n",
      "\n",
      "\n"
     ]
    },
    {
     "name": "stderr",
     "output_type": "stream",
     "text": [
      "\n",
      "[Succeeded / Failed / Skipped / Total] 123 / 78 / 17 / 218:  44%|████▍     | 219/500 [2:46:28<3:33:36, 45.61s/it]\u001b[A\n",
      "[Succeeded / Failed / Skipped / Total] 124 / 78 / 17 / 219:  44%|████▍     | 219/500 [2:46:28<3:33:36, 45.61s/it]\u001b[A"
     ]
    },
    {
     "name": "stdout",
     "output_type": "stream",
     "text": [
      "--------------------------------------------- Result 219 ---------------------------------------------\n",
      "[[Positive (81%)]] --> [[Negative (53%)]]\n",
      "\n",
      "房间干净整齐,服务员态度很好,不过餐厅一般.给我的早餐券上的套餐与餐厅的套餐不符\n",
      "\n",
      "房间敢净证齐,服务员态度很好,不过惨厅一般.给我的早惨券上的套餐与餐厅的套惨不符\n",
      "\n",
      "\n"
     ]
    },
    {
     "name": "stderr",
     "output_type": "stream",
     "text": [
      "\n",
      "[Succeeded / Failed / Skipped / Total] 124 / 78 / 17 / 219:  44%|████▍     | 220/500 [2:46:48<3:32:17, 45.49s/it]\u001b[A\n",
      "[Succeeded / Failed / Skipped / Total] 125 / 78 / 17 / 220:  44%|████▍     | 220/500 [2:46:48<3:32:17, 45.49s/it]\u001b[A"
     ]
    },
    {
     "name": "stdout",
     "output_type": "stream",
     "text": [
      "--------------------------------------------- Result 220 ---------------------------------------------\n",
      "[[Positive (82%)]] --> [[Negative (94%)]]\n",
      "\n",
      "收到货有一瓶漏了，应该是封口的时候没封号，还不错，\n",
      "\n",
      "收到货有一瓶漏了，应该是封口的时候没封号，还不搓，\n",
      "\n",
      "\n"
     ]
    },
    {
     "name": "stderr",
     "output_type": "stream",
     "text": [
      "\n",
      "[Succeeded / Failed / Skipped / Total] 125 / 78 / 17 / 220:  44%|████▍     | 221/500 [2:47:34<3:31:33, 45.50s/it]\u001b[A\n",
      "[Succeeded / Failed / Skipped / Total] 125 / 79 / 17 / 221:  44%|████▍     | 221/500 [2:47:34<3:31:33, 45.50s/it]\u001b[A"
     ]
    },
    {
     "name": "stdout",
     "output_type": "stream",
     "text": [
      "--------------------------------------------- Result 221 ---------------------------------------------\n",
      "[[Negative (98%)]] --> [[[FAILED]]]\n",
      "\n",
      "垃圾 音质不好 分辨率低低低............\n",
      "\n",
      "\n"
     ]
    },
    {
     "name": "stderr",
     "output_type": "stream",
     "text": [
      "\n",
      "[Succeeded / Failed / Skipped / Total] 125 / 79 / 17 / 221:  44%|████▍     | 222/500 [2:48:34<3:31:06, 45.56s/it]\u001b[A\n",
      "[Succeeded / Failed / Skipped / Total] 125 / 80 / 17 / 222:  44%|████▍     | 222/500 [2:48:34<3:31:06, 45.56s/it]\u001b[A"
     ]
    },
    {
     "name": "stdout",
     "output_type": "stream",
     "text": [
      "--------------------------------------------- Result 222 ---------------------------------------------\n",
      "[[Negative (98%)]] --> [[[FAILED]]]\n",
      "\n",
      "产品和描述的严重不符，明明很厚要说夏季薄款\n",
      "\n",
      "\n"
     ]
    },
    {
     "name": "stderr",
     "output_type": "stream",
     "text": [
      "\n",
      "[Succeeded / Failed / Skipped / Total] 125 / 80 / 17 / 222:  45%|████▍     | 223/500 [2:49:30<3:30:33, 45.61s/it]\u001b[A\n",
      "[Succeeded / Failed / Skipped / Total] 125 / 81 / 17 / 223:  45%|████▍     | 223/500 [2:49:30<3:30:33, 45.61s/it]\u001b[A"
     ]
    },
    {
     "name": "stdout",
     "output_type": "stream",
     "text": [
      "--------------------------------------------- Result 223 ---------------------------------------------\n",
      "[[Positive (97%)]] --> [[[FAILED]]]\n",
      "\n",
      "裤子很好，面料很不错，尺码标准刚合身，物流很快\n",
      "\n",
      "\n"
     ]
    },
    {
     "name": "stderr",
     "output_type": "stream",
     "text": [
      "\n",
      "[Succeeded / Failed / Skipped / Total] 125 / 81 / 17 / 223:  45%|████▍     | 224/500 [2:49:32<3:28:53, 45.41s/it]\u001b[A\n",
      "[Succeeded / Failed / Skipped / Total] 125 / 81 / 18 / 224:  45%|████▍     | 224/500 [2:49:32<3:28:53, 45.41s/it]\u001b[A"
     ]
    },
    {
     "name": "stdout",
     "output_type": "stream",
     "text": [
      "--------------------------------------------- Result 224 ---------------------------------------------\n",
      "[[Negative (75%)]] --> [[[SKIPPED]]]\n",
      "\n",
      "火车晚点,临时改主意去住店,也没有刻意去选择.不过衢州饭店还不错,就是凌晨checkin,前台也要算前一天,收全天房费,说携程预订就是这样,睡了几个小时赶火车,还花了一天的钱.\n",
      "\n",
      "\n"
     ]
    },
    {
     "name": "stderr",
     "output_type": "stream",
     "text": [
      "\n",
      "[Succeeded / Failed / Skipped / Total] 125 / 81 / 18 / 224:  45%|████▌     | 225/500 [2:50:10<3:27:59, 45.38s/it]\u001b[A\n",
      "[Succeeded / Failed / Skipped / Total] 126 / 81 / 18 / 225:  45%|████▌     | 225/500 [2:50:10<3:27:59, 45.38s/it]\u001b[A"
     ]
    },
    {
     "name": "stdout",
     "output_type": "stream",
     "text": [
      "--------------------------------------------- Result 225 ---------------------------------------------\n",
      "[[Positive (99%)]] --> [[Negative (62%)]]\n",
      "\n",
      "礼盒装哟。高大上哟。一直信赖的京东。。。。。一直信赖的京东自营。。。。。京东的快递小哥辛苦了。。。。。\n",
      "\n",
      "礼盒装哟。高大上哟。一直新赖的京懂。。。。。一直信赖的京东自营。。。。。京东的快递小哥心苦了。。。。。\n",
      "\n",
      "\n"
     ]
    },
    {
     "name": "stderr",
     "output_type": "stream",
     "text": [
      "\n",
      "[Succeeded / Failed / Skipped / Total] 126 / 81 / 18 / 225:  45%|████▌     | 226/500 [2:51:11<3:27:33, 45.45s/it]\u001b[A\n",
      "[Succeeded / Failed / Skipped / Total] 126 / 82 / 18 / 226:  45%|████▌     | 226/500 [2:51:11<3:27:33, 45.45s/it]\u001b[A"
     ]
    },
    {
     "name": "stdout",
     "output_type": "stream",
     "text": [
      "--------------------------------------------- Result 226 ---------------------------------------------\n",
      "[[Negative (98%)]] --> [[[FAILED]]]\n",
      "\n",
      "不好吃 苹果小 感觉没长大 苹果芯硬 差\n",
      "\n",
      "\n"
     ]
    },
    {
     "name": "stderr",
     "output_type": "stream",
     "text": [
      "\n",
      "[Succeeded / Failed / Skipped / Total] 126 / 82 / 18 / 226:  45%|████▌     | 227/500 [2:51:47<3:26:35, 45.41s/it]\u001b[A\n",
      "[Succeeded / Failed / Skipped / Total] 126 / 83 / 18 / 227:  45%|████▌     | 227/500 [2:51:47<3:26:35, 45.41s/it]\u001b[A"
     ]
    },
    {
     "name": "stdout",
     "output_type": "stream",
     "text": [
      "--------------------------------------------- Result 227 ---------------------------------------------\n",
      "[[Positive (97%)]] --> [[[FAILED]]]\n",
      "\n",
      "裤子很暖和，质量不错，物流很快\n",
      "\n",
      "\n"
     ]
    },
    {
     "name": "stderr",
     "output_type": "stream",
     "text": [
      "\n",
      "[Succeeded / Failed / Skipped / Total] 126 / 83 / 18 / 227:  46%|████▌     | 228/500 [2:51:57<3:25:08, 45.25s/it]\u001b[A\n",
      "[Succeeded / Failed / Skipped / Total] 127 / 83 / 18 / 228:  46%|████▌     | 228/500 [2:51:57<3:25:08, 45.25s/it]\u001b[A"
     ]
    },
    {
     "name": "stdout",
     "output_type": "stream",
     "text": [
      "--------------------------------------------- Result 228 ---------------------------------------------\n",
      "[[Negative (97%)]] --> [[Positive (76%)]]\n",
      "\n",
      "和网上的不一样，面料不好\n",
      "\n",
      "和网上的不一样，面料部好\n",
      "\n",
      "\n"
     ]
    },
    {
     "name": "stderr",
     "output_type": "stream",
     "text": [
      "\n",
      "[Succeeded / Failed / Skipped / Total] 127 / 83 / 18 / 228:  46%|████▌     | 229/500 [2:52:38<3:24:18, 45.23s/it]\u001b[A\n",
      "[Succeeded / Failed / Skipped / Total] 128 / 83 / 18 / 229:  46%|████▌     | 229/500 [2:52:38<3:24:18, 45.23s/it]\u001b[A"
     ]
    },
    {
     "name": "stdout",
     "output_type": "stream",
     "text": [
      "--------------------------------------------- Result 229 ---------------------------------------------\n",
      "[[Negative (98%)]] --> [[Positive (54%)]]\n",
      "\n",
      "刚打开，吓了一跳，比鸡蛋大一点，穿着两件外套平铺一层居然还能放进四个苹果的空间，这样的苹果和商家太坑人了……\n",
      "\n",
      "刚打开，吓了一跳，比鸡蛋大一点，穿着两件外套平铺一层居然还能放进四个苹果的空间，这样的苹果和上家太铿人了……\n",
      "\n",
      "\n"
     ]
    },
    {
     "name": "stderr",
     "output_type": "stream",
     "text": [
      "\n",
      "[Succeeded / Failed / Skipped / Total] 128 / 83 / 18 / 229:  46%|████▌     | 230/500 [2:53:03<3:23:09, 45.15s/it]\u001b[A\n",
      "[Succeeded / Failed / Skipped / Total] 129 / 83 / 18 / 230:  46%|████▌     | 230/500 [2:53:03<3:23:09, 45.15s/it]\u001b[A"
     ]
    },
    {
     "name": "stdout",
     "output_type": "stream",
     "text": [
      "--------------------------------------------- Result 230 ---------------------------------------------\n",
      "[[Positive (57%)]] --> [[Negative (78%)]]\n",
      "\n",
      "质量一般，但是穿着舒服、透气。关键是客服一副爱理不理的样子，\n",
      "\n",
      "质量一般，但是穿着属服、透气。关键是客服一副爱理不理的样子，\n",
      "\n",
      "\n"
     ]
    },
    {
     "name": "stderr",
     "output_type": "stream",
     "text": [
      "\n",
      "[Succeeded / Failed / Skipped / Total] 129 / 83 / 18 / 230:  46%|████▌     | 231/500 [2:53:41<3:22:16, 45.12s/it]\u001b[A\n",
      "[Succeeded / Failed / Skipped / Total] 130 / 83 / 18 / 231:  46%|████▌     | 231/500 [2:53:41<3:22:16, 45.12s/it]\u001b[A"
     ]
    },
    {
     "name": "stdout",
     "output_type": "stream",
     "text": [
      "--------------------------------------------- Result 231 ---------------------------------------------\n",
      "[[Positive (95%)]] --> [[Negative (75%)]]\n",
      "\n",
      "一直用的这个牌子的洗发水，特地等到搞活动买的，很划算\n",
      "\n",
      "一直用的这个派子的洗发水，特地等到搞或动买的，很花算\n",
      "\n",
      "\n"
     ]
    },
    {
     "name": "stderr",
     "output_type": "stream",
     "text": [
      "\n",
      "[Succeeded / Failed / Skipped / Total] 130 / 83 / 18 / 231:  46%|████▋     | 232/500 [2:54:14<3:21:16, 45.06s/it]\u001b[A\n",
      "[Succeeded / Failed / Skipped / Total] 131 / 83 / 18 / 232:  46%|████▋     | 232/500 [2:54:14<3:21:16, 45.06s/it]\u001b[A"
     ]
    },
    {
     "name": "stdout",
     "output_type": "stream",
     "text": [
      "--------------------------------------------- Result 232 ---------------------------------------------\n",
      "[[Positive (92%)]] --> [[Negative (61%)]]\n",
      "\n",
      "从小到大都穿班尼路，面质舒服，大小刚好，再买2件\n",
      "\n",
      "从小到大都穿班尼路，面质数服，大萧刚好，再埋2件\n",
      "\n",
      "\n"
     ]
    },
    {
     "name": "stderr",
     "output_type": "stream",
     "text": [
      "\n",
      "[Succeeded / Failed / Skipped / Total] 131 / 83 / 18 / 232:  47%|████▋     | 233/500 [2:55:00<3:20:33, 45.07s/it]\u001b[A\n",
      "[Succeeded / Failed / Skipped / Total] 131 / 84 / 18 / 233:  47%|████▋     | 233/500 [2:55:00<3:20:33, 45.07s/it]\u001b[A"
     ]
    },
    {
     "name": "stdout",
     "output_type": "stream",
     "text": [
      "--------------------------------------------- Result 233 ---------------------------------------------\n",
      "[[Negative (99%)]] --> [[[FAILED]]]\n",
      "\n",
      "太可怕了蒙牛真他妈垃圾，怎末还不去死\n",
      "\n",
      "\n"
     ]
    },
    {
     "name": "stderr",
     "output_type": "stream",
     "text": [
      "\n",
      "[Succeeded / Failed / Skipped / Total] 131 / 84 / 18 / 233:  47%|████▋     | 234/500 [2:55:44<3:19:47, 45.06s/it]\u001b[A\n",
      "[Succeeded / Failed / Skipped / Total] 132 / 84 / 18 / 234:  47%|████▋     | 234/500 [2:55:44<3:19:47, 45.06s/it]\u001b[A"
     ]
    },
    {
     "name": "stdout",
     "output_type": "stream",
     "text": [
      "--------------------------------------------- Result 234 ---------------------------------------------\n",
      "[[Negative (98%)]] --> [[Positive (56%)]]\n",
      "\n",
      "非常不好,房间的装修太旧,就像90年代的感觉.入住的168的所谓豪华标准间,只能说普通标准间罢了,老公睡觉起来?\n",
      "\n",
      "非常步好,房间的装修太旧,就像90年代的感觉.入住的168的所位豪华标准间,只能说普通标准间罢了,老公睡觉起来?\n",
      "\n",
      "\n"
     ]
    },
    {
     "name": "stderr",
     "output_type": "stream",
     "text": [
      "\n",
      "[Succeeded / Failed / Skipped / Total] 132 / 84 / 18 / 234:  47%|████▋     | 235/500 [2:56:39<3:19:12, 45.10s/it]\u001b[A\n",
      "[Succeeded / Failed / Skipped / Total] 133 / 84 / 18 / 235:  47%|████▋     | 235/500 [2:56:39<3:19:12, 45.10s/it]\u001b[A"
     ]
    },
    {
     "name": "stdout",
     "output_type": "stream",
     "text": [
      "--------------------------------------------- Result 235 ---------------------------------------------\n",
      "[[Positive (96%)]] --> [[Negative (80%)]]\n",
      "\n",
      "性能均衡，集显效果还不错，散热也还行。THINKPAD的小红帽，硬盘保护都可以?\n",
      "\n",
      "行能均衡，集显萧果还不搓，散热也患行。THINKPAD的萧红帽，硬判保护都可以?\n",
      "\n",
      "\n"
     ]
    },
    {
     "name": "stderr",
     "output_type": "stream",
     "text": [
      "\n",
      "[Succeeded / Failed / Skipped / Total] 133 / 84 / 18 / 235:  47%|████▋     | 236/500 [2:56:58<3:17:58, 44.99s/it]\u001b[A\n",
      "[Succeeded / Failed / Skipped / Total] 134 / 84 / 18 / 236:  47%|████▋     | 236/500 [2:56:58<3:17:58, 44.99s/it]\u001b[A"
     ]
    },
    {
     "name": "stdout",
     "output_type": "stream",
     "text": [
      "--------------------------------------------- Result 236 ---------------------------------------------\n",
      "[[Negative (63%)]] --> [[Positive (73%)]]\n",
      "\n",
      "分辨率太差 包装也不到位 配货速度倒是杠杠的\n",
      "\n",
      "分辨率太差 包装也不倒位 配货速度倒是杠杠的\n",
      "\n",
      "\n"
     ]
    },
    {
     "name": "stderr",
     "output_type": "stream",
     "text": [
      "\n",
      "[Succeeded / Failed / Skipped / Total] 134 / 84 / 18 / 236:  47%|████▋     | 237/500 [2:57:38<3:17:07, 44.97s/it]\u001b[A\n",
      "[Succeeded / Failed / Skipped / Total] 134 / 85 / 18 / 237:  47%|████▋     | 237/500 [2:57:38<3:17:07, 44.97s/it]\u001b[A"
     ]
    },
    {
     "name": "stdout",
     "output_type": "stream",
     "text": [
      "--------------------------------------------- Result 237 ---------------------------------------------\n",
      "[[Positive (95%)]] --> [[[FAILED]]]\n",
      "\n",
      "做工很好，货真价实，质量不错满意！\n",
      "\n",
      "\n"
     ]
    },
    {
     "name": "stderr",
     "output_type": "stream",
     "text": [
      "\n",
      "[Succeeded / Failed / Skipped / Total] 134 / 85 / 18 / 237:  48%|████▊     | 238/500 [2:58:12<3:16:10, 44.93s/it]\u001b[A\n",
      "[Succeeded / Failed / Skipped / Total] 135 / 85 / 18 / 238:  48%|████▊     | 238/500 [2:58:12<3:16:10, 44.93s/it]\u001b[A"
     ]
    },
    {
     "name": "stdout",
     "output_type": "stream",
     "text": [
      "--------------------------------------------- Result 238 ---------------------------------------------\n",
      "[[Negative (97%)]] --> [[Positive (76%)]]\n",
      "\n",
      "难得在京东上买一次生鲜，太失望了。火龙果一点不新鲜，一股霉味，以后再也不会买了\n",
      "\n",
      "难得在京东上买一次生鲜，太使望了。火龙果一点不新鲜，一股霉味，以后再也不会买了\n",
      "\n",
      "\n"
     ]
    },
    {
     "name": "stderr",
     "output_type": "stream",
     "text": [
      "\n",
      "[Succeeded / Failed / Skipped / Total] 135 / 85 / 18 / 238:  48%|████▊     | 239/500 [2:58:37<3:15:04, 44.84s/it]\u001b[A\n",
      "[Succeeded / Failed / Skipped / Total] 136 / 85 / 18 / 239:  48%|████▊     | 239/500 [2:58:37<3:15:04, 44.84s/it]\u001b[A"
     ]
    },
    {
     "name": "stdout",
     "output_type": "stream",
     "text": [
      "--------------------------------------------- Result 239 ---------------------------------------------\n",
      "[[Positive (96%)]] --> [[Negative (80%)]]\n",
      "\n",
      "脆脆香甜的苹果，妈妈说很不错。\n",
      "\n",
      "脆脆想甜的苹果，妈嘛说很不搓。\n",
      "\n",
      "\n"
     ]
    },
    {
     "name": "stderr",
     "output_type": "stream",
     "text": [
      "\n",
      "[Succeeded / Failed / Skipped / Total] 136 / 85 / 18 / 239:  48%|████▊     | 240/500 [3:00:01<3:15:01, 45.01s/it]\u001b[A\n",
      "[Succeeded / Failed / Skipped / Total] 136 / 86 / 18 / 240:  48%|████▊     | 240/500 [3:00:01<3:15:01, 45.01s/it]\u001b[A"
     ]
    },
    {
     "name": "stdout",
     "output_type": "stream",
     "text": [
      "--------------------------------------------- Result 240 ---------------------------------------------\n",
      "[[Positive (92%)]] --> [[[FAILED]]]\n",
      "\n",
      "通话质量还可以。铃声一般，不是很大也不很小；外观还看得过去，价位也不高，新奇的功能一个没有，基本功能较齐全，能满足日常使用的需求。\n",
      "\n",
      "\n"
     ]
    },
    {
     "name": "stderr",
     "output_type": "stream",
     "text": [
      "\n",
      "[Succeeded / Failed / Skipped / Total] 136 / 86 / 18 / 240:  48%|████▊     | 241/500 [3:01:55<3:15:30, 45.29s/it]\u001b[A\n",
      "[Succeeded / Failed / Skipped / Total] 136 / 87 / 18 / 241:  48%|████▊     | 241/500 [3:01:55<3:15:30, 45.29s/it]\u001b[A"
     ]
    },
    {
     "name": "stdout",
     "output_type": "stream",
     "text": [
      "--------------------------------------------- Result 241 ---------------------------------------------\n",
      "[[Positive (98%)]] --> [[[FAILED]]]\n",
      "\n",
      "<荐书>  推荐所有喜欢<红楼>的红迷们一定要收藏这本书,要知道当年我听说这本书的时候花很长时间去图书馆找和借都没能如愿,所以这次一看到当当有,马上买了,红迷们也要记得备货哦!\n",
      "\n",
      "\n"
     ]
    },
    {
     "name": "stderr",
     "output_type": "stream",
     "text": [
      "\n",
      "[Succeeded / Failed / Skipped / Total] 136 / 87 / 18 / 241:  48%|████▊     | 242/500 [3:02:33<3:14:37, 45.26s/it]\u001b[A\n",
      "[Succeeded / Failed / Skipped / Total] 137 / 87 / 18 / 242:  48%|████▊     | 242/500 [3:02:33<3:14:37, 45.26s/it]\u001b[A"
     ]
    },
    {
     "name": "stdout",
     "output_type": "stream",
     "text": [
      "--------------------------------------------- Result 242 ---------------------------------------------\n",
      "[[Positive (73%)]] --> [[Negative (70%)]]\n",
      "\n",
      "唯一的遗憾就是包裹被雨淋湿了，幸亏是洗发水，要是衣物那就不好讲了。算了，快递大哥送货赶上大雨也挺辛苦啦，就给你五星好评吧\n",
      "\n",
      "唯一的遗憾就是包裹被雨淋湿了，幸亏是洗发水，要是衣物那就不好讲了。算了，快递大哥送货赶上大雨也挺辛苦啦，就给你五星号评吧\n",
      "\n",
      "\n"
     ]
    },
    {
     "name": "stderr",
     "output_type": "stream",
     "text": [
      "\n",
      "[Succeeded / Failed / Skipped / Total] 137 / 87 / 18 / 242:  49%|████▊     | 243/500 [3:03:53<3:14:29, 45.41s/it]\u001b[A\n",
      "[Succeeded / Failed / Skipped / Total] 138 / 87 / 18 / 243:  49%|████▊     | 243/500 [3:03:53<3:14:29, 45.41s/it]\u001b[A"
     ]
    },
    {
     "name": "stdout",
     "output_type": "stream",
     "text": [
      "--------------------------------------------- Result 243 ---------------------------------------------\n",
      "[[Positive (97%)]] --> [[Negative (73%)]]\n",
      "\n",
      "就是大号手机，所有安卓软件都能装，反应挺快，不错，让孩子做作业足够，孩子喜欢\n",
      "\n",
      "就是大号受机，所有安卓软见都能撞，反应停快，不搓，让孩自做作业族够，孩自喜欢\n",
      "\n",
      "\n"
     ]
    },
    {
     "name": "stderr",
     "output_type": "stream",
     "text": [
      "\n",
      "[Succeeded / Failed / Skipped / Total] 138 / 87 / 18 / 243:  49%|████▉     | 244/500 [3:06:03<3:15:12, 45.75s/it]\u001b[A\n",
      "[Succeeded / Failed / Skipped / Total] 138 / 88 / 18 / 244:  49%|████▉     | 244/500 [3:06:03<3:15:12, 45.75s/it]\u001b[A"
     ]
    },
    {
     "name": "stdout",
     "output_type": "stream",
     "text": [
      "--------------------------------------------- Result 244 ---------------------------------------------\n",
      "[[Positive (98%)]] --> [[[FAILED]]]\n",
      "\n",
      "裤子质量很好哦 这个价位买得到简直赚了 给爸爸买的挺喜欢的说让我再买一条呢 很有型 快递也很快 以后会继续光顾你们家的 呼呼～\n",
      "\n",
      "\n"
     ]
    },
    {
     "name": "stderr",
     "output_type": "stream",
     "text": [
      "\n",
      "[Succeeded / Failed / Skipped / Total] 138 / 88 / 18 / 244:  49%|████▉     | 245/500 [3:06:37<3:14:14, 45.70s/it]\u001b[A\n",
      "[Succeeded / Failed / Skipped / Total] 139 / 88 / 18 / 245:  49%|████▉     | 245/500 [3:06:37<3:14:14, 45.70s/it]\u001b[A"
     ]
    },
    {
     "name": "stdout",
     "output_type": "stream",
     "text": [
      "--------------------------------------------- Result 245 ---------------------------------------------\n",
      "[[Negative (92%)]] --> [[Positive (95%)]]\n",
      "\n",
      "风靡了40年，至少也是1968年的图画书了吧，1968年的故事，似乎没有勾起我闺女的任何兴趣。对我也没有吸引力。希望孩子再一点会感兴趣。\n",
      "\n",
      "风靡了40年，至少也是1968年的图画书了吧，1968年的故事，似乎没有勾起我闺女的任何兴趣。对我也美有吸引力。希望孩子再一点会感兴趣。\n",
      "\n",
      "\n"
     ]
    },
    {
     "name": "stderr",
     "output_type": "stream",
     "text": [
      "\n",
      "[Succeeded / Failed / Skipped / Total] 139 / 88 / 18 / 245:  49%|████▉     | 246/500 [3:07:14<3:13:19, 45.67s/it]\u001b[A\n",
      "[Succeeded / Failed / Skipped / Total] 140 / 88 / 18 / 246:  49%|████▉     | 246/500 [3:07:14<3:13:19, 45.67s/it]\u001b[A"
     ]
    },
    {
     "name": "stdout",
     "output_type": "stream",
     "text": [
      "--------------------------------------------- Result 246 ---------------------------------------------\n",
      "[[Negative (99%)]] --> [[Positive (77%)]]\n",
      "\n",
      "不转不行啊 南航最可恶的就是机餐上供应的是蒙牛酸奶@_C93\n",
      "\n",
      "部转步行啊 南杭最可额的就是机餐上供应的是蒙牛酸奶@_C93\n",
      "\n",
      "\n"
     ]
    },
    {
     "name": "stderr",
     "output_type": "stream",
     "text": [
      "\n",
      "[Succeeded / Failed / Skipped / Total] 140 / 88 / 18 / 246:  49%|████▉     | 247/500 [3:08:11<3:12:45, 45.71s/it]\u001b[A\n",
      "[Succeeded / Failed / Skipped / Total] 141 / 88 / 18 / 247:  49%|████▉     | 247/500 [3:08:11<3:12:45, 45.71s/it]\u001b[A"
     ]
    },
    {
     "name": "stdout",
     "output_type": "stream",
     "text": [
      "--------------------------------------------- Result 247 ---------------------------------------------\n",
      "[[Negative (98%)]] --> [[Positive (76%)]]\n",
      "\n",
      "去中关村总部提货没有，又去的亚运村，亚运村的服务人员态度不好！！！我是新手不会装系统！让帮忙装一下，说不管，郁闷了半天 ，最后让我同事帮我搞好的！！应该加强人员的培训！！！\n",
      "\n",
      "去中关村总部提货没有，又去的亚运村，亚运村的服务人员态度部好！！！我是新手不会装系统！让帮忙装一下，说不管，郁们了半天 ，最后让我同事帮我搞好的！！应该加强人员的培训！！！\n",
      "\n",
      "\n"
     ]
    },
    {
     "name": "stderr",
     "output_type": "stream",
     "text": [
      "\n",
      "[Succeeded / Failed / Skipped / Total] 141 / 88 / 18 / 247:  50%|████▉     | 248/500 [3:09:40<3:12:44, 45.89s/it]\u001b[A\n",
      "[Succeeded / Failed / Skipped / Total] 142 / 88 / 18 / 248:  50%|████▉     | 248/500 [3:09:40<3:12:44, 45.89s/it]\u001b[A"
     ]
    },
    {
     "name": "stdout",
     "output_type": "stream",
     "text": [
      "--------------------------------------------- Result 248 ---------------------------------------------\n",
      "[[Positive (94%)]] --> [[Negative (60%)]]\n",
      "\n",
      "速度快，效率高，服务态度也好，就是漏了，这次居然没有带买的减震的小袋子，好评吧，毕竟618还能第二天到还是不容易的。\n",
      "\n",
      "速毒块，效率告，服务态读也好，就是漏了，这次居然每有带卖的减震的小袋子，豪评吧，笔竟618还能第二天到还是不容易的。\n",
      "\n",
      "\n"
     ]
    },
    {
     "name": "stderr",
     "output_type": "stream",
     "text": [
      "\n",
      "[Succeeded / Failed / Skipped / Total] 142 / 88 / 18 / 248:  50%|████▉     | 249/500 [3:10:17<3:11:49, 45.85s/it]\u001b[A\n",
      "[Succeeded / Failed / Skipped / Total] 143 / 88 / 18 / 249:  50%|████▉     | 249/500 [3:10:17<3:11:49, 45.85s/it]\u001b[A"
     ]
    },
    {
     "name": "stdout",
     "output_type": "stream",
     "text": [
      "--------------------------------------------- Result 249 ---------------------------------------------\n",
      "[[Negative (98%)]] --> [[Positive (86%)]]\n",
      "\n",
      "漏液。包装不好。差评。\n",
      "\n",
      "漏页。包状部好。差平。\n",
      "\n",
      "\n"
     ]
    },
    {
     "name": "stderr",
     "output_type": "stream",
     "text": [
      "\n",
      "[Succeeded / Failed / Skipped / Total] 143 / 88 / 18 / 249:  50%|█████     | 250/500 [3:10:59<3:10:59, 45.84s/it]\u001b[A\n",
      "[Succeeded / Failed / Skipped / Total] 144 / 88 / 18 / 250:  50%|█████     | 250/500 [3:10:59<3:10:59, 45.84s/it]\u001b[A"
     ]
    },
    {
     "name": "stdout",
     "output_type": "stream",
     "text": [
      "--------------------------------------------- Result 250 ---------------------------------------------\n",
      "[[Positive (98%)]] --> [[Negative (52%)]]\n",
      "\n",
      "买了好多好多 购一家人使用很久啦\n",
      "\n",
      "埋了好多好多 购一家人使用很久拉\n",
      "\n",
      "\n"
     ]
    },
    {
     "name": "stderr",
     "output_type": "stream",
     "text": [
      "\n",
      "[Succeeded / Failed / Skipped / Total] 144 / 88 / 18 / 250:  50%|█████     | 251/500 [3:11:55<3:10:23, 45.88s/it]\u001b[A\n",
      "[Succeeded / Failed / Skipped / Total] 145 / 88 / 18 / 251:  50%|█████     | 251/500 [3:11:55<3:10:23, 45.88s/it]\u001b[A"
     ]
    },
    {
     "name": "stdout",
     "output_type": "stream",
     "text": [
      "--------------------------------------------- Result 251 ---------------------------------------------\n",
      "[[Positive (95%)]] --> [[Negative (78%)]]\n",
      "\n",
      "5USB接口，再加上esata接口，在接口方面已经非常齐全了，同时性能配置也不低\n",
      "\n",
      "5USB接口，再加伤esata接口，在接口放面已经费常气全了，同时行能配之也不低\n",
      "\n",
      "\n"
     ]
    },
    {
     "name": "stderr",
     "output_type": "stream",
     "text": [
      "\n",
      "[Succeeded / Failed / Skipped / Total] 145 / 88 / 18 / 251:  50%|█████     | 252/500 [3:12:47<3:09:43, 45.90s/it]\u001b[A\n",
      "[Succeeded / Failed / Skipped / Total] 146 / 88 / 18 / 252:  50%|█████     | 252/500 [3:12:47<3:09:43, 45.90s/it]\u001b[A"
     ]
    },
    {
     "name": "stdout",
     "output_type": "stream",
     "text": [
      "--------------------------------------------- Result 252 ---------------------------------------------\n",
      "[[Negative (99%)]] --> [[Positive (91%)]]\n",
      "\n",
      "这款机子，太拉烂，后悔无话可说．\n",
      "\n",
      "这款即自，太拉蓝，后会物话可说．\n",
      "\n",
      "\n"
     ]
    },
    {
     "name": "stderr",
     "output_type": "stream",
     "text": [
      "\n",
      "[Succeeded / Failed / Skipped / Total] 146 / 88 / 18 / 252:  51%|█████     | 253/500 [3:13:22<3:08:47, 45.86s/it]\u001b[A\n",
      "[Succeeded / Failed / Skipped / Total] 147 / 88 / 18 / 253:  51%|█████     | 253/500 [3:13:22<3:08:47, 45.86s/it]\u001b[A"
     ]
    },
    {
     "name": "stdout",
     "output_type": "stream",
     "text": [
      "--------------------------------------------- Result 253 ---------------------------------------------\n",
      "[[Positive (81%)]] --> [[Negative (64%)]]\n",
      "\n",
      "男士养生，罗湖区文锦中路京基东方华都一楼（螺岭公交站台旁），到前台就说跟$凌薇$预约。电话13265687172\n",
      "\n",
      "男士杨生，罗湖区文锦中路京基东方华都一楼（螺岭公交站台旁），到前台就说跟$凌薇$预约。电话13265687172\n",
      "\n",
      "\n"
     ]
    },
    {
     "name": "stderr",
     "output_type": "stream",
     "text": [
      "\n",
      "[Succeeded / Failed / Skipped / Total] 147 / 88 / 18 / 253:  51%|█████     | 254/500 [3:13:48<3:07:42, 45.78s/it]\u001b[A\n",
      "[Succeeded / Failed / Skipped / Total] 147 / 89 / 18 / 254:  51%|█████     | 254/500 [3:13:48<3:07:42, 45.78s/it]\u001b[A"
     ]
    },
    {
     "name": "stdout",
     "output_type": "stream",
     "text": [
      "--------------------------------------------- Result 254 ---------------------------------------------\n",
      "[[Negative (98%)]] --> [[[FAILED]]]\n",
      "\n",
      "垃圾，洗的头很痒，大家不要上当，\n",
      "\n",
      "\n"
     ]
    },
    {
     "name": "stderr",
     "output_type": "stream",
     "text": [
      "\n",
      "[Succeeded / Failed / Skipped / Total] 147 / 89 / 18 / 254:  51%|█████     | 255/500 [3:15:25<3:07:45, 45.98s/it]\u001b[A\n",
      "[Succeeded / Failed / Skipped / Total] 147 / 90 / 18 / 255:  51%|█████     | 255/500 [3:15:25<3:07:45, 45.98s/it]\u001b[A"
     ]
    },
    {
     "name": "stdout",
     "output_type": "stream",
     "text": [
      "--------------------------------------------- Result 255 ---------------------------------------------\n",
      "[[Negative (99%)]] --> [[[FAILED]]]\n",
      "\n",
      "服务太差了,堂堂的五星酒店房间里竟连一双拖鞋也没有,连一般的小旅馆也不如,调来调去调了一个垃圾酒店,让人太失望了.\n",
      "\n",
      "\n"
     ]
    },
    {
     "name": "stderr",
     "output_type": "stream",
     "text": [
      "\n",
      "[Succeeded / Failed / Skipped / Total] 147 / 90 / 18 / 255:  51%|█████     | 256/500 [3:15:26<3:06:17, 45.81s/it]\u001b[A\n",
      "[Succeeded / Failed / Skipped / Total] 147 / 90 / 19 / 256:  51%|█████     | 256/500 [3:15:26<3:06:17, 45.81s/it]\u001b[A"
     ]
    },
    {
     "name": "stdout",
     "output_type": "stream",
     "text": [
      "--------------------------------------------- Result 256 ---------------------------------------------\n",
      "[[Negative (96%)]] --> [[[SKIPPED]]]\n",
      "\n",
      "设计不合理，肩刚好合适，长度就太长了，能有xl的长度了。\n",
      "\n",
      "\n"
     ]
    },
    {
     "name": "stderr",
     "output_type": "stream",
     "text": [
      "\n",
      "[Succeeded / Failed / Skipped / Total] 147 / 90 / 19 / 256:  51%|█████▏    | 257/500 [3:16:40<3:05:57, 45.92s/it]\u001b[A\n",
      "[Succeeded / Failed / Skipped / Total] 148 / 90 / 19 / 257:  51%|█████▏    | 257/500 [3:16:40<3:05:57, 45.92s/it]\u001b[A"
     ]
    },
    {
     "name": "stdout",
     "output_type": "stream",
     "text": [
      "--------------------------------------------- Result 257 ---------------------------------------------\n",
      "[[Positive (96%)]] --> [[Negative (96%)]]\n",
      "\n",
      "店家发货很快，裤子样式看上去很不错，穿上感觉很修身，下次还会来这里买\n",
      "\n",
      "店假发火很块，裤子养式看伤去很不搓，传上感觉很修身，下此还会来这里买\n",
      "\n",
      "\n"
     ]
    },
    {
     "name": "stderr",
     "output_type": "stream",
     "text": [
      "\n",
      "[Succeeded / Failed / Skipped / Total] 148 / 90 / 19 / 257:  52%|█████▏    | 258/500 [3:17:44<3:05:28, 45.99s/it]\u001b[A\n",
      "[Succeeded / Failed / Skipped / Total] 148 / 91 / 19 / 258:  52%|█████▏    | 258/500 [3:17:44<3:05:28, 45.99s/it]\u001b[A"
     ]
    },
    {
     "name": "stdout",
     "output_type": "stream",
     "text": [
      "--------------------------------------------- Result 258 ---------------------------------------------\n",
      "[[Positive (98%)]] --> [[[FAILED]]]\n",
      "\n",
      "非常好！活动时买的，物美价廉，非常实惠！品牌的东西，值得信赖！\n",
      "\n",
      "\n"
     ]
    },
    {
     "name": "stderr",
     "output_type": "stream",
     "text": [
      "\n",
      "[Succeeded / Failed / Skipped / Total] 148 / 91 / 19 / 258:  52%|█████▏    | 259/500 [3:18:10<3:04:24, 45.91s/it]\u001b[A\n",
      "[Succeeded / Failed / Skipped / Total] 148 / 92 / 19 / 259:  52%|█████▏    | 259/500 [3:18:10<3:04:24, 45.91s/it]\u001b[A"
     ]
    },
    {
     "name": "stdout",
     "output_type": "stream",
     "text": [
      "--------------------------------------------- Result 259 ---------------------------------------------\n",
      "[[Negative (99%)]] --> [[[FAILED]]]\n",
      "\n",
      "又小又酸，不如之前的，打算砸招牌吗\n",
      "\n",
      "\n"
     ]
    },
    {
     "name": "stderr",
     "output_type": "stream",
     "text": [
      "\n",
      "[Succeeded / Failed / Skipped / Total] 148 / 92 / 19 / 259:  52%|█████▏    | 260/500 [3:18:44<3:03:27, 45.86s/it]\u001b[A\n",
      "[Succeeded / Failed / Skipped / Total] 149 / 92 / 19 / 260:  52%|█████▏    | 260/500 [3:18:44<3:03:27, 45.86s/it]\u001b[A"
     ]
    },
    {
     "name": "stdout",
     "output_type": "stream",
     "text": [
      "--------------------------------------------- Result 260 ---------------------------------------------\n",
      "[[Negative (96%)]] --> [[Positive (95%)]]\n",
      "\n",
      "物流太慢了，必须给差评\n",
      "\n",
      "物六太蛮了，必需给茶评\n",
      "\n",
      "\n"
     ]
    },
    {
     "name": "stderr",
     "output_type": "stream",
     "text": [
      "\n",
      "[Succeeded / Failed / Skipped / Total] 149 / 92 / 19 / 260:  52%|█████▏    | 261/500 [3:18:52<3:02:06, 45.72s/it]\u001b[A\n",
      "[Succeeded / Failed / Skipped / Total] 149 / 93 / 19 / 261:  52%|█████▏    | 261/500 [3:18:52<3:02:06, 45.72s/it]\u001b[A"
     ]
    },
    {
     "name": "stdout",
     "output_type": "stream",
     "text": [
      "--------------------------------------------- Result 261 ---------------------------------------------\n",
      "[[Negative (95%)]] --> [[[FAILED]]]\n",
      "\n",
      "不喝蒙牛\n",
      "\n",
      "\n"
     ]
    },
    {
     "name": "stderr",
     "output_type": "stream",
     "text": [
      "\n",
      "[Succeeded / Failed / Skipped / Total] 149 / 93 / 19 / 261:  52%|█████▏    | 262/500 [3:20:58<3:02:33, 46.02s/it]\u001b[A\n",
      "[Succeeded / Failed / Skipped / Total] 150 / 93 / 19 / 262:  52%|█████▏    | 262/500 [3:20:58<3:02:33, 46.02s/it]\u001b[A"
     ]
    },
    {
     "name": "stdout",
     "output_type": "stream",
     "text": [
      "--------------------------------------------- Result 262 ---------------------------------------------\n",
      "[[Positive (91%)]] --> [[Negative (87%)]]\n",
      "\n",
      "前两次都是入住的精致套房，这次选的是丽家套房B，两种房间价格差不多但差距也太大了，以后要是再去南京一定要选丽家套房B，房间设施方面都比精致套房好几倍。\n",
      "\n",
      "前两词都是如住的竟致套房，这次玄的是离家掏房B，两重房见价格差不躲但差句也抬大了，以后要是再去南精一定要选丽家套房B，房间设施方面都比精致套房好几倍。\n",
      "\n",
      "\n"
     ]
    },
    {
     "name": "stderr",
     "output_type": "stream",
     "text": [
      "\n",
      "[Succeeded / Failed / Skipped / Total] 150 / 93 / 19 / 262:  53%|█████▎    | 263/500 [3:21:26<3:01:31, 45.96s/it]\u001b[A\n",
      "[Succeeded / Failed / Skipped / Total] 150 / 94 / 19 / 263:  53%|█████▎    | 263/500 [3:21:26<3:01:31, 45.96s/it]\u001b[A"
     ]
    },
    {
     "name": "stdout",
     "output_type": "stream",
     "text": [
      "--------------------------------------------- Result 263 ---------------------------------------------\n",
      "[[Negative (98%)]] --> [[[FAILED]]]\n",
      "\n",
      "本本外壳的模具有些粗糙，usb口感觉粗糙，接口的金属都看到了。不爽。\n",
      "\n",
      "\n"
     ]
    },
    {
     "name": "stderr",
     "output_type": "stream",
     "text": [
      "\n",
      "[Succeeded / Failed / Skipped / Total] 150 / 94 / 19 / 263:  53%|█████▎    | 264/500 [3:23:26<3:01:51, 46.24s/it]\u001b[A\n",
      "[Succeeded / Failed / Skipped / Total] 151 / 94 / 19 / 264:  53%|█████▎    | 264/500 [3:23:26<3:01:51, 46.24s/it]\u001b[A"
     ]
    },
    {
     "name": "stdout",
     "output_type": "stream",
     "text": [
      "--------------------------------------------- Result 264 ---------------------------------------------\n",
      "[[Positive (96%)]] --> [[Negative (60%)]]\n",
      "\n",
      "1.运行速度挺快。2.手感十分舒适。3.待机时间比较理想。4.机身存储量容量大。\n",
      "\n",
      "1.运性速读停快。2.受感十份书适。3.呆机时间逼较离想。4.及身存储两容量大。\n",
      "\n",
      "\n"
     ]
    },
    {
     "name": "stderr",
     "output_type": "stream",
     "text": [
      "\n",
      "[Succeeded / Failed / Skipped / Total] 151 / 94 / 19 / 264:  53%|█████▎    | 265/500 [3:24:15<3:01:08, 46.25s/it]\u001b[A\n",
      "[Succeeded / Failed / Skipped / Total] 151 / 95 / 19 / 265:  53%|█████▎    | 265/500 [3:24:15<3:01:08, 46.25s/it]\u001b[A"
     ]
    },
    {
     "name": "stdout",
     "output_type": "stream",
     "text": [
      "--------------------------------------------- Result 265 ---------------------------------------------\n",
      "[[Positive (96%)]] --> [[[FAILED]]]\n",
      "\n",
      "包装的很好，质量不错，大小正好，穿着很舒适，和介绍的一样\n",
      "\n",
      "\n"
     ]
    },
    {
     "name": "stderr",
     "output_type": "stream",
     "text": [
      "\n",
      "[Succeeded / Failed / Skipped / Total] 151 / 95 / 19 / 265:  53%|█████▎    | 266/500 [3:26:45<3:01:53, 46.64s/it]\u001b[A\n",
      "[Succeeded / Failed / Skipped / Total] 152 / 95 / 19 / 266:  53%|█████▎    | 266/500 [3:26:45<3:01:53, 46.64s/it]\u001b[A"
     ]
    },
    {
     "name": "stdout",
     "output_type": "stream",
     "text": [
      "--------------------------------------------- Result 266 ---------------------------------------------\n",
      "[[Negative (99%)]] --> [[Positive (95%)]]\n",
      "\n",
      "差评！买回来穿了第二次破了个口子、联系客服也不理，还问我怎么整破的，我拿剪子剪的？还在京东呢真是恶心到我了！追加我会附上照片！\n",
      "\n",
      "茶评！买回来穿了第二次颇了个扣子、联系克服也步理，还问我怎么蒸破的，我拿剪子剪的？还在京动呢真使呃心到我了！缀加握会附上照片！\n",
      "\n",
      "\n"
     ]
    },
    {
     "name": "stderr",
     "output_type": "stream",
     "text": [
      "\n",
      "[Succeeded / Failed / Skipped / Total] 152 / 95 / 19 / 266:  53%|█████▎    | 267/500 [3:29:21<3:02:41, 47.05s/it]\u001b[A\n",
      "[Succeeded / Failed / Skipped / Total] 153 / 95 / 19 / 267:  53%|█████▎    | 267/500 [3:29:21<3:02:41, 47.05s/it]\u001b[A"
     ]
    },
    {
     "name": "stdout",
     "output_type": "stream",
     "text": [
      "--------------------------------------------- Result 267 ---------------------------------------------\n",
      "[[Negative (99%)]] --> [[Positive (51%)]]\n",
      "\n",
      "我真是对客服无语了。裤子的尺码选小了是我的错，可是我用顺丰给你邮寄回去为什么一直不签收？留的电话也是个死机号，客服也一直没有人说话，给京东官方反映了也没有个说法。真是没话说了\n",
      "\n",
      "我真是对客服物语了。酷子的尺妈选笑了是我的搓，可是我用瞬丰给你有寄回区为什么一直不签收？留的店话也是个丝即好，克服也一直没有人说花，给京东馆方反映了也没有个说罚。真是没话说了\n",
      "\n",
      "\n"
     ]
    },
    {
     "name": "stderr",
     "output_type": "stream",
     "text": [
      "\n",
      "[Succeeded / Failed / Skipped / Total] 153 / 95 / 19 / 267:  54%|█████▎    | 268/500 [3:30:12<3:01:58, 47.06s/it]\u001b[A\n",
      "[Succeeded / Failed / Skipped / Total] 153 / 96 / 19 / 268:  54%|█████▎    | 268/500 [3:30:12<3:01:58, 47.06s/it]\u001b[A"
     ]
    },
    {
     "name": "stdout",
     "output_type": "stream",
     "text": [
      "--------------------------------------------- Result 268 ---------------------------------------------\n",
      "[[Positive (99%)]] --> [[[FAILED]]]\n",
      "\n",
      "跟你交易次次都这么成功和开心的..希望我们以后有更多的交易吧...哈哈\n",
      "\n",
      "\n"
     ]
    },
    {
     "name": "stderr",
     "output_type": "stream",
     "text": [
      "\n",
      "[Succeeded / Failed / Skipped / Total] 153 / 96 / 19 / 268:  54%|█████▍    | 269/500 [3:30:35<3:00:50, 46.97s/it]\u001b[A\n",
      "[Succeeded / Failed / Skipped / Total] 154 / 96 / 19 / 269:  54%|█████▍    | 269/500 [3:30:35<3:00:50, 46.97s/it]\u001b[A"
     ]
    },
    {
     "name": "stdout",
     "output_type": "stream",
     "text": [
      "--------------------------------------------- Result 269 ---------------------------------------------\n",
      "[[Positive (73%)]] --> [[Negative (63%)]]\n",
      "\n",
      "一次性买这么多，应该贵用很久，海飞丝用完了就用这个……烫发后的好选择……\n",
      "\n",
      "一次性买这么多，应该贵用很久，海飞丝用晚了就用这个……烫发后的好选则……\n",
      "\n",
      "\n"
     ]
    },
    {
     "name": "stderr",
     "output_type": "stream",
     "text": [
      "\n",
      "[Succeeded / Failed / Skipped / Total] 154 / 96 / 19 / 269:  54%|█████▍    | 270/500 [3:32:22<3:00:55, 47.20s/it]\u001b[A\n",
      "[Succeeded / Failed / Skipped / Total] 154 / 97 / 19 / 270:  54%|█████▍    | 270/500 [3:32:22<3:00:55, 47.20s/it]\u001b[A"
     ]
    },
    {
     "name": "stdout",
     "output_type": "stream",
     "text": [
      "--------------------------------------------- Result 270 ---------------------------------------------\n",
      "[[Positive (97%)]] --> [[[FAILED]]]\n",
      "\n",
      "相当好的酒店，很意外在山西能有这种水准的4星酒店，基本完美，没想出有什么不好的地方，住了2天，很满意！\n",
      "\n",
      "\n"
     ]
    },
    {
     "name": "stderr",
     "output_type": "stream",
     "text": [
      "\n",
      "[Succeeded / Failed / Skipped / Total] 154 / 97 / 19 / 270:  54%|█████▍    | 271/500 [3:32:39<2:59:41, 47.08s/it]\u001b[A\n",
      "[Succeeded / Failed / Skipped / Total] 155 / 97 / 19 / 271:  54%|█████▍    | 271/500 [3:32:39<2:59:41, 47.08s/it]\u001b[A"
     ]
    },
    {
     "name": "stdout",
     "output_type": "stream",
     "text": [
      "--------------------------------------------- Result 271 ---------------------------------------------\n",
      "[[Positive (95%)]] --> [[Negative (90%)]]\n",
      "\n",
      "单位搞活动时候买的，非常满意\n",
      "\n",
      "单位搞活动时候买的，非常慢意\n",
      "\n",
      "\n"
     ]
    },
    {
     "name": "stderr",
     "output_type": "stream",
     "text": [
      "\n",
      "[Succeeded / Failed / Skipped / Total] 155 / 97 / 19 / 271:  54%|█████▍    | 272/500 [3:33:22<2:58:51, 47.07s/it]\u001b[A\n",
      "[Succeeded / Failed / Skipped / Total] 156 / 97 / 19 / 272:  54%|█████▍    | 272/500 [3:33:22<2:58:51, 47.07s/it]\u001b[A"
     ]
    },
    {
     "name": "stdout",
     "output_type": "stream",
     "text": [
      "--------------------------------------------- Result 272 ---------------------------------------------\n",
      "[[Positive (91%)]] --> [[Negative (67%)]]\n",
      "\n",
      "裤子刚到手 质量很不错 面料舒适 尺码合身\n",
      "\n",
      "苦子刚到受 质量很步错 面料数适 尺码喝身\n",
      "\n",
      "\n"
     ]
    },
    {
     "name": "stderr",
     "output_type": "stream",
     "text": [
      "\n",
      "[Succeeded / Failed / Skipped / Total] 156 / 97 / 19 / 272:  55%|█████▍    | 273/500 [3:35:33<2:59:13, 47.37s/it]\u001b[A\n",
      "[Succeeded / Failed / Skipped / Total] 156 / 98 / 19 / 273:  55%|█████▍    | 273/500 [3:35:33<2:59:13, 47.37s/it]\u001b[A"
     ]
    },
    {
     "name": "stdout",
     "output_type": "stream",
     "text": [
      "--------------------------------------------- Result 273 ---------------------------------------------\n",
      "[[Negative (99%)]] --> [[[FAILED]]]\n",
      "\n",
      "什么垃圾手机，不到半年就听不到来电话音，修了三次还是一样，勉强用了刚一年，主板就坏得没有办法修了，这种手机也好意思拿来作广告。\n",
      "\n",
      "\n"
     ]
    },
    {
     "name": "stderr",
     "output_type": "stream",
     "text": [
      "\n",
      "[Succeeded / Failed / Skipped / Total] 156 / 98 / 19 / 273:  55%|█████▍    | 274/500 [3:36:51<2:58:51, 47.49s/it]\u001b[A\n",
      "[Succeeded / Failed / Skipped / Total] 157 / 98 / 19 / 274:  55%|█████▍    | 274/500 [3:36:51<2:58:51, 47.49s/it]\u001b[A"
     ]
    },
    {
     "name": "stdout",
     "output_type": "stream",
     "text": [
      "--------------------------------------------- Result 274 ---------------------------------------------\n",
      "[[Negative (98%)]] --> [[Positive (66%)]]\n",
      "\n",
      "地址位置可以，但是房间没有窗户，还是有点难受的；刚进去气味有点次不消，太闷了！ 介意的旅客就不必考虑了\n",
      "\n",
      "滴址位置可以，但是房间没有窗湖，还是有店南受的；刚进去气味有点次不小，太们了！ 介意的旅客就不必考虑了\n",
      "\n",
      "\n"
     ]
    },
    {
     "name": "stderr",
     "output_type": "stream",
     "text": [
      "\n",
      "[Succeeded / Failed / Skipped / Total] 157 / 98 / 19 / 274:  55%|█████▌    | 275/500 [3:38:11<2:58:31, 47.61s/it]\u001b[A\n",
      "[Succeeded / Failed / Skipped / Total] 157 / 99 / 19 / 275:  55%|█████▌    | 275/500 [3:38:11<2:58:31, 47.61s/it]\u001b[A"
     ]
    },
    {
     "name": "stdout",
     "output_type": "stream",
     "text": [
      "--------------------------------------------- Result 275 ---------------------------------------------\n",
      "[[Negative (99%)]] --> [[[FAILED]]]\n",
      "\n",
      "容我坦白说，这本书真的令人失望。看不到一半就没再看了，书中的内容乏味。\n",
      "\n",
      "\n"
     ]
    },
    {
     "name": "stderr",
     "output_type": "stream",
     "text": [
      "\n",
      "[Succeeded / Failed / Skipped / Total] 157 / 99 / 19 / 275:  55%|█████▌    | 276/500 [3:38:44<2:57:31, 47.55s/it]\u001b[A\n",
      "[Succeeded / Failed / Skipped / Total] 157 / 100 / 19 / 276:  55%|█████▌    | 276/500 [3:38:44<2:57:31, 47.55s/it]\u001b[A"
     ]
    },
    {
     "name": "stdout",
     "output_type": "stream",
     "text": [
      "--------------------------------------------- Result 276 ---------------------------------------------\n",
      "[[Negative (97%)]] --> [[[FAILED]]]\n",
      "\n",
      "内存小了，想退货不知道了可给退\n",
      "\n",
      "\n"
     ]
    },
    {
     "name": "stderr",
     "output_type": "stream",
     "text": [
      "\n",
      "[Succeeded / Failed / Skipped / Total] 157 / 100 / 19 / 276:  55%|█████▌    | 277/500 [3:39:19<2:56:34, 47.51s/it]\u001b[A\n",
      "[Succeeded / Failed / Skipped / Total] 157 / 101 / 19 / 277:  55%|█████▌    | 277/500 [3:39:19<2:56:34, 47.51s/it]\u001b[A"
     ]
    },
    {
     "name": "stdout",
     "output_type": "stream",
     "text": [
      "--------------------------------------------- Result 277 ---------------------------------------------\n",
      "[[Negative (99%)]] --> [[[FAILED]]]\n",
      "\n",
      "都快坏了也拿出来卖，还不好吃，以后再也不在这上面买了\n",
      "\n",
      "\n"
     ]
    },
    {
     "name": "stderr",
     "output_type": "stream",
     "text": [
      "\n",
      "[Succeeded / Failed / Skipped / Total] 157 / 101 / 19 / 277:  56%|█████▌    | 278/500 [3:40:37<2:56:10, 47.62s/it]\u001b[A\n",
      "[Succeeded / Failed / Skipped / Total] 157 / 102 / 19 / 278:  56%|█████▌    | 278/500 [3:40:37<2:56:10, 47.62s/it]\u001b[A"
     ]
    },
    {
     "name": "stdout",
     "output_type": "stream",
     "text": [
      "--------------------------------------------- Result 278 ---------------------------------------------\n",
      "[[Positive (94%)]] --> [[[FAILED]]]\n",
      "\n",
      "环境不错，对着马路的房间窗外风景好，其他方向的房间看出去是居民房。房间干净，设施也都完好。\n",
      "\n",
      "\n"
     ]
    },
    {
     "name": "stderr",
     "output_type": "stream",
     "text": [
      "\n",
      "[Succeeded / Failed / Skipped / Total] 157 / 102 / 19 / 278:  56%|█████▌    | 279/500 [3:41:02<2:55:05, 47.53s/it]\u001b[A\n",
      "[Succeeded / Failed / Skipped / Total] 157 / 103 / 19 / 279:  56%|█████▌    | 279/500 [3:41:02<2:55:05, 47.53s/it]\u001b[A"
     ]
    },
    {
     "name": "stdout",
     "output_type": "stream",
     "text": [
      "--------------------------------------------- Result 279 ---------------------------------------------\n",
      "[[Positive (83%)]] --> [[[FAILED]]]\n",
      "\n",
      "酒店还可以，就是性价比不高，要是便宜点就好了。\n",
      "\n",
      "\n"
     ]
    },
    {
     "name": "stderr",
     "output_type": "stream",
     "text": [
      "\n",
      "[Succeeded / Failed / Skipped / Total] 157 / 103 / 19 / 279:  56%|█████▌    | 280/500 [3:41:32<2:54:04, 47.47s/it]\u001b[A\n",
      "[Succeeded / Failed / Skipped / Total] 157 / 104 / 19 / 280:  56%|█████▌    | 280/500 [3:41:32<2:54:04, 47.47s/it]\u001b[A"
     ]
    },
    {
     "name": "stdout",
     "output_type": "stream",
     "text": [
      "--------------------------------------------- Result 280 ---------------------------------------------\n",
      "[[Positive (99%)]] --> [[[FAILED]]]\n",
      "\n",
      "宝贝收到了，感觉非常的好！\n",
      "\n",
      "\n"
     ]
    },
    {
     "name": "stderr",
     "output_type": "stream",
     "text": [
      "\n",
      "[Succeeded / Failed / Skipped / Total] 157 / 104 / 19 / 280:  56%|█████▌    | 281/500 [3:41:56<2:52:58, 47.39s/it]\u001b[A\n",
      "[Succeeded / Failed / Skipped / Total] 158 / 104 / 19 / 281:  56%|█████▌    | 281/500 [3:41:56<2:52:58, 47.39s/it]\u001b[A"
     ]
    },
    {
     "name": "stdout",
     "output_type": "stream",
     "text": [
      "--------------------------------------------- Result 281 ---------------------------------------------\n",
      "[[Negative (91%)]] --> [[Positive (69%)]]\n",
      "\n",
      "又酸又苦涩我也是服了，还烟台红富士，亏我还是会员 你们现在真行\n",
      "\n",
      "又酸又苦涩我也是服了，还烟台红富士，于我还是会员 你们现载真行\n",
      "\n",
      "\n"
     ]
    },
    {
     "name": "stderr",
     "output_type": "stream",
     "text": [
      "\n",
      "[Succeeded / Failed / Skipped / Total] 158 / 104 / 19 / 281:  56%|█████▋    | 282/500 [3:42:17<2:51:50, 47.29s/it]\u001b[A\n",
      "[Succeeded / Failed / Skipped / Total] 159 / 104 / 19 / 282:  56%|█████▋    | 282/500 [3:42:17<2:51:50, 47.29s/it]\u001b[A"
     ]
    },
    {
     "name": "stdout",
     "output_type": "stream",
     "text": [
      "--------------------------------------------- Result 282 ---------------------------------------------\n",
      "[[Positive (84%)]] --> [[Negative (72%)]]\n",
      "\n",
      "苹果是味道不错，但是过于松软，还是脆口感的好吃。\n",
      "\n",
      "苹果是味道不错，但是过于松软，还是催口感的号吃。\n",
      "\n",
      "\n"
     ]
    },
    {
     "name": "stderr",
     "output_type": "stream",
     "text": [
      "\n",
      "[Succeeded / Failed / Skipped / Total] 159 / 104 / 19 / 282:  57%|█████▋    | 283/500 [3:42:59<2:50:59, 47.28s/it]\u001b[A\n",
      "[Succeeded / Failed / Skipped / Total] 160 / 104 / 19 / 283:  57%|█████▋    | 283/500 [3:42:59<2:50:59, 47.28s/it]\u001b[A"
     ]
    },
    {
     "name": "stdout",
     "output_type": "stream",
     "text": [
      "--------------------------------------------- Result 283 ---------------------------------------------\n",
      "[[Positive (98%)]] --> [[Negative (82%)]]\n",
      "\n",
      "屏幕很大，给老人用的，非常棒\n",
      "\n",
      "屏幕恨大，给老人涌的，非常榜\n",
      "\n",
      "\n"
     ]
    },
    {
     "name": "stderr",
     "output_type": "stream",
     "text": [
      "\n",
      "[Succeeded / Failed / Skipped / Total] 160 / 104 / 19 / 283:  57%|█████▋    | 284/500 [3:43:36<2:50:04, 47.24s/it]\u001b[A\n",
      "[Succeeded / Failed / Skipped / Total] 161 / 104 / 19 / 284:  57%|█████▋    | 284/500 [3:43:36<2:50:04, 47.24s/it]\u001b[A"
     ]
    },
    {
     "name": "stdout",
     "output_type": "stream",
     "text": [
      "--------------------------------------------- Result 284 ---------------------------------------------\n",
      "[[Negative (99%)]] --> [[Positive (84%)]]\n",
      "\n",
      "苹果因为送货拖延，结果成了冻苹果了！给快递打电话送货态度也不好！\n",
      "\n",
      "苹果因为送货拖延，结果成了懂苹果了！给快递打电话送活态度也部好！\n",
      "\n",
      "\n"
     ]
    },
    {
     "name": "stderr",
     "output_type": "stream",
     "text": [
      "\n",
      "[Succeeded / Failed / Skipped / Total] 161 / 104 / 19 / 284:  57%|█████▋    | 285/500 [3:43:54<2:48:54, 47.14s/it]\u001b[A\n",
      "[Succeeded / Failed / Skipped / Total] 162 / 104 / 19 / 285:  57%|█████▋    | 285/500 [3:43:54<2:48:54, 47.14s/it]\u001b[A"
     ]
    },
    {
     "name": "stdout",
     "output_type": "stream",
     "text": [
      "--------------------------------------------- Result 285 ---------------------------------------------\n",
      "[[Positive (78%)]] --> [[Negative (66%)]]\n",
      "\n",
      "呀，感觉有点短。。穿起来还是蛮舒服的\n",
      "\n",
      "呀，感觉有点短。。穿起来还是蛮数服的\n",
      "\n",
      "\n"
     ]
    },
    {
     "name": "stderr",
     "output_type": "stream",
     "text": [
      "\n",
      "[Succeeded / Failed / Skipped / Total] 162 / 104 / 19 / 285:  57%|█████▋    | 286/500 [3:44:22<2:47:52, 47.07s/it]\u001b[A\n",
      "[Succeeded / Failed / Skipped / Total] 163 / 104 / 19 / 286:  57%|█████▋    | 286/500 [3:44:22<2:47:52, 47.07s/it]\u001b[A"
     ]
    },
    {
     "name": "stdout",
     "output_type": "stream",
     "text": [
      "--------------------------------------------- Result 286 ---------------------------------------------\n",
      "[[Negative (75%)]] --> [[Positive (76%)]]\n",
      "\n",
      "对京东不满，产品降价了不能保价的，以后看好了再买，对我来说，慎重购买，别给自己找不痛快\n",
      "\n",
      "对京东不慢，产品降价了不能保价的，以后看好了再买，对我来说，慎重购买，别给自己找不痛快\n",
      "\n",
      "\n"
     ]
    },
    {
     "name": "stderr",
     "output_type": "stream",
     "text": [
      "\n",
      "[Succeeded / Failed / Skipped / Total] 163 / 104 / 19 / 286:  57%|█████▋    | 287/500 [3:45:15<2:47:11, 47.09s/it]\u001b[A\n",
      "[Succeeded / Failed / Skipped / Total] 164 / 104 / 19 / 287:  57%|█████▋    | 287/500 [3:45:15<2:47:11, 47.09s/it]\u001b[A"
     ]
    },
    {
     "name": "stdout",
     "output_type": "stream",
     "text": [
      "--------------------------------------------- Result 287 ---------------------------------------------\n",
      "[[Positive (97%)]] --> [[Negative (61%)]]\n",
      "\n",
      "发货快，包装好，果子香，非常满意，还会再买。\n",
      "\n",
      "发货筷，包装好，果自想，非常慢一，还回再买。\n",
      "\n",
      "\n"
     ]
    },
    {
     "name": "stderr",
     "output_type": "stream",
     "text": [
      "\n",
      "[Succeeded / Failed / Skipped / Total] 164 / 104 / 19 / 287:  58%|█████▊    | 288/500 [3:45:49<2:46:13, 47.05s/it]\u001b[A\n",
      "[Succeeded / Failed / Skipped / Total] 165 / 104 / 19 / 288:  58%|█████▊    | 288/500 [3:45:49<2:46:13, 47.05s/it]\u001b[A"
     ]
    },
    {
     "name": "stdout",
     "output_type": "stream",
     "text": [
      "--------------------------------------------- Result 288 ---------------------------------------------\n",
      "[[Negative (95%)]] --> [[Positive (50%)]]\n",
      "\n",
      "刚刚吃了一个，只能够用三个字形容：不好吃！而且水果的个头很小，失望至极，希望能够给其他的买家意见\n",
      "\n",
      "刚刚吃了一个，只能够用三个字形容：不好吃！而且水果的个头很小，使望至极，希望能够给其他的买家意见\n",
      "\n",
      "\n"
     ]
    },
    {
     "name": "stderr",
     "output_type": "stream",
     "text": [
      "\n",
      "[Succeeded / Failed / Skipped / Total] 165 / 104 / 19 / 288:  58%|█████▊    | 289/500 [3:46:46<2:45:34, 47.08s/it]\u001b[A\n",
      "[Succeeded / Failed / Skipped / Total] 165 / 105 / 19 / 289:  58%|█████▊    | 289/500 [3:46:46<2:45:34, 47.08s/it]\u001b[A"
     ]
    },
    {
     "name": "stdout",
     "output_type": "stream",
     "text": [
      "--------------------------------------------- Result 289 ---------------------------------------------\n",
      "[[Positive (99%)]] --> [[[FAILED]]]\n",
      "\n",
      "第N次购买了，一如既往的好。这次比较新鲜，5天前才出的，棒！\n",
      "\n",
      "\n"
     ]
    },
    {
     "name": "stderr",
     "output_type": "stream",
     "text": [
      "\n",
      "[Succeeded / Failed / Skipped / Total] 165 / 105 / 19 / 289:  58%|█████▊    | 290/500 [3:47:21<2:44:38, 47.04s/it]\u001b[A\n",
      "[Succeeded / Failed / Skipped / Total] 166 / 105 / 19 / 290:  58%|█████▊    | 290/500 [3:47:21<2:44:38, 47.04s/it]\u001b[A"
     ]
    },
    {
     "name": "stdout",
     "output_type": "stream",
     "text": [
      "--------------------------------------------- Result 290 ---------------------------------------------\n",
      "[[Positive (96%)]] --> [[Negative (83%)]]\n",
      "\n",
      "性能很不错。显示跟运行速度给力。支持国产芯！！！就是背后的弧形有点失望\n",
      "\n",
      "性能很不搓。显示跟运行素度给离。支持国产芯！！！就是背后的弧形有点失望\n",
      "\n",
      "\n"
     ]
    },
    {
     "name": "stderr",
     "output_type": "stream",
     "text": [
      "\n",
      "[Succeeded / Failed / Skipped / Total] 166 / 105 / 19 / 290:  58%|█████▊    | 291/500 [3:48:31<2:44:07, 47.12s/it]\u001b[A\n",
      "[Succeeded / Failed / Skipped / Total] 167 / 105 / 19 / 291:  58%|█████▊    | 291/500 [3:48:31<2:44:07, 47.12s/it]\u001b[A"
     ]
    },
    {
     "name": "stdout",
     "output_type": "stream",
     "text": [
      "--------------------------------------------- Result 291 ---------------------------------------------\n",
      "[[Negative (99%)]] --> [[Positive (73%)]]\n",
      "\n",
      "假货！京东无良商家！还自营店买的！假的也就算了！洗了头超痒还有头皮屑！我好好的发质就这样没了\n",
      "\n",
      "加货！京东无良商加！还自赢店买的！家的也就算了！洗了头超样还有头皮谢！我好好的发之就这样没了\n",
      "\n",
      "\n"
     ]
    },
    {
     "name": "stderr",
     "output_type": "stream",
     "text": [
      "\n",
      "[Succeeded / Failed / Skipped / Total] 167 / 105 / 19 / 291:  58%|█████▊    | 292/500 [3:49:03<2:43:09, 47.07s/it]\u001b[A\n",
      "[Succeeded / Failed / Skipped / Total] 168 / 105 / 19 / 292:  58%|█████▊    | 292/500 [3:49:03<2:43:09, 47.07s/it]\u001b[A"
     ]
    },
    {
     "name": "stdout",
     "output_type": "stream",
     "text": [
      "--------------------------------------------- Result 292 ---------------------------------------------\n",
      "[[Negative (90%)]] --> [[Positive (75%)]]\n",
      "\n",
      "耳机、USB在右手下方位置，影响操作鼠标；12寸宽屏字体相对小一些；没有光驱。\n",
      "\n",
      "耳机、USB在右手下方位置，赢响操作鼠标；12寸宽屏字体相对小一些；没有光驱。\n",
      "\n",
      "\n"
     ]
    },
    {
     "name": "stderr",
     "output_type": "stream",
     "text": [
      "\n",
      "[Succeeded / Failed / Skipped / Total] 168 / 105 / 19 / 292:  59%|█████▊    | 293/500 [3:49:18<2:42:00, 46.96s/it]\u001b[A\n",
      "[Succeeded / Failed / Skipped / Total] 168 / 106 / 19 / 293:  59%|█████▊    | 293/500 [3:49:18<2:42:00, 46.96s/it]\u001b[A"
     ]
    },
    {
     "name": "stdout",
     "output_type": "stream",
     "text": [
      "--------------------------------------------- Result 293 ---------------------------------------------\n",
      "[[Positive (91%)]] --> [[[FAILED]]]\n",
      "\n",
      "用了很舒服，之前一直用潘婷，\n",
      "\n",
      "\n"
     ]
    },
    {
     "name": "stderr",
     "output_type": "stream",
     "text": [
      "\n",
      "[Succeeded / Failed / Skipped / Total] 168 / 106 / 19 / 293:  59%|█████▉    | 294/500 [3:50:06<2:41:14, 46.96s/it]\u001b[A\n",
      "[Succeeded / Failed / Skipped / Total] 169 / 106 / 19 / 294:  59%|█████▉    | 294/500 [3:50:06<2:41:14, 46.96s/it]\u001b[A"
     ]
    },
    {
     "name": "stdout",
     "output_type": "stream",
     "text": [
      "--------------------------------------------- Result 294 ---------------------------------------------\n",
      "[[Negative (96%)]] --> [[Positive (73%)]]\n",
      "\n",
      "不好，建议慎用。用了一个月了，有头皮，掉发。现象\n",
      "\n",
      "部好，建议神用。用了一个月了，有偷皮，钓发。现象\n",
      "\n",
      "\n"
     ]
    },
    {
     "name": "stderr",
     "output_type": "stream",
     "text": [
      "\n",
      "[Succeeded / Failed / Skipped / Total] 169 / 106 / 19 / 294:  59%|█████▉    | 295/500 [3:50:39<2:40:17, 46.91s/it]\u001b[A\n",
      "[Succeeded / Failed / Skipped / Total] 169 / 107 / 19 / 295:  59%|█████▉    | 295/500 [3:50:39<2:40:17, 46.91s/it]\u001b[A"
     ]
    },
    {
     "name": "stdout",
     "output_type": "stream",
     "text": [
      "--------------------------------------------- Result 295 ---------------------------------------------\n",
      "[[Positive (96%)]] --> [[[FAILED]]]\n",
      "\n",
      "还可以的，活动价格比超市要便宜，不错吧…\n",
      "\n",
      "\n"
     ]
    },
    {
     "name": "stderr",
     "output_type": "stream",
     "text": [
      "\n",
      "[Succeeded / Failed / Skipped / Total] 169 / 107 / 19 / 295:  59%|█████▉    | 296/500 [3:50:49<2:39:05, 46.79s/it]\u001b[A\n",
      "[Succeeded / Failed / Skipped / Total] 170 / 107 / 19 / 296:  59%|█████▉    | 296/500 [3:50:49<2:39:05, 46.79s/it]\u001b[A"
     ]
    },
    {
     "name": "stdout",
     "output_type": "stream",
     "text": [
      "--------------------------------------------- Result 296 ---------------------------------------------\n",
      "[[Negative (98%)]] --> [[Positive (82%)]]\n",
      "\n",
      "太难用了。。。。。，，\n",
      "\n",
      "太男用了。。。。。，，\n",
      "\n",
      "\n"
     ]
    },
    {
     "name": "stderr",
     "output_type": "stream",
     "text": [
      "\n",
      "[Succeeded / Failed / Skipped / Total] 170 / 107 / 19 / 296:  59%|█████▉    | 297/500 [3:50:51<2:37:47, 46.64s/it]\u001b[A\n",
      "[Succeeded / Failed / Skipped / Total] 170 / 108 / 19 / 297:  59%|█████▉    | 297/500 [3:50:51<2:37:47, 46.64s/it]\u001b[A"
     ]
    },
    {
     "name": "stdout",
     "output_type": "stream",
     "text": [
      "--------------------------------------------- Result 297 ---------------------------------------------\n",
      "[[Positive (79%)]] --> [[[FAILED]]]\n",
      "\n",
      "可以。。。。。。。。。。。。。\n",
      "\n",
      "\n"
     ]
    },
    {
     "name": "stderr",
     "output_type": "stream",
     "text": [
      "\n",
      "[Succeeded / Failed / Skipped / Total] 170 / 108 / 19 / 297:  60%|█████▉    | 298/500 [3:52:07<2:37:21, 46.74s/it]\u001b[A\n",
      "[Succeeded / Failed / Skipped / Total] 171 / 108 / 19 / 298:  60%|█████▉    | 298/500 [3:52:07<2:37:21, 46.74s/it]\u001b[A"
     ]
    },
    {
     "name": "stdout",
     "output_type": "stream",
     "text": [
      "--------------------------------------------- Result 298 ---------------------------------------------\n",
      "[[Positive (96%)]] --> [[Negative (83%)]]\n",
      "\n",
      "外观看上去还不错，不过有人不太喜欢镜面的，我个人比较喜欢，总之还算满意。\n",
      "\n",
      "歪观砍上去还不搓，不过有人不太洗欢镜面的，我咯人比叫洗欢，总之还算满一。\n",
      "\n",
      "\n"
     ]
    },
    {
     "name": "stderr",
     "output_type": "stream",
     "text": [
      "\n",
      "[Succeeded / Failed / Skipped / Total] 171 / 108 / 19 / 298:  60%|█████▉    | 299/500 [3:52:34<2:36:20, 46.67s/it]\u001b[A\n",
      "[Succeeded / Failed / Skipped / Total] 171 / 109 / 19 / 299:  60%|█████▉    | 299/500 [3:52:34<2:36:20, 46.67s/it]\u001b[A"
     ]
    },
    {
     "name": "stdout",
     "output_type": "stream",
     "text": [
      "--------------------------------------------- Result 299 ---------------------------------------------\n",
      "[[Positive (96%)]] --> [[[FAILED]]]\n",
      "\n",
      "喜欢睡前的蒙牛。\n",
      "\n",
      "\n"
     ]
    },
    {
     "name": "stderr",
     "output_type": "stream",
     "text": [
      "\n",
      "[Succeeded / Failed / Skipped / Total] 171 / 109 / 19 / 299:  60%|██████    | 300/500 [3:53:29<2:35:39, 46.70s/it]\u001b[A\n",
      "[Succeeded / Failed / Skipped / Total] 171 / 110 / 19 / 300:  60%|██████    | 300/500 [3:53:29<2:35:39, 46.70s/it]\u001b[A"
     ]
    },
    {
     "name": "stdout",
     "output_type": "stream",
     "text": [
      "--------------------------------------------- Result 300 ---------------------------------------------\n",
      "[[Negative (98%)]] --> [[[FAILED]]]\n",
      "\n",
      "面料太差了，两个加还小。做工太差了。真的郁闷的一次购物。\n",
      "\n",
      "\n"
     ]
    },
    {
     "name": "stderr",
     "output_type": "stream",
     "text": [
      "\n",
      "[Succeeded / Failed / Skipped / Total] 171 / 110 / 19 / 300:  60%|██████    | 301/500 [3:54:13<2:34:50, 46.69s/it]\u001b[A\n",
      "[Succeeded / Failed / Skipped / Total] 172 / 110 / 19 / 301:  60%|██████    | 301/500 [3:54:13<2:34:50, 46.69s/it]\u001b[A"
     ]
    },
    {
     "name": "stdout",
     "output_type": "stream",
     "text": [
      "--------------------------------------------- Result 301 ---------------------------------------------\n",
      "[[Negative (98%)]] --> [[Positive (82%)]]\n",
      "\n",
      "看到说有四件赠品，收到的只是一部裸机，膜都没贴一张，跟客服联系推来推去，居然说赠品全部赠完了，打京东客服四次都没打通，对京东好失望。\n",
      "\n",
      "看到说有四件赠品，收到的只是一部裸机，膜都没贴一张，跟客服联系推来推去，居然说赠品全部赠完了，打京东客服四次都没打通，对京东好使望。\n",
      "\n",
      "\n"
     ]
    },
    {
     "name": "stderr",
     "output_type": "stream",
     "text": [
      "\n",
      "[Succeeded / Failed / Skipped / Total] 172 / 110 / 19 / 301:  60%|██████    | 302/500 [3:54:14<2:33:34, 46.54s/it]\u001b[A\n",
      "[Succeeded / Failed / Skipped / Total] 172 / 110 / 20 / 302:  60%|██████    | 302/500 [3:54:14<2:33:34, 46.54s/it]\u001b[A"
     ]
    },
    {
     "name": "stdout",
     "output_type": "stream",
     "text": [
      "--------------------------------------------- Result 302 ---------------------------------------------\n",
      "[[Negative (91%)]] --> [[[SKIPPED]]]\n",
      "\n",
      "上周五就把支票给京东了，现在是周四上午了，还没拿到东西。目前赠送又增加了鼠标和杀毒软件，估计时没我的了。\n",
      "\n",
      "\n"
     ]
    },
    {
     "name": "stderr",
     "output_type": "stream",
     "text": [
      "\n",
      "[Succeeded / Failed / Skipped / Total] 172 / 110 / 20 / 302:  61%|██████    | 303/500 [3:55:05<2:32:50, 46.55s/it]\u001b[A\n",
      "[Succeeded / Failed / Skipped / Total] 172 / 111 / 20 / 303:  61%|██████    | 303/500 [3:55:05<2:32:50, 46.55s/it]\u001b[A"
     ]
    },
    {
     "name": "stdout",
     "output_type": "stream",
     "text": [
      "--------------------------------------------- Result 303 ---------------------------------------------\n",
      "[[Negative (98%)]] --> [[[FAILED]]]\n",
      "\n",
      "快递真不行，服务态度又不好，非常恶劣！\n",
      "\n",
      "\n"
     ]
    },
    {
     "name": "stderr",
     "output_type": "stream",
     "text": [
      "\n",
      "[Succeeded / Failed / Skipped / Total] 172 / 111 / 20 / 303:  61%|██████    | 304/500 [3:55:38<2:31:55, 46.51s/it]\u001b[A\n",
      "[Succeeded / Failed / Skipped / Total] 173 / 111 / 20 / 304:  61%|██████    | 304/500 [3:55:38<2:31:55, 46.51s/it]\u001b[A"
     ]
    },
    {
     "name": "stdout",
     "output_type": "stream",
     "text": [
      "--------------------------------------------- Result 304 ---------------------------------------------\n",
      "[[Negative (97%)]] --> [[Positive (69%)]]\n",
      "\n",
      "感觉不是正品，用了头发越来越毛躁了\n",
      "\n",
      "感绝不是蒸品，用了头发越来约毛造了\n",
      "\n",
      "\n"
     ]
    },
    {
     "name": "stderr",
     "output_type": "stream",
     "text": [
      "\n",
      "[Succeeded / Failed / Skipped / Total] 173 / 111 / 20 / 304:  61%|██████    | 305/500 [3:56:10<2:31:00, 46.46s/it]\u001b[A\n",
      "[Succeeded / Failed / Skipped / Total] 173 / 112 / 20 / 305:  61%|██████    | 305/500 [3:56:10<2:31:00, 46.46s/it]\u001b[A"
     ]
    },
    {
     "name": "stdout",
     "output_type": "stream",
     "text": [
      "--------------------------------------------- Result 305 ---------------------------------------------\n",
      "[[Positive (96%)]] --> [[[FAILED]]]\n",
      "\n",
      "好吃，汁多、脆、香甜，值得推荐\n",
      "\n",
      "\n"
     ]
    },
    {
     "name": "stderr",
     "output_type": "stream",
     "text": [
      "\n",
      "[Succeeded / Failed / Skipped / Total] 173 / 112 / 20 / 305:  61%|██████    | 306/500 [3:56:25<2:29:53, 46.36s/it]\u001b[A\n",
      "[Succeeded / Failed / Skipped / Total] 174 / 112 / 20 / 306:  61%|██████    | 306/500 [3:56:25<2:29:53, 46.36s/it]\u001b[A"
     ]
    },
    {
     "name": "stdout",
     "output_type": "stream",
     "text": [
      "--------------------------------------------- Result 306 ---------------------------------------------\n",
      "[[Positive (91%)]] --> [[Negative (91%)]]\n",
      "\n",
      "一直买这个，自己买了十件了，很脆很甜\n",
      "\n",
      "一直买这个，自己买了十件了，很脆恨甜\n",
      "\n",
      "\n"
     ]
    },
    {
     "name": "stderr",
     "output_type": "stream",
     "text": [
      "\n",
      "[Succeeded / Failed / Skipped / Total] 174 / 112 / 20 / 306:  61%|██████▏   | 307/500 [3:57:26<2:29:16, 46.41s/it]\u001b[A\n",
      "[Succeeded / Failed / Skipped / Total] 174 / 113 / 20 / 307:  61%|██████▏   | 307/500 [3:57:26<2:29:16, 46.41s/it]\u001b[A"
     ]
    },
    {
     "name": "stdout",
     "output_type": "stream",
     "text": [
      "--------------------------------------------- Result 307 ---------------------------------------------\n",
      "[[Positive (95%)]] --> [[[FAILED]]]\n",
      "\n",
      "一直用沙宣的洗发水，京东产品值得信赖，正品保证。\n",
      "\n",
      "\n"
     ]
    },
    {
     "name": "stderr",
     "output_type": "stream",
     "text": [
      "\n",
      "[Succeeded / Failed / Skipped / Total] 174 / 113 / 20 / 307:  62%|██████▏   | 308/500 [3:59:16<2:29:09, 46.61s/it]\u001b[A\n",
      "[Succeeded / Failed / Skipped / Total] 174 / 114 / 20 / 308:  62%|██████▏   | 308/500 [3:59:16<2:29:09, 46.61s/it]\u001b[A"
     ]
    },
    {
     "name": "stdout",
     "output_type": "stream",
     "text": [
      "--------------------------------------------- Result 308 ---------------------------------------------\n",
      "[[Negative (98%)]] --> [[[FAILED]]]\n",
      "\n",
      "环境一般，设施较旧，豪华标准间看不出哪豪华来，浴室特滑，差点扭伤脚，以后不再住这了\n",
      "\n",
      "\n"
     ]
    },
    {
     "name": "stderr",
     "output_type": "stream",
     "text": [
      "\n",
      "[Succeeded / Failed / Skipped / Total] 174 / 114 / 20 / 308:  62%|██████▏   | 309/500 [4:00:22<2:28:35, 46.68s/it]\u001b[A\n",
      "[Succeeded / Failed / Skipped / Total] 174 / 115 / 20 / 309:  62%|██████▏   | 309/500 [4:00:22<2:28:35, 46.68s/it]\u001b[A"
     ]
    },
    {
     "name": "stdout",
     "output_type": "stream",
     "text": [
      "--------------------------------------------- Result 309 ---------------------------------------------\n",
      "[[Positive (93%)]] --> [[[FAILED]]]\n",
      "\n",
      "1.外形轻薄精致。2.屏幕显示优秀。3.外接功能丰富。\n",
      "\n",
      "\n"
     ]
    },
    {
     "name": "stderr",
     "output_type": "stream",
     "text": [
      "\n",
      "[Succeeded / Failed / Skipped / Total] 174 / 115 / 20 / 309:  62%|██████▏   | 310/500 [4:02:01<2:28:20, 46.84s/it]\u001b[A\n",
      "[Succeeded / Failed / Skipped / Total] 174 / 116 / 20 / 310:  62%|██████▏   | 310/500 [4:02:01<2:28:20, 46.84s/it]\u001b[A"
     ]
    },
    {
     "name": "stdout",
     "output_type": "stream",
     "text": [
      "--------------------------------------------- Result 310 ---------------------------------------------\n",
      "[[Positive (97%)]] --> [[[FAILED]]]\n",
      "\n",
      "这是在京东买的第二台宏基的电脑，相比第一台4930的在功能上有差别，送给朋友的，整体还可以，14.0的屏比自己的稍小，女孩用很好看的\n",
      "\n",
      "\n"
     ]
    },
    {
     "name": "stderr",
     "output_type": "stream",
     "text": [
      "\n",
      "[Succeeded / Failed / Skipped / Total] 174 / 116 / 20 / 310:  62%|██████▏   | 311/500 [4:02:51<2:27:35, 46.85s/it]\u001b[A\n",
      "[Succeeded / Failed / Skipped / Total] 175 / 116 / 20 / 311:  62%|██████▏   | 311/500 [4:02:51<2:27:35, 46.85s/it]\u001b[A"
     ]
    },
    {
     "name": "stdout",
     "output_type": "stream",
     "text": [
      "--------------------------------------------- Result 311 ---------------------------------------------\n",
      "[[Negative (98%)]] --> [[Positive (51%)]]\n",
      "\n",
      "快递很不给力，超级不给力，京东怎么用这种人啊，态度一点都不好\n",
      "\n",
      "块递很不给离，超级步给力，京东怎么用这重人啊，太度一点都不好\n",
      "\n",
      "\n"
     ]
    },
    {
     "name": "stderr",
     "output_type": "stream",
     "text": [
      "\n",
      "[Succeeded / Failed / Skipped / Total] 175 / 116 / 20 / 311:  62%|██████▏   | 312/500 [4:04:01<2:27:02, 46.93s/it]\u001b[A\n",
      "[Succeeded / Failed / Skipped / Total] 176 / 116 / 20 / 312:  62%|██████▏   | 312/500 [4:04:01<2:27:02, 46.93s/it]\u001b[A"
     ]
    },
    {
     "name": "stdout",
     "output_type": "stream",
     "text": [
      "--------------------------------------------- Result 312 ---------------------------------------------\n",
      "[[Positive (95%)]] --> [[Negative (59%)]]\n",
      "\n",
      "这次买的单牛仔裤和冬季加厚的。一直觉得花花公子不错，穿的腰档舒服。我比较胖，穿38的，但花花单裤只需36就好！！\n",
      "\n",
      "这次卖的但牛仔裤和冬季假厚的。一直觉得花花公子不搓，穿的药档书服。我比较旁，船38的，但花花单裤只须36就好！！\n",
      "\n",
      "\n"
     ]
    },
    {
     "name": "stderr",
     "output_type": "stream",
     "text": [
      "\n",
      "[Succeeded / Failed / Skipped / Total] 176 / 116 / 20 / 312:  63%|██████▎   | 313/500 [4:04:02<2:25:48, 46.78s/it]\u001b[A\n",
      "[Succeeded / Failed / Skipped / Total] 176 / 116 / 21 / 313:  63%|██████▎   | 313/500 [4:04:02<2:25:48, 46.78s/it]\u001b[A"
     ]
    },
    {
     "name": "stdout",
     "output_type": "stream",
     "text": [
      "--------------------------------------------- Result 313 ---------------------------------------------\n",
      "[[Positive (90%)]] --> [[[SKIPPED]]]\n",
      "\n",
      "东西好不好还不知道，一号买的，二号就降价*看来以后还是少参与这种活动的好。不知道过几天会不会再降价。物流还是很给力的。\n",
      "\n",
      "\n"
     ]
    },
    {
     "name": "stderr",
     "output_type": "stream",
     "text": [
      "\n",
      "[Succeeded / Failed / Skipped / Total] 176 / 116 / 21 / 313:  63%|██████▎   | 314/500 [4:04:43<2:24:58, 46.76s/it]\u001b[A\n",
      "[Succeeded / Failed / Skipped / Total] 177 / 116 / 21 / 314:  63%|██████▎   | 314/500 [4:04:43<2:24:58, 46.76s/it]\u001b[A"
     ]
    },
    {
     "name": "stdout",
     "output_type": "stream",
     "text": [
      "--------------------------------------------- Result 314 ---------------------------------------------\n",
      "[[Negative (98%)]] --> [[Positive (81%)]]\n",
      "\n",
      "效果很不好！洗了当时挺顺的，第二天头好痒，还好多头屑，以前一直用的这款，从来没这问题，好几个室友洗了都有这问题，所以我怀疑这是不是正品呀！！！！！\n",
      "\n",
      "效果很步好！洗了当时挺顺的，第二天头好痒，还好多头屑，以前一直用的这款，从来没这问题，好几个室友洗了都有这问题，所以我怀疑这是不是正品呀！！！！！\n",
      "\n",
      "\n"
     ]
    },
    {
     "name": "stderr",
     "output_type": "stream",
     "text": [
      "\n",
      "[Succeeded / Failed / Skipped / Total] 177 / 116 / 21 / 314:  63%|██████▎   | 315/500 [4:05:20<2:24:05, 46.73s/it]\u001b[A\n",
      "[Succeeded / Failed / Skipped / Total] 177 / 117 / 21 / 315:  63%|██████▎   | 315/500 [4:05:20<2:24:05, 46.73s/it]\u001b[A"
     ]
    },
    {
     "name": "stdout",
     "output_type": "stream",
     "text": [
      "--------------------------------------------- Result 315 ---------------------------------------------\n",
      "[[Positive (99%)]] --> [[[FAILED]]]\n",
      "\n",
      "很好用，比较香。包装的很好。很结实。物流很快啊。开心\n",
      "\n",
      "\n"
     ]
    },
    {
     "name": "stderr",
     "output_type": "stream",
     "text": [
      "\n",
      "[Succeeded / Failed / Skipped / Total] 177 / 117 / 21 / 315:  63%|██████▎   | 316/500 [4:06:09<2:23:19, 46.74s/it]\u001b[A\n",
      "[Succeeded / Failed / Skipped / Total] 177 / 118 / 21 / 316:  63%|██████▎   | 316/500 [4:06:09<2:23:19, 46.74s/it]\u001b[A"
     ]
    },
    {
     "name": "stdout",
     "output_type": "stream",
     "text": [
      "--------------------------------------------- Result 316 ---------------------------------------------\n",
      "[[Positive (98%)]] --> [[[FAILED]]]\n",
      "\n",
      "对于商品，我真的感觉超赞的啊，质量好也有型，穿上整个人的身材都好了。店家服务态度也不错就算了，而且，快递也好快的哦。。。\n",
      "\n",
      "\n"
     ]
    },
    {
     "name": "stderr",
     "output_type": "stream",
     "text": [
      "\n",
      "[Succeeded / Failed / Skipped / Total] 177 / 118 / 21 / 316:  63%|██████▎   | 317/500 [4:06:48<2:22:29, 46.72s/it]\u001b[A\n",
      "[Succeeded / Failed / Skipped / Total] 177 / 119 / 21 / 317:  63%|██████▎   | 317/500 [4:06:48<2:22:29, 46.72s/it]\u001b[A"
     ]
    },
    {
     "name": "stdout",
     "output_type": "stream",
     "text": [
      "--------------------------------------------- Result 317 ---------------------------------------------\n",
      "[[Positive (99%)]] --> [[[FAILED]]]\n",
      "\n",
      "还不错，比较实惠。赠品也是棒棒哒！点个赞！\n",
      "\n",
      "\n"
     ]
    },
    {
     "name": "stderr",
     "output_type": "stream",
     "text": [
      "\n",
      "[Succeeded / Failed / Skipped / Total] 177 / 119 / 21 / 317:  64%|██████▎   | 318/500 [4:08:10<2:22:02, 46.83s/it]\u001b[A\n",
      "[Succeeded / Failed / Skipped / Total] 177 / 120 / 21 / 318:  64%|██████▎   | 318/500 [4:08:10<2:22:02, 46.83s/it]\u001b[A"
     ]
    },
    {
     "name": "stdout",
     "output_type": "stream",
     "text": [
      "--------------------------------------------- Result 318 ---------------------------------------------\n",
      "[[Positive (98%)]] --> [[[FAILED]]]\n",
      "\n",
      "给老爸买的，他用来看视频非常不错，字大清晰，视频感觉不错，值得拥有\n",
      "\n",
      "\n"
     ]
    },
    {
     "name": "stderr",
     "output_type": "stream",
     "text": [
      "\n",
      "[Succeeded / Failed / Skipped / Total] 177 / 120 / 21 / 318:  64%|██████▍   | 319/500 [4:09:00<2:21:17, 46.84s/it]\u001b[A\n",
      "[Succeeded / Failed / Skipped / Total] 177 / 121 / 21 / 319:  64%|██████▍   | 319/500 [4:09:00<2:21:17, 46.84s/it]\u001b[A"
     ]
    },
    {
     "name": "stdout",
     "output_type": "stream",
     "text": [
      "--------------------------------------------- Result 319 ---------------------------------------------\n",
      "[[Positive (98%)]] --> [[[FAILED]]]\n",
      "\n",
      "很好的平板，非常好用，满意，使用顺畅。没有耳机。\n",
      "\n",
      "\n"
     ]
    },
    {
     "name": "stderr",
     "output_type": "stream",
     "text": [
      "\n",
      "[Succeeded / Failed / Skipped / Total] 177 / 121 / 21 / 319:  64%|██████▍   | 320/500 [4:09:54<2:20:34, 46.86s/it]\u001b[A\n",
      "[Succeeded / Failed / Skipped / Total] 177 / 122 / 21 / 320:  64%|██████▍   | 320/500 [4:09:54<2:20:34, 46.86s/it]\u001b[A"
     ]
    },
    {
     "name": "stdout",
     "output_type": "stream",
     "text": [
      "--------------------------------------------- Result 320 ---------------------------------------------\n",
      "[[Positive (98%)]] --> [[[FAILED]]]\n",
      "\n",
      "一直买，希望一如既往，送货快，服务到位\n",
      "\n",
      "\n"
     ]
    },
    {
     "name": "stderr",
     "output_type": "stream",
     "text": [
      "\n",
      "[Succeeded / Failed / Skipped / Total] 177 / 122 / 21 / 320:  64%|██████▍   | 321/500 [4:11:53<2:20:27, 47.08s/it]\u001b[A\n",
      "[Succeeded / Failed / Skipped / Total] 177 / 123 / 21 / 321:  64%|██████▍   | 321/500 [4:11:53<2:20:27, 47.08s/it]\u001b[A"
     ]
    },
    {
     "name": "stdout",
     "output_type": "stream",
     "text": [
      "--------------------------------------------- Result 321 ---------------------------------------------\n",
      "[[Negative (99%)]] --> [[[FAILED]]]\n",
      "\n",
      "商品没有收到，怎么让别人而且不知道是谁拿走了，我没有听到过电话，别人拿东西走，你们干嘛不查一下手机号了，签名一看又不是我，我不是很冤枉啊，到底谁承担责任了？\n",
      "\n",
      "\n"
     ]
    },
    {
     "name": "stderr",
     "output_type": "stream",
     "text": [
      "\n",
      "[Succeeded / Failed / Skipped / Total] 177 / 123 / 21 / 321:  64%|██████▍   | 322/500 [4:12:28<2:19:34, 47.05s/it]\u001b[A\n",
      "[Succeeded / Failed / Skipped / Total] 178 / 123 / 21 / 322:  64%|██████▍   | 322/500 [4:12:28<2:19:34, 47.05s/it]\u001b[A"
     ]
    },
    {
     "name": "stdout",
     "output_type": "stream",
     "text": [
      "--------------------------------------------- Result 322 ---------------------------------------------\n",
      "[[Negative (95%)]] --> [[Positive (94%)]]\n",
      "\n",
      "快递太慢了，衣服也不怎么地\n",
      "\n",
      "快递太蛮了，已服也不怎么地\n",
      "\n",
      "\n"
     ]
    },
    {
     "name": "stderr",
     "output_type": "stream",
     "text": [
      "\n",
      "[Succeeded / Failed / Skipped / Total] 178 / 123 / 21 / 322:  65%|██████▍   | 323/500 [4:13:17<2:18:47, 47.05s/it]\u001b[A\n",
      "[Succeeded / Failed / Skipped / Total] 178 / 124 / 21 / 323:  65%|██████▍   | 323/500 [4:13:17<2:18:47, 47.05s/it]\u001b[A"
     ]
    },
    {
     "name": "stdout",
     "output_type": "stream",
     "text": [
      "--------------------------------------------- Result 323 ---------------------------------------------\n",
      "[[Positive (97%)]] --> [[[FAILED]]]\n",
      "\n",
      "一直有用的牌子，不错，京东购物，送货快！！！\n",
      "\n",
      "\n"
     ]
    },
    {
     "name": "stderr",
     "output_type": "stream",
     "text": [
      "\n",
      "[Succeeded / Failed / Skipped / Total] 178 / 124 / 21 / 323:  65%|██████▍   | 324/500 [4:13:50<2:17:53, 47.01s/it]\u001b[A\n",
      "[Succeeded / Failed / Skipped / Total] 178 / 125 / 21 / 324:  65%|██████▍   | 324/500 [4:13:50<2:17:53, 47.01s/it]\u001b[A"
     ]
    },
    {
     "name": "stdout",
     "output_type": "stream",
     "text": [
      "--------------------------------------------- Result 324 ---------------------------------------------\n",
      "[[Positive (97%)]] --> [[[FAILED]]]\n",
      "\n",
      "性价比特高,值得推荐.有机会到深圳我还会订该酒店\n",
      "\n",
      "\n"
     ]
    },
    {
     "name": "stderr",
     "output_type": "stream",
     "text": [
      "\n",
      "[Succeeded / Failed / Skipped / Total] 178 / 125 / 21 / 324:  65%|██████▌   | 325/500 [4:14:39<2:17:07, 47.01s/it]\u001b[A\n",
      "[Succeeded / Failed / Skipped / Total] 179 / 125 / 21 / 325:  65%|██████▌   | 325/500 [4:14:39<2:17:07, 47.01s/it]\u001b[A"
     ]
    },
    {
     "name": "stdout",
     "output_type": "stream",
     "text": [
      "--------------------------------------------- Result 325 ---------------------------------------------\n",
      "[[Positive (95%)]] --> [[Negative (70%)]]\n",
      "\n",
      "还不错, 房间很大,装修家居都很好,唯一不足没订到海景房间,好像很抢手的说\n",
      "\n",
      "还不搓, 放间恨大,撞修家居都很好,唯一不足没订到海景房间,好像很枪手的说\n",
      "\n",
      "\n"
     ]
    },
    {
     "name": "stderr",
     "output_type": "stream",
     "text": [
      "\n",
      "[Succeeded / Failed / Skipped / Total] 179 / 125 / 21 / 325:  65%|██████▌   | 326/500 [4:14:54<2:16:03, 46.91s/it]\u001b[A\n",
      "[Succeeded / Failed / Skipped / Total] 179 / 126 / 21 / 326:  65%|██████▌   | 326/500 [4:14:54<2:16:03, 46.91s/it]\u001b[A"
     ]
    },
    {
     "name": "stdout",
     "output_type": "stream",
     "text": [
      "--------------------------------------------- Result 326 ---------------------------------------------\n",
      "[[Negative (85%)]] --> [[[FAILED]]]\n",
      "\n",
      "不怎么样，不是很好\n",
      "\n",
      "\n"
     ]
    },
    {
     "name": "stderr",
     "output_type": "stream",
     "text": [
      "\n",
      "[Succeeded / Failed / Skipped / Total] 179 / 126 / 21 / 326:  65%|██████▌   | 327/500 [4:16:20<2:15:37, 47.04s/it]\u001b[A\n",
      "[Succeeded / Failed / Skipped / Total] 179 / 127 / 21 / 327:  65%|██████▌   | 327/500 [4:16:20<2:15:37, 47.04s/it]\u001b[A"
     ]
    },
    {
     "name": "stdout",
     "output_type": "stream",
     "text": [
      "--------------------------------------------- Result 327 ---------------------------------------------\n",
      "[[Negative (97%)]] --> [[[FAILED]]]\n",
      "\n",
      "第一次住的酒店房间在一楼 隔离比较差 蚊子也很多\n",
      "\n",
      "\n"
     ]
    },
    {
     "name": "stderr",
     "output_type": "stream",
     "text": [
      "\n",
      "[Succeeded / Failed / Skipped / Total] 179 / 127 / 21 / 327:  66%|██████▌   | 328/500 [4:17:54<2:15:14, 47.18s/it]\u001b[A\n",
      "[Succeeded / Failed / Skipped / Total] 179 / 128 / 21 / 328:  66%|██████▌   | 328/500 [4:17:54<2:15:14, 47.18s/it]\u001b[A"
     ]
    },
    {
     "name": "stdout",
     "output_type": "stream",
     "text": [
      "--------------------------------------------- Result 328 ---------------------------------------------\n",
      "[[Negative (98%)]] --> [[[FAILED]]]\n",
      "\n",
      "对于潘石屹，我只想说，你还是好好炒房吗，种好苹果你是骗人的，别人我说一分价钱一分货，我看中你的招牌，你是自砸招牌，傻缺\n",
      "\n",
      "\n"
     ]
    },
    {
     "name": "stderr",
     "output_type": "stream",
     "text": [
      "\n",
      "[Succeeded / Failed / Skipped / Total] 179 / 128 / 21 / 328:  66%|██████▌   | 329/500 [4:19:04<2:14:39, 47.25s/it]\u001b[A\n",
      "[Succeeded / Failed / Skipped / Total] 179 / 129 / 21 / 329:  66%|██████▌   | 329/500 [4:19:04<2:14:39, 47.25s/it]\u001b[A"
     ]
    },
    {
     "name": "stdout",
     "output_type": "stream",
     "text": [
      "--------------------------------------------- Result 329 ---------------------------------------------\n",
      "[[Positive (98%)]] --> [[[FAILED]]]\n",
      "\n",
      "第一次尝试京东自营！神速！了解一下就知道京东的发展速度！\n",
      "\n",
      "\n"
     ]
    },
    {
     "name": "stderr",
     "output_type": "stream",
     "text": [
      "\n",
      "[Succeeded / Failed / Skipped / Total] 179 / 129 / 21 / 329:  66%|██████▌   | 330/500 [4:19:22<2:13:37, 47.16s/it]\u001b[A\n",
      "[Succeeded / Failed / Skipped / Total] 180 / 129 / 21 / 330:  66%|██████▌   | 330/500 [4:19:22<2:13:37, 47.16s/it]\u001b[A"
     ]
    },
    {
     "name": "stdout",
     "output_type": "stream",
     "text": [
      "--------------------------------------------- Result 330 ---------------------------------------------\n",
      "[[Positive (98%)]] --> [[Negative (97%)]]\n",
      "\n",
      "不错(*?╰╯`?)?这个价位啥都别说了→_→给力\n",
      "\n",
      "步错(*?╰╯`?)?这个价位啥都别说了→_→给离\n",
      "\n",
      "\n"
     ]
    },
    {
     "name": "stderr",
     "output_type": "stream",
     "text": [
      "\n",
      "[Succeeded / Failed / Skipped / Total] 180 / 129 / 21 / 330:  66%|██████▌   | 331/500 [4:20:15<2:12:52, 47.18s/it]\u001b[A\n",
      "[Succeeded / Failed / Skipped / Total] 181 / 129 / 21 / 331:  66%|██████▌   | 331/500 [4:20:15<2:12:52, 47.18s/it]\u001b[A"
     ]
    },
    {
     "name": "stdout",
     "output_type": "stream",
     "text": [
      "--------------------------------------------- Result 331 ---------------------------------------------\n",
      "[[Positive (95%)]] --> [[Negative (66%)]]\n",
      "\n",
      "送礼自用都不错。送礼自用都不错。送礼自用都不错。重要的说三遍。\n",
      "\n",
      "送李自用都不搓。送礼自用都不搓。送礼自用都不错。重药的说三遍。\n",
      "\n",
      "\n"
     ]
    },
    {
     "name": "stderr",
     "output_type": "stream",
     "text": [
      "\n",
      "[Succeeded / Failed / Skipped / Total] 181 / 129 / 21 / 331:  66%|██████▋   | 332/500 [4:20:45<2:11:56, 47.12s/it]\u001b[A\n",
      "[Succeeded / Failed / Skipped / Total] 182 / 129 / 21 / 332:  66%|██████▋   | 332/500 [4:20:45<2:11:56, 47.12s/it]\u001b[A"
     ]
    },
    {
     "name": "stdout",
     "output_type": "stream",
     "text": [
      "--------------------------------------------- Result 332 ---------------------------------------------\n",
      "[[Negative (77%)]] --> [[Positive (84%)]]\n",
      "\n",
      "屏幕分辨率底，貌似不是LED屏而是LCD的，摄像头好像也没有130W有点像国产机30W的\n",
      "\n",
      "屏幕分辨率底，貌似不是LED屏而是LCD的，摄像头好像也美有130W有点像国产机30W的\n",
      "\n",
      "\n"
     ]
    },
    {
     "name": "stderr",
     "output_type": "stream",
     "text": [
      "\n",
      "[Succeeded / Failed / Skipped / Total] 182 / 129 / 21 / 332:  67%|██████▋   | 333/500 [4:22:12<2:11:29, 47.24s/it]\u001b[A\n",
      "[Succeeded / Failed / Skipped / Total] 183 / 129 / 21 / 333:  67%|██████▋   | 333/500 [4:22:12<2:11:29, 47.24s/it]\u001b[A"
     ]
    },
    {
     "name": "stdout",
     "output_type": "stream",
     "text": [
      "--------------------------------------------- Result 333 ---------------------------------------------\n",
      "[[Negative (98%)]] --> [[Positive (52%)]]\n",
      "\n",
      "一直都用这个牌子的，这次在京东买的和以前在店里买的不一样，用了之后明显的假货，真垃圾\n",
      "\n",
      "一直都用这个拍子的，这次在京东买的和以前在店里买的不一样，用了之吼明显的假货，镇辣圾\n",
      "\n",
      "\n"
     ]
    },
    {
     "name": "stderr",
     "output_type": "stream",
     "text": [
      "\n",
      "[Succeeded / Failed / Skipped / Total] 183 / 129 / 21 / 333:  67%|██████▋   | 334/500 [4:23:16<2:10:50, 47.29s/it]\u001b[A\n",
      "[Succeeded / Failed / Skipped / Total] 183 / 130 / 21 / 334:  67%|██████▋   | 334/500 [4:23:16<2:10:50, 47.29s/it]\u001b[A"
     ]
    },
    {
     "name": "stdout",
     "output_type": "stream",
     "text": [
      "--------------------------------------------- Result 334 ---------------------------------------------\n",
      "[[Negative (99%)]] --> [[[FAILED]]]\n",
      "\n",
      "明明标注16g内存，发现只有10g！别告诉我系统占6个g！\n",
      "\n",
      "\n"
     ]
    },
    {
     "name": "stderr",
     "output_type": "stream",
     "text": [
      "\n",
      "[Succeeded / Failed / Skipped / Total] 183 / 130 / 21 / 334:  67%|██████▋   | 335/500 [4:24:48<2:10:25, 47.43s/it]\u001b[A\n",
      "[Succeeded / Failed / Skipped / Total] 183 / 131 / 21 / 335:  67%|██████▋   | 335/500 [4:24:48<2:10:25, 47.43s/it]\u001b[A"
     ]
    },
    {
     "name": "stdout",
     "output_type": "stream",
     "text": [
      "--------------------------------------------- Result 335 ---------------------------------------------\n",
      "[[Positive (98%)]] --> [[[FAILED]]]\n",
      "\n",
      "非常满意！一直用潘婷。价格实惠，物超所值，而且包装很好很漂亮。\n",
      "\n",
      "\n"
     ]
    },
    {
     "name": "stderr",
     "output_type": "stream",
     "text": [
      "\n",
      "[Succeeded / Failed / Skipped / Total] 183 / 131 / 21 / 335:  67%|██████▋   | 336/500 [4:25:10<2:09:25, 47.35s/it]\u001b[A\n",
      "[Succeeded / Failed / Skipped / Total] 183 / 132 / 21 / 336:  67%|██████▋   | 336/500 [4:25:10<2:09:25, 47.35s/it]\u001b[A"
     ]
    },
    {
     "name": "stdout",
     "output_type": "stream",
     "text": [
      "--------------------------------------------- Result 336 ---------------------------------------------\n",
      "[[Negative (98%)]] --> [[[FAILED]]]\n",
      "\n",
      "别买就一地摊货\n",
      "\n",
      "\n"
     ]
    },
    {
     "name": "stderr",
     "output_type": "stream",
     "text": [
      "\n",
      "[Succeeded / Failed / Skipped / Total] 183 / 132 / 21 / 336:  67%|██████▋   | 337/500 [4:26:00<2:08:39, 47.36s/it]\u001b[A\n",
      "[Succeeded / Failed / Skipped / Total] 184 / 132 / 21 / 337:  67%|██████▋   | 337/500 [4:26:00<2:08:39, 47.36s/it]\u001b[A"
     ]
    },
    {
     "name": "stdout",
     "output_type": "stream",
     "text": [
      "--------------------------------------------- Result 337 ---------------------------------------------\n",
      "[[Negative (72%)]] --> [[Positive (52%)]]\n",
      "\n",
      "比朋友的ideapad S10大了一圈，不过考虑键盘比较大而且电池时间长，可以接受，不过自带的Linux实在太难用了，进bios都不方便，全部格掉重装XP费了不少功夫。\n",
      "\n",
      "比朋友的ideapad S10大了一圈，不过考虑键盘比较大而且电池时间长，可以接受，不过自带的Linux实在太男用了，进bios都不方便，全部格掉重装XP费了不少功夫。\n",
      "\n",
      "\n"
     ]
    },
    {
     "name": "stderr",
     "output_type": "stream",
     "text": [
      "\n",
      "[Succeeded / Failed / Skipped / Total] 184 / 132 / 21 / 337:  68%|██████▊   | 338/500 [4:26:52<2:07:54, 47.37s/it]\u001b[A\n",
      "[Succeeded / Failed / Skipped / Total] 185 / 132 / 21 / 338:  68%|██████▊   | 338/500 [4:26:52<2:07:54, 47.37s/it]\u001b[A"
     ]
    },
    {
     "name": "stdout",
     "output_type": "stream",
     "text": [
      "--------------------------------------------- Result 338 ---------------------------------------------\n",
      "[[Positive (81%)]] --> [[Negative (53%)]]\n",
      "\n",
      "纯正的烟台富士苹果，苹果脆甜多汁，每个苹果都套了两个套，没有磕碰，唯一的缺点就是个不大。\n",
      "\n",
      "纯证的烟台富士苹果，苹果脆甜多汁，每个苹果都套了两个套，每有课碰，唯一的缺点就是个不大。\n",
      "\n",
      "\n"
     ]
    },
    {
     "name": "stderr",
     "output_type": "stream",
     "text": [
      "\n",
      "[Succeeded / Failed / Skipped / Total] 185 / 132 / 21 / 338:  68%|██████▊   | 339/500 [4:27:15<2:06:55, 47.30s/it]\u001b[A\n",
      "[Succeeded / Failed / Skipped / Total] 186 / 132 / 21 / 339:  68%|██████▊   | 339/500 [4:27:15<2:06:55, 47.30s/it]\u001b[A"
     ]
    },
    {
     "name": "stdout",
     "output_type": "stream",
     "text": [
      "--------------------------------------------- Result 339 ---------------------------------------------\n",
      "[[Negative (65%)]] --> [[Positive (79%)]]\n",
      "\n",
      "老爸的这个开机直接蓝屏，再开机才正常，有点方。\n",
      "\n",
      "老爸的这个开机直接蓝平，再开机才正常，有点方。\n",
      "\n",
      "\n"
     ]
    },
    {
     "name": "stderr",
     "output_type": "stream",
     "text": [
      "\n",
      "[Succeeded / Failed / Skipped / Total] 186 / 132 / 21 / 339:  68%|██████▊   | 340/500 [4:29:41<2:06:54, 47.59s/it]\u001b[A\n",
      "[Succeeded / Failed / Skipped / Total] 186 / 133 / 21 / 340:  68%|██████▊   | 340/500 [4:29:41<2:06:54, 47.59s/it]\u001b[A"
     ]
    },
    {
     "name": "stdout",
     "output_type": "stream",
     "text": [
      "--------------------------------------------- Result 340 ---------------------------------------------\n",
      "[[Negative (98%)]] --> [[[FAILED]]]\n",
      "\n",
      "店家不给力，刚买的回家开机是好的，第二天再就开不了机了！返修，居然无法修，说修的成本比买的成本还贵！太tm垃圾！直接差评！\n",
      "\n",
      "\n"
     ]
    },
    {
     "name": "stderr",
     "output_type": "stream",
     "text": [
      "\n",
      "[Succeeded / Failed / Skipped / Total] 186 / 133 / 21 / 340:  68%|██████▊   | 341/500 [4:30:08<2:05:57, 47.53s/it]\u001b[A\n",
      "[Succeeded / Failed / Skipped / Total] 186 / 134 / 21 / 341:  68%|██████▊   | 341/500 [4:30:08<2:05:57, 47.53s/it]\u001b[A"
     ]
    },
    {
     "name": "stdout",
     "output_type": "stream",
     "text": [
      "--------------------------------------------- Result 341 ---------------------------------------------\n",
      "[[Negative (95%)]] --> [[[FAILED]]]\n",
      "\n",
      "酒店设施、环境很差，很不舒适，非常不满意！\n",
      "\n",
      "\n"
     ]
    },
    {
     "name": "stderr",
     "output_type": "stream",
     "text": [
      "\n",
      "[Succeeded / Failed / Skipped / Total] 186 / 134 / 21 / 341:  68%|██████▊   | 342/500 [4:30:31<2:04:58, 47.46s/it]\u001b[A\n",
      "[Succeeded / Failed / Skipped / Total] 187 / 134 / 21 / 342:  68%|██████▊   | 342/500 [4:30:31<2:04:58, 47.46s/it]\u001b[A"
     ]
    },
    {
     "name": "stdout",
     "output_type": "stream",
     "text": [
      "--------------------------------------------- Result 342 ---------------------------------------------\n",
      "[[Positive (91%)]] --> [[Negative (96%)]]\n",
      "\n",
      "可存三百多个单词，方便英语的口语学习！电话薄可以添加许多联系人的信息，这等于加了一些内容呀！\n",
      "\n",
      "可存三百多个单词，方便英语的口语学习！电话薄可以添加许多联系人的信息，这等于假了一些内容呀！\n",
      "\n",
      "\n"
     ]
    },
    {
     "ename": "KeyboardInterrupt",
     "evalue": "",
     "output_type": "error",
     "traceback": [
      "\u001b[0;31m---------------------------------------------------------------------------\u001b[0m",
      "\u001b[0;31mKeyboardInterrupt\u001b[0m                         Traceback (most recent call last)",
      "\u001b[0;32m<ipython-input-8-a494fc53cb58>\u001b[0m in \u001b[0;36m<module>\u001b[0;34m\u001b[0m\n\u001b[1;32m      6\u001b[0m \u001b[0mattacker\u001b[0m \u001b[0;34m=\u001b[0m \u001b[0mAttacker\u001b[0m\u001b[0;34m(\u001b[0m\u001b[0mattack\u001b[0m\u001b[0;34m,\u001b[0m \u001b[0mdataset\u001b[0m\u001b[0;34m,\u001b[0m \u001b[0mattack_args\u001b[0m\u001b[0;34m)\u001b[0m\u001b[0;34m\u001b[0m\u001b[0;34m\u001b[0m\u001b[0m\n\u001b[1;32m      7\u001b[0m \u001b[0;34m\u001b[0m\u001b[0m\n\u001b[0;32m----> 8\u001b[0;31m \u001b[0mattack_results\u001b[0m \u001b[0;34m=\u001b[0m \u001b[0mattacker\u001b[0m\u001b[0;34m.\u001b[0m\u001b[0mattack_dataset\u001b[0m\u001b[0;34m(\u001b[0m\u001b[0;34m)\u001b[0m\u001b[0;34m\u001b[0m\u001b[0;34m\u001b[0m\u001b[0m\n\u001b[0m",
      "\u001b[0;32m~/Desktop/TextAttack/textattack/attacker.py\u001b[0m in \u001b[0;36mattack_dataset\u001b[0;34m(self)\u001b[0m\n\u001b[1;32m    439\u001b[0m             \u001b[0mself\u001b[0m\u001b[0;34m.\u001b[0m\u001b[0m_attack_parallel\u001b[0m\u001b[0;34m(\u001b[0m\u001b[0;34m)\u001b[0m\u001b[0;34m\u001b[0m\u001b[0;34m\u001b[0m\u001b[0m\n\u001b[1;32m    440\u001b[0m         \u001b[0;32melse\u001b[0m\u001b[0;34m:\u001b[0m\u001b[0;34m\u001b[0m\u001b[0;34m\u001b[0m\u001b[0m\n\u001b[0;32m--> 441\u001b[0;31m             \u001b[0mself\u001b[0m\u001b[0;34m.\u001b[0m\u001b[0m_attack\u001b[0m\u001b[0;34m(\u001b[0m\u001b[0;34m)\u001b[0m\u001b[0;34m\u001b[0m\u001b[0;34m\u001b[0m\u001b[0m\n\u001b[0m\u001b[1;32m    442\u001b[0m \u001b[0;34m\u001b[0m\u001b[0m\n\u001b[1;32m    443\u001b[0m         \u001b[0;32mif\u001b[0m \u001b[0mself\u001b[0m\u001b[0;34m.\u001b[0m\u001b[0mattack_args\u001b[0m\u001b[0;34m.\u001b[0m\u001b[0msilent\u001b[0m\u001b[0;34m:\u001b[0m\u001b[0;34m\u001b[0m\u001b[0;34m\u001b[0m\u001b[0m\n",
      "\u001b[0;32m~/Desktop/TextAttack/textattack/attacker.py\u001b[0m in \u001b[0;36m_attack\u001b[0;34m(self)\u001b[0m\n\u001b[1;32m    166\u001b[0m                 \u001b[0mexample\u001b[0m\u001b[0;34m.\u001b[0m\u001b[0mattack_attrs\u001b[0m\u001b[0;34m[\u001b[0m\u001b[0;34m\"label_names\"\u001b[0m\u001b[0;34m]\u001b[0m \u001b[0;34m=\u001b[0m \u001b[0mself\u001b[0m\u001b[0;34m.\u001b[0m\u001b[0mdataset\u001b[0m\u001b[0;34m.\u001b[0m\u001b[0mlabel_names\u001b[0m\u001b[0;34m\u001b[0m\u001b[0;34m\u001b[0m\u001b[0m\n\u001b[1;32m    167\u001b[0m             \u001b[0;32mtry\u001b[0m\u001b[0;34m:\u001b[0m\u001b[0;34m\u001b[0m\u001b[0;34m\u001b[0m\u001b[0m\n\u001b[0;32m--> 168\u001b[0;31m                 \u001b[0mresult\u001b[0m \u001b[0;34m=\u001b[0m \u001b[0mself\u001b[0m\u001b[0;34m.\u001b[0m\u001b[0mattack\u001b[0m\u001b[0;34m.\u001b[0m\u001b[0mattack\u001b[0m\u001b[0;34m(\u001b[0m\u001b[0mexample\u001b[0m\u001b[0;34m,\u001b[0m \u001b[0mground_truth_output\u001b[0m\u001b[0;34m)\u001b[0m\u001b[0;34m\u001b[0m\u001b[0;34m\u001b[0m\u001b[0m\n\u001b[0m\u001b[1;32m    169\u001b[0m             \u001b[0;32mexcept\u001b[0m \u001b[0mException\u001b[0m \u001b[0;32mas\u001b[0m \u001b[0me\u001b[0m\u001b[0;34m:\u001b[0m\u001b[0;34m\u001b[0m\u001b[0;34m\u001b[0m\u001b[0m\n\u001b[1;32m    170\u001b[0m                 \u001b[0;32mraise\u001b[0m \u001b[0me\u001b[0m\u001b[0;34m\u001b[0m\u001b[0;34m\u001b[0m\u001b[0m\n",
      "\u001b[0;32m~/Desktop/TextAttack/textattack/attack.py\u001b[0m in \u001b[0;36mattack\u001b[0;34m(self, example, ground_truth_output)\u001b[0m\n\u001b[1;32m    446\u001b[0m             \u001b[0;32mreturn\u001b[0m \u001b[0mSkippedAttackResult\u001b[0m\u001b[0;34m(\u001b[0m\u001b[0mgoal_function_result\u001b[0m\u001b[0;34m)\u001b[0m\u001b[0;34m\u001b[0m\u001b[0;34m\u001b[0m\u001b[0m\n\u001b[1;32m    447\u001b[0m         \u001b[0;32melse\u001b[0m\u001b[0;34m:\u001b[0m\u001b[0;34m\u001b[0m\u001b[0;34m\u001b[0m\u001b[0m\n\u001b[0;32m--> 448\u001b[0;31m             \u001b[0mresult\u001b[0m \u001b[0;34m=\u001b[0m \u001b[0mself\u001b[0m\u001b[0;34m.\u001b[0m\u001b[0m_attack\u001b[0m\u001b[0;34m(\u001b[0m\u001b[0mgoal_function_result\u001b[0m\u001b[0;34m)\u001b[0m\u001b[0;34m\u001b[0m\u001b[0;34m\u001b[0m\u001b[0m\n\u001b[0m\u001b[1;32m    449\u001b[0m             \u001b[0;32mreturn\u001b[0m \u001b[0mresult\u001b[0m\u001b[0;34m\u001b[0m\u001b[0;34m\u001b[0m\u001b[0m\n\u001b[1;32m    450\u001b[0m \u001b[0;34m\u001b[0m\u001b[0m\n",
      "\u001b[0;32m~/Desktop/TextAttack/textattack/attack.py\u001b[0m in \u001b[0;36m_attack\u001b[0;34m(self, initial_result)\u001b[0m\n\u001b[1;32m    394\u001b[0m                 \u001b[0;32mor\u001b[0m\u001b[0;31m \u001b[0m\u001b[0;31m`\u001b[0m\u001b[0;31m`\u001b[0m\u001b[0mMaximizedAttackResult\u001b[0m\u001b[0;31m`\u001b[0m\u001b[0;31m`\u001b[0m\u001b[0;34m.\u001b[0m\u001b[0;34m\u001b[0m\u001b[0;34m\u001b[0m\u001b[0m\n\u001b[1;32m    395\u001b[0m         \"\"\"\n\u001b[0;32m--> 396\u001b[0;31m         \u001b[0mfinal_result\u001b[0m \u001b[0;34m=\u001b[0m \u001b[0mself\u001b[0m\u001b[0;34m.\u001b[0m\u001b[0msearch_method\u001b[0m\u001b[0;34m(\u001b[0m\u001b[0minitial_result\u001b[0m\u001b[0;34m)\u001b[0m\u001b[0;34m\u001b[0m\u001b[0;34m\u001b[0m\u001b[0m\n\u001b[0m\u001b[1;32m    397\u001b[0m         \u001b[0mself\u001b[0m\u001b[0;34m.\u001b[0m\u001b[0mclear_cache\u001b[0m\u001b[0;34m(\u001b[0m\u001b[0;34m)\u001b[0m\u001b[0;34m\u001b[0m\u001b[0;34m\u001b[0m\u001b[0m\n\u001b[1;32m    398\u001b[0m         \u001b[0;32mif\u001b[0m \u001b[0mfinal_result\u001b[0m\u001b[0;34m.\u001b[0m\u001b[0mgoal_status\u001b[0m \u001b[0;34m==\u001b[0m \u001b[0mGoalFunctionResultStatus\u001b[0m\u001b[0;34m.\u001b[0m\u001b[0mSUCCEEDED\u001b[0m\u001b[0;34m:\u001b[0m\u001b[0;34m\u001b[0m\u001b[0;34m\u001b[0m\u001b[0m\n",
      "\u001b[0;32m~/Desktop/TextAttack/textattack/search_methods/search_method.py\u001b[0m in \u001b[0;36m__call__\u001b[0;34m(self, initial_result)\u001b[0m\n\u001b[1;32m     34\u001b[0m             )\n\u001b[1;32m     35\u001b[0m \u001b[0;34m\u001b[0m\u001b[0m\n\u001b[0;32m---> 36\u001b[0;31m         \u001b[0mresult\u001b[0m \u001b[0;34m=\u001b[0m \u001b[0mself\u001b[0m\u001b[0;34m.\u001b[0m\u001b[0mperform_search\u001b[0m\u001b[0;34m(\u001b[0m\u001b[0minitial_result\u001b[0m\u001b[0;34m)\u001b[0m\u001b[0;34m\u001b[0m\u001b[0;34m\u001b[0m\u001b[0m\n\u001b[0m\u001b[1;32m     37\u001b[0m         \u001b[0;31m# ensure that the number of queries for this GoalFunctionResult is up-to-date\u001b[0m\u001b[0;34m\u001b[0m\u001b[0;34m\u001b[0m\u001b[0;34m\u001b[0m\u001b[0m\n\u001b[1;32m     38\u001b[0m         \u001b[0mresult\u001b[0m\u001b[0;34m.\u001b[0m\u001b[0mnum_queries\u001b[0m \u001b[0;34m=\u001b[0m \u001b[0mself\u001b[0m\u001b[0;34m.\u001b[0m\u001b[0mgoal_function\u001b[0m\u001b[0;34m.\u001b[0m\u001b[0mnum_queries\u001b[0m\u001b[0;34m\u001b[0m\u001b[0;34m\u001b[0m\u001b[0m\n",
      "\u001b[0;32m~/Desktop/TextAttack/textattack/search_methods/greedy_word_swap_wir.py\u001b[0m in \u001b[0;36mperform_search\u001b[0;34m(self, initial_result)\u001b[0m\n\u001b[1;32m    148\u001b[0m             \u001b[0;32mif\u001b[0m \u001b[0mlen\u001b[0m\u001b[0;34m(\u001b[0m\u001b[0mtransformed_text_candidates\u001b[0m\u001b[0;34m)\u001b[0m \u001b[0;34m==\u001b[0m \u001b[0;36m0\u001b[0m\u001b[0;34m:\u001b[0m\u001b[0;34m\u001b[0m\u001b[0;34m\u001b[0m\u001b[0m\n\u001b[1;32m    149\u001b[0m                 \u001b[0;32mcontinue\u001b[0m\u001b[0;34m\u001b[0m\u001b[0;34m\u001b[0m\u001b[0m\n\u001b[0;32m--> 150\u001b[0;31m             \u001b[0mresults\u001b[0m\u001b[0;34m,\u001b[0m \u001b[0msearch_over\u001b[0m \u001b[0;34m=\u001b[0m \u001b[0mself\u001b[0m\u001b[0;34m.\u001b[0m\u001b[0mget_goal_results\u001b[0m\u001b[0;34m(\u001b[0m\u001b[0mtransformed_text_candidates\u001b[0m\u001b[0;34m)\u001b[0m\u001b[0;34m\u001b[0m\u001b[0;34m\u001b[0m\u001b[0m\n\u001b[0m\u001b[1;32m    151\u001b[0m             \u001b[0mresults\u001b[0m \u001b[0;34m=\u001b[0m \u001b[0msorted\u001b[0m\u001b[0;34m(\u001b[0m\u001b[0mresults\u001b[0m\u001b[0;34m,\u001b[0m \u001b[0mkey\u001b[0m\u001b[0;34m=\u001b[0m\u001b[0;32mlambda\u001b[0m \u001b[0mx\u001b[0m\u001b[0;34m:\u001b[0m \u001b[0;34m-\u001b[0m\u001b[0mx\u001b[0m\u001b[0;34m.\u001b[0m\u001b[0mscore\u001b[0m\u001b[0;34m)\u001b[0m\u001b[0;34m\u001b[0m\u001b[0;34m\u001b[0m\u001b[0m\n\u001b[1;32m    152\u001b[0m             \u001b[0;31m# Skip swaps which don't improve the score\u001b[0m\u001b[0;34m\u001b[0m\u001b[0;34m\u001b[0m\u001b[0;34m\u001b[0m\u001b[0m\n",
      "\u001b[0;32m~/Desktop/TextAttack/textattack/goal_functions/goal_function.py\u001b[0m in \u001b[0;36mget_results\u001b[0;34m(self, attacked_text_list, check_skip)\u001b[0m\n\u001b[1;32m     94\u001b[0m             \u001b[0mattacked_text_list\u001b[0m \u001b[0;34m=\u001b[0m \u001b[0mattacked_text_list\u001b[0m\u001b[0;34m[\u001b[0m\u001b[0;34m:\u001b[0m\u001b[0mqueries_left\u001b[0m\u001b[0;34m]\u001b[0m\u001b[0;34m\u001b[0m\u001b[0;34m\u001b[0m\u001b[0m\n\u001b[1;32m     95\u001b[0m         \u001b[0mself\u001b[0m\u001b[0;34m.\u001b[0m\u001b[0mnum_queries\u001b[0m \u001b[0;34m+=\u001b[0m \u001b[0mlen\u001b[0m\u001b[0;34m(\u001b[0m\u001b[0mattacked_text_list\u001b[0m\u001b[0;34m)\u001b[0m\u001b[0;34m\u001b[0m\u001b[0;34m\u001b[0m\u001b[0m\n\u001b[0;32m---> 96\u001b[0;31m         \u001b[0mmodel_outputs\u001b[0m \u001b[0;34m=\u001b[0m \u001b[0mself\u001b[0m\u001b[0;34m.\u001b[0m\u001b[0m_call_model\u001b[0m\u001b[0;34m(\u001b[0m\u001b[0mattacked_text_list\u001b[0m\u001b[0;34m)\u001b[0m\u001b[0;34m\u001b[0m\u001b[0;34m\u001b[0m\u001b[0m\n\u001b[0m\u001b[1;32m     97\u001b[0m         \u001b[0;32mfor\u001b[0m \u001b[0mattacked_text\u001b[0m\u001b[0;34m,\u001b[0m \u001b[0mraw_output\u001b[0m \u001b[0;32min\u001b[0m \u001b[0mzip\u001b[0m\u001b[0;34m(\u001b[0m\u001b[0mattacked_text_list\u001b[0m\u001b[0;34m,\u001b[0m \u001b[0mmodel_outputs\u001b[0m\u001b[0;34m)\u001b[0m\u001b[0;34m:\u001b[0m\u001b[0;34m\u001b[0m\u001b[0;34m\u001b[0m\u001b[0m\n\u001b[1;32m     98\u001b[0m             \u001b[0mdisplayed_output\u001b[0m \u001b[0;34m=\u001b[0m \u001b[0mself\u001b[0m\u001b[0;34m.\u001b[0m\u001b[0m_get_displayed_output\u001b[0m\u001b[0;34m(\u001b[0m\u001b[0mraw_output\u001b[0m\u001b[0;34m)\u001b[0m\u001b[0;34m\u001b[0m\u001b[0;34m\u001b[0m\u001b[0m\n",
      "\u001b[0;32m~/Desktop/TextAttack/textattack/goal_functions/goal_function.py\u001b[0m in \u001b[0;36m_call_model\u001b[0;34m(self, attacked_text_list)\u001b[0m\n\u001b[1;32m    214\u001b[0m                 \u001b[0;32mif\u001b[0m \u001b[0mtext\u001b[0m \u001b[0;32mnot\u001b[0m \u001b[0;32min\u001b[0m \u001b[0mself\u001b[0m\u001b[0;34m.\u001b[0m\u001b[0m_call_model_cache\u001b[0m\u001b[0;34m\u001b[0m\u001b[0;34m\u001b[0m\u001b[0m\n\u001b[1;32m    215\u001b[0m             ]\n\u001b[0;32m--> 216\u001b[0;31m             \u001b[0moutputs\u001b[0m \u001b[0;34m=\u001b[0m \u001b[0mself\u001b[0m\u001b[0;34m.\u001b[0m\u001b[0m_call_model_uncached\u001b[0m\u001b[0;34m(\u001b[0m\u001b[0muncached_list\u001b[0m\u001b[0;34m)\u001b[0m\u001b[0;34m\u001b[0m\u001b[0;34m\u001b[0m\u001b[0m\n\u001b[0m\u001b[1;32m    217\u001b[0m             \u001b[0;32mfor\u001b[0m \u001b[0mtext\u001b[0m\u001b[0;34m,\u001b[0m \u001b[0moutput\u001b[0m \u001b[0;32min\u001b[0m \u001b[0mzip\u001b[0m\u001b[0;34m(\u001b[0m\u001b[0muncached_list\u001b[0m\u001b[0;34m,\u001b[0m \u001b[0moutputs\u001b[0m\u001b[0;34m)\u001b[0m\u001b[0;34m:\u001b[0m\u001b[0;34m\u001b[0m\u001b[0;34m\u001b[0m\u001b[0m\n\u001b[1;32m    218\u001b[0m                 \u001b[0mself\u001b[0m\u001b[0;34m.\u001b[0m\u001b[0m_call_model_cache\u001b[0m\u001b[0;34m[\u001b[0m\u001b[0mtext\u001b[0m\u001b[0;34m]\u001b[0m \u001b[0;34m=\u001b[0m \u001b[0moutput\u001b[0m\u001b[0;34m\u001b[0m\u001b[0;34m\u001b[0m\u001b[0m\n",
      "\u001b[0;32m~/Desktop/TextAttack/textattack/goal_functions/goal_function.py\u001b[0m in \u001b[0;36m_call_model_uncached\u001b[0;34m(self, attacked_text_list)\u001b[0m\n\u001b[1;32m    163\u001b[0m         \u001b[0;32mwhile\u001b[0m \u001b[0mi\u001b[0m \u001b[0;34m<\u001b[0m \u001b[0mlen\u001b[0m\u001b[0;34m(\u001b[0m\u001b[0minputs\u001b[0m\u001b[0;34m)\u001b[0m\u001b[0;34m:\u001b[0m\u001b[0;34m\u001b[0m\u001b[0;34m\u001b[0m\u001b[0m\n\u001b[1;32m    164\u001b[0m             \u001b[0mbatch\u001b[0m \u001b[0;34m=\u001b[0m \u001b[0minputs\u001b[0m\u001b[0;34m[\u001b[0m\u001b[0mi\u001b[0m \u001b[0;34m:\u001b[0m \u001b[0mi\u001b[0m \u001b[0;34m+\u001b[0m \u001b[0mself\u001b[0m\u001b[0;34m.\u001b[0m\u001b[0mbatch_size\u001b[0m\u001b[0;34m]\u001b[0m\u001b[0;34m\u001b[0m\u001b[0;34m\u001b[0m\u001b[0m\n\u001b[0;32m--> 165\u001b[0;31m             \u001b[0mbatch_preds\u001b[0m \u001b[0;34m=\u001b[0m \u001b[0mself\u001b[0m\u001b[0;34m.\u001b[0m\u001b[0mmodel\u001b[0m\u001b[0;34m(\u001b[0m\u001b[0mbatch\u001b[0m\u001b[0;34m)\u001b[0m\u001b[0;34m\u001b[0m\u001b[0;34m\u001b[0m\u001b[0m\n\u001b[0m\u001b[1;32m    166\u001b[0m \u001b[0;34m\u001b[0m\u001b[0m\n\u001b[1;32m    167\u001b[0m             \u001b[0;31m# Some seq-to-seq models will return a single string as a prediction\u001b[0m\u001b[0;34m\u001b[0m\u001b[0;34m\u001b[0m\u001b[0;34m\u001b[0m\u001b[0m\n",
      "\u001b[0;32m~/Desktop/TextAttack/textattack/models/wrappers/huggingface_model_wrapper.py\u001b[0m in \u001b[0;36m__call__\u001b[0;34m(self, text_input_list)\u001b[0m\n\u001b[1;32m     59\u001b[0m \u001b[0;34m\u001b[0m\u001b[0m\n\u001b[1;32m     60\u001b[0m         \u001b[0;32mwith\u001b[0m \u001b[0mtorch\u001b[0m\u001b[0;34m.\u001b[0m\u001b[0mno_grad\u001b[0m\u001b[0;34m(\u001b[0m\u001b[0;34m)\u001b[0m\u001b[0;34m:\u001b[0m\u001b[0;34m\u001b[0m\u001b[0;34m\u001b[0m\u001b[0m\n\u001b[0;32m---> 61\u001b[0;31m             \u001b[0moutputs\u001b[0m \u001b[0;34m=\u001b[0m \u001b[0mself\u001b[0m\u001b[0;34m.\u001b[0m\u001b[0mmodel\u001b[0m\u001b[0;34m(\u001b[0m\u001b[0;34m**\u001b[0m\u001b[0minputs_dict\u001b[0m\u001b[0;34m)\u001b[0m\u001b[0;34m\u001b[0m\u001b[0;34m\u001b[0m\u001b[0m\n\u001b[0m\u001b[1;32m     62\u001b[0m \u001b[0;34m\u001b[0m\u001b[0m\n\u001b[1;32m     63\u001b[0m         \u001b[0;32mif\u001b[0m \u001b[0misinstance\u001b[0m\u001b[0;34m(\u001b[0m\u001b[0moutputs\u001b[0m\u001b[0;34m[\u001b[0m\u001b[0;36m0\u001b[0m\u001b[0;34m]\u001b[0m\u001b[0;34m,\u001b[0m \u001b[0mstr\u001b[0m\u001b[0;34m)\u001b[0m\u001b[0;34m:\u001b[0m\u001b[0;34m\u001b[0m\u001b[0;34m\u001b[0m\u001b[0m\n",
      "\u001b[0;32m~/opt/anaconda3/lib/python3.7/site-packages/torch/nn/modules/module.py\u001b[0m in \u001b[0;36m_call_impl\u001b[0;34m(self, *input, **kwargs)\u001b[0m\n\u001b[1;32m    725\u001b[0m             \u001b[0mresult\u001b[0m \u001b[0;34m=\u001b[0m \u001b[0mself\u001b[0m\u001b[0;34m.\u001b[0m\u001b[0m_slow_forward\u001b[0m\u001b[0;34m(\u001b[0m\u001b[0;34m*\u001b[0m\u001b[0minput\u001b[0m\u001b[0;34m,\u001b[0m \u001b[0;34m**\u001b[0m\u001b[0mkwargs\u001b[0m\u001b[0;34m)\u001b[0m\u001b[0;34m\u001b[0m\u001b[0;34m\u001b[0m\u001b[0m\n\u001b[1;32m    726\u001b[0m         \u001b[0;32melse\u001b[0m\u001b[0;34m:\u001b[0m\u001b[0;34m\u001b[0m\u001b[0;34m\u001b[0m\u001b[0m\n\u001b[0;32m--> 727\u001b[0;31m             \u001b[0mresult\u001b[0m \u001b[0;34m=\u001b[0m \u001b[0mself\u001b[0m\u001b[0;34m.\u001b[0m\u001b[0mforward\u001b[0m\u001b[0;34m(\u001b[0m\u001b[0;34m*\u001b[0m\u001b[0minput\u001b[0m\u001b[0;34m,\u001b[0m \u001b[0;34m**\u001b[0m\u001b[0mkwargs\u001b[0m\u001b[0;34m)\u001b[0m\u001b[0;34m\u001b[0m\u001b[0;34m\u001b[0m\u001b[0m\n\u001b[0m\u001b[1;32m    728\u001b[0m         for hook in itertools.chain(\n\u001b[1;32m    729\u001b[0m                 \u001b[0m_global_forward_hooks\u001b[0m\u001b[0;34m.\u001b[0m\u001b[0mvalues\u001b[0m\u001b[0;34m(\u001b[0m\u001b[0;34m)\u001b[0m\u001b[0;34m,\u001b[0m\u001b[0;34m\u001b[0m\u001b[0;34m\u001b[0m\u001b[0m\n",
      "\u001b[0;32m~/opt/anaconda3/lib/python3.7/site-packages/transformers/models/bert/modeling_bert.py\u001b[0m in \u001b[0;36mforward\u001b[0;34m(self, input_ids, attention_mask, token_type_ids, position_ids, head_mask, inputs_embeds, labels, output_attentions, output_hidden_states, return_dict)\u001b[0m\n\u001b[1;32m   1495\u001b[0m             \u001b[0moutput_attentions\u001b[0m\u001b[0;34m=\u001b[0m\u001b[0moutput_attentions\u001b[0m\u001b[0;34m,\u001b[0m\u001b[0;34m\u001b[0m\u001b[0;34m\u001b[0m\u001b[0m\n\u001b[1;32m   1496\u001b[0m             \u001b[0moutput_hidden_states\u001b[0m\u001b[0;34m=\u001b[0m\u001b[0moutput_hidden_states\u001b[0m\u001b[0;34m,\u001b[0m\u001b[0;34m\u001b[0m\u001b[0;34m\u001b[0m\u001b[0m\n\u001b[0;32m-> 1497\u001b[0;31m             \u001b[0mreturn_dict\u001b[0m\u001b[0;34m=\u001b[0m\u001b[0mreturn_dict\u001b[0m\u001b[0;34m,\u001b[0m\u001b[0;34m\u001b[0m\u001b[0;34m\u001b[0m\u001b[0m\n\u001b[0m\u001b[1;32m   1498\u001b[0m         )\n\u001b[1;32m   1499\u001b[0m \u001b[0;34m\u001b[0m\u001b[0m\n",
      "\u001b[0;32m~/opt/anaconda3/lib/python3.7/site-packages/torch/nn/modules/module.py\u001b[0m in \u001b[0;36m_call_impl\u001b[0;34m(self, *input, **kwargs)\u001b[0m\n\u001b[1;32m    725\u001b[0m             \u001b[0mresult\u001b[0m \u001b[0;34m=\u001b[0m \u001b[0mself\u001b[0m\u001b[0;34m.\u001b[0m\u001b[0m_slow_forward\u001b[0m\u001b[0;34m(\u001b[0m\u001b[0;34m*\u001b[0m\u001b[0minput\u001b[0m\u001b[0;34m,\u001b[0m \u001b[0;34m**\u001b[0m\u001b[0mkwargs\u001b[0m\u001b[0;34m)\u001b[0m\u001b[0;34m\u001b[0m\u001b[0;34m\u001b[0m\u001b[0m\n\u001b[1;32m    726\u001b[0m         \u001b[0;32melse\u001b[0m\u001b[0;34m:\u001b[0m\u001b[0;34m\u001b[0m\u001b[0;34m\u001b[0m\u001b[0m\n\u001b[0;32m--> 727\u001b[0;31m             \u001b[0mresult\u001b[0m \u001b[0;34m=\u001b[0m \u001b[0mself\u001b[0m\u001b[0;34m.\u001b[0m\u001b[0mforward\u001b[0m\u001b[0;34m(\u001b[0m\u001b[0;34m*\u001b[0m\u001b[0minput\u001b[0m\u001b[0;34m,\u001b[0m \u001b[0;34m**\u001b[0m\u001b[0mkwargs\u001b[0m\u001b[0;34m)\u001b[0m\u001b[0;34m\u001b[0m\u001b[0;34m\u001b[0m\u001b[0m\n\u001b[0m\u001b[1;32m    728\u001b[0m         for hook in itertools.chain(\n\u001b[1;32m    729\u001b[0m                 \u001b[0m_global_forward_hooks\u001b[0m\u001b[0;34m.\u001b[0m\u001b[0mvalues\u001b[0m\u001b[0;34m(\u001b[0m\u001b[0;34m)\u001b[0m\u001b[0;34m,\u001b[0m\u001b[0;34m\u001b[0m\u001b[0;34m\u001b[0m\u001b[0m\n",
      "\u001b[0;32m~/opt/anaconda3/lib/python3.7/site-packages/transformers/models/bert/modeling_bert.py\u001b[0m in \u001b[0;36mforward\u001b[0;34m(self, input_ids, attention_mask, token_type_ids, position_ids, head_mask, inputs_embeds, encoder_hidden_states, encoder_attention_mask, past_key_values, use_cache, output_attentions, output_hidden_states, return_dict)\u001b[0m\n\u001b[1;32m    966\u001b[0m             \u001b[0moutput_attentions\u001b[0m\u001b[0;34m=\u001b[0m\u001b[0moutput_attentions\u001b[0m\u001b[0;34m,\u001b[0m\u001b[0;34m\u001b[0m\u001b[0;34m\u001b[0m\u001b[0m\n\u001b[1;32m    967\u001b[0m             \u001b[0moutput_hidden_states\u001b[0m\u001b[0;34m=\u001b[0m\u001b[0moutput_hidden_states\u001b[0m\u001b[0;34m,\u001b[0m\u001b[0;34m\u001b[0m\u001b[0;34m\u001b[0m\u001b[0m\n\u001b[0;32m--> 968\u001b[0;31m             \u001b[0mreturn_dict\u001b[0m\u001b[0;34m=\u001b[0m\u001b[0mreturn_dict\u001b[0m\u001b[0;34m,\u001b[0m\u001b[0;34m\u001b[0m\u001b[0;34m\u001b[0m\u001b[0m\n\u001b[0m\u001b[1;32m    969\u001b[0m         )\n\u001b[1;32m    970\u001b[0m         \u001b[0msequence_output\u001b[0m \u001b[0;34m=\u001b[0m \u001b[0mencoder_outputs\u001b[0m\u001b[0;34m[\u001b[0m\u001b[0;36m0\u001b[0m\u001b[0;34m]\u001b[0m\u001b[0;34m\u001b[0m\u001b[0;34m\u001b[0m\u001b[0m\n",
      "\u001b[0;32m~/opt/anaconda3/lib/python3.7/site-packages/torch/nn/modules/module.py\u001b[0m in \u001b[0;36m_call_impl\u001b[0;34m(self, *input, **kwargs)\u001b[0m\n\u001b[1;32m    725\u001b[0m             \u001b[0mresult\u001b[0m \u001b[0;34m=\u001b[0m \u001b[0mself\u001b[0m\u001b[0;34m.\u001b[0m\u001b[0m_slow_forward\u001b[0m\u001b[0;34m(\u001b[0m\u001b[0;34m*\u001b[0m\u001b[0minput\u001b[0m\u001b[0;34m,\u001b[0m \u001b[0;34m**\u001b[0m\u001b[0mkwargs\u001b[0m\u001b[0;34m)\u001b[0m\u001b[0;34m\u001b[0m\u001b[0;34m\u001b[0m\u001b[0m\n\u001b[1;32m    726\u001b[0m         \u001b[0;32melse\u001b[0m\u001b[0;34m:\u001b[0m\u001b[0;34m\u001b[0m\u001b[0;34m\u001b[0m\u001b[0m\n\u001b[0;32m--> 727\u001b[0;31m             \u001b[0mresult\u001b[0m \u001b[0;34m=\u001b[0m \u001b[0mself\u001b[0m\u001b[0;34m.\u001b[0m\u001b[0mforward\u001b[0m\u001b[0;34m(\u001b[0m\u001b[0;34m*\u001b[0m\u001b[0minput\u001b[0m\u001b[0;34m,\u001b[0m \u001b[0;34m**\u001b[0m\u001b[0mkwargs\u001b[0m\u001b[0;34m)\u001b[0m\u001b[0;34m\u001b[0m\u001b[0;34m\u001b[0m\u001b[0m\n\u001b[0m\u001b[1;32m    728\u001b[0m         for hook in itertools.chain(\n\u001b[1;32m    729\u001b[0m                 \u001b[0m_global_forward_hooks\u001b[0m\u001b[0;34m.\u001b[0m\u001b[0mvalues\u001b[0m\u001b[0;34m(\u001b[0m\u001b[0;34m)\u001b[0m\u001b[0;34m,\u001b[0m\u001b[0;34m\u001b[0m\u001b[0;34m\u001b[0m\u001b[0m\n",
      "\u001b[0;32m~/opt/anaconda3/lib/python3.7/site-packages/transformers/models/bert/modeling_bert.py\u001b[0m in \u001b[0;36mforward\u001b[0;34m(self, hidden_states, attention_mask, head_mask, encoder_hidden_states, encoder_attention_mask, past_key_values, use_cache, output_attentions, output_hidden_states, return_dict)\u001b[0m\n\u001b[1;32m    564\u001b[0m                     \u001b[0mencoder_attention_mask\u001b[0m\u001b[0;34m,\u001b[0m\u001b[0;34m\u001b[0m\u001b[0;34m\u001b[0m\u001b[0m\n\u001b[1;32m    565\u001b[0m                     \u001b[0mpast_key_value\u001b[0m\u001b[0;34m,\u001b[0m\u001b[0;34m\u001b[0m\u001b[0;34m\u001b[0m\u001b[0m\n\u001b[0;32m--> 566\u001b[0;31m                     \u001b[0moutput_attentions\u001b[0m\u001b[0;34m,\u001b[0m\u001b[0;34m\u001b[0m\u001b[0;34m\u001b[0m\u001b[0m\n\u001b[0m\u001b[1;32m    567\u001b[0m                 )\n\u001b[1;32m    568\u001b[0m \u001b[0;34m\u001b[0m\u001b[0m\n",
      "\u001b[0;32m~/opt/anaconda3/lib/python3.7/site-packages/torch/nn/modules/module.py\u001b[0m in \u001b[0;36m_call_impl\u001b[0;34m(self, *input, **kwargs)\u001b[0m\n\u001b[1;32m    725\u001b[0m             \u001b[0mresult\u001b[0m \u001b[0;34m=\u001b[0m \u001b[0mself\u001b[0m\u001b[0;34m.\u001b[0m\u001b[0m_slow_forward\u001b[0m\u001b[0;34m(\u001b[0m\u001b[0;34m*\u001b[0m\u001b[0minput\u001b[0m\u001b[0;34m,\u001b[0m \u001b[0;34m**\u001b[0m\u001b[0mkwargs\u001b[0m\u001b[0;34m)\u001b[0m\u001b[0;34m\u001b[0m\u001b[0;34m\u001b[0m\u001b[0m\n\u001b[1;32m    726\u001b[0m         \u001b[0;32melse\u001b[0m\u001b[0;34m:\u001b[0m\u001b[0;34m\u001b[0m\u001b[0;34m\u001b[0m\u001b[0m\n\u001b[0;32m--> 727\u001b[0;31m             \u001b[0mresult\u001b[0m \u001b[0;34m=\u001b[0m \u001b[0mself\u001b[0m\u001b[0;34m.\u001b[0m\u001b[0mforward\u001b[0m\u001b[0;34m(\u001b[0m\u001b[0;34m*\u001b[0m\u001b[0minput\u001b[0m\u001b[0;34m,\u001b[0m \u001b[0;34m**\u001b[0m\u001b[0mkwargs\u001b[0m\u001b[0;34m)\u001b[0m\u001b[0;34m\u001b[0m\u001b[0;34m\u001b[0m\u001b[0m\n\u001b[0m\u001b[1;32m    728\u001b[0m         for hook in itertools.chain(\n\u001b[1;32m    729\u001b[0m                 \u001b[0m_global_forward_hooks\u001b[0m\u001b[0;34m.\u001b[0m\u001b[0mvalues\u001b[0m\u001b[0;34m(\u001b[0m\u001b[0;34m)\u001b[0m\u001b[0;34m,\u001b[0m\u001b[0;34m\u001b[0m\u001b[0;34m\u001b[0m\u001b[0m\n",
      "\u001b[0;32m~/opt/anaconda3/lib/python3.7/site-packages/transformers/models/bert/modeling_bert.py\u001b[0m in \u001b[0;36mforward\u001b[0;34m(self, hidden_states, attention_mask, head_mask, encoder_hidden_states, encoder_attention_mask, past_key_value, output_attentions)\u001b[0m\n\u001b[1;32m    494\u001b[0m \u001b[0;34m\u001b[0m\u001b[0m\n\u001b[1;32m    495\u001b[0m         layer_output = apply_chunking_to_forward(\n\u001b[0;32m--> 496\u001b[0;31m             \u001b[0mself\u001b[0m\u001b[0;34m.\u001b[0m\u001b[0mfeed_forward_chunk\u001b[0m\u001b[0;34m,\u001b[0m \u001b[0mself\u001b[0m\u001b[0;34m.\u001b[0m\u001b[0mchunk_size_feed_forward\u001b[0m\u001b[0;34m,\u001b[0m \u001b[0mself\u001b[0m\u001b[0;34m.\u001b[0m\u001b[0mseq_len_dim\u001b[0m\u001b[0;34m,\u001b[0m \u001b[0mattention_output\u001b[0m\u001b[0;34m\u001b[0m\u001b[0;34m\u001b[0m\u001b[0m\n\u001b[0m\u001b[1;32m    497\u001b[0m         )\n\u001b[1;32m    498\u001b[0m         \u001b[0moutputs\u001b[0m \u001b[0;34m=\u001b[0m \u001b[0;34m(\u001b[0m\u001b[0mlayer_output\u001b[0m\u001b[0;34m,\u001b[0m\u001b[0;34m)\u001b[0m \u001b[0;34m+\u001b[0m \u001b[0moutputs\u001b[0m\u001b[0;34m\u001b[0m\u001b[0;34m\u001b[0m\u001b[0m\n",
      "\u001b[0;32m~/opt/anaconda3/lib/python3.7/site-packages/transformers/modeling_utils.py\u001b[0m in \u001b[0;36mapply_chunking_to_forward\u001b[0;34m(forward_fn, chunk_size, chunk_dim, *input_tensors)\u001b[0m\n\u001b[1;32m   1785\u001b[0m         \u001b[0;32mreturn\u001b[0m \u001b[0mtorch\u001b[0m\u001b[0;34m.\u001b[0m\u001b[0mcat\u001b[0m\u001b[0;34m(\u001b[0m\u001b[0moutput_chunks\u001b[0m\u001b[0;34m,\u001b[0m \u001b[0mdim\u001b[0m\u001b[0;34m=\u001b[0m\u001b[0mchunk_dim\u001b[0m\u001b[0;34m)\u001b[0m\u001b[0;34m\u001b[0m\u001b[0;34m\u001b[0m\u001b[0m\n\u001b[1;32m   1786\u001b[0m \u001b[0;34m\u001b[0m\u001b[0m\n\u001b[0;32m-> 1787\u001b[0;31m     \u001b[0;32mreturn\u001b[0m \u001b[0mforward_fn\u001b[0m\u001b[0;34m(\u001b[0m\u001b[0;34m*\u001b[0m\u001b[0minput_tensors\u001b[0m\u001b[0;34m)\u001b[0m\u001b[0;34m\u001b[0m\u001b[0;34m\u001b[0m\u001b[0m\n\u001b[0m",
      "\u001b[0;32m~/opt/anaconda3/lib/python3.7/site-packages/transformers/models/bert/modeling_bert.py\u001b[0m in \u001b[0;36mfeed_forward_chunk\u001b[0;34m(self, attention_output)\u001b[0m\n\u001b[1;32m    505\u001b[0m \u001b[0;34m\u001b[0m\u001b[0m\n\u001b[1;32m    506\u001b[0m     \u001b[0;32mdef\u001b[0m \u001b[0mfeed_forward_chunk\u001b[0m\u001b[0;34m(\u001b[0m\u001b[0mself\u001b[0m\u001b[0;34m,\u001b[0m \u001b[0mattention_output\u001b[0m\u001b[0;34m)\u001b[0m\u001b[0;34m:\u001b[0m\u001b[0;34m\u001b[0m\u001b[0;34m\u001b[0m\u001b[0m\n\u001b[0;32m--> 507\u001b[0;31m         \u001b[0mintermediate_output\u001b[0m \u001b[0;34m=\u001b[0m \u001b[0mself\u001b[0m\u001b[0;34m.\u001b[0m\u001b[0mintermediate\u001b[0m\u001b[0;34m(\u001b[0m\u001b[0mattention_output\u001b[0m\u001b[0;34m)\u001b[0m\u001b[0;34m\u001b[0m\u001b[0;34m\u001b[0m\u001b[0m\n\u001b[0m\u001b[1;32m    508\u001b[0m         \u001b[0mlayer_output\u001b[0m \u001b[0;34m=\u001b[0m \u001b[0mself\u001b[0m\u001b[0;34m.\u001b[0m\u001b[0moutput\u001b[0m\u001b[0;34m(\u001b[0m\u001b[0mintermediate_output\u001b[0m\u001b[0;34m,\u001b[0m \u001b[0mattention_output\u001b[0m\u001b[0;34m)\u001b[0m\u001b[0;34m\u001b[0m\u001b[0;34m\u001b[0m\u001b[0m\n\u001b[1;32m    509\u001b[0m         \u001b[0;32mreturn\u001b[0m \u001b[0mlayer_output\u001b[0m\u001b[0;34m\u001b[0m\u001b[0;34m\u001b[0m\u001b[0m\n",
      "\u001b[0;32m~/opt/anaconda3/lib/python3.7/site-packages/torch/nn/modules/module.py\u001b[0m in \u001b[0;36m_call_impl\u001b[0;34m(self, *input, **kwargs)\u001b[0m\n\u001b[1;32m    725\u001b[0m             \u001b[0mresult\u001b[0m \u001b[0;34m=\u001b[0m \u001b[0mself\u001b[0m\u001b[0;34m.\u001b[0m\u001b[0m_slow_forward\u001b[0m\u001b[0;34m(\u001b[0m\u001b[0;34m*\u001b[0m\u001b[0minput\u001b[0m\u001b[0;34m,\u001b[0m \u001b[0;34m**\u001b[0m\u001b[0mkwargs\u001b[0m\u001b[0;34m)\u001b[0m\u001b[0;34m\u001b[0m\u001b[0;34m\u001b[0m\u001b[0m\n\u001b[1;32m    726\u001b[0m         \u001b[0;32melse\u001b[0m\u001b[0;34m:\u001b[0m\u001b[0;34m\u001b[0m\u001b[0;34m\u001b[0m\u001b[0m\n\u001b[0;32m--> 727\u001b[0;31m             \u001b[0mresult\u001b[0m \u001b[0;34m=\u001b[0m \u001b[0mself\u001b[0m\u001b[0;34m.\u001b[0m\u001b[0mforward\u001b[0m\u001b[0;34m(\u001b[0m\u001b[0;34m*\u001b[0m\u001b[0minput\u001b[0m\u001b[0;34m,\u001b[0m \u001b[0;34m**\u001b[0m\u001b[0mkwargs\u001b[0m\u001b[0;34m)\u001b[0m\u001b[0;34m\u001b[0m\u001b[0;34m\u001b[0m\u001b[0m\n\u001b[0m\u001b[1;32m    728\u001b[0m         for hook in itertools.chain(\n\u001b[1;32m    729\u001b[0m                 \u001b[0m_global_forward_hooks\u001b[0m\u001b[0;34m.\u001b[0m\u001b[0mvalues\u001b[0m\u001b[0;34m(\u001b[0m\u001b[0;34m)\u001b[0m\u001b[0;34m,\u001b[0m\u001b[0;34m\u001b[0m\u001b[0;34m\u001b[0m\u001b[0m\n",
      "\u001b[0;32m~/opt/anaconda3/lib/python3.7/site-packages/transformers/models/bert/modeling_bert.py\u001b[0m in \u001b[0;36mforward\u001b[0;34m(self, hidden_states)\u001b[0m\n\u001b[1;32m    408\u001b[0m \u001b[0;34m\u001b[0m\u001b[0m\n\u001b[1;32m    409\u001b[0m     \u001b[0;32mdef\u001b[0m \u001b[0mforward\u001b[0m\u001b[0;34m(\u001b[0m\u001b[0mself\u001b[0m\u001b[0;34m,\u001b[0m \u001b[0mhidden_states\u001b[0m\u001b[0;34m)\u001b[0m\u001b[0;34m:\u001b[0m\u001b[0;34m\u001b[0m\u001b[0;34m\u001b[0m\u001b[0m\n\u001b[0;32m--> 410\u001b[0;31m         \u001b[0mhidden_states\u001b[0m \u001b[0;34m=\u001b[0m \u001b[0mself\u001b[0m\u001b[0;34m.\u001b[0m\u001b[0mdense\u001b[0m\u001b[0;34m(\u001b[0m\u001b[0mhidden_states\u001b[0m\u001b[0;34m)\u001b[0m\u001b[0;34m\u001b[0m\u001b[0;34m\u001b[0m\u001b[0m\n\u001b[0m\u001b[1;32m    411\u001b[0m         \u001b[0mhidden_states\u001b[0m \u001b[0;34m=\u001b[0m \u001b[0mself\u001b[0m\u001b[0;34m.\u001b[0m\u001b[0mintermediate_act_fn\u001b[0m\u001b[0;34m(\u001b[0m\u001b[0mhidden_states\u001b[0m\u001b[0;34m)\u001b[0m\u001b[0;34m\u001b[0m\u001b[0;34m\u001b[0m\u001b[0m\n\u001b[1;32m    412\u001b[0m         \u001b[0;32mreturn\u001b[0m \u001b[0mhidden_states\u001b[0m\u001b[0;34m\u001b[0m\u001b[0;34m\u001b[0m\u001b[0m\n",
      "\u001b[0;32m~/opt/anaconda3/lib/python3.7/site-packages/torch/nn/modules/module.py\u001b[0m in \u001b[0;36m_call_impl\u001b[0;34m(self, *input, **kwargs)\u001b[0m\n\u001b[1;32m    725\u001b[0m             \u001b[0mresult\u001b[0m \u001b[0;34m=\u001b[0m \u001b[0mself\u001b[0m\u001b[0;34m.\u001b[0m\u001b[0m_slow_forward\u001b[0m\u001b[0;34m(\u001b[0m\u001b[0;34m*\u001b[0m\u001b[0minput\u001b[0m\u001b[0;34m,\u001b[0m \u001b[0;34m**\u001b[0m\u001b[0mkwargs\u001b[0m\u001b[0;34m)\u001b[0m\u001b[0;34m\u001b[0m\u001b[0;34m\u001b[0m\u001b[0m\n\u001b[1;32m    726\u001b[0m         \u001b[0;32melse\u001b[0m\u001b[0;34m:\u001b[0m\u001b[0;34m\u001b[0m\u001b[0;34m\u001b[0m\u001b[0m\n\u001b[0;32m--> 727\u001b[0;31m             \u001b[0mresult\u001b[0m \u001b[0;34m=\u001b[0m \u001b[0mself\u001b[0m\u001b[0;34m.\u001b[0m\u001b[0mforward\u001b[0m\u001b[0;34m(\u001b[0m\u001b[0;34m*\u001b[0m\u001b[0minput\u001b[0m\u001b[0;34m,\u001b[0m \u001b[0;34m**\u001b[0m\u001b[0mkwargs\u001b[0m\u001b[0;34m)\u001b[0m\u001b[0;34m\u001b[0m\u001b[0;34m\u001b[0m\u001b[0m\n\u001b[0m\u001b[1;32m    728\u001b[0m         for hook in itertools.chain(\n\u001b[1;32m    729\u001b[0m                 \u001b[0m_global_forward_hooks\u001b[0m\u001b[0;34m.\u001b[0m\u001b[0mvalues\u001b[0m\u001b[0;34m(\u001b[0m\u001b[0;34m)\u001b[0m\u001b[0;34m,\u001b[0m\u001b[0;34m\u001b[0m\u001b[0;34m\u001b[0m\u001b[0m\n",
      "\u001b[0;32m~/opt/anaconda3/lib/python3.7/site-packages/torch/nn/modules/linear.py\u001b[0m in \u001b[0;36mforward\u001b[0;34m(self, input)\u001b[0m\n\u001b[1;32m     91\u001b[0m \u001b[0;34m\u001b[0m\u001b[0m\n\u001b[1;32m     92\u001b[0m     \u001b[0;32mdef\u001b[0m \u001b[0mforward\u001b[0m\u001b[0;34m(\u001b[0m\u001b[0mself\u001b[0m\u001b[0;34m,\u001b[0m \u001b[0minput\u001b[0m\u001b[0;34m:\u001b[0m \u001b[0mTensor\u001b[0m\u001b[0;34m)\u001b[0m \u001b[0;34m->\u001b[0m \u001b[0mTensor\u001b[0m\u001b[0;34m:\u001b[0m\u001b[0;34m\u001b[0m\u001b[0;34m\u001b[0m\u001b[0m\n\u001b[0;32m---> 93\u001b[0;31m         \u001b[0;32mreturn\u001b[0m \u001b[0mF\u001b[0m\u001b[0;34m.\u001b[0m\u001b[0mlinear\u001b[0m\u001b[0;34m(\u001b[0m\u001b[0minput\u001b[0m\u001b[0;34m,\u001b[0m \u001b[0mself\u001b[0m\u001b[0;34m.\u001b[0m\u001b[0mweight\u001b[0m\u001b[0;34m,\u001b[0m \u001b[0mself\u001b[0m\u001b[0;34m.\u001b[0m\u001b[0mbias\u001b[0m\u001b[0;34m)\u001b[0m\u001b[0;34m\u001b[0m\u001b[0;34m\u001b[0m\u001b[0m\n\u001b[0m\u001b[1;32m     94\u001b[0m \u001b[0;34m\u001b[0m\u001b[0m\n\u001b[1;32m     95\u001b[0m     \u001b[0;32mdef\u001b[0m \u001b[0mextra_repr\u001b[0m\u001b[0;34m(\u001b[0m\u001b[0mself\u001b[0m\u001b[0;34m)\u001b[0m \u001b[0;34m->\u001b[0m \u001b[0mstr\u001b[0m\u001b[0;34m:\u001b[0m\u001b[0;34m\u001b[0m\u001b[0;34m\u001b[0m\u001b[0m\n",
      "\u001b[0;32m~/opt/anaconda3/lib/python3.7/site-packages/torch/nn/functional.py\u001b[0m in \u001b[0;36mlinear\u001b[0;34m(input, weight, bias)\u001b[0m\n\u001b[1;32m   1690\u001b[0m         \u001b[0mret\u001b[0m \u001b[0;34m=\u001b[0m \u001b[0mtorch\u001b[0m\u001b[0;34m.\u001b[0m\u001b[0maddmm\u001b[0m\u001b[0;34m(\u001b[0m\u001b[0mbias\u001b[0m\u001b[0;34m,\u001b[0m \u001b[0minput\u001b[0m\u001b[0;34m,\u001b[0m \u001b[0mweight\u001b[0m\u001b[0;34m.\u001b[0m\u001b[0mt\u001b[0m\u001b[0;34m(\u001b[0m\u001b[0;34m)\u001b[0m\u001b[0;34m)\u001b[0m\u001b[0;34m\u001b[0m\u001b[0;34m\u001b[0m\u001b[0m\n\u001b[1;32m   1691\u001b[0m     \u001b[0;32melse\u001b[0m\u001b[0;34m:\u001b[0m\u001b[0;34m\u001b[0m\u001b[0;34m\u001b[0m\u001b[0m\n\u001b[0;32m-> 1692\u001b[0;31m         \u001b[0moutput\u001b[0m \u001b[0;34m=\u001b[0m \u001b[0minput\u001b[0m\u001b[0;34m.\u001b[0m\u001b[0mmatmul\u001b[0m\u001b[0;34m(\u001b[0m\u001b[0mweight\u001b[0m\u001b[0;34m.\u001b[0m\u001b[0mt\u001b[0m\u001b[0;34m(\u001b[0m\u001b[0;34m)\u001b[0m\u001b[0;34m)\u001b[0m\u001b[0;34m\u001b[0m\u001b[0;34m\u001b[0m\u001b[0m\n\u001b[0m\u001b[1;32m   1693\u001b[0m         \u001b[0;32mif\u001b[0m \u001b[0mbias\u001b[0m \u001b[0;32mis\u001b[0m \u001b[0;32mnot\u001b[0m \u001b[0;32mNone\u001b[0m\u001b[0;34m:\u001b[0m\u001b[0;34m\u001b[0m\u001b[0;34m\u001b[0m\u001b[0m\n\u001b[1;32m   1694\u001b[0m             \u001b[0moutput\u001b[0m \u001b[0;34m+=\u001b[0m \u001b[0mbias\u001b[0m\u001b[0;34m\u001b[0m\u001b[0;34m\u001b[0m\u001b[0m\n",
      "\u001b[0;31mKeyboardInterrupt\u001b[0m: "
     ]
    }
   ],
   "source": [
    "transformation=ChineseHomophoneCharacterSwap()\n",
    "attack = Attack(goal_function, constraints, transformation, search_method)\n",
    "\n",
    "attack_args = AttackArgs(num_examples=500)\n",
    "\n",
    "attacker = Attacker(attack, dataset, attack_args)\n",
    "\n",
    "attack_results = attacker.attack_dataset()"
   ]
  },
  {
   "cell_type": "code",
   "execution_count": null,
   "id": "mature-cincinnati",
   "metadata": {},
   "outputs": [
    {
     "name": "stdout",
     "output_type": "stream",
     "text": [
      "Initializing OpenHowNet succeeded!\n",
      "Initializing similarity calculation succeeded!\n",
      "Attack(\n",
      "  (search_method): GreedyWordSwapWIR(\n",
      "    (wir_method):  unk\n",
      "  )\n",
      "  (goal_function):  UntargetedClassification\n",
      "  (transformation):  ChineseWordSwapHowNet\n",
      "  (constraints): \n",
      "    (0): RepeatModification\n",
      "    (1): StopwordModification\n",
      "  (is_black_box):  True\n",
      ") \n",
      "\n"
     ]
    },
    {
     "name": "stderr",
     "output_type": "stream",
     "text": [
      "\n",
      "  0%|          | 0/200 [00:00<?, ?it/s]\u001b[A\n",
      "  0%|          | 1/200 [02:39<8:47:52, 159.16s/it]\u001b[A\n",
      "[Succeeded / Failed / Skipped / Total] 0 / 1 / 0 / 1:   0%|          | 1/200 [02:39<8:47:52, 159.16s/it]\u001b[A"
     ]
    },
    {
     "name": "stdout",
     "output_type": "stream",
     "text": [
      "--------------------------------------------- Result 1 ---------------------------------------------\n",
      "[[Positive (97%)]] --> [[[FAILED]]]\n",
      "\n",
      "哈哈，宝贝很不错的，无色差，质量特别好，价格便宜，发货快，满意\n",
      "\n",
      "\n"
     ]
    },
    {
     "name": "stderr",
     "output_type": "stream",
     "text": [
      "\n",
      "[Succeeded / Failed / Skipped / Total] 0 / 1 / 0 / 1:   1%|          | 2/200 [04:20<7:09:17, 130.09s/it]\u001b[A\n",
      "[Succeeded / Failed / Skipped / Total] 1 / 1 / 0 / 2:   1%|          | 2/200 [04:20<7:09:17, 130.09s/it]\u001b[A"
     ]
    },
    {
     "name": "stdout",
     "output_type": "stream",
     "text": [
      "--------------------------------------------- Result 2 ---------------------------------------------\n",
      "[[Positive (98%)]] --> [[Negative (73%)]]\n",
      "\n",
      "不错，售后服务非常给力，一直相信京东\n",
      "\n",
      "不大离儿，人工客服一百八十度一泻千里，一时一刻信亚马逊\n",
      "\n",
      "\n"
     ]
    },
    {
     "name": "stderr",
     "output_type": "stream",
     "text": [
      "\n",
      "[Succeeded / Failed / Skipped / Total] 1 / 1 / 0 / 2:   2%|▏         | 3/200 [05:30<6:02:11, 110.31s/it]\u001b[A\n",
      "[Succeeded / Failed / Skipped / Total] 1 / 2 / 0 / 3:   2%|▏         | 3/200 [05:30<6:02:11, 110.31s/it]\u001b[A"
     ]
    },
    {
     "name": "stdout",
     "output_type": "stream",
     "text": [
      "--------------------------------------------- Result 3 ---------------------------------------------\n",
      "[[Negative (98%)]] --> [[[FAILED]]]\n",
      "\n",
      "刚买一星期就降价200元，价格保护还不支持，太无语了。\n",
      "\n",
      "\n"
     ]
    },
    {
     "name": "stderr",
     "output_type": "stream",
     "text": [
      "\n",
      "[Succeeded / Failed / Skipped / Total] 1 / 2 / 0 / 3:   2%|▏         | 4/200 [11:09<9:06:29, 167.29s/it]\u001b[A\n",
      "[Succeeded / Failed / Skipped / Total] 1 / 3 / 0 / 4:   2%|▏         | 4/200 [11:09<9:06:29, 167.29s/it]\u001b[A"
     ]
    },
    {
     "name": "stdout",
     "output_type": "stream",
     "text": [
      "--------------------------------------------- Result 4 ---------------------------------------------\n",
      "[[Negative (99%)]] --> [[[FAILED]]]\n",
      "\n",
      "房间墙壁裂开了，洗澡水流特别小，充电的口特别少，床铺不干净，前台接电话的态度不好，万不得已，不建议住这种酒店。\n",
      "\n",
      "\n"
     ]
    },
    {
     "name": "stderr",
     "output_type": "stream",
     "text": [
      "\n",
      "[Succeeded / Failed / Skipped / Total] 1 / 3 / 0 / 4:   2%|▎         | 5/200 [11:12<7:17:22, 134.58s/it]\u001b[A\n",
      "[Succeeded / Failed / Skipped / Total] 1 / 4 / 0 / 5:   2%|▎         | 5/200 [11:12<7:17:23, 134.58s/it]\u001b[A"
     ]
    },
    {
     "name": "stdout",
     "output_type": "stream",
     "text": [
      "--------------------------------------------- Result 5 ---------------------------------------------\n",
      "[[Positive (96%)]] --> [[[FAILED]]]\n",
      "\n",
      "有蒙牛无幸福\n",
      "\n",
      "\n"
     ]
    },
    {
     "name": "stderr",
     "output_type": "stream",
     "text": [
      "\n",
      "[Succeeded / Failed / Skipped / Total] 1 / 4 / 0 / 5:   3%|▎         | 6/200 [17:04<9:12:13, 170.79s/it]\u001b[A\n",
      "[Succeeded / Failed / Skipped / Total] 1 / 5 / 0 / 6:   3%|▎         | 6/200 [17:04<9:12:13, 170.79s/it]\u001b[A"
     ]
    },
    {
     "name": "stdout",
     "output_type": "stream",
     "text": [
      "--------------------------------------------- Result 6 ---------------------------------------------\n",
      "[[Negative (98%)]] --> [[[FAILED]]]\n",
      "\n",
      "才买了一个月就开始卡机了，按个返回键，半天没反应，这手机太垃圾了，以后都不买这种牌子的手机了\n",
      "\n",
      "\n"
     ]
    },
    {
     "name": "stderr",
     "output_type": "stream",
     "text": [
      "\n",
      "[Succeeded / Failed / Skipped / Total] 1 / 5 / 0 / 6:   4%|▎         | 7/200 [17:46<8:09:59, 152.33s/it]\u001b[A\n",
      "[Succeeded / Failed / Skipped / Total] 2 / 5 / 0 / 7:   4%|▎         | 7/200 [17:46<8:10:00, 152.33s/it]\u001b[A"
     ]
    },
    {
     "name": "stdout",
     "output_type": "stream",
     "text": [
      "--------------------------------------------- Result 7 ---------------------------------------------\n",
      "[[Negative (96%)]] --> [[Positive (57%)]]\n",
      "\n",
      "买了不到一个月，降价100元。。。百分之12.5的降价。。。差评\n",
      "\n",
      "买了不到一个月，降价100元。。。百分之12.5的降价。。。好评\n",
      "\n",
      "\n"
     ]
    },
    {
     "name": "stderr",
     "output_type": "stream",
     "text": [
      "\n",
      "[Succeeded / Failed / Skipped / Total] 2 / 5 / 0 / 7:   4%|▍         | 8/200 [20:55<8:22:05, 156.90s/it]\u001b[A\n",
      "[Succeeded / Failed / Skipped / Total] 3 / 5 / 0 / 8:   4%|▍         | 8/200 [20:55<8:22:06, 156.91s/it]\u001b[A"
     ]
    },
    {
     "name": "stdout",
     "output_type": "stream",
     "text": [
      "--------------------------------------------- Result 8 ---------------------------------------------\n",
      "[[Negative (99%)]] --> [[Positive (52%)]]\n",
      "\n",
      "穿起来别扭！一看才知道根本就不对其！看边线！斜的！有图有真相！\n",
      "\n",
      "佩戴平身别别扭扭！一看才了如指掌中心就不对其！看边线！倾斜的！有图有实情！\n",
      "\n",
      "\n"
     ]
    },
    {
     "name": "stderr",
     "output_type": "stream",
     "text": [
      "\n",
      "[Succeeded / Failed / Skipped / Total] 3 / 5 / 0 / 8:   4%|▍         | 9/200 [23:07<8:10:47, 154.17s/it]\u001b[A\n",
      "[Succeeded / Failed / Skipped / Total] 4 / 5 / 0 / 9:   4%|▍         | 9/200 [23:07<8:10:47, 154.18s/it]\u001b[A"
     ]
    },
    {
     "name": "stdout",
     "output_type": "stream",
     "text": [
      "--------------------------------------------- Result 9 ---------------------------------------------\n",
      "[[Negative (98%)]] --> [[Positive (61%)]]\n",
      "\n",
      "完全不是我想要的书！！！内容一点都不实用。\n",
      "\n",
      "一体化不是我乐于的书！！！内容一些都不事务性。\n",
      "\n",
      "\n"
     ]
    },
    {
     "name": "stderr",
     "output_type": "stream",
     "text": [
      "\n",
      "[Succeeded / Failed / Skipped / Total] 4 / 5 / 0 / 9:   5%|▌         | 10/200 [24:13<7:40:13, 145.33s/it]\u001b[A\n",
      "[Succeeded / Failed / Skipped / Total] 5 / 5 / 0 / 10:   5%|▌         | 10/200 [24:13<7:40:13, 145.33s/it]\u001b[A"
     ]
    },
    {
     "name": "stdout",
     "output_type": "stream",
     "text": [
      "--------------------------------------------- Result 10 ---------------------------------------------\n",
      "[[Positive (80%)]] --> [[Negative (67%)]]\n",
      "\n",
      "裤子收到了，就是物流有点慢可能受雾霾的影响，样子跟图片个相符，尺码正常，就是不太适合腿粗的人穿\n",
      "\n",
      "裤子了结了，就是物流有点慢可能受雾霾的影响，样子跟图片个相符，尺码典型地，就是不太适合腿粗的人穿\n",
      "\n",
      "\n"
     ]
    },
    {
     "name": "stderr",
     "output_type": "stream",
     "text": [
      "\n",
      "[Succeeded / Failed / Skipped / Total] 5 / 5 / 0 / 10:   6%|▌         | 11/200 [29:35<8:28:21, 161.38s/it]\u001b[A\n",
      "[Succeeded / Failed / Skipped / Total] 5 / 6 / 0 / 11:   6%|▌         | 11/200 [29:35<8:28:21, 161.38s/it]\u001b[A"
     ]
    },
    {
     "name": "stdout",
     "output_type": "stream",
     "text": [
      "--------------------------------------------- Result 11 ---------------------------------------------\n",
      "[[Positive (98%)]] --> [[[FAILED]]]\n",
      "\n",
      "裤子很好，男盆友穿起来很好看，有型，也舒服，卖家态度也很好，下次还买，想买的盆友快入手把～    评价图片\n",
      "\n",
      "\n"
     ]
    },
    {
     "name": "stderr",
     "output_type": "stream",
     "text": [
      "\n",
      "[Succeeded / Failed / Skipped / Total] 5 / 6 / 0 / 11:   6%|▌         | 12/200 [31:05<8:07:11, 155.49s/it]\u001b[A\n",
      "[Succeeded / Failed / Skipped / Total] 6 / 6 / 0 / 12:   6%|▌         | 12/200 [31:05<8:07:12, 155.49s/it]\u001b[A"
     ]
    },
    {
     "name": "stdout",
     "output_type": "stream",
     "text": [
      "--------------------------------------------- Result 12 ---------------------------------------------\n",
      "[[Positive (96%)]] --> [[Negative (53%)]]\n",
      "\n",
      "服务不错，性价比还可以。 娱乐项目较多！房间不大。\n",
      "\n",
      "介入不大离儿，双子座还可以。 下事件较多！两厢不大。\n",
      "\n",
      "\n"
     ]
    },
    {
     "name": "stderr",
     "output_type": "stream",
     "text": [
      "\n",
      "[Succeeded / Failed / Skipped / Total] 6 / 6 / 0 / 12:   6%|▋         | 13/200 [31:22<7:31:15, 144.79s/it]\u001b[A\n",
      "[Succeeded / Failed / Skipped / Total] 6 / 7 / 0 / 13:   6%|▋         | 13/200 [31:22<7:31:15, 144.79s/it]\u001b[A"
     ]
    },
    {
     "name": "stdout",
     "output_type": "stream",
     "text": [
      "--------------------------------------------- Result 13 ---------------------------------------------\n",
      "[[Negative (99%)]] --> [[[FAILED]]]\n",
      "\n",
      "太紧了，线缝不行\n",
      "\n",
      "\n"
     ]
    },
    {
     "name": "stderr",
     "output_type": "stream",
     "text": [
      "\n",
      "[Succeeded / Failed / Skipped / Total] 6 / 7 / 0 / 13:   7%|▋         | 14/200 [31:24<6:57:10, 134.57s/it]\u001b[A\n",
      "[Succeeded / Failed / Skipped / Total] 6 / 7 / 1 / 14:   7%|▋         | 14/200 [31:24<6:57:10, 134.57s/it]\u001b[A"
     ]
    },
    {
     "name": "stdout",
     "output_type": "stream",
     "text": [
      "--------------------------------------------- Result 14 ---------------------------------------------\n",
      "[[Positive (88%)]] --> [[[SKIPPED]]]\n",
      "\n",
      "第二天续住，感觉没有第一天的服务好，希望服务跟上吧。\n",
      "\n",
      "\n"
     ]
    },
    {
     "name": "stderr",
     "output_type": "stream",
     "text": [
      "\n",
      "[Succeeded / Failed / Skipped / Total] 6 / 7 / 1 / 14:   8%|▊         | 15/200 [32:29<6:40:43, 129.97s/it]\u001b[A\n",
      "[Succeeded / Failed / Skipped / Total] 6 / 8 / 1 / 15:   8%|▊         | 15/200 [32:29<6:40:43, 129.97s/it]\u001b[A"
     ]
    },
    {
     "name": "stdout",
     "output_type": "stream",
     "text": [
      "--------------------------------------------- Result 15 ---------------------------------------------\n",
      "[[Negative (99%)]] --> [[[FAILED]]]\n",
      "\n",
      "事物比照片丑多了，家里有台灰色的，本来以为一样，结果收到是黑色的\n",
      "\n",
      "\n"
     ]
    },
    {
     "name": "stderr",
     "output_type": "stream",
     "text": [
      "\n",
      "[Succeeded / Failed / Skipped / Total] 6 / 8 / 1 / 15:   8%|▊         | 16/200 [32:32<6:14:17, 122.05s/it]\u001b[A\n",
      "[Succeeded / Failed / Skipped / Total] 6 / 9 / 1 / 16:   8%|▊         | 16/200 [32:32<6:14:17, 122.05s/it]\u001b[A"
     ]
    },
    {
     "name": "stdout",
     "output_type": "stream",
     "text": [
      "--------------------------------------------- Result 16 ---------------------------------------------\n",
      "[[Negative (98%)]] --> [[[FAILED]]]\n",
      "\n",
      "包装太垃圾了\n",
      "\n",
      "\n"
     ]
    },
    {
     "name": "stderr",
     "output_type": "stream",
     "text": [
      "\n",
      "[Succeeded / Failed / Skipped / Total] 6 / 9 / 1 / 16:   8%|▊         | 17/200 [34:03<6:06:40, 120.22s/it]\u001b[A\n",
      "[Succeeded / Failed / Skipped / Total] 7 / 9 / 1 / 17:   8%|▊         | 17/200 [34:03<6:06:41, 120.22s/it]\u001b[A"
     ]
    },
    {
     "name": "stdout",
     "output_type": "stream",
     "text": [
      "--------------------------------------------- Result 17 ---------------------------------------------\n",
      "[[Negative (96%)]] --> [[Positive (56%)]]\n",
      "\n",
      "这活动搞得也太多了吧，前两天下单说是618活动，今天618还没到又再次降价，什么意思，难道我上次看到的是假的618活动。1分给平板，用着不错。\n",
      "\n",
      "这活动搞得也太多了吧，前两天下单说是618活动，今天618还没到又再次降价，什么意思，难道我上次看到的是人工的618活动。1分给坦荡，用着不错。\n",
      "\n",
      "\n"
     ]
    },
    {
     "name": "stderr",
     "output_type": "stream",
     "text": [
      "\n",
      "[Succeeded / Failed / Skipped / Total] 7 / 9 / 1 / 17:   9%|▉         | 18/200 [35:59<6:03:58, 119.99s/it]\u001b[A\n",
      "[Succeeded / Failed / Skipped / Total] 7 / 10 / 1 / 18:   9%|▉         | 18/200 [35:59<6:03:58, 119.99s/it]\u001b[A"
     ]
    },
    {
     "name": "stdout",
     "output_type": "stream",
     "text": [
      "--------------------------------------------- Result 18 ---------------------------------------------\n",
      "[[Positive (97%)]] --> [[[FAILED]]]\n",
      "\n",
      "苹果很漂亮，包装很结实，京东生鲜靠谱。\n",
      "\n",
      "\n"
     ]
    },
    {
     "name": "stderr",
     "output_type": "stream",
     "text": [
      "\n",
      "[Succeeded / Failed / Skipped / Total] 7 / 10 / 1 / 18:  10%|▉         | 19/200 [36:07<5:44:08, 114.08s/it]\u001b[A\n",
      "[Succeeded / Failed / Skipped / Total] 7 / 11 / 1 / 19:  10%|▉         | 19/200 [36:07<5:44:08, 114.08s/it]\u001b[A"
     ]
    },
    {
     "name": "stdout",
     "output_type": "stream",
     "text": [
      "--------------------------------------------- Result 19 ---------------------------------------------\n",
      "[[Positive (96%)]] --> [[[FAILED]]]\n",
      "\n",
      "质量很好，面料很好，穿上很舒服，大小合适\n",
      "\n",
      "\n"
     ]
    },
    {
     "name": "stderr",
     "output_type": "stream",
     "text": [
      "\n",
      "[Succeeded / Failed / Skipped / Total] 7 / 11 / 1 / 19:  10%|█         | 20/200 [37:44<5:39:43, 113.24s/it]\u001b[A\n",
      "[Succeeded / Failed / Skipped / Total] 7 / 12 / 1 / 20:  10%|█         | 20/200 [37:44<5:39:43, 113.24s/it]\u001b[A"
     ]
    },
    {
     "name": "stdout",
     "output_type": "stream",
     "text": [
      "--------------------------------------------- Result 20 ---------------------------------------------\n",
      "[[Negative (98%)]] --> [[[FAILED]]]\n",
      "\n",
      "买的时候说秒杀，没收到就降价，还说秒杀不保价，真是醉了\n",
      "\n",
      "\n"
     ]
    },
    {
     "name": "stderr",
     "output_type": "stream",
     "text": [
      "\n",
      "[Succeeded / Failed / Skipped / Total] 7 / 12 / 1 / 20:  10%|█         | 21/200 [37:46<5:21:59, 107.93s/it]\u001b[A\n",
      "[Succeeded / Failed / Skipped / Total] 7 / 12 / 2 / 21:  10%|█         | 21/200 [37:46<5:21:59, 107.93s/it]\u001b[A"
     ]
    },
    {
     "name": "stdout",
     "output_type": "stream",
     "text": [
      "--------------------------------------------- Result 21 ---------------------------------------------\n",
      "[[Positive (88%)]] --> [[[SKIPPED]]]\n",
      "\n",
      "买的第二个了，涨价就不说了，声音超小，连接无线网络信号差，第一个很好用。\n",
      "\n",
      "\n"
     ]
    },
    {
     "name": "stderr",
     "output_type": "stream",
     "text": [
      "\n",
      "[Succeeded / Failed / Skipped / Total] 7 / 12 / 2 / 21:  11%|█         | 22/200 [41:46<5:38:00, 113.94s/it]\u001b[A\n",
      "[Succeeded / Failed / Skipped / Total] 8 / 12 / 2 / 22:  11%|█         | 22/200 [41:46<5:38:01, 113.94s/it]\u001b[A"
     ]
    },
    {
     "name": "stdout",
     "output_type": "stream",
     "text": [
      "--------------------------------------------- Result 22 ---------------------------------------------\n",
      "[[Negative (89%)]] --> [[Positive (72%)]]\n",
      "\n",
      "1.机身厚度稍大，屏幕稍小； 2. 屏幕在亮度和鲜艳程度上表现稍逊色 3 拍摄的照片显示效果差强人意，有明显的颗粒感； 4. 不支持Java、红外和蓝牙；\n",
      "\n",
      "1.机身薄厚稍大，屏幕稍小； 2. 显示屏在物理属性和鲜艳程度上表现稍逊色 00万 拍摄的免冠照显示效果中等，有明显的颗粒感； 4. 不主Java、红外和蓝牙；\n",
      "\n",
      "\n"
     ]
    },
    {
     "name": "stderr",
     "output_type": "stream",
     "text": [
      "\n",
      "[Succeeded / Failed / Skipped / Total] 8 / 12 / 2 / 22:  12%|█▏        | 23/200 [43:01<5:31:07, 112.24s/it]\u001b[A\n",
      "[Succeeded / Failed / Skipped / Total] 8 / 13 / 2 / 23:  12%|█▏        | 23/200 [43:01<5:31:07, 112.24s/it]\u001b[A"
     ]
    },
    {
     "name": "stdout",
     "output_type": "stream",
     "text": [
      "--------------------------------------------- Result 23 ---------------------------------------------\n",
      "[[Positive (88%)]] --> [[[FAILED]]]\n",
      "\n",
      "包装几好，每只都无烂，仲要好甜，呢个价有12只，超值\n",
      "\n",
      "\n"
     ]
    },
    {
     "name": "stderr",
     "output_type": "stream",
     "text": [
      "\n",
      "[Succeeded / Failed / Skipped / Total] 8 / 13 / 2 / 23:  12%|█▏        | 24/200 [48:15<5:53:52, 120.64s/it]\u001b[A\n",
      "[Succeeded / Failed / Skipped / Total] 8 / 14 / 2 / 24:  12%|█▏        | 24/200 [48:15<5:53:52, 120.64s/it]\u001b[A"
     ]
    },
    {
     "name": "stdout",
     "output_type": "stream",
     "text": [
      "--------------------------------------------- Result 24 ---------------------------------------------\n",
      "[[Negative (98%)]] --> [[[FAILED]]]\n",
      "\n",
      "之前买过一次挺好的，但这次这个特别不好，用完之后头发的手感不是柔顺的而是感觉硬的，不知道是怎么回事呢？特别不好，特别不好。\n",
      "\n",
      "\n"
     ]
    },
    {
     "name": "stderr",
     "output_type": "stream",
     "text": [
      "\n",
      "[Succeeded / Failed / Skipped / Total] 8 / 14 / 2 / 24:  12%|█▎        | 25/200 [49:42<5:47:58, 119.31s/it]\u001b[A\n",
      "[Succeeded / Failed / Skipped / Total] 8 / 15 / 2 / 25:  12%|█▎        | 25/200 [49:42<5:47:58, 119.31s/it]\u001b[A"
     ]
    },
    {
     "name": "stdout",
     "output_type": "stream",
     "text": [
      "--------------------------------------------- Result 25 ---------------------------------------------\n",
      "[[Positive (93%)]] --> [[[FAILED]]]\n",
      "\n",
      "包装比较简单，不过产品还是挺好用，以前用的x1，用了两年，现在换x2\n",
      "\n",
      "\n"
     ]
    },
    {
     "name": "stderr",
     "output_type": "stream",
     "text": [
      "\n",
      "[Succeeded / Failed / Skipped / Total] 8 / 15 / 2 / 25:  13%|█▎        | 26/200 [50:11<5:35:51, 115.81s/it]\u001b[A\n",
      "[Succeeded / Failed / Skipped / Total] 9 / 15 / 2 / 26:  13%|█▎        | 26/200 [50:11<5:35:51, 115.81s/it]\u001b[A"
     ]
    },
    {
     "name": "stdout",
     "output_type": "stream",
     "text": [
      "--------------------------------------------- Result 26 ---------------------------------------------\n",
      "[[Negative (80%)]] --> [[Positive (55%)]]\n",
      "\n",
      "买了，不好，太差劲啦哈哈哈哈哈哈哈哈哈哈，谁买谁后悔\n",
      "\n",
      "买了，不好，太下乘啦哈哈哈哈哈哈哈哈哈哈，谁买谁后悔\n",
      "\n",
      "\n"
     ]
    },
    {
     "name": "stderr",
     "output_type": "stream",
     "text": [
      "\n",
      "[Succeeded / Failed / Skipped / Total] 9 / 15 / 2 / 26:  14%|█▎        | 27/200 [51:02<5:27:03, 113.43s/it]\u001b[A\n",
      "[Succeeded / Failed / Skipped / Total] 10 / 15 / 2 / 27:  14%|█▎        | 27/200 [51:02<5:27:03, 113.43s/it]\u001b[A"
     ]
    },
    {
     "name": "stdout",
     "output_type": "stream",
     "text": [
      "--------------------------------------------- Result 27 ---------------------------------------------\n",
      "[[Positive (95%)]] --> [[Negative (72%)]]\n",
      "\n",
      "好甜哦，大小都差不多，买给宝宝吃的\n",
      "\n",
      "好死哦，大小都差不多，买给乳臭小儿吃的\n",
      "\n",
      "\n"
     ]
    },
    {
     "name": "stderr",
     "output_type": "stream",
     "text": [
      "\n",
      "[Succeeded / Failed / Skipped / Total] 10 / 15 / 2 / 27:  14%|█▍        | 28/200 [54:22<5:33:59, 116.51s/it]\u001b[A\n",
      "[Succeeded / Failed / Skipped / Total] 10 / 16 / 2 / 28:  14%|█▍        | 28/200 [54:22<5:33:59, 116.51s/it]\u001b[A"
     ]
    },
    {
     "name": "stdout",
     "output_type": "stream",
     "text": [
      "--------------------------------------------- Result 28 ---------------------------------------------\n",
      "[[Positive (94%)]] --> [[[FAILED]]]\n",
      "\n",
      "住的标间，比较干净，餐厅的菜价格和味道都还可以，也比较新鲜。总的来说，性价比高。\n",
      "\n",
      "\n"
     ]
    },
    {
     "name": "stderr",
     "output_type": "stream",
     "text": [
      "\n",
      "[Succeeded / Failed / Skipped / Total] 10 / 16 / 2 / 28:  14%|█▍        | 29/200 [57:17<5:37:49, 118.54s/it]\u001b[A\n",
      "[Succeeded / Failed / Skipped / Total] 10 / 17 / 2 / 29:  14%|█▍        | 29/200 [57:17<5:37:49, 118.54s/it]\u001b[A"
     ]
    },
    {
     "name": "stdout",
     "output_type": "stream",
     "text": [
      "--------------------------------------------- Result 29 ---------------------------------------------\n",
      "[[Negative (92%)]] --> [[[FAILED]]]\n",
      "\n",
      "一直以来都不会头痒 洗了这个洗发水会痒 而且会有头屑 我怀疑是不是假的\n",
      "\n",
      "\n"
     ]
    },
    {
     "name": "stderr",
     "output_type": "stream",
     "text": [
      "\n",
      "[Succeeded / Failed / Skipped / Total] 10 / 17 / 2 / 29:  15%|█▌        | 30/200 [58:51<5:33:32, 117.72s/it]\u001b[A\n",
      "[Succeeded / Failed / Skipped / Total] 11 / 17 / 2 / 30:  15%|█▌        | 30/200 [58:51<5:33:32, 117.72s/it]\u001b[A"
     ]
    },
    {
     "name": "stdout",
     "output_type": "stream",
     "text": [
      "--------------------------------------------- Result 30 ---------------------------------------------\n",
      "[[Positive (92%)]] --> [[Negative (61%)]]\n",
      "\n",
      "苹果个头一般，味道还不错。配送员态度很好，收到后发现有两个坏了，申请售后京东处理的非常快。\n",
      "\n",
      "苹果个头一般，味道还不离儿。配送员态度很好，收到后发现有两个坏了，申请售后京东处理的一百八十度快。\n",
      "\n",
      "\n"
     ]
    },
    {
     "name": "stderr",
     "output_type": "stream",
     "text": [
      "\n",
      "[Succeeded / Failed / Skipped / Total] 11 / 17 / 2 / 30:  16%|█▌        | 31/200 [58:53<5:21:02, 113.98s/it]\u001b[A\n",
      "[Succeeded / Failed / Skipped / Total] 11 / 17 / 3 / 31:  16%|█▌        | 31/200 [58:53<5:21:02, 113.98s/it]\u001b[A"
     ]
    },
    {
     "name": "stdout",
     "output_type": "stream",
     "text": [
      "--------------------------------------------- Result 31 ---------------------------------------------\n",
      "[[Positive (70%)]] --> [[[SKIPPED]]]\n",
      "\n",
      "适合年龄20岁以下的女人阅读，大了就不用看了\n",
      "\n",
      "\n"
     ]
    },
    {
     "name": "stderr",
     "output_type": "stream",
     "text": [
      "\n",
      "[Succeeded / Failed / Skipped / Total] 11 / 17 / 3 / 31:  16%|█▌        | 32/200 [59:09<5:10:35, 110.93s/it]\u001b[A\n",
      "[Succeeded / Failed / Skipped / Total] 12 / 17 / 3 / 32:  16%|█▌        | 32/200 [59:09<5:10:35, 110.93s/it]\u001b[A"
     ]
    },
    {
     "name": "stdout",
     "output_type": "stream",
     "text": [
      "--------------------------------------------- Result 32 ---------------------------------------------\n",
      "[[Negative (95%)]] --> [[Positive (95%)]]\n",
      "\n",
      "差评(*｀Ω*)v\n",
      "\n",
      "好评(*｀Ω*)v\n",
      "\n",
      "\n"
     ]
    },
    {
     "name": "stderr",
     "output_type": "stream",
     "text": [
      "\n",
      "[Succeeded / Failed / Skipped / Total] 12 / 17 / 3 / 32:  16%|█▋        | 33/200 [59:11<4:59:32, 107.62s/it]\u001b[A\n",
      "[Succeeded / Failed / Skipped / Total] 12 / 17 / 4 / 33:  16%|█▋        | 33/200 [59:11<4:59:32, 107.62s/it]\u001b[A"
     ]
    },
    {
     "name": "stdout",
     "output_type": "stream",
     "text": [
      "--------------------------------------------- Result 33 ---------------------------------------------\n",
      "[[Positive (99%)]] --> [[[SKIPPED]]]\n",
      "\n",
      "送给客户的礼品，还是多喜欢的，呵呵呵！\n",
      "\n",
      "\n"
     ]
    },
    {
     "name": "stderr",
     "output_type": "stream",
     "text": [
      "\n",
      "[Succeeded / Failed / Skipped / Total] 12 / 17 / 4 / 33:  17%|█▋        | 34/200 [1:04:02<5:12:42, 113.03s/it]\u001b[A\n",
      "[Succeeded / Failed / Skipped / Total] 12 / 18 / 4 / 34:  17%|█▋        | 34/200 [1:04:02<5:12:42, 113.03s/it]\u001b[A"
     ]
    },
    {
     "name": "stdout",
     "output_type": "stream",
     "text": [
      "--------------------------------------------- Result 34 ---------------------------------------------\n",
      "[[Negative (98%)]] --> [[[FAILED]]]\n",
      "\n",
      "塑料壳子易坏(本人的已坏:)电池待机时间从没有超过1天在购买半年后待机时间别想超过半天没有红外就算了数据传输到现在实验过3太电脑就没有一次成功的总说\"确认连接\"哎放弃ING~\n",
      "\n",
      "\n"
     ]
    },
    {
     "name": "stderr",
     "output_type": "stream",
     "text": [
      "\n",
      "[Succeeded / Failed / Skipped / Total] 12 / 18 / 4 / 34:  18%|█▊        | 35/200 [1:07:16<5:17:08, 115.32s/it]\u001b[A\n",
      "[Succeeded / Failed / Skipped / Total] 12 / 19 / 4 / 35:  18%|█▊        | 35/200 [1:07:16<5:17:08, 115.32s/it]\u001b[A"
     ]
    },
    {
     "name": "stdout",
     "output_type": "stream",
     "text": [
      "--------------------------------------------- Result 35 ---------------------------------------------\n",
      "[[Positive (98%)]] --> [[[FAILED]]]\n",
      "\n",
      "非常不错的裤子，颜色我很喜欢，没有色差，大小也很合适！下次还会光顾！\n",
      "\n",
      "\n"
     ]
    },
    {
     "name": "stderr",
     "output_type": "stream",
     "text": [
      "\n",
      "[Succeeded / Failed / Skipped / Total] 12 / 19 / 4 / 35:  18%|█▊        | 36/200 [1:07:47<5:08:51, 112.99s/it]\u001b[A\n",
      "[Succeeded / Failed / Skipped / Total] 13 / 19 / 4 / 36:  18%|█▊        | 36/200 [1:07:47<5:08:51, 112.99s/it]\u001b[A"
     ]
    },
    {
     "name": "stdout",
     "output_type": "stream",
     "text": [
      "--------------------------------------------- Result 36 ---------------------------------------------\n",
      "[[Negative (55%)]] --> [[Positive (61%)]]\n",
      "\n",
      "用了一直起头皮，真的醉了\n",
      "\n",
      "用了一时一刻起头皮，真的醉了\n",
      "\n",
      "\n"
     ]
    },
    {
     "name": "stderr",
     "output_type": "stream",
     "text": [
      "\n",
      "[Succeeded / Failed / Skipped / Total] 13 / 19 / 4 / 36:  18%|█▊        | 37/200 [1:09:17<5:05:13, 112.36s/it]\u001b[A\n",
      "[Succeeded / Failed / Skipped / Total] 14 / 19 / 4 / 37:  18%|█▊        | 37/200 [1:09:17<5:05:14, 112.36s/it]\u001b[A"
     ]
    },
    {
     "name": "stdout",
     "output_type": "stream",
     "text": [
      "--------------------------------------------- Result 37 ---------------------------------------------\n",
      "[[Negative (96%)]] --> [[Positive (65%)]]\n",
      "\n",
      "酒店价格是4星标准，酒店装修，设备1星标准！甚至还比不上便捷酒店。性价比低，不建议选择！\n",
      "\n",
      "酒店价格是4星标准，酒店装修，设备1星标准！甚至还不分胜负便捷酒店。性价比低，不创议选择！\n",
      "\n",
      "\n"
     ]
    },
    {
     "name": "stderr",
     "output_type": "stream",
     "text": [
      "\n",
      "[Succeeded / Failed / Skipped / Total] 14 / 19 / 4 / 37:  19%|█▉        | 38/200 [1:11:51<5:06:21, 113.47s/it]\u001b[A\n",
      "[Succeeded / Failed / Skipped / Total] 15 / 19 / 4 / 38:  19%|█▉        | 38/200 [1:11:51<5:06:22, 113.47s/it]\u001b[A"
     ]
    },
    {
     "name": "stdout",
     "output_type": "stream",
     "text": [
      "--------------------------------------------- Result 38 ---------------------------------------------\n",
      "[[Negative (97%)]] --> [[Positive (55%)]]\n",
      "\n",
      "1）商品还没收到，价格就已经降了70元。2）似乎打开windows媒体播放器的时间有点长\n",
      "\n",
      "00）商品还充公到，价格就已经降了70元。2）一定打开windows媒体播放器的时间一些大\n",
      "\n",
      "\n"
     ]
    },
    {
     "name": "stderr",
     "output_type": "stream",
     "text": [
      "\n",
      "[Succeeded / Failed / Skipped / Total] 15 / 19 / 4 / 38:  20%|█▉        | 39/200 [1:13:38<5:03:59, 113.29s/it]\u001b[A\n",
      "[Succeeded / Failed / Skipped / Total] 15 / 20 / 4 / 39:  20%|█▉        | 39/200 [1:13:38<5:03:59, 113.29s/it]\u001b[A"
     ]
    },
    {
     "name": "stdout",
     "output_type": "stream",
     "text": [
      "--------------------------------------------- Result 39 ---------------------------------------------\n",
      "[[Positive (95%)]] --> [[[FAILED]]]\n",
      "\n",
      "1.手写输入还行,用着还行.基本上还是一部不错的手机.其它不说了\n",
      "\n",
      "\n"
     ]
    },
    {
     "name": "stderr",
     "output_type": "stream",
     "text": [
      "\n",
      "[Succeeded / Failed / Skipped / Total] 15 / 20 / 4 / 39:  20%|██        | 40/200 [1:17:12<5:08:51, 115.82s/it]\u001b[A\n",
      "[Succeeded / Failed / Skipped / Total] 15 / 21 / 4 / 40:  20%|██        | 40/200 [1:17:12<5:08:51, 115.82s/it]\u001b[A"
     ]
    },
    {
     "name": "stdout",
     "output_type": "stream",
     "text": [
      "--------------------------------------------- Result 40 ---------------------------------------------\n",
      "[[Positive (96%)]] --> [[[FAILED]]]\n",
      "\n",
      "不错不错，挺好的苹果，酸酸甜甜的，价廉物美，值得推荐，不错不错，有活动还来得哦！\n",
      "\n",
      "\n"
     ]
    },
    {
     "name": "stderr",
     "output_type": "stream",
     "text": [
      "\n",
      "[Succeeded / Failed / Skipped / Total] 15 / 21 / 4 / 40:  20%|██        | 41/200 [1:18:02<5:02:40, 114.22s/it]\u001b[A\n",
      "[Succeeded / Failed / Skipped / Total] 15 / 22 / 4 / 41:  20%|██        | 41/200 [1:18:02<5:02:40, 114.22s/it]\u001b[A"
     ]
    },
    {
     "name": "stdout",
     "output_type": "stream",
     "text": [
      "--------------------------------------------- Result 41 ---------------------------------------------\n",
      "[[Positive (94%)]] --> [[[FAILED]]]\n",
      "\n",
      "挺新鲜的，包装也很好，防震，果子就比较小个一点\n",
      "\n",
      "\n"
     ]
    },
    {
     "name": "stderr",
     "output_type": "stream",
     "text": [
      "\n",
      "[Succeeded / Failed / Skipped / Total] 15 / 22 / 4 / 41:  21%|██        | 42/200 [1:24:36<5:18:17, 120.87s/it]\u001b[A\n",
      "[Succeeded / Failed / Skipped / Total] 15 / 23 / 4 / 42:  21%|██        | 42/200 [1:24:36<5:18:17, 120.87s/it]\u001b[A"
     ]
    },
    {
     "name": "stdout",
     "output_type": "stream",
     "text": [
      "--------------------------------------------- Result 42 ---------------------------------------------\n",
      "[[Negative (99%)]] --> [[[FAILED]]]\n",
      "\n",
      "最不开心的一次购物，还华为京东旗舰店，去店铺里都看到了什么？食杂店，什么破玩意，都没给我发票，退货讹我*，气人，什么鬼。\n",
      "\n",
      "\n"
     ]
    },
    {
     "name": "stderr",
     "output_type": "stream",
     "text": [
      "\n",
      "[Succeeded / Failed / Skipped / Total] 15 / 23 / 4 / 42:  22%|██▏       | 43/200 [1:24:38<5:09:02, 118.10s/it]\u001b[A\n",
      "[Succeeded / Failed / Skipped / Total] 15 / 23 / 5 / 43:  22%|██▏       | 43/200 [1:24:38<5:09:02, 118.10s/it]\u001b[A"
     ]
    },
    {
     "name": "stdout",
     "output_type": "stream",
     "text": [
      "--------------------------------------------- Result 43 ---------------------------------------------\n",
      "[[Positive (90%)]] --> [[[SKIPPED]]]\n",
      "\n",
      "塑料的感觉明显。 但是从性价比来考虑，已经算是不错的选择了。\n",
      "\n",
      "\n"
     ]
    },
    {
     "name": "stderr",
     "output_type": "stream",
     "text": [
      "\n",
      "[Succeeded / Failed / Skipped / Total] 15 / 23 / 5 / 43:  22%|██▏       | 44/200 [1:26:53<5:08:04, 118.49s/it]\u001b[A\n",
      "[Succeeded / Failed / Skipped / Total] 15 / 24 / 5 / 44:  22%|██▏       | 44/200 [1:26:53<5:08:04, 118.49s/it]\u001b[A"
     ]
    },
    {
     "name": "stdout",
     "output_type": "stream",
     "text": [
      "--------------------------------------------- Result 44 ---------------------------------------------\n",
      "[[Negative (92%)]] --> [[[FAILED]]]\n",
      "\n",
      "购买不满意，苹果较酸，不理想，有些吹牛。\n",
      "\n",
      "\n"
     ]
    },
    {
     "name": "stderr",
     "output_type": "stream",
     "text": [
      "\n",
      "[Succeeded / Failed / Skipped / Total] 15 / 24 / 5 / 44:  22%|██▎       | 45/200 [1:27:27<5:01:13, 116.60s/it]\u001b[A\n",
      "[Succeeded / Failed / Skipped / Total] 16 / 24 / 5 / 45:  22%|██▎       | 45/200 [1:27:27<5:01:13, 116.60s/it]\u001b[A"
     ]
    },
    {
     "name": "stdout",
     "output_type": "stream",
     "text": [
      "--------------------------------------------- Result 45 ---------------------------------------------\n",
      "[[Negative (99%)]] --> [[Positive (50%)]]\n",
      "\n",
      "没用两天就坏了，换了一部没几天又是坏。很糟心的一样购买！！！\n",
      "\n",
      "没用两天就坏了，换了一部没几天又是坏。很傒倖的一样购买！！！\n",
      "\n",
      "\n"
     ]
    },
    {
     "name": "stderr",
     "output_type": "stream",
     "text": [
      "\n",
      "[Succeeded / Failed / Skipped / Total] 16 / 24 / 5 / 45:  23%|██▎       | 46/200 [1:27:28<4:52:52, 114.11s/it]\u001b[A\n",
      "[Succeeded / Failed / Skipped / Total] 16 / 24 / 6 / 46:  23%|██▎       | 46/200 [1:27:28<4:52:52, 114.11s/it]\u001b[A"
     ]
    },
    {
     "name": "stdout",
     "output_type": "stream",
     "text": [
      "--------------------------------------------- Result 46 ---------------------------------------------\n",
      "[[Positive (72%)]] --> [[[SKIPPED]]]\n",
      "\n",
      "跟以前买的完全不一样，跟图片也不一样，这么薄奶头都看得很明显\n",
      "\n",
      "\n"
     ]
    },
    {
     "name": "stderr",
     "output_type": "stream",
     "text": [
      "\n",
      "[Succeeded / Failed / Skipped / Total] 16 / 24 / 6 / 46:  24%|██▎       | 47/200 [1:30:49<4:55:39, 115.94s/it]\u001b[A\n",
      "[Succeeded / Failed / Skipped / Total] 16 / 25 / 6 / 47:  24%|██▎       | 47/200 [1:30:49<4:55:39, 115.94s/it]\u001b[A"
     ]
    },
    {
     "name": "stdout",
     "output_type": "stream",
     "text": [
      "--------------------------------------------- Result 47 ---------------------------------------------\n",
      "[[Positive (98%)]] --> [[[FAILED]]]\n",
      "\n",
      "这裤子比想象中的好的不能再好了。，比实体店的，都还要，完美，价格也非常的实惠。非常值得购买，赞赞赞。\n",
      "\n",
      "\n"
     ]
    },
    {
     "name": "stderr",
     "output_type": "stream",
     "text": [
      "\n",
      "[Succeeded / Failed / Skipped / Total] 16 / 25 / 6 / 47:  24%|██▍       | 48/200 [1:34:58<5:00:45, 118.72s/it]\u001b[A\n",
      "[Succeeded / Failed / Skipped / Total] 17 / 25 / 6 / 48:  24%|██▍       | 48/200 [1:34:58<5:00:45, 118.72s/it]\u001b[A"
     ]
    },
    {
     "name": "stdout",
     "output_type": "stream",
     "text": [
      "--------------------------------------------- Result 48 ---------------------------------------------\n",
      "[[Positive (96%)]] --> [[Negative (54%)]]\n",
      "\n",
      "平板电脑很满意，清晰大方，音质好，总体来说挺好的，唯一不足的地方就是没有赠送贴膜，还得我们这业余的来，不过价钱已经可以了！\n",
      "\n",
      "平板电脑很泄欲，一清二楚大方，化学性质好，一体来说主张好的，唯一不足的一头就是没有回赠贴膜，还得我们这业余地的来，不过四仰八叉已经可以了！\n",
      "\n",
      "\n"
     ]
    },
    {
     "name": "stderr",
     "output_type": "stream",
     "text": [
      "\n",
      "[Succeeded / Failed / Skipped / Total] 17 / 25 / 6 / 48:  24%|██▍       | 49/200 [1:35:22<4:53:54, 116.79s/it]\u001b[A\n",
      "[Succeeded / Failed / Skipped / Total] 17 / 26 / 6 / 49:  24%|██▍       | 49/200 [1:35:22<4:53:54, 116.79s/it]\u001b[A"
     ]
    },
    {
     "name": "stdout",
     "output_type": "stream",
     "text": [
      "--------------------------------------------- Result 49 ---------------------------------------------\n",
      "[[Negative (99%)]] --> [[[FAILED]]]\n",
      "\n",
      "三个，其中有一个是烂的，直接都不想吃了\n",
      "\n",
      "\n"
     ]
    },
    {
     "name": "stderr",
     "output_type": "stream",
     "text": [
      "\n",
      "[Succeeded / Failed / Skipped / Total] 17 / 26 / 6 / 49:  25%|██▌       | 50/200 [1:37:34<4:52:42, 117.08s/it]\u001b[A\n",
      "[Succeeded / Failed / Skipped / Total] 17 / 27 / 6 / 50:  25%|██▌       | 50/200 [1:37:34<4:52:42, 117.08s/it]\u001b[A"
     ]
    },
    {
     "name": "stdout",
     "output_type": "stream",
     "text": [
      "--------------------------------------------- Result 50 ---------------------------------------------\n",
      "[[Negative (75%)]] --> [[[FAILED]]]\n",
      "\n",
      "年份应该长了，面积较小，早餐一般，服务没啥。一般般，性价比不高。只是为了到贵阳北站高铁五公里多点，否则不会选择。\n",
      "\n",
      "\n"
     ]
    },
    {
     "name": "stderr",
     "output_type": "stream",
     "text": [
      "\n",
      "[Succeeded / Failed / Skipped / Total] 17 / 27 / 6 / 50:  26%|██▌       | 51/200 [1:38:52<4:48:53, 116.33s/it]\u001b[A\n",
      "[Succeeded / Failed / Skipped / Total] 18 / 27 / 6 / 51:  26%|██▌       | 51/200 [1:38:52<4:48:53, 116.33s/it]\u001b[A"
     ]
    },
    {
     "name": "stdout",
     "output_type": "stream",
     "text": [
      "--------------------------------------------- Result 51 ---------------------------------------------\n",
      "[[Positive (93%)]] --> [[Negative (52%)]]\n",
      "\n",
      "看着不错，个头不大，有果香，还没吃，京东挺好\n",
      "\n",
      "看着不离儿，公民权不大，有果香，还没吸取，京东挺好\n",
      "\n",
      "\n"
     ]
    },
    {
     "name": "stderr",
     "output_type": "stream",
     "text": [
      "\n",
      "[Succeeded / Failed / Skipped / Total] 18 / 27 / 6 / 51:  26%|██▌       | 52/200 [1:38:58<4:41:41, 114.20s/it]\u001b[A\n",
      "[Succeeded / Failed / Skipped / Total] 18 / 28 / 6 / 52:  26%|██▌       | 52/200 [1:38:58<4:41:41, 114.20s/it]\u001b[A"
     ]
    },
    {
     "name": "stdout",
     "output_type": "stream",
     "text": [
      "--------------------------------------------- Result 52 ---------------------------------------------\n",
      "[[Negative (97%)]] --> [[[FAILED]]]\n",
      "\n",
      "分辨率太低，有些卡\n",
      "\n",
      "\n"
     ]
    },
    {
     "name": "stderr",
     "output_type": "stream",
     "text": [
      "\n",
      "[Succeeded / Failed / Skipped / Total] 18 / 28 / 6 / 52:  26%|██▋       | 53/200 [1:40:33<4:38:54, 113.84s/it]\u001b[A\n",
      "[Succeeded / Failed / Skipped / Total] 18 / 29 / 6 / 53:  26%|██▋       | 53/200 [1:40:33<4:38:54, 113.84s/it]\u001b[A"
     ]
    },
    {
     "name": "stdout",
     "output_type": "stream",
     "text": [
      "--------------------------------------------- Result 53 ---------------------------------------------\n",
      "[[Negative (99%)]] --> [[[FAILED]]]\n",
      "\n",
      "明显有色差，感觉亏死。这面料也能上百?\n",
      "\n",
      "\n"
     ]
    },
    {
     "name": "stderr",
     "output_type": "stream",
     "text": [
      "\n",
      "[Succeeded / Failed / Skipped / Total] 18 / 29 / 6 / 53:  27%|██▋       | 54/200 [1:40:39<4:32:09, 111.84s/it]\u001b[A\n",
      "[Succeeded / Failed / Skipped / Total] 18 / 30 / 6 / 54:  27%|██▋       | 54/200 [1:40:39<4:32:09, 111.84s/it]\u001b[A"
     ]
    },
    {
     "name": "stdout",
     "output_type": "stream",
     "text": [
      "--------------------------------------------- Result 54 ---------------------------------------------\n",
      "[[Negative (97%)]] --> [[[FAILED]]]\n",
      "\n",
      "手感很差，不亲肤。\n",
      "\n",
      "\n"
     ]
    },
    {
     "name": "stderr",
     "output_type": "stream",
     "text": [
      "\n",
      "[Succeeded / Failed / Skipped / Total] 18 / 30 / 6 / 54:  28%|██▊       | 55/200 [1:41:58<4:28:50, 111.24s/it]\u001b[A\n",
      "[Succeeded / Failed / Skipped / Total] 18 / 31 / 6 / 55:  28%|██▊       | 55/200 [1:41:58<4:28:50, 111.24s/it]\u001b[A"
     ]
    },
    {
     "name": "stdout",
     "output_type": "stream",
     "text": [
      "--------------------------------------------- Result 55 ---------------------------------------------\n",
      "[[Positive (94%)]] --> [[[FAILED]]]\n",
      "\n",
      "裤子很合身，弹性不错，刚洗了也不怎么会掉色，挺不错的\n",
      "\n",
      "\n"
     ]
    },
    {
     "name": "stderr",
     "output_type": "stream",
     "text": [
      "\n",
      "[Succeeded / Failed / Skipped / Total] 18 / 31 / 6 / 55:  28%|██▊       | 56/200 [1:42:04<4:22:29, 109.37s/it]\u001b[A\n",
      "[Succeeded / Failed / Skipped / Total] 18 / 32 / 6 / 56:  28%|██▊       | 56/200 [1:42:04<4:22:29, 109.37s/it]\u001b[A"
     ]
    },
    {
     "name": "stdout",
     "output_type": "stream",
     "text": [
      "--------------------------------------------- Result 56 ---------------------------------------------\n",
      "[[Negative (98%)]] --> [[[FAILED]]]\n",
      "\n",
      "分辨率不高，同一张照片。完全看不清楚。\n",
      "\n",
      "\n"
     ]
    },
    {
     "name": "stderr",
     "output_type": "stream",
     "text": [
      "\n",
      "[Succeeded / Failed / Skipped / Total] 18 / 32 / 6 / 56:  28%|██▊       | 57/200 [1:44:49<4:22:59, 110.34s/it]\u001b[A\n",
      "[Succeeded / Failed / Skipped / Total] 18 / 33 / 6 / 57:  28%|██▊       | 57/200 [1:44:49<4:22:59, 110.34s/it]\u001b[A"
     ]
    },
    {
     "name": "stdout",
     "output_type": "stream",
     "text": [
      "--------------------------------------------- Result 57 ---------------------------------------------\n",
      "[[Positive (97%)]] --> [[[FAILED]]]\n",
      "\n",
      "京东送货确实挺快的，订了的第二天就送到了。电脑配置和价钱都不错，订的时候感觉很好。运行也很快。\n",
      "\n",
      "\n"
     ]
    },
    {
     "name": "stderr",
     "output_type": "stream",
     "text": [
      "\n",
      "[Succeeded / Failed / Skipped / Total] 18 / 33 / 6 / 57:  29%|██▉       | 58/200 [1:44:54<4:16:50, 108.52s/it]\u001b[A\n",
      "[Succeeded / Failed / Skipped / Total] 18 / 34 / 6 / 58:  29%|██▉       | 58/200 [1:44:54<4:16:50, 108.52s/it]\u001b[A"
     ]
    },
    {
     "name": "stdout",
     "output_type": "stream",
     "text": [
      "--------------------------------------------- Result 58 ---------------------------------------------\n",
      "[[Positive (96%)]] --> [[[FAILED]]]\n",
      "\n",
      "够用一年了，小瓶更精致，，，，，\n",
      "\n",
      "\n"
     ]
    },
    {
     "name": "stderr",
     "output_type": "stream",
     "text": [
      "\n",
      "[Succeeded / Failed / Skipped / Total] 18 / 34 / 6 / 58:  30%|██▉       | 59/200 [1:47:55<4:17:54, 109.75s/it]\u001b[A\n",
      "[Succeeded / Failed / Skipped / Total] 19 / 34 / 6 / 59:  30%|██▉       | 59/200 [1:47:55<4:17:54, 109.75s/it]\u001b[A"
     ]
    },
    {
     "name": "stdout",
     "output_type": "stream",
     "text": [
      "--------------------------------------------- Result 59 ---------------------------------------------\n",
      "[[Negative (99%)]] --> [[Positive (83%)]]\n",
      "\n",
      "钱汇过去半个月，至今不见该书到，不见任何回复，在当当网购书有上当受骗的感觉。\n",
      "\n",
      "钱汇从先半个月，至今闭门谢客该书到，不依任何回复，在当当网购书有上佩的感觉。\n",
      "\n",
      "\n"
     ]
    },
    {
     "name": "stderr",
     "output_type": "stream",
     "text": [
      "\n",
      "[Succeeded / Failed / Skipped / Total] 19 / 34 / 6 / 59:  30%|███       | 60/200 [1:49:00<4:14:22, 109.02s/it]\u001b[A\n",
      "[Succeeded / Failed / Skipped / Total] 20 / 34 / 6 / 60:  30%|███       | 60/200 [1:49:00<4:14:22, 109.02s/it]\u001b[A"
     ]
    },
    {
     "name": "stdout",
     "output_type": "stream",
     "text": [
      "--------------------------------------------- Result 60 ---------------------------------------------\n",
      "[[Negative (99%)]] --> [[Positive (95%)]]\n",
      "\n",
      "假货，味道太难闻了，有个止咳糖浆的味道！！！\n",
      "\n",
      "冒牌货，口味太有味了，有个止咳糖浆的味道！！！\n",
      "\n",
      "\n"
     ]
    },
    {
     "name": "stderr",
     "output_type": "stream",
     "text": [
      "\n",
      "[Succeeded / Failed / Skipped / Total] 20 / 34 / 6 / 60:  30%|███       | 61/200 [1:51:10<4:13:20, 109.36s/it]\u001b[A\n",
      "[Succeeded / Failed / Skipped / Total] 20 / 35 / 6 / 61:  30%|███       | 61/200 [1:51:10<4:13:20, 109.36s/it]\u001b[A"
     ]
    },
    {
     "name": "stdout",
     "output_type": "stream",
     "text": [
      "--------------------------------------------- Result 61 ---------------------------------------------\n",
      "[[Negative (99%)]] --> [[[FAILED]]]\n",
      "\n",
      "差太多。尺码也缩水，差，差。\n",
      "\n",
      "\n"
     ]
    },
    {
     "name": "stderr",
     "output_type": "stream",
     "text": [
      "\n",
      "[Succeeded / Failed / Skipped / Total] 20 / 35 / 6 / 61:  31%|███       | 62/200 [1:54:13<4:14:14, 110.54s/it]\u001b[A\n",
      "[Succeeded / Failed / Skipped / Total] 20 / 36 / 6 / 62:  31%|███       | 62/200 [1:54:13<4:14:14, 110.54s/it]\u001b[A"
     ]
    },
    {
     "name": "stdout",
     "output_type": "stream",
     "text": [
      "--------------------------------------------- Result 62 ---------------------------------------------\n",
      "[[Negative (96%)]] --> [[[FAILED]]]\n",
      "\n",
      "同志们，当心当当网的送货人，一群骗子,当当网的客服也是一群骗子\n",
      "\n",
      "\n"
     ]
    },
    {
     "name": "stderr",
     "output_type": "stream",
     "text": [
      "\n",
      "[Succeeded / Failed / Skipped / Total] 20 / 36 / 6 / 62:  32%|███▏      | 63/200 [1:56:17<4:12:53, 110.75s/it]\u001b[A\n",
      "[Succeeded / Failed / Skipped / Total] 20 / 37 / 6 / 63:  32%|███▏      | 63/200 [1:56:17<4:12:53, 110.75s/it]\u001b[A"
     ]
    },
    {
     "name": "stdout",
     "output_type": "stream",
     "text": [
      "--------------------------------------------- Result 63 ---------------------------------------------\n",
      "[[Negative (98%)]] --> [[[FAILED]]]\n",
      "\n",
      "退房时，总台有个女的态度很生硬，就像你欠她八百吊钱似的，国企做派。\n",
      "\n",
      "\n"
     ]
    },
    {
     "name": "stderr",
     "output_type": "stream",
     "text": [
      "\n",
      "[Succeeded / Failed / Skipped / Total] 20 / 37 / 6 / 63:  32%|███▏      | 64/200 [1:56:47<4:08:09, 109.49s/it]\u001b[A\n",
      "[Succeeded / Failed / Skipped / Total] 21 / 37 / 6 / 64:  32%|███▏      | 64/200 [1:56:47<4:08:10, 109.49s/it]\u001b[A"
     ]
    },
    {
     "name": "stdout",
     "output_type": "stream",
     "text": [
      "--------------------------------------------- Result 64 ---------------------------------------------\n",
      "[[Negative (96%)]] --> [[Positive (54%)]]\n",
      "\n",
      "和沐浴露一起买的，沐浴露漏了，找客服好几天没回应，我只好给个差评\n",
      "\n",
      "和沐浴露一起买的，沐浴露漏了，找客服好几天没回应，我只好给个好评\n",
      "\n",
      "\n"
     ]
    },
    {
     "name": "stderr",
     "output_type": "stream",
     "text": [
      "\n",
      "[Succeeded / Failed / Skipped / Total] 21 / 37 / 6 / 64:  32%|███▎      | 65/200 [1:58:58<4:07:06, 109.83s/it]\u001b[A\n",
      "[Succeeded / Failed / Skipped / Total] 21 / 38 / 6 / 65:  32%|███▎      | 65/200 [1:58:58<4:07:06, 109.83s/it]\u001b[A"
     ]
    },
    {
     "name": "stdout",
     "output_type": "stream",
     "text": [
      "--------------------------------------------- Result 65 ---------------------------------------------\n",
      "[[Negative (99%)]] --> [[[FAILED]]]\n",
      "\n",
      "真的就算后悔了。两天才拿到货。还不如水果店买！还都发霉不新鲜了！以后不买了\n",
      "\n",
      "\n"
     ]
    },
    {
     "name": "stderr",
     "output_type": "stream",
     "text": [
      "\n",
      "[Succeeded / Failed / Skipped / Total] 21 / 38 / 6 / 65:  33%|███▎      | 66/200 [1:59:00<4:01:37, 108.19s/it]\u001b[A\n",
      "[Succeeded / Failed / Skipped / Total] 21 / 38 / 7 / 66:  33%|███▎      | 66/200 [1:59:00<4:01:37, 108.19s/it]\u001b[A"
     ]
    },
    {
     "name": "stdout",
     "output_type": "stream",
     "text": [
      "--------------------------------------------- Result 66 ---------------------------------------------\n",
      "[[Positive (92%)]] --> [[[SKIPPED]]]\n",
      "\n",
      "还行吧行吧行吧行吧。下面的五星是给快递大哥的\n",
      "\n",
      "\n"
     ]
    },
    {
     "name": "stderr",
     "output_type": "stream",
     "text": [
      "\n",
      "[Succeeded / Failed / Skipped / Total] 21 / 38 / 7 / 66:  34%|███▎      | 67/200 [2:00:33<3:59:18, 107.96s/it]\u001b[A\n",
      "[Succeeded / Failed / Skipped / Total] 21 / 39 / 7 / 67:  34%|███▎      | 67/200 [2:00:33<3:59:18, 107.96s/it]\u001b[A"
     ]
    },
    {
     "name": "stdout",
     "output_type": "stream",
     "text": [
      "--------------------------------------------- Result 67 ---------------------------------------------\n",
      "[[Positive (91%)]] --> [[[FAILED]]]\n",
      "\n",
      "东西收到了，试穿了一下，虽然拍大了一个码，但穿起来也不是很大，摸了一下质量还不错\n",
      "\n",
      "\n"
     ]
    },
    {
     "name": "stderr",
     "output_type": "stream",
     "text": [
      "\n",
      "[Succeeded / Failed / Skipped / Total] 21 / 39 / 7 / 67:  34%|███▍      | 68/200 [2:01:29<3:55:49, 107.19s/it]\u001b[A\n",
      "[Succeeded / Failed / Skipped / Total] 21 / 40 / 7 / 68:  34%|███▍      | 68/200 [2:01:29<3:55:49, 107.19s/it]\u001b[A"
     ]
    },
    {
     "name": "stdout",
     "output_type": "stream",
     "text": [
      "--------------------------------------------- Result 68 ---------------------------------------------\n",
      "[[Negative (86%)]] --> [[[FAILED]]]\n",
      "\n",
      "不喜欢 不甜 比外面的要贵 非常不满意\n",
      "\n",
      "\n"
     ]
    },
    {
     "name": "stderr",
     "output_type": "stream",
     "text": [
      "\n",
      "[Succeeded / Failed / Skipped / Total] 21 / 40 / 7 / 68:  34%|███▍      | 69/200 [2:01:30<3:50:42, 105.67s/it]\u001b[A\n",
      "[Succeeded / Failed / Skipped / Total] 21 / 40 / 8 / 69:  34%|███▍      | 69/200 [2:01:30<3:50:42, 105.67s/it]\u001b[A"
     ]
    },
    {
     "name": "stdout",
     "output_type": "stream",
     "text": [
      "--------------------------------------------- Result 69 ---------------------------------------------\n",
      "[[Positive (83%)]] --> [[[SKIPPED]]]\n",
      "\n",
      "物流依然满分，但这东西好像是别人用过的，电源线都是敞口放的，而且屏幕上有痕迹，擦了好半天才清理干净。\n",
      "\n",
      "\n"
     ]
    },
    {
     "name": "stderr",
     "output_type": "stream",
     "text": [
      "\n",
      "[Succeeded / Failed / Skipped / Total] 21 / 40 / 8 / 69:  35%|███▌      | 70/200 [2:03:26<3:49:14, 105.80s/it]\u001b[A\n",
      "[Succeeded / Failed / Skipped / Total] 22 / 40 / 8 / 70:  35%|███▌      | 70/200 [2:03:26<3:49:14, 105.80s/it]\u001b[A"
     ]
    },
    {
     "name": "stdout",
     "output_type": "stream",
     "text": [
      "--------------------------------------------- Result 70 ---------------------------------------------\n",
      "[[Positive (99%)]] --> [[Negative (70%)]]\n",
      "\n",
      "花花公子品牌，就是不一样。穿着得体舒适，希望京东和花花公子多做一些这样的好产品。\n",
      "\n",
      "花花公子品牌，就是不一样。穿着作兴安逸，一厢情愿亚马逊和下流坯多做一些这样的好产品。\n",
      "\n",
      "\n"
     ]
    },
    {
     "name": "stderr",
     "output_type": "stream",
     "text": [
      "\n",
      "[Succeeded / Failed / Skipped / Total] 22 / 40 / 8 / 70:  36%|███▌      | 71/200 [2:05:42<3:48:24, 106.24s/it]\u001b[A\n",
      "[Succeeded / Failed / Skipped / Total] 22 / 41 / 8 / 71:  36%|███▌      | 71/200 [2:05:42<3:48:24, 106.24s/it]\u001b[A"
     ]
    },
    {
     "name": "stdout",
     "output_type": "stream",
     "text": [
      "--------------------------------------------- Result 71 ---------------------------------------------\n",
      "[[Negative (95%)]] --> [[[FAILED]]]\n",
      "\n",
      "在当当上买了这么多次，这本书拿到手以后却质量很差,像是盗版书,很不满意\n",
      "\n",
      "\n"
     ]
    },
    {
     "name": "stderr",
     "output_type": "stream",
     "text": [
      "\n",
      "[Succeeded / Failed / Skipped / Total] 22 / 41 / 8 / 71:  36%|███▌      | 72/200 [2:09:07<3:49:34, 107.61s/it]\u001b[A\n",
      "[Succeeded / Failed / Skipped / Total] 23 / 41 / 8 / 72:  36%|███▌      | 72/200 [2:09:07<3:49:34, 107.61s/it]\u001b[A"
     ]
    },
    {
     "name": "stdout",
     "output_type": "stream",
     "text": [
      "--------------------------------------------- Result 72 ---------------------------------------------\n",
      "[[Positive (91%)]] --> [[Negative (50%)]]\n",
      "\n",
      "做工精细 界面干净雅致 性能不亚于一些大品牌  包装周到 打开第一眼就非常喜欢 用了两天 丝毫没有陌生感\n",
      "\n",
      "做事精细 界面一尘不染丰姿绰约 性能不亚于一些大电子  包装周到 打开一眼就一百八十度不是不感兴趣 用了两天 一二噤陌生感\n",
      "\n",
      "\n"
     ]
    },
    {
     "name": "stderr",
     "output_type": "stream",
     "text": [
      "\n",
      "[Succeeded / Failed / Skipped / Total] 23 / 41 / 8 / 72:  36%|███▋      | 73/200 [2:10:30<3:47:03, 107.27s/it]\u001b[A\n",
      "[Succeeded / Failed / Skipped / Total] 23 / 42 / 8 / 73:  36%|███▋      | 73/200 [2:10:30<3:47:03, 107.27s/it]\u001b[A"
     ]
    },
    {
     "name": "stdout",
     "output_type": "stream",
     "text": [
      "--------------------------------------------- Result 73 ---------------------------------------------\n",
      "[[Negative (98%)]] --> [[[FAILED]]]\n",
      "\n",
      "平板买回来用到第三天就出现花屏现象，往后再用每天都会有有花屏现象？\n",
      "\n",
      "\n"
     ]
    },
    {
     "name": "stderr",
     "output_type": "stream",
     "text": [
      "\n",
      "[Succeeded / Failed / Skipped / Total] 23 / 42 / 8 / 73:  37%|███▋      | 74/200 [2:17:25<3:53:59, 111.43s/it]\u001b[A\n",
      "[Succeeded / Failed / Skipped / Total] 24 / 42 / 8 / 74:  37%|███▋      | 74/200 [2:17:25<3:53:59, 111.43s/it]\u001b[A"
     ]
    },
    {
     "name": "stdout",
     "output_type": "stream",
     "text": [
      "--------------------------------------------- Result 74 ---------------------------------------------\n",
      "[[Positive (99%)]] --> [[Negative (52%)]]\n",
      "\n",
      "送货很快，活动力度很好，都是买200-100的，京东的活动非常满意，快递小哥态度也很好，每次都直接送货上门，节省很多时间，比超市里面便宜了太多，嗯，每次都喜欢在京东上购买东西，好\n",
      "\n",
      "送货不久以后，此事强弱很好，都是买卖200-100的，亚马逊的活动一百八十度泄欲，快递小伙公权也很好，回回都直接毒品走私，匀兑万贯一个半世纪，比超级商场里面凑手了太多，嗯，每次都不是不感兴趣在亚马逊上购买东西，好\n",
      "\n",
      "\n"
     ]
    },
    {
     "name": "stderr",
     "output_type": "stream",
     "text": [
      "\n",
      "[Succeeded / Failed / Skipped / Total] 24 / 42 / 8 / 74:  38%|███▊      | 75/200 [2:20:01<3:53:23, 112.02s/it]\u001b[A\n",
      "[Succeeded / Failed / Skipped / Total] 24 / 43 / 8 / 75:  38%|███▊      | 75/200 [2:20:01<3:53:23, 112.02s/it]\u001b[A"
     ]
    },
    {
     "name": "stdout",
     "output_type": "stream",
     "text": [
      "--------------------------------------------- Result 75 ---------------------------------------------\n",
      "[[Negative (99%)]] --> [[[FAILED]]]\n",
      "\n",
      "这是外面坏的，里面碰坏的拍了看不出来，发货的时候能走点心波？\n",
      "\n",
      "\n"
     ]
    },
    {
     "name": "stderr",
     "output_type": "stream",
     "text": [
      "\n",
      "[Succeeded / Failed / Skipped / Total] 24 / 43 / 8 / 75:  38%|███▊      | 76/200 [2:20:20<3:48:59, 110.80s/it]\u001b[A\n",
      "[Succeeded / Failed / Skipped / Total] 25 / 43 / 8 / 76:  38%|███▊      | 76/200 [2:20:20<3:48:59, 110.80s/it]\u001b[A"
     ]
    },
    {
     "name": "stdout",
     "output_type": "stream",
     "text": [
      "--------------------------------------------- Result 76 ---------------------------------------------\n",
      "[[Negative (97%)]] --> [[Positive (98%)]]\n",
      "\n",
      "差评 ！！ 刷单 刷单刷单 ！呵呵\n",
      "\n",
      "好评 ！！ 刷单 刷单刷单 ！呵呵\n",
      "\n",
      "\n"
     ]
    },
    {
     "name": "stderr",
     "output_type": "stream",
     "text": [
      "\n",
      "[Succeeded / Failed / Skipped / Total] 25 / 43 / 8 / 76:  38%|███▊      | 77/200 [2:25:28<3:52:22, 113.35s/it]\u001b[A\n",
      "[Succeeded / Failed / Skipped / Total] 25 / 44 / 8 / 77:  38%|███▊      | 77/200 [2:25:28<3:52:22, 113.35s/it]\u001b[A"
     ]
    },
    {
     "name": "stdout",
     "output_type": "stream",
     "text": [
      "--------------------------------------------- Result 77 ---------------------------------------------\n",
      "[[Positive (96%)]] --> [[[FAILED]]]\n",
      "\n",
      "当时由于原先预定的标准间没有房间，酒店人员免费将2个房间全部升级到行政间，前台服务人员态度非常好，对了我强烈推荐大家去顶楼的旋转自助餐厅，那里的环境很灵的。\n",
      "\n",
      "\n"
     ]
    },
    {
     "name": "stderr",
     "output_type": "stream",
     "text": [
      "\n",
      "[Succeeded / Failed / Skipped / Total] 25 / 44 / 8 / 77:  39%|███▉      | 78/200 [2:26:33<3:49:13, 112.73s/it]\u001b[A\n",
      "[Succeeded / Failed / Skipped / Total] 25 / 45 / 8 / 78:  39%|███▉      | 78/200 [2:26:33<3:49:13, 112.73s/it]\u001b[A"
     ]
    },
    {
     "name": "stdout",
     "output_type": "stream",
     "text": [
      "--------------------------------------------- Result 78 ---------------------------------------------\n",
      "[[Negative (93%)]] --> [[[FAILED]]]\n",
      "\n",
      "一次不愉快的网购，\n",
      "\n",
      "\n"
     ]
    },
    {
     "name": "stderr",
     "output_type": "stream",
     "text": [
      "\n",
      "[Succeeded / Failed / Skipped / Total] 25 / 45 / 8 / 78:  40%|███▉      | 79/200 [2:30:57<3:51:13, 114.66s/it]\u001b[A\n",
      "[Succeeded / Failed / Skipped / Total] 25 / 46 / 8 / 79:  40%|███▉      | 79/200 [2:30:57<3:51:13, 114.66s/it]\u001b[A"
     ]
    },
    {
     "name": "stdout",
     "output_type": "stream",
     "text": [
      "--------------------------------------------- Result 79 ---------------------------------------------\n",
      "[[Negative (99%)]] --> [[[FAILED]]]\n",
      "\n",
      "非常差的古老的所谓星级酒店，物非所值－－洗手间还是古老的不大清洁的浴缸，又没有手提花砂，洗澡时总是水浸脚的－－浴缸不溜水的。\n",
      "\n",
      "\n"
     ]
    },
    {
     "name": "stderr",
     "output_type": "stream",
     "text": [
      "\n",
      "[Succeeded / Failed / Skipped / Total] 25 / 46 / 8 / 79:  40%|████      | 80/200 [2:31:49<3:47:44, 113.87s/it]\u001b[A\n",
      "[Succeeded / Failed / Skipped / Total] 26 / 46 / 8 / 80:  40%|████      | 80/200 [2:31:49<3:47:44, 113.87s/it]\u001b[A"
     ]
    },
    {
     "name": "stdout",
     "output_type": "stream",
     "text": [
      "--------------------------------------------- Result 80 ---------------------------------------------\n",
      "[[Positive (80%)]] --> [[Negative (92%)]]\n",
      "\n",
      "目前挺好的，不知道用用如何，用了几天在评论。\n",
      "\n",
      "目前主张好的，不知道用用如何，用了几天在评论。\n",
      "\n",
      "\n"
     ]
    },
    {
     "name": "stderr",
     "output_type": "stream",
     "text": [
      "\n",
      "[Succeeded / Failed / Skipped / Total] 26 / 46 / 8 / 80:  40%|████      | 81/200 [2:36:01<3:49:13, 115.58s/it]\u001b[A\n",
      "[Succeeded / Failed / Skipped / Total] 26 / 47 / 8 / 81:  40%|████      | 81/200 [2:36:01<3:49:13, 115.58s/it]\u001b[A"
     ]
    },
    {
     "name": "stdout",
     "output_type": "stream",
     "text": [
      "--------------------------------------------- Result 81 ---------------------------------------------\n",
      "[[Negative (91%)]] --> [[[FAILED]]]\n",
      "\n",
      "如果要从京东买鲜果，请慎重考虑，就跟赌博一样，50%的几率让你很失望、很失望、很失望，重要的事情说3遍！\n",
      "\n",
      "\n"
     ]
    },
    {
     "name": "stderr",
     "output_type": "stream",
     "text": [
      "\n",
      "[Succeeded / Failed / Skipped / Total] 26 / 47 / 8 / 81:  41%|████      | 82/200 [2:36:23<3:45:03, 114.44s/it]\u001b[A\n",
      "[Succeeded / Failed / Skipped / Total] 27 / 47 / 8 / 82:  41%|████      | 82/200 [2:36:23<3:45:03, 114.44s/it]\u001b[A"
     ]
    },
    {
     "name": "stdout",
     "output_type": "stream",
     "text": [
      "--------------------------------------------- Result 82 ---------------------------------------------\n",
      "[[Positive (94%)]] --> [[Negative (78%)]]\n",
      "\n",
      "好评\n",
      "\n",
      "差评\n",
      "\n",
      "\n"
     ]
    },
    {
     "name": "stderr",
     "output_type": "stream",
     "text": [
      "\n",
      "[Succeeded / Failed / Skipped / Total] 27 / 47 / 8 / 82:  42%|████▏     | 83/200 [2:38:38<3:43:38, 114.68s/it]\u001b[A\n",
      "[Succeeded / Failed / Skipped / Total] 27 / 48 / 8 / 83:  42%|████▏     | 83/200 [2:38:38<3:43:38, 114.68s/it]\u001b[A"
     ]
    },
    {
     "name": "stdout",
     "output_type": "stream",
     "text": [
      "--------------------------------------------- Result 83 ---------------------------------------------\n",
      "[[Positive (97%)]] --> [[[FAILED]]]\n",
      "\n",
      "宝贝真的很好，京东商城保真还快，包装完好，很满意\n",
      "\n",
      "\n"
     ]
    },
    {
     "name": "stderr",
     "output_type": "stream",
     "text": [
      "\n",
      "[Succeeded / Failed / Skipped / Total] 27 / 48 / 8 / 83:  42%|████▏     | 84/200 [2:38:45<3:39:14, 113.40s/it]\u001b[A\n",
      "[Succeeded / Failed / Skipped / Total] 27 / 49 / 8 / 84:  42%|████▏     | 84/200 [2:38:45<3:39:14, 113.40s/it]\u001b[A"
     ]
    },
    {
     "name": "stdout",
     "output_type": "stream",
     "text": [
      "--------------------------------------------- Result 84 ---------------------------------------------\n",
      "[[Negative (92%)]] --> [[[FAILED]]]\n",
      "\n",
      "不甜不甜不甜，不满意不满意，太差了\n",
      "\n",
      "\n"
     ]
    },
    {
     "name": "stderr",
     "output_type": "stream",
     "text": [
      "\n",
      "[Succeeded / Failed / Skipped / Total] 27 / 49 / 8 / 84:  42%|████▎     | 85/200 [2:43:39<3:41:24, 115.52s/it]\u001b[A\n",
      "[Succeeded / Failed / Skipped / Total] 27 / 50 / 8 / 85:  42%|████▎     | 85/200 [2:43:39<3:41:24, 115.52s/it]\u001b[A"
     ]
    },
    {
     "name": "stdout",
     "output_type": "stream",
     "text": [
      "--------------------------------------------- Result 85 ---------------------------------------------\n",
      "[[Negative (99%)]] --> [[[FAILED]]]\n",
      "\n",
      "今天把手机套摘下来突然发现左下角都没有接紧用手按有明显的松动，无语了已经，第一个小米nite顶配版退货，这个拿到用起来不错就没仔细看，没想到也是有问题的，京东你叫我说你什么好\n",
      "\n",
      "\n"
     ]
    },
    {
     "name": "stderr",
     "output_type": "stream",
     "text": [
      "\n",
      "[Succeeded / Failed / Skipped / Total] 27 / 50 / 8 / 85:  43%|████▎     | 86/200 [2:44:47<3:38:26, 114.97s/it]\u001b[A\n",
      "[Succeeded / Failed / Skipped / Total] 27 / 51 / 8 / 86:  43%|████▎     | 86/200 [2:44:47<3:38:26, 114.97s/it]\u001b[A"
     ]
    },
    {
     "name": "stdout",
     "output_type": "stream",
     "text": [
      "--------------------------------------------- Result 86 ---------------------------------------------\n",
      "[[Negative (98%)]] --> [[[FAILED]]]\n",
      "\n",
      "苹果是好看，但是一点都不甜，而且里面是空的那种，不是水果，让我很失望?\n",
      "\n",
      "\n"
     ]
    },
    {
     "name": "stderr",
     "output_type": "stream",
     "text": [
      "\n",
      "[Succeeded / Failed / Skipped / Total] 27 / 51 / 8 / 86:  44%|████▎     | 87/200 [2:44:48<3:34:03, 113.66s/it]\u001b[A\n",
      "[Succeeded / Failed / Skipped / Total] 27 / 51 / 9 / 87:  44%|████▎     | 87/200 [2:44:48<3:34:03, 113.66s/it]\u001b[A"
     ]
    },
    {
     "name": "stdout",
     "output_type": "stream",
     "text": [
      "--------------------------------------------- Result 87 ---------------------------------------------\n",
      "[[Positive (65%)]] --> [[[SKIPPED]]]\n",
      "\n",
      "裤子很舒服，很修身，但是开线很严重，明天就出长差也没有时间换了\n",
      "\n",
      "\n"
     ]
    },
    {
     "name": "stderr",
     "output_type": "stream",
     "text": [
      "\n",
      "[Succeeded / Failed / Skipped / Total] 27 / 51 / 9 / 87:  44%|████▍     | 88/200 [2:46:50<3:32:20, 113.76s/it]\u001b[A\n",
      "[Succeeded / Failed / Skipped / Total] 27 / 52 / 9 / 88:  44%|████▍     | 88/200 [2:46:50<3:32:20, 113.76s/it]\u001b[A"
     ]
    },
    {
     "name": "stdout",
     "output_type": "stream",
     "text": [
      "--------------------------------------------- Result 88 ---------------------------------------------\n",
      "[[Positive (96%)]] --> [[[FAILED]]]\n",
      "\n",
      "物流很快，裤子 颜色很正，穿着也很舒服，朋友都说太值了，好的没得说。\n",
      "\n",
      "\n"
     ]
    },
    {
     "name": "stderr",
     "output_type": "stream",
     "text": [
      "\n",
      "[Succeeded / Failed / Skipped / Total] 27 / 52 / 9 / 88:  44%|████▍     | 89/200 [2:46:52<3:28:06, 112.49s/it]\u001b[A\n",
      "[Succeeded / Failed / Skipped / Total] 27 / 52 / 10 / 89:  44%|████▍     | 89/200 [2:46:52<3:28:06, 112.49s/it]\u001b[A"
     ]
    },
    {
     "name": "stdout",
     "output_type": "stream",
     "text": [
      "--------------------------------------------- Result 89 ---------------------------------------------\n",
      "[[Positive (81%)]] --> [[[SKIPPED]]]\n",
      "\n",
      "收到裤子了。。。顺丰的速递的速度还是可以的。。。不满意的是的裤子脱色\n",
      "\n",
      "\n"
     ]
    }
   ],
   "source": [
    "transformation=ChineseWordSwapHowNet()\n",
    "attack = Attack(goal_function, constraints, transformation, search_method)\n",
    "\n",
    "attack_args = AttackArgs(num_examples=200)\n",
    "\n",
    "attacker = Attacker(attack, dataset, attack_args)\n",
    "\n",
    "attack_results = attacker.attack_dataset()"
   ]
  },
  {
   "cell_type": "code",
   "execution_count": null,
   "id": "ancient-sewing",
   "metadata": {},
   "outputs": [],
   "source": [
    "from textattack.transformations import ChineseMorphonymCharacterSwap\n",
    "transformation = ChineseMorphonymCharacterSwap()\n",
    "attack = Attack(goal_function, constraints, transformation, search_method)\n",
    "\n",
    "attack_args = AttackArgs(num_examples=500)\n",
    "\n",
    "attacker = Attacker(attack, dataset, attack_args)\n",
    "\n",
    "attack_results = attacker.attack_dataset()"
   ]
  },
  {
   "cell_type": "code",
   "execution_count": null,
   "id": "running-retirement",
   "metadata": {},
   "outputs": [],
   "source": [
    "from textattack.transformations import CompositeTransformation\n",
    "transformation = CompositeTransformation([ChineseMorphonymCharacterSwap(),ChineseWordSwapHowNet(), ChineseHomophoneCharacterSwap()])\n",
    "attack = Attack(goal_function, constraints, transformation, search_method)\n",
    "\n",
    "attack_args = AttackArgs(num_examples=500)\n",
    "\n",
    "attacker = Attacker(attack, dataset, attack_args)\n",
    "\n",
    "attack_results = attacker.attack_dataset()\n"
   ]
  },
  {
   "cell_type": "code",
   "execution_count": null,
   "id": "organized-campaign",
   "metadata": {},
   "outputs": [],
   "source": []
  }
 ],
 "metadata": {
  "kernelspec": {
   "display_name": "Python 3",
   "language": "python",
   "name": "python3"
  },
  "language_info": {
   "codemirror_mode": {
    "name": "ipython",
    "version": 3
   },
   "file_extension": ".py",
   "mimetype": "text/x-python",
   "name": "python",
   "nbconvert_exporter": "python",
   "pygments_lexer": "ipython3",
   "version": "3.7.10"
  }
 },
 "nbformat": 4,
 "nbformat_minor": 5
}
